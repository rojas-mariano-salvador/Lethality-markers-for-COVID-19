{
 "cells": [
  {
   "cell_type": "markdown",
   "metadata": {},
   "source": [
    "# ID deaths"
   ]
  },
  {
   "cell_type": "code",
   "execution_count": 1,
   "metadata": {},
   "outputs": [],
   "source": [
    "import argparse\n",
    "import sys\n",
    "import numpy as np\n",
    "import pandas as pd\n",
    "import warnings\n",
    "warnings.filterwarnings('ignore')"
   ]
  },
  {
   "cell_type": "code",
   "execution_count": 2,
   "metadata": {},
   "outputs": [],
   "source": [
    "def read_data(raw_clinical_note):\n",
    "    data = pd.read_csv(raw_clinical_note, header=0,na_filter=True)\n",
    "    return data\n",
    "\n",
    "def read_ydata(data):\n",
    "    data = pd.read_csv(data, header=1,na_filter=True)\n",
    "    y = pd.DataFrame(data[\"Mortality\"],columns=[\"Mortality\"])\n",
    "    return y\n"
   ]
  },
  {
   "cell_type": "code",
   "execution_count": 3,
   "metadata": {},
   "outputs": [
    {
     "name": "stdout",
     "output_type": "stream",
     "text": [
      "Total de registros 12103\n"
     ]
    }
   ],
   "source": [
    "raw_data = 'C:/Users/Salvador/Modelo_COVID19/Libretas manuscrito/data_morelos_rename.csv'\n",
    "data = pd.read_csv(raw_data)\n",
    "print (\"Total de registros\", data.shape[0])"
   ]
  },
  {
   "cell_type": "code",
   "execution_count": 4,
   "metadata": {},
   "outputs": [
    {
     "name": "stdout",
     "output_type": "stream",
     "text": [
      "X:: (12103, 39)\n",
      "Y:: (12103, 1)\n"
     ]
    }
   ],
   "source": [
    "X = data.drop(['Unnamed: 0','Unnamed: 0.1','Unnamed: 0.1.1','LOCRESI','RECTRATA', 'TXCROBIA', 'TXANTIVI', 'RESDEFIN', 'CLASCOVID19','Evolution','FECINGRE', 'FECINISI','VIH-SIDA', 'Mortality'],axis=1).astype(int)\n",
    "y = data['Mortality'].astype(int) #Etiqueta\n",
    "y = y.values.reshape(y.shape[0],1) #reshape\n",
    "feature_list = X.columns\n",
    "print(\"X::\", X.shape)\n",
    "print(\"Y::\", y.shape)"
   ]
  },
  {
   "cell_type": "code",
   "execution_count": 5,
   "metadata": {},
   "outputs": [
    {
     "data": {
      "text/plain": [
       "Index(['Unnamed: 0', 'Unnamed: 0.1', 'Unnamed: 0.1.1', 'Sex', 'LOCRESI',\n",
       "       'Evolution', 'Intubated ', 'Age', 'Pregnancy', 'FECINGRE', 'FECINISI',\n",
       "       'Fever', 'Cough', 'Odynophagia', 'Dyspnea', 'Irritability', 'Diarrhea',\n",
       "       'Chest pain', 'Chills', 'Headache', 'Myalgia', 'Arthralgia',\n",
       "       'General discomfort', 'Rhinorrhea', 'Polypnea', 'Vomiting',\n",
       "       'Abdominal pain', 'Conjunctivitis', 'Cyanosis',\n",
       "       'Sudden onset of symptoms', 'Anosmia', 'Dysgeusia', 'Diabetes', 'COPD',\n",
       "       'Asthma', 'Immunosuppression', 'Hypertension', 'VIH-SIDA',\n",
       "       'Cardiovascular disease', 'Obesity', 'CKD', 'Smoking', 'RECTRATA',\n",
       "       'TXCROBIA', 'TXANTIVI', 'RESDEFIN', 'Puerperium', 'Use of antipyretics',\n",
       "       'ICU', 'CLASCOVID19', 'Days elapsed', 'HIV AIDS', 'Mortality'],\n",
       "      dtype='object')"
      ]
     },
     "execution_count": 5,
     "metadata": {},
     "output_type": "execute_result"
    }
   ],
   "source": [
    "data.columns"
   ]
  },
  {
   "cell_type": "code",
   "execution_count": 6,
   "metadata": {},
   "outputs": [
    {
     "name": "stdout",
     "output_type": "stream",
     "text": [
      "Patients expired (ids): (array([    2,     6,    17, ..., 12004, 12060, 12068], dtype=int64),)\n"
     ]
    }
   ],
   "source": [
    "ids_patients_expired = np.where(data.Mortality==1)\n",
    "print(\"Patients expired (ids):\",ids_patients_expired)"
   ]
  },
  {
   "cell_type": "markdown",
   "metadata": {},
   "source": [
    "# Men"
   ]
  },
  {
   "cell_type": "code",
   "execution_count": 7,
   "metadata": {},
   "outputs": [],
   "source": [
    "data_hombres = data[(data[\"Sex\"]==1)] "
   ]
  },
  {
   "cell_type": "code",
   "execution_count": 8,
   "metadata": {},
   "outputs": [
    {
     "name": "stdout",
     "output_type": "stream",
     "text": [
      "Men (death): (array([   1,    4,    9, ..., 6555, 6581, 6587], dtype=int64),)\n"
     ]
    },
    {
     "data": {
      "text/plain": [
       "0    5289\n",
       "1    1316\n",
       "Name: Mortality, dtype: int64"
      ]
     },
     "execution_count": 8,
     "metadata": {},
     "output_type": "execute_result"
    }
   ],
   "source": [
    "death_men = np.where(data_hombres.Mortality==1)\n",
    "print(\"Men (death):\",death_men)\n",
    "data_hombres['Mortality'].value_counts()"
   ]
  },
  {
   "cell_type": "markdown",
   "metadata": {},
   "source": [
    "# Men under 19 years old"
   ]
  },
  {
   "cell_type": "code",
   "execution_count": 9,
   "metadata": {},
   "outputs": [],
   "source": [
    "data_hombres_edad_19 = data_hombres[(data_hombres[\"Age\"]<=19)] "
   ]
  },
  {
   "cell_type": "code",
   "execution_count": 10,
   "metadata": {},
   "outputs": [
    {
     "name": "stdout",
     "output_type": "stream",
     "text": [
      "Men (death): (array([ 7, 18, 78], dtype=int64),)\n"
     ]
    },
    {
     "data": {
      "text/plain": [
       "0    132\n",
       "1      3\n",
       "Name: Mortality, dtype: int64"
      ]
     },
     "execution_count": 10,
     "metadata": {},
     "output_type": "execute_result"
    }
   ],
   "source": [
    "death_men_19 = np.where(data_hombres_edad_19.Mortality==1)\n",
    "print(\"Men (death):\",death_men_19)\n",
    "data_hombres_edad_19['Mortality'].value_counts()"
   ]
  },
  {
   "cell_type": "code",
   "execution_count": 11,
   "metadata": {},
   "outputs": [
    {
     "name": "stdout",
     "output_type": "stream",
     "text": [
      "(array([ 7, 18, 78], dtype=int64),)\n"
     ]
    }
   ],
   "source": [
    "print (death_men_19)"
   ]
  },
  {
   "cell_type": "markdown",
   "metadata": {},
   "source": [
    "# Men aged 20-29"
   ]
  },
  {
   "cell_type": "code",
   "execution_count": 12,
   "metadata": {},
   "outputs": [],
   "source": [
    "data_hombres_edad_20_29 = data_hombres[(data_hombres[\"Age\"]>=20) & ((data_hombres[\"Age\"]<=29))]"
   ]
  },
  {
   "cell_type": "code",
   "execution_count": 13,
   "metadata": {},
   "outputs": [
    {
     "name": "stdout",
     "output_type": "stream",
     "text": [
      "Men (death): (array([ 14,  15,  58, 131, 151, 167, 268, 294, 324, 363, 423, 566, 616,\n",
      "       644, 647, 656], dtype=int64),)\n"
     ]
    },
    {
     "data": {
      "text/plain": [
       "0    645\n",
       "1     16\n",
       "Name: Mortality, dtype: int64"
      ]
     },
     "execution_count": 13,
     "metadata": {},
     "output_type": "execute_result"
    }
   ],
   "source": [
    "death_men_20_29 = np.where(data_hombres_edad_20_29.Mortality==1)\n",
    "print(\"Men (death):\",death_men_20_29)\n",
    "data_hombres_edad_20_29['Mortality'].value_counts()"
   ]
  },
  {
   "cell_type": "markdown",
   "metadata": {},
   "source": [
    "# Men aged 30-39"
   ]
  },
  {
   "cell_type": "code",
   "execution_count": 14,
   "metadata": {},
   "outputs": [],
   "source": [
    "data_hombres_edad_30_39 = data_hombres[(data_hombres[\"Age\"]>=30) & ((data_hombres[\"Age\"]<=39))] "
   ]
  },
  {
   "cell_type": "code",
   "execution_count": 15,
   "metadata": {},
   "outputs": [
    {
     "name": "stdout",
     "output_type": "stream",
     "text": [
      "Men (death): (array([   1,   29,   45,   50,   52,   57,   69,   91,  106,  112,  132,\n",
      "        145,  158,  163,  169,  184,  190,  212,  248,  250,  311,  320,\n",
      "        338,  354,  359,  367,  402,  426,  505,  507,  520,  527,  540,\n",
      "        554,  611,  619,  649,  700,  749,  780,  908,  941,  950, 1015,\n",
      "       1024, 1061, 1072, 1077], dtype=int64),)\n"
     ]
    },
    {
     "data": {
      "text/plain": [
       "0    1067\n",
       "1      48\n",
       "Name: Mortality, dtype: int64"
      ]
     },
     "execution_count": 15,
     "metadata": {},
     "output_type": "execute_result"
    }
   ],
   "source": [
    "death_men_30_39 = np.where(data_hombres_edad_30_39.Mortality==1)\n",
    "print(\"Men (death):\",death_men_30_39)\n",
    "data_hombres_edad_30_39['Mortality'].value_counts()"
   ]
  },
  {
   "cell_type": "markdown",
   "metadata": {},
   "source": [
    "# Men ages 40-49"
   ]
  },
  {
   "cell_type": "code",
   "execution_count": 16,
   "metadata": {},
   "outputs": [],
   "source": [
    "data_hombres_edad_40_49 = data_hombres[(data_hombres[\"Age\"]>=40) & ((data_hombres[\"Age\"]<=49))] #Hombres de 40 a 49 años"
   ]
  },
  {
   "cell_type": "code",
   "execution_count": 17,
   "metadata": {},
   "outputs": [
    {
     "name": "stdout",
     "output_type": "stream",
     "text": [
      "Men (death): (array([   6,   11,   13,   19,   25,   30,   34,   38,   41,   45,   48,\n",
      "         50,   58,   59,   65,   68,   83,   90,   92,  105,  107,  114,\n",
      "        115,  130,  134,  137,  156,  157,  168,  185,  194,  202,  212,\n",
      "        231,  232,  235,  238,  241,  243,  263,  264,  278,  282,  283,\n",
      "        303,  313,  324,  350,  352,  358,  382,  417,  426,  433,  436,\n",
      "        444,  446,  453,  457,  503,  507,  542,  544,  560,  564,  566,\n",
      "        580,  611,  632,  652,  675,  690,  696,  699,  717,  739,  740,\n",
      "        758,  760,  761,  763,  765,  775,  786,  805,  811,  874,  881,\n",
      "        887,  891,  901,  904,  987,  990,  993,  999, 1014, 1032, 1057,\n",
      "       1058, 1072, 1081, 1086, 1091, 1110, 1123, 1135, 1144, 1147, 1149,\n",
      "       1154, 1156, 1164, 1170, 1173, 1179, 1185], dtype=int64),)\n"
     ]
    },
    {
     "data": {
      "text/plain": [
       "0    1089\n",
       "1     117\n",
       "Name: Mortality, dtype: int64"
      ]
     },
     "execution_count": 17,
     "metadata": {},
     "output_type": "execute_result"
    }
   ],
   "source": [
    "death_men_40_49 = np.where(data_hombres_edad_40_49.Mortality==1)\n",
    "print(\"Men (death):\",death_men_40_49)\n",
    "data_hombres_edad_40_49['Mortality'].value_counts()"
   ]
  },
  {
   "cell_type": "markdown",
   "metadata": {},
   "source": [
    "# Men ages 50-59"
   ]
  },
  {
   "cell_type": "code",
   "execution_count": 18,
   "metadata": {},
   "outputs": [],
   "source": [
    "data_hombres_edad_50_59 = data_hombres[(data_hombres[\"Age\"]>=50) & ((data_hombres[\"Age\"]<=59))] #Hombres de 50 a 59 años"
   ]
  },
  {
   "cell_type": "code",
   "execution_count": 19,
   "metadata": {},
   "outputs": [
    {
     "name": "stdout",
     "output_type": "stream",
     "text": [
      "Men (death): (array([   0,    1,    4,    5,    7,    8,   12,   14,   20,   21,   23,\n",
      "         26,   29,   31,   32,   35,   36,   38,   39,   42,   45,   46,\n",
      "         48,   51,   53,   55,   58,   60,   61,   62,   63,   65,   66,\n",
      "         69,   73,   74,   78,   79,   80,   82,   89,   90,   93,   95,\n",
      "         96,  101,  102,  103,  106,  108,  110,  112,  113,  114,  116,\n",
      "        117,  119,  121,  122,  130,  133,  135,  136,  139,  140,  146,\n",
      "        148,  149,  150,  152,  153,  157,  158,  159,  164,  165,  172,\n",
      "        174,  177,  178,  179,  183,  187,  199,  213,  216,  217,  218,\n",
      "        219,  222,  224,  227,  229,  233,  236,  240,  243,  257,  258,\n",
      "        262,  263,  270,  271,  274,  276,  282,  283,  285,  293,  296,\n",
      "        298,  303,  306,  311,  318,  319,  322,  323,  329,  332,  334,\n",
      "        348,  358,  382,  383,  384,  395,  398,  404,  407,  412,  424,\n",
      "        426,  432,  434,  436,  439,  471,  473,  476,  477,  489,  494,\n",
      "        496,  500,  501,  506,  517,  537,  548,  554,  559,  567,  572,\n",
      "        575,  578,  588,  589,  598,  599,  607,  615,  619,  621,  644,\n",
      "        646,  648,  652,  667,  668,  670,  672,  676,  679,  698,  702,\n",
      "        706,  735,  747,  748,  755,  760,  763,  770,  789,  797,  802,\n",
      "        810,  818,  831,  834,  846,  850,  857,  858,  862,  864,  865,\n",
      "        874,  884,  898,  904,  906,  907,  909,  921,  926,  936,  939,\n",
      "        940,  947,  954,  964,  965,  968,  982,  983, 1006, 1009, 1013,\n",
      "       1022, 1025, 1029, 1031, 1046, 1048, 1051, 1052, 1060, 1061, 1070,\n",
      "       1073, 1080, 1087, 1088, 1089, 1090, 1113, 1119, 1120, 1124, 1130,\n",
      "       1131, 1133, 1134, 1135, 1136, 1139, 1150, 1151, 1154, 1156, 1157,\n",
      "       1164, 1167, 1168, 1174, 1175, 1177, 1179, 1185, 1190, 1193, 1194,\n",
      "       1202, 1203], dtype=int64),)\n"
     ]
    },
    {
     "data": {
      "text/plain": [
       "0    974\n",
       "1    266\n",
       "Name: Mortality, dtype: int64"
      ]
     },
     "execution_count": 19,
     "metadata": {},
     "output_type": "execute_result"
    }
   ],
   "source": [
    "death_men_50_59 = np.where(data_hombres_edad_50_59.Mortality==1)\n",
    "print(\"Men (death):\",death_men_50_59)\n",
    "data_hombres_edad_50_59['Mortality'].value_counts()"
   ]
  },
  {
   "cell_type": "markdown",
   "metadata": {},
   "source": [
    "# Men aged 60-69"
   ]
  },
  {
   "cell_type": "code",
   "execution_count": 20,
   "metadata": {},
   "outputs": [],
   "source": [
    "data_hombres_edad_60_69 = data_hombres[(data_hombres[\"Age\"]>=60) & ((data_hombres[\"Age\"]<=69))] "
   ]
  },
  {
   "cell_type": "code",
   "execution_count": 21,
   "metadata": {},
   "outputs": [
    {
     "name": "stdout",
     "output_type": "stream",
     "text": [
      "Men (death): (array([   0,    2,    3,    4,    5,    7,   10,   11,   12,   13,   15,\n",
      "         16,   18,   22,   25,   26,   27,   28,   29,   30,   32,   37,\n",
      "         38,   42,   43,   45,   47,   50,   51,   52,   53,   57,   59,\n",
      "         60,   61,   62,   63,   66,   68,   69,   70,   71,   73,   75,\n",
      "         77,   78,   82,   83,   88,   89,   92,   93,   95,   96,   98,\n",
      "         99,  101,  105,  106,  109,  110,  112,  113,  115,  116,  117,\n",
      "        119,  122,  123,  124,  126,  127,  128,  133,  138,  141,  150,\n",
      "        151,  152,  153,  160,  161,  168,  169,  175,  177,  178,  179,\n",
      "        182,  183,  187,  190,  191,  192,  195,  197,  199,  201,  203,\n",
      "        210,  213,  214,  216,  217,  223,  225,  226,  227,  229,  233,\n",
      "        235,  240,  242,  247,  248,  251,  254,  258,  261,  264,  273,\n",
      "        276,  277,  281,  284,  286,  292,  295,  298,  302,  304,  306,\n",
      "        310,  315,  319,  320,  321,  322,  323,  324,  327,  330,  336,\n",
      "        337,  338,  339,  341,  345,  346,  347,  351,  353,  356,  359,\n",
      "        364,  365,  366,  367,  369,  370,  371,  372,  378,  379,  383,\n",
      "        385,  389,  395,  396,  397,  400,  402,  403,  406,  407,  409,\n",
      "        410,  417,  420,  427,  430,  431,  434,  438,  440,  441,  444,\n",
      "        445,  446,  449,  456,  457,  459,  466,  467,  470,  473,  475,\n",
      "        477,  479,  481,  487,  488,  489,  491,  501,  502,  503,  506,\n",
      "        510,  512,  521,  522,  524,  527,  528,  530,  531,  532,  536,\n",
      "        538,  539,  547,  550,  553,  554,  559,  562,  564,  568,  572,\n",
      "        576,  577,  578,  581,  583,  586,  591,  599,  603,  604,  605,\n",
      "        607,  608,  609,  614,  615,  616,  620,  622,  623,  627,  628,\n",
      "        631,  632,  633,  634,  636,  637,  640,  642,  649,  651,  652,\n",
      "        654,  655,  660,  665,  671,  678,  679,  681,  685,  686,  691,\n",
      "        698,  701,  703,  704,  705,  707,  712,  714,  715,  718,  721,\n",
      "        725,  729,  731,  733,  737,  739,  740,  741,  742,  743,  745,\n",
      "        747,  772,  773,  774,  775,  776,  777,  781,  788,  789,  798,\n",
      "        801,  802,  803,  804,  806,  816,  825,  832,  835,  838,  842,\n",
      "        843,  844,  850,  858,  861,  863,  868,  877,  886,  887,  896,\n",
      "        903,  904,  915,  920,  927,  928,  936,  937,  938,  944,  949,\n",
      "        957,  959,  969,  974,  990,  991,  995,  996,  999, 1001, 1004,\n",
      "       1008, 1011, 1015, 1018, 1020, 1026, 1027, 1033, 1034, 1035, 1036,\n",
      "       1040, 1045, 1048, 1049, 1050, 1053, 1056, 1076, 1085, 1086, 1088,\n",
      "       1090, 1093, 1106, 1108], dtype=int64),)\n"
     ]
    },
    {
     "data": {
      "text/plain": [
       "0    749\n",
       "1    378\n",
       "Name: Mortality, dtype: int64"
      ]
     },
     "execution_count": 21,
     "metadata": {},
     "output_type": "execute_result"
    }
   ],
   "source": [
    "death_men_60_69 = np.where(data_hombres_edad_60_69.Mortality==1)\n",
    "print(\"Men (death):\",death_men_60_69)\n",
    "data_hombres_edad_60_69['Mortality'].value_counts()"
   ]
  },
  {
   "cell_type": "markdown",
   "metadata": {},
   "source": [
    "# Men aged 70 and over"
   ]
  },
  {
   "cell_type": "code",
   "execution_count": 22,
   "metadata": {},
   "outputs": [],
   "source": [
    "data_hombres_edad_70 = data_hombres[(data_hombres[\"Age\"]>=70)] "
   ]
  },
  {
   "cell_type": "code",
   "execution_count": 23,
   "metadata": {},
   "outputs": [
    {
     "name": "stdout",
     "output_type": "stream",
     "text": [
      "Men (death): (array([   0,    7,    8,    9,   10,   11,   13,   14,   15,   16,   17,\n",
      "         19,   20,   23,   25,   26,   27,   28,   29,   30,   32,   33,\n",
      "         34,   37,   38,   39,   41,   42,   43,   44,   47,   48,   49,\n",
      "         50,   52,   53,   55,   56,   58,   59,   62,   64,   65,   69,\n",
      "         70,   71,   72,   74,   75,   78,   83,   84,   85,   87,   88,\n",
      "         93,   94,   95,   97,   99,  100,  103,  104,  105,  107,  108,\n",
      "        109,  110,  111,  112,  113,  114,  116,  117,  118,  119,  120,\n",
      "        121,  122,  123,  124,  127,  130,  131,  132,  134,  135,  137,\n",
      "        138,  140,  142,  143,  144,  147,  152,  153,  155,  156,  157,\n",
      "        158,  159,  160,  161,  162,  163,  164,  165,  166,  167,  168,\n",
      "        170,  171,  173,  174,  175,  177,  178,  179,  180,  184,  188,\n",
      "        190,  191,  193,  194,  197,  198,  203,  205,  206,  209,  210,\n",
      "        212,  213,  214,  218,  219,  220,  221,  224,  226,  231,  232,\n",
      "        236,  237,  238,  239,  240,  241,  243,  244,  245,  248,  250,\n",
      "        251,  254,  255,  257,  258,  259,  263,  264,  266,  267,  271,\n",
      "        272,  273,  274,  275,  277,  278,  281,  282,  286,  290,  291,\n",
      "        293,  296,  297,  298,  299,  300,  304,  308,  309,  311,  316,\n",
      "        317,  321,  323,  324,  327,  328,  329,  330,  331,  332,  333,\n",
      "        341,  342,  345,  347,  349,  351,  353,  358,  361,  362,  363,\n",
      "        366,  367,  368,  371,  372,  375,  376,  377,  387,  389,  390,\n",
      "        391,  393,  394,  396,  398,  401,  403,  404,  405,  406,  409,\n",
      "        412,  413,  414,  417,  418,  421,  423,  425,  426,  435,  438,\n",
      "        444,  446,  447,  451,  455,  456,  457,  458,  459,  460,  461,\n",
      "        462,  464,  467,  469,  471,  472,  473,  475,  476,  480,  485,\n",
      "        491,  493,  496,  497,  500,  502,  503,  504,  508,  510,  512,\n",
      "        513,  515,  517,  518,  521,  525,  527,  531,  534,  538,  541,\n",
      "        547,  550,  552,  556,  562,  563,  566,  574,  575,  578,  579,\n",
      "        580,  582,  596,  597,  603,  604,  610,  614,  615,  616,  621,\n",
      "        625,  628,  631,  632,  636,  637,  639,  641,  642,  643,  644,\n",
      "        654,  657,  660,  662,  665,  667,  670,  675,  679,  681,  687,\n",
      "        689,  694,  697,  702,  703,  704,  705,  707,  708,  713,  715,\n",
      "        716,  718,  719,  720,  725,  728,  730,  737,  740,  741,  743,\n",
      "        744,  748,  752,  753,  755,  757,  758,  759,  761,  767,  768,\n",
      "        769,  770,  772,  777,  781,  782,  785,  786,  788,  789,  790,\n",
      "        791,  794,  796,  801,  804,  807,  808,  809,  812,  814,  818,\n",
      "        824,  825,  826,  827,  828,  842,  843,  844,  846,  848,  851,\n",
      "        854,  856,  858,  861,  863,  874,  876,  877,  889,  890,  891,\n",
      "        894,  896,  897,  905,  906,  907,  913,  914,  915,  916,  917,\n",
      "        918,  919,  920,  921,  923,  926,  927,  928,  929,  930,  937,\n",
      "        939,  940,  941,  943,  946,  948,  950,  951,  958,  959,  960,\n",
      "        965,  968,  971,  972,  973,  978,  979,  981,  987,  988,  990,\n",
      "        991,  994,  995,  996,  997,  999, 1002, 1005, 1009, 1012, 1014,\n",
      "       1015, 1016, 1018, 1029, 1030, 1034, 1036, 1041, 1042, 1043, 1049,\n",
      "       1055, 1060, 1062, 1066, 1071, 1073, 1081, 1085, 1091, 1092, 1093,\n",
      "       1100, 1104, 1116, 1118], dtype=int64),)\n"
     ]
    },
    {
     "data": {
      "text/plain": [
       "0    633\n",
       "1    488\n",
       "Name: Mortality, dtype: int64"
      ]
     },
     "execution_count": 23,
     "metadata": {},
     "output_type": "execute_result"
    }
   ],
   "source": [
    "death_men_70 = np.where(data_hombres_edad_70.Mortality==1)\n",
    "print(\"Men (death):\",death_men_70)\n",
    "data_hombres_edad_70['Mortality'].value_counts()"
   ]
  },
  {
   "cell_type": "markdown",
   "metadata": {},
   "source": [
    "# Women"
   ]
  },
  {
   "cell_type": "code",
   "execution_count": 24,
   "metadata": {},
   "outputs": [],
   "source": [
    "\"\"\"Asignación de datos: X y Y\"\"\"\n",
    "data_mujer = data[(data[\"Sex\"]==0)]  "
   ]
  },
  {
   "cell_type": "code",
   "execution_count": 25,
   "metadata": {},
   "outputs": [
    {
     "name": "stdout",
     "output_type": "stream",
     "text": [
      "Women (death): (array([   8,   14,   15,   19,   23,   24,   28,   32,   34,   36,   39,\n",
      "         44,   45,   46,   54,   60,   64,   66,   75,   84,   85,   90,\n",
      "         93,   95,   96,  101,  103,  104,  107,  108,  115,  119,  121,\n",
      "        124,  125,  127,  128,  129,  130,  132,  138,  142,  144,  149,\n",
      "        152,  154,  156,  157,  158,  165,  176,  177,  184,  185,  195,\n",
      "        197,  200,  201,  203,  204,  209,  210,  212,  215,  217,  218,\n",
      "        222,  228,  233,  236,  239,  241,  246,  255,  256,  258,  263,\n",
      "        269,  273,  274,  277,  282,  293,  297,  298,  299,  301,  306,\n",
      "        308,  316,  317,  321,  328,  329,  330,  333,  335,  338,  339,\n",
      "        340,  343,  345,  359,  360,  361,  367,  368,  369,  373,  387,\n",
      "        391,  394,  395,  400,  402,  407,  408,  421,  423,  424,  426,\n",
      "        428,  430,  432,  434,  439,  440,  444,  447,  450,  451,  456,\n",
      "        464,  465,  466,  467,  471,  472,  477,  488,  495,  496,  503,\n",
      "        511,  512,  520,  532,  533,  536,  543,  551,  554,  559,  576,\n",
      "        591,  592,  593,  595,  597,  627,  628,  632,  639,  674,  684,\n",
      "        703,  708,  712,  713,  718,  719,  728,  732,  736,  738,  740,\n",
      "        744,  747,  749,  753,  758,  785,  788,  789,  799,  800,  804,\n",
      "        816,  819,  821,  834,  845,  855,  859,  866,  867,  870,  886,\n",
      "        888,  890,  896,  902,  916,  922,  923,  925,  945,  946,  948,\n",
      "        953,  958,  959,  972,  986,  987,  988,  991,  992,  998, 1006,\n",
      "       1034, 1036, 1039, 1042, 1049, 1053, 1070, 1072, 1099, 1122, 1126,\n",
      "       1153, 1156, 1158, 1173, 1184, 1194, 1219, 1222, 1240, 1242, 1248,\n",
      "       1251, 1256, 1260, 1270, 1280, 1281, 1284, 1287, 1302, 1305, 1308,\n",
      "       1314, 1324, 1329, 1341, 1362, 1367, 1379, 1408, 1411, 1417, 1419,\n",
      "       1435, 1459, 1463, 1469, 1489, 1494, 1495, 1509, 1531, 1533, 1534,\n",
      "       1536, 1541, 1555, 1567, 1580, 1597, 1638, 1639, 1641, 1652, 1659,\n",
      "       1666, 1675, 1686, 1693, 1699, 1713, 1725, 1749, 1762, 1770, 1773,\n",
      "       1774, 1775, 1800, 1808, 1810, 1811, 1845, 1885, 1897, 1906, 1927,\n",
      "       1934, 1937, 1945, 1982, 1997, 2018, 2022, 2036, 2039, 2047, 2055,\n",
      "       2076, 2090, 2092, 2103, 2114, 2122, 2127, 2131, 2149, 2176, 2183,\n",
      "       2191, 2203, 2219, 2230, 2234, 2236, 2237, 2249, 2251, 2287, 2309,\n",
      "       2310, 2320, 2337, 2380, 2386, 2394, 2403, 2404, 2407, 2419, 2432,\n",
      "       2443, 2452, 2462, 2463, 2464, 2466, 2472, 2475, 2481, 2491, 2509,\n",
      "       2513, 2538, 2546, 2565, 2572, 2574, 2582, 2597, 2601, 2602, 2617,\n",
      "       2618, 2655, 2674, 2687, 2690, 2692, 2701, 2702, 2705, 2712, 2748,\n",
      "       2749, 2757, 2771, 2781, 2791, 2792, 2793, 2798, 2799, 2803, 2833,\n",
      "       2841, 2852, 2872, 2889, 2898, 2911, 2914, 2923, 2947, 2951, 2957,\n",
      "       2959, 3005, 3006, 3008, 3069, 3072, 3101, 3102, 3103, 3109, 3131,\n",
      "       3135, 3137, 3139, 3146, 3147, 3150, 3151, 3154, 3175, 3176, 3210,\n",
      "       3338, 3345, 3376, 3390, 3403, 3411, 3423, 3483, 3491, 3552, 3553,\n",
      "       3558, 3613, 3685, 3698, 3712, 3753, 3762, 3763, 3778, 3795, 3824,\n",
      "       3832, 3837, 3870, 3877, 3879, 3921, 3936, 3944, 3957, 3962, 3974,\n",
      "       3987, 4009, 4082, 4104, 4120, 4124, 4127, 4129, 4132, 4153, 4154,\n",
      "       4163, 4164, 4167, 4179, 4199, 4202, 4232, 4240, 4242, 4246, 4249,\n",
      "       4275, 4309, 4313, 4314, 4332, 4343, 4344, 4362, 4363, 4369, 4371,\n",
      "       4376, 4377, 4383, 4386, 4399, 4441, 4446, 4464, 4471, 4472, 4495,\n",
      "       4500, 4520, 4521, 4522, 4526, 4528, 4548, 4549, 4580, 4599, 4603,\n",
      "       4605, 4612, 4613, 4645, 4647, 4653, 4660, 4661, 4662, 4671, 4675,\n",
      "       4676, 4680, 4681, 4718, 4735, 4737, 4738, 4740, 4742, 4749, 4762,\n",
      "       4774, 4801, 4804, 4805, 4826, 4837, 4845, 4846, 4850, 4851, 4852,\n",
      "       4878, 4880, 4882, 4907, 4908, 4912, 4916, 4917, 4919, 4921, 4950,\n",
      "       4955, 4957, 4973, 4974, 4975, 4979, 4980, 4984, 4985, 4992, 4994,\n",
      "       4996, 4998, 5001, 5009, 5010, 5012, 5013, 5024, 5025, 5026, 5028,\n",
      "       5031, 5034, 5037, 5044, 5045, 5048, 5054, 5059, 5063, 5066, 5068,\n",
      "       5071, 5072, 5076, 5081, 5106, 5108, 5110, 5112, 5133, 5137, 5141,\n",
      "       5148, 5152, 5153, 5154, 5156, 5157, 5158, 5159, 5160, 5165, 5166,\n",
      "       5167, 5169, 5172, 5178, 5179, 5184, 5206, 5209, 5220, 5229, 5235,\n",
      "       5246, 5259, 5260, 5268, 5277, 5282, 5286, 5287, 5288, 5299, 5301,\n",
      "       5305, 5332, 5333, 5336, 5339, 5372, 5375, 5378, 5390, 5393, 5397,\n",
      "       5409, 5416], dtype=int64),)\n"
     ]
    },
    {
     "data": {
      "text/plain": [
       "0    4847\n",
       "1     651\n",
       "Name: Mortality, dtype: int64"
      ]
     },
     "execution_count": 25,
     "metadata": {},
     "output_type": "execute_result"
    }
   ],
   "source": [
    "death_women = np.where(data_mujer.Mortality==1)\n",
    "print(\"Women (death):\",death_women)\n",
    "data_mujer['Mortality'].value_counts()"
   ]
  },
  {
   "cell_type": "markdown",
   "metadata": {},
   "source": [
    "# Women under 19 years old"
   ]
  },
  {
   "cell_type": "code",
   "execution_count": 26,
   "metadata": {},
   "outputs": [],
   "source": [
    "data_mujeres_edad_19 = data_mujer[(data_mujer[\"Age\"]<=19)]"
   ]
  },
  {
   "cell_type": "code",
   "execution_count": 27,
   "metadata": {},
   "outputs": [
    {
     "name": "stdout",
     "output_type": "stream",
     "text": [
      "Women (death): (array([ 4, 12, 31, 66, 89], dtype=int64),)\n"
     ]
    },
    {
     "data": {
      "text/plain": [
       "0    138\n",
       "1      5\n",
       "Name: Mortality, dtype: int64"
      ]
     },
     "execution_count": 27,
     "metadata": {},
     "output_type": "execute_result"
    }
   ],
   "source": [
    "death_women_19 = np.where(data_mujeres_edad_19.Mortality==1)\n",
    "print(\"Women (death):\",death_women_19)\n",
    "data_mujeres_edad_19['Mortality'].value_counts()"
   ]
  },
  {
   "cell_type": "markdown",
   "metadata": {},
   "source": [
    "# Women aged 20-29"
   ]
  },
  {
   "cell_type": "code",
   "execution_count": 28,
   "metadata": {},
   "outputs": [],
   "source": [
    "data_mujeres_edad_20_29 = data_mujer[(data_mujer[\"Age\"]>=20) & ((data_mujer[\"Age\"]<=29))]"
   ]
  },
  {
   "cell_type": "code",
   "execution_count": 29,
   "metadata": {},
   "outputs": [
    {
     "name": "stdout",
     "output_type": "stream",
     "text": [
      "Women (death): (array([24], dtype=int64),)\n"
     ]
    },
    {
     "data": {
      "text/plain": [
       "0    700\n",
       "1      1\n",
       "Name: Mortality, dtype: int64"
      ]
     },
     "execution_count": 29,
     "metadata": {},
     "output_type": "execute_result"
    }
   ],
   "source": [
    "death_women_20_29 = np.where(data_mujeres_edad_20_29.Mortality==1)\n",
    "print(\"Women (death):\",death_women_20_29)\n",
    "data_mujeres_edad_20_29['Mortality'].value_counts()"
   ]
  },
  {
   "cell_type": "markdown",
   "metadata": {},
   "source": [
    "# Women aged 30-39"
   ]
  },
  {
   "cell_type": "code",
   "execution_count": 30,
   "metadata": {},
   "outputs": [],
   "source": [
    "data_mujeres_edad_30_39 = data_mujer[(data_mujer[\"Age\"]>=30) & ((data_mujer[\"Age\"]<=39))]"
   ]
  },
  {
   "cell_type": "code",
   "execution_count": 31,
   "metadata": {},
   "outputs": [
    {
     "name": "stdout",
     "output_type": "stream",
     "text": [
      "Women (death): (array([   5,    6,   20,   27,   78,  100,  113,  160,  175,  208,  262,\n",
      "        305,  437,  490,  535,  583,  663,  852,  873,  918,  987, 1009,\n",
      "       1015, 1028, 1066, 1075, 1092, 1115, 1124], dtype=int64),)\n"
     ]
    },
    {
     "data": {
      "text/plain": [
       "0    1114\n",
       "1      29\n",
       "Name: Mortality, dtype: int64"
      ]
     },
     "execution_count": 31,
     "metadata": {},
     "output_type": "execute_result"
    }
   ],
   "source": [
    "death_women_30_39 = np.where(data_mujeres_edad_30_39.Mortality==1)\n",
    "print(\"Women (death):\",death_women_30_39)\n",
    "data_mujeres_edad_30_39['Mortality'].value_counts()"
   ]
  },
  {
   "cell_type": "markdown",
   "metadata": {},
   "source": [
    "# Women aged 40-49"
   ]
  },
  {
   "cell_type": "code",
   "execution_count": 32,
   "metadata": {},
   "outputs": [],
   "source": [
    "data_mujeres_edad_40_49 = data_mujer[(data_mujer[\"Age\"]>=40) & ((data_mujer[\"Age\"]<=49))]"
   ]
  },
  {
   "cell_type": "code",
   "execution_count": 33,
   "metadata": {},
   "outputs": [
    {
     "name": "stdout",
     "output_type": "stream",
     "text": [
      "Women (death): (array([  10,   19,   27,   39,   44,   46,   50,   67,   71,   73,   74,\n",
      "         78,   83,  100,  163,  217,  244,  253,  265,  282,  284,  308,\n",
      "        316,  325,  479,  506,  515,  598,  624,  769,  866,  892,  934,\n",
      "        949,  987, 1000, 1018, 1020, 1038, 1055], dtype=int64),)\n"
     ]
    },
    {
     "data": {
      "text/plain": [
       "0    1050\n",
       "1      40\n",
       "Name: Mortality, dtype: int64"
      ]
     },
     "execution_count": 33,
     "metadata": {},
     "output_type": "execute_result"
    }
   ],
   "source": [
    "death_women_40_49 = np.where(data_mujeres_edad_40_49.Mortality==1)\n",
    "print(\"Women (death):\",death_women_40_49)\n",
    "data_mujeres_edad_40_49['Mortality'].value_counts()"
   ]
  },
  {
   "cell_type": "markdown",
   "metadata": {},
   "source": [
    "# Women aged 50-59"
   ]
  },
  {
   "cell_type": "code",
   "execution_count": 34,
   "metadata": {},
   "outputs": [],
   "source": [
    "data_mujeres_edad_50_59 = data_mujer[(data_mujer[\"Age\"]>=50) & ((data_mujer[\"Age\"]<=59))]"
   ]
  },
  {
   "cell_type": "code",
   "execution_count": 35,
   "metadata": {},
   "outputs": [
    {
     "name": "stdout",
     "output_type": "stream",
     "text": [
      "Women (death): (array([  3,   6,   7,   8,  11,  12,  16,  18,  19,  21,  24,  26,  27,\n",
      "        29,  30,  33,  34,  35,  36,  41,  42,  43,  44,  45,  52,  53,\n",
      "        54,  56,  67,  71,  73,  74,  81,  83,  84,  87,  88,  90,  91,\n",
      "       103, 114, 115, 139, 142, 144, 145, 146, 147, 166, 168, 171, 173,\n",
      "       192, 195, 198, 200, 215, 219, 232, 251, 262, 281, 307, 309, 319,\n",
      "       336, 339, 355, 357, 369, 400, 403, 409, 430, 445, 467, 468, 471,\n",
      "       481, 486, 489, 510, 516, 518, 519, 520, 544, 565, 574, 575, 626,\n",
      "       652, 664, 696, 705, 713, 737, 744, 747, 763, 771, 777, 779, 782,\n",
      "       808, 811, 820, 822, 828, 831, 833, 846, 857, 871, 876, 877, 883,\n",
      "       894, 896, 898, 907, 921, 922, 930, 931, 932, 933, 935, 936, 944,\n",
      "       954, 959, 960, 963], dtype=int64),)\n"
     ]
    },
    {
     "data": {
      "text/plain": [
       "0    860\n",
       "1    134\n",
       "Name: Mortality, dtype: int64"
      ]
     },
     "execution_count": 35,
     "metadata": {},
     "output_type": "execute_result"
    }
   ],
   "source": [
    "death_women_50_59 = np.where(data_mujeres_edad_50_59.Mortality==1)\n",
    "print(\"Women (death):\",death_women_50_59)\n",
    "data_mujeres_edad_50_59['Mortality'].value_counts()"
   ]
  },
  {
   "cell_type": "markdown",
   "metadata": {},
   "source": [
    "# Women aged 60-69"
   ]
  },
  {
   "cell_type": "code",
   "execution_count": 36,
   "metadata": {},
   "outputs": [],
   "source": [
    "data_mujeres_edad_60_69 = data_mujer[(data_mujer[\"Age\"]>=60) & ((data_mujer[\"Age\"]<=69))]"
   ]
  },
  {
   "cell_type": "code",
   "execution_count": 37,
   "metadata": {},
   "outputs": [
    {
     "name": "stdout",
     "output_type": "stream",
     "text": [
      "Women (death): (array([  2,   4,   5,  13,  14,  20,  21,  24,  26,  27,  28,  29,  30,\n",
      "        33,  35,  37,  39,  40,  45,  46,  48,  50,  55,  56,  57,  58,\n",
      "        60,  61,  62,  65,  67,  68,  69,  72,  73,  74,  77,  78,  79,\n",
      "        82,  83,  85,  87,  88,  92, 103, 104, 108, 111, 112, 113, 114,\n",
      "       117, 120, 123, 124, 125, 127, 128, 131, 132, 135, 139, 141, 142,\n",
      "       145, 154, 155, 158, 166, 171, 173, 177, 178, 181, 182, 184, 185,\n",
      "       186, 188, 189, 192, 199, 203, 212, 213, 218, 219, 229, 236, 240,\n",
      "       246, 249, 251, 258, 265, 267, 269, 272, 273, 276, 282, 284, 288,\n",
      "       289, 291, 303, 308, 313, 314, 315, 329, 340, 345, 347, 348, 350,\n",
      "       351, 356, 358, 360, 362, 372, 376, 380, 384, 395, 396, 401, 407,\n",
      "       408, 409, 410, 412, 413, 437, 468, 475, 481, 498, 500, 517, 522,\n",
      "       523, 534, 538, 545, 551, 553, 555, 556, 570, 582, 583, 586, 587,\n",
      "       599, 601, 609, 613, 617, 621, 622, 623, 635, 637, 649, 651, 653,\n",
      "       654, 655, 656, 662, 664, 666, 668, 670, 671, 673, 680, 682, 683,\n",
      "       684, 688, 698, 705, 706, 710, 711, 713, 719, 721, 723, 730, 732,\n",
      "       734], dtype=int64),)\n"
     ]
    },
    {
     "data": {
      "text/plain": [
       "0    553\n",
       "1    196\n",
       "Name: Mortality, dtype: int64"
      ]
     },
     "execution_count": 37,
     "metadata": {},
     "output_type": "execute_result"
    }
   ],
   "source": [
    "death_women_60_69 = np.where(data_mujeres_edad_60_69.Mortality==1)\n",
    "print(\"Women (death):\",death_women_60_69)\n",
    "data_mujeres_edad_60_69['Mortality'].value_counts()"
   ]
  },
  {
   "cell_type": "markdown",
   "metadata": {},
   "source": [
    "# Women aged 70 and over"
   ]
  },
  {
   "cell_type": "code",
   "execution_count": 38,
   "metadata": {},
   "outputs": [],
   "source": [
    "data_mujeres_edad_70 = data_mujer[(data_mujer[\"Age\"]>=70)]"
   ]
  },
  {
   "cell_type": "code",
   "execution_count": 39,
   "metadata": {},
   "outputs": [
    {
     "name": "stdout",
     "output_type": "stream",
     "text": [
      "Women (death): (array([  1,   2,   3,   4,   5,   6,   7,   9,  10,  11,  12,  13,  14,\n",
      "        15,  17,  18,  21,  24,  26,  27,  30,  31,  32,  33,  34,  35,\n",
      "        38,  39,  40,  45,  48,  49,  50,  51,  52,  53,  54,  55,  56,\n",
      "        59,  60,  62,  65,  67,  68,  71,  74,  75,  76,  79,  84,  86,\n",
      "        88,  91,  92,  97,  98, 100, 101, 102, 108, 111, 112, 113, 118,\n",
      "       119, 120, 124, 125, 126, 127, 129, 131, 139, 148, 152, 153, 156,\n",
      "       158, 161, 163, 164, 168, 172, 176, 177, 184, 185, 192, 193, 194,\n",
      "       200, 201, 203, 204, 207, 210, 212, 213, 218, 219, 224, 226, 228,\n",
      "       229, 231, 239, 244, 245, 247, 249, 254, 256, 257, 261, 263, 265,\n",
      "       270, 271, 273, 277, 285, 286, 288, 289, 290, 291, 292, 296, 298,\n",
      "       299, 302, 303, 304, 307, 314, 317, 318, 319, 327, 333, 335, 342,\n",
      "       344, 346, 350, 352, 362, 363, 364, 366, 367, 370, 378, 380, 384,\n",
      "       386, 389, 393, 396, 399, 400, 410, 420, 421, 424, 428, 429, 438,\n",
      "       439, 441, 442, 448, 452, 453, 454, 455, 457, 458, 462, 464, 465,\n",
      "       466, 467, 472, 473, 477, 479, 480, 482, 485, 488, 493, 499, 500,\n",
      "       510, 517, 521, 526, 529, 531, 533, 535, 536, 537, 542, 547, 548,\n",
      "       551, 552, 554, 555, 556, 557, 564, 565, 566, 567, 568, 569, 571,\n",
      "       572, 575, 582, 584, 585, 586, 587, 588, 590, 591, 602, 604, 607,\n",
      "       608, 610, 614, 617, 622, 625, 632, 636, 651, 654, 656, 661],\n",
      "      dtype=int64),)\n"
     ]
    },
    {
     "data": {
      "text/plain": [
       "0    432\n",
       "1    246\n",
       "Name: Mortality, dtype: int64"
      ]
     },
     "execution_count": 39,
     "metadata": {},
     "output_type": "execute_result"
    }
   ],
   "source": [
    "death_women_70 = np.where(data_mujeres_edad_70.Mortality==1)\n",
    "print(\"Women (death):\",death_women_70)\n",
    "data_mujeres_edad_70['Mortality'].value_counts()"
   ]
  }
 ],
 "metadata": {
  "kernelspec": {
   "display_name": "Python 3",
   "language": "python",
   "name": "python3"
  },
  "language_info": {
   "codemirror_mode": {
    "name": "ipython",
    "version": 3
   },
   "file_extension": ".py",
   "mimetype": "text/x-python",
   "name": "python",
   "nbconvert_exporter": "python",
   "pygments_lexer": "ipython3",
   "version": "3.8.5"
  }
 },
 "nbformat": 4,
 "nbformat_minor": 4
}
