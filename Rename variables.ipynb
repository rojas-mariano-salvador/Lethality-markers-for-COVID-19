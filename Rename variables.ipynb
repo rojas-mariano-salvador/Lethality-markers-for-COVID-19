{
 "cells": [
  {
   "cell_type": "markdown",
   "metadata": {},
   "source": [
    "# Rename"
   ]
  },
  {
   "cell_type": "code",
   "execution_count": 1,
   "metadata": {},
   "outputs": [],
   "source": [
    "import argparse\n",
    "import sys\n",
    "import numpy as np\n",
    "import pandas as pd\n",
    "import warnings\n",
    "warnings.filterwarnings('ignore')"
   ]
  },
  {
   "cell_type": "code",
   "execution_count": 2,
   "metadata": {},
   "outputs": [
    {
     "name": "stdout",
     "output_type": "stream",
     "text": [
      "Total de registros 12103\n"
     ]
    }
   ],
   "source": [
    "raw_data = 'C:/Users/Salvador/Modelo_COVID19/Libretas manuscrito/data_morelos.csv'\n",
    "data = pd.read_csv(raw_data)\n",
    "print (\"Total de registros\", data.shape[0])"
   ]
  },
  {
   "cell_type": "code",
   "execution_count": 3,
   "metadata": {},
   "outputs": [],
   "source": [
    "data = data.rename(columns = {'SEXO': 'Sex','EDAD': 'Age', 'ESTAEMBA': 'Pregnancy', 'INTUBADO': 'Intubated ', 'FIEBRE': 'Fever', 'TOS': 'Cough', 'ODINOGIA': 'Odynophagia', 'DISNEA': 'Dyspnea', 'IRRITABI': 'Irritability', 'DIARREA': 'Diarrhea', 'DOTORACI': 'Chest pain', 'CALOFRIOS': 'Chills', 'CEFALEA': 'Headache', 'MIALGIAS': 'Myalgia', 'ARTRAL': 'Arthralgia', 'ATAEDOGE': 'General discomfort', 'RINORREA': 'Rhinorrhea', 'POLIPNEA': 'Polypnea', 'VOMITO': 'Vomiting', 'DOLABDO': 'Abdominal pain', 'CONJUN': 'Conjunctivitis', 'CIANOSIS': 'Cyanosis', 'INISUBIS': 'Sudden onset of symptoms', 'ANOSMIA': 'Anosmia', 'DISGEUSIA': 'Dysgeusia', 'DIABETES': 'Diabetes', 'EPOC': 'COPD', 'ASMA': 'Asthma', 'INMUSUPR': 'Immunosuppression', 'HIPERTEN': 'Hypertension', 'ENFCARDI': 'Cardiovascular disease', 'OBESIDAD': 'Obesity', 'INSRENCR': 'CKD', 'TABAQUIS': 'Smoking', 'PUERPERIO': 'Puerperium', 'ANTIPIRETICOS': 'Use of antipyretics', 'UCI': 'ICU', 'dias_trans': 'Days elapsed', 'VIH_SIDA': 'HIV AIDS', 'EVOLUCI': 'Evolution', 'MORTALIDAD': 'Mortality' })"
   ]
  },
  {
   "cell_type": "code",
   "execution_count": 4,
   "metadata": {},
   "outputs": [
    {
     "data": {
      "text/plain": [
       "<bound method DataFrame.rename of        Unnamed: 0  Unnamed: 0.1  Sex  LOCRESI  Evolution  Intubated   Age  \\\n",
       "0               0         25173    1    131.0        3.0           0   42   \n",
       "1               1         30380    0     88.0        3.0           0   32   \n",
       "2               2         31342    1     88.0        5.0           0   52   \n",
       "3               3         31474    1     88.0        3.0           0   32   \n",
       "4               4         35567    1    136.0        3.0           0   49   \n",
       "...           ...           ...  ...      ...        ...         ...  ...   \n",
       "12098       12098       5474987    0    554.0        2.0           0   33   \n",
       "12099       12099       5475449    0     88.0        2.0           0   35   \n",
       "12100       12100       5475488    1     88.0        2.0           0   23   \n",
       "12101       12101       5477315    1     88.0        1.0           0   41   \n",
       "12102       12102       5477685    1     88.0        1.0           0   61   \n",
       "\n",
       "       Pregnancy    FECINGRE    FECINISI  ...  TXCROBIA  TXANTIVI  RESDEFIN  \\\n",
       "0              0  2020-03-09  2020-03-09  ...         0         1       2.0   \n",
       "1              0  2020-04-01  2020-03-27  ...         0         1       2.0   \n",
       "2              0  2020-03-30  2020-03-22  ...         0         0       2.0   \n",
       "3              0  2020-04-04  2020-03-30  ...         0         0       2.0   \n",
       "4              0  2020-03-31  2020-03-26  ...         0         0       2.0   \n",
       "...          ...         ...         ...  ...       ...       ...       ...   \n",
       "12098          0  2021-03-01  2021-02-27  ...         0         0       2.0   \n",
       "12099          0  2021-03-01  2021-02-28  ...         0         0       2.0   \n",
       "12100          0  2021-03-01  2021-02-24  ...         0         0       2.0   \n",
       "12101          0  2021-03-01  2021-02-26  ...         0         0       2.0   \n",
       "12102          0  2021-03-01  2021-02-27  ...         0         0       2.0   \n",
       "\n",
       "       Puerperium  Use of antipyretics  ICU  CLASCOVID19  Days elapsed  \\\n",
       "0               0                    0    0            2           0.0   \n",
       "1               0                    0    0            2           5.0   \n",
       "2               0                    0    0            2           8.0   \n",
       "3               0                    0    0            2           5.0   \n",
       "4               0                    1    0            2           5.0   \n",
       "...           ...                  ...  ...          ...           ...   \n",
       "12098           0                    1    0            2           2.0   \n",
       "12099           0                    0    0            2           1.0   \n",
       "12100           0                    1    0            2           5.0   \n",
       "12101           0                    1    0            2           3.0   \n",
       "12102           0                    0    0            2           2.0   \n",
       "\n",
       "       HIV AIDS  Mortality  \n",
       "0             0          0  \n",
       "1             0          0  \n",
       "2             0          1  \n",
       "3             0          0  \n",
       "4             0          0  \n",
       "...         ...        ...  \n",
       "12098         0          0  \n",
       "12099         0          0  \n",
       "12100         0          0  \n",
       "12101         0          0  \n",
       "12102         0          0  \n",
       "\n",
       "[12103 rows x 52 columns]>"
      ]
     },
     "execution_count": 4,
     "metadata": {},
     "output_type": "execute_result"
    }
   ],
   "source": [
    "data.rename"
   ]
  },
  {
   "cell_type": "code",
   "execution_count": 5,
   "metadata": {},
   "outputs": [
    {
     "data": {
      "text/plain": [
       "Index(['Unnamed: 0', 'Unnamed: 0.1', 'Sex', 'LOCRESI', 'Evolution',\n",
       "       'Intubated ', 'Age', 'Pregnancy', 'FECINGRE', 'FECINISI', 'Fever',\n",
       "       'Cough', 'Odynophagia', 'Dyspnea', 'Irritability', 'Diarrhea',\n",
       "       'Chest pain', 'Chills', 'Headache', 'Myalgia', 'Arthralgia',\n",
       "       'General discomfort', 'Rhinorrhea', 'Polypnea', 'Vomiting',\n",
       "       'Abdominal pain', 'Conjunctivitis', 'Cyanosis',\n",
       "       'Sudden onset of symptoms', 'Anosmia', 'Dysgeusia', 'Diabetes', 'COPD',\n",
       "       'Asthma', 'Immunosuppression', 'Hypertension', 'VIH-SIDA',\n",
       "       'Cardiovascular disease', 'Obesity', 'CKD', 'Smoking', 'RECTRATA',\n",
       "       'TXCROBIA', 'TXANTIVI', 'RESDEFIN', 'Puerperium', 'Use of antipyretics',\n",
       "       'ICU', 'CLASCOVID19', 'Days elapsed', 'HIV AIDS', 'Mortality'],\n",
       "      dtype='object')"
      ]
     },
     "execution_count": 5,
     "metadata": {},
     "output_type": "execute_result"
    }
   ],
   "source": [
    "data.columns"
   ]
  },
  {
   "cell_type": "code",
   "execution_count": 6,
   "metadata": {},
   "outputs": [],
   "source": [
    "df = pd.DataFrame(data)"
   ]
  },
  {
   "cell_type": "code",
   "execution_count": 7,
   "metadata": {},
   "outputs": [],
   "source": [
    "df.to_csv('data_morelos_rename.csv')"
   ]
  }
 ],
 "metadata": {
  "kernelspec": {
   "display_name": "Python 3",
   "language": "python",
   "name": "python3"
  },
  "language_info": {
   "codemirror_mode": {
    "name": "ipython",
    "version": 3
   },
   "file_extension": ".py",
   "mimetype": "text/x-python",
   "name": "python",
   "nbconvert_exporter": "python",
   "pygments_lexer": "ipython3",
   "version": "3.8.5"
  }
 },
 "nbformat": 4,
 "nbformat_minor": 4
}
