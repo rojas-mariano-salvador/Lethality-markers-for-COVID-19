{
 "cells": [
  {
   "cell_type": "code",
   "execution_count": 1,
   "metadata": {},
   "outputs": [],
   "source": [
    "import argparse\n",
    "import sys\n",
    "import numpy as np\n",
    "import pandas as pd\n",
    "import matplotlib.pyplot as plt\n",
    "from sklearn.preprocessing import StandardScaler, OneHotEncoder\n",
    "import warnings\n",
    "warnings.filterwarnings('ignore')"
   ]
  },
  {
   "cell_type": "code",
   "execution_count": 2,
   "metadata": {},
   "outputs": [
    {
     "name": "stdout",
     "output_type": "stream",
     "text": [
      "Total records 5490290\n"
     ]
    }
   ],
   "source": [
    "\"\"\"Loading open-access database COVID-19 Mexico\"\"\" \n",
    "raw_data = 'C:/Users/Salvador/Modelo_COVID19/Origen_IIMAS_SISVER_UNAM_COVID19/SISVER_Curación_IIMAS_2021_2-3/EPI_2021_2-3-2021.csv'\n",
    "data = pd.read_csv(raw_data)\n",
    "print (\"Total records\", data.shape[0])"
   ]
  },
  {
   "cell_type": "code",
   "execution_count": 3,
   "metadata": {},
   "outputs": [
    {
     "name": "stdout",
     "output_type": "stream",
     "text": [
      "C:\\Users\\Salvador\\Modelo_COVID19\\Libretas manuscrito\\BCM Infectius diseases\n"
     ]
    }
   ],
   "source": [
    "!cd"
   ]
  },
  {
   "cell_type": "code",
   "execution_count": 4,
   "metadata": {},
   "outputs": [],
   "source": [
    "\"\"\"Functions def\"\"\"\n",
    "def read_data(raw_clinical_note):\n",
    "    data = pd.read_csv(raw_clinical_note, header=0,na_filter=True)\n",
    "    return data\n",
    "\n",
    "def delete_columns(data,columns): \n",
    "    df = data.drop(columns,axis=1)\n",
    "    return df\n",
    "\n",
    "def estimation_of_elapsed_days(data):\n",
    "    data['FECINISI']= pd.to_datetime(data['FECINISI'])\n",
    "    data['FECINGRE']= pd.to_datetime(data['FECINGRE'])\n",
    "    data['dias_trans']= data['FECINGRE'] - data['FECINISI']\n",
    "    data['dias_trans'] = data['dias_trans'] / np.timedelta64(1, 'D')\n",
    "    return data\n",
    "\n",
    "def encoding(data):  \n",
    "    data['SEXO'] = np.where(data['SEXO'] == 1, '1', '0').astype(int) \n",
    "    \n",
    "    data['DIABETES'] = np.where(data['DIABETES'] == 1, '1', '0').astype(int)  \n",
    "    data['EPOC'] = np.where(data['EPOC'] == 1, '1', '0').astype(int)  \n",
    "    data['ASMA'] = np.where(data['ASMA'] == 1, '1', '0').astype(int)  \n",
    "    data['INMUSUPR'] = np.where(data['INMUSUPR'] == 1, '1', '0').astype(int)  \n",
    "    data['HIPERTEN'] = np.where(data['HIPERTEN'] == 1, '1', '0').astype(int)  \n",
    "    data['VIH-SIDA'] = np.where(data['VIH-SIDA'] == 1, '1', '0').astype(int)  \n",
    "    data['ENFCARDI'] = np.where(data['ENFCARDI'] == 1, '1', '0').astype(int)  \n",
    "    data['OBESIDAD'] = np.where(data['OBESIDAD'] == 1, '1', '0').astype(int)  \n",
    "    data['INSRENCR'] = np.where(data['INSRENCR'] == 1, '1', '0').astype(int)  \n",
    "    data['TABAQUIS'] = np.where(data['TABAQUIS'] == 1, '1', '0').astype(int)\n",
    "    \n",
    "\n",
    "    data['FIEBRE'] = np.where(data['FIEBRE'] == 1, '1', '0').astype(int)  \n",
    "    data['TOS'] = np.where(data['TOS'] == 1, '1', '0').astype(int)  \n",
    "    data['ODINOGIA'] = np.where(data['ODINOGIA'] == 1, '1', '0').astype(int)  \n",
    "    data['DISNEA'] = np.where(data['DISNEA'] == 1, '1', '0').astype(int)  \n",
    "    data['IRRITABI'] = np.where(data['IRRITABI'] == 1, '1', '0').astype(int)  \n",
    "    data['DIARREA'] = np.where(data['DIARREA'] == 1, '1', '0').astype(int)  \n",
    "    data['DOTORACI'] = np.where(data['DOTORACI'] == 1, '1', '0').astype(int)\n",
    "    data['CALOFRIOS'] = np.where(data['CALOFRIOS'] == 1, '1', '0').astype(int)    \n",
    "    data['CEFALEA'] = np.where(data['CEFALEA'] == 1, '1', '0').astype(int)  \n",
    "    data['MIALGIAS'] = np.where(data['MIALGIAS'] == 1, '1', '0').astype(int)\n",
    "    data['ARTRAL'] = np.where(data['ARTRAL'] == 1, '1', '0').astype(int)\n",
    "    data['ATAEDOGE'] = np.where(data['ATAEDOGE'] == 1, '1', '0').astype(int)  \n",
    "    data['RINORREA'] = np.where(data['RINORREA'] == 1, '1', '0').astype(int)\n",
    "    data['POLIPNEA'] = np.where(data['POLIPNEA'] == 1, '1', '0').astype(int)\n",
    "    data['VOMITO'] = np.where(data['VOMITO'] == 1, '1', '0').astype(int)  \n",
    "    data['DOLABDO'] = np.where(data['DOLABDO'] == 1, '1', '0').astype(int)\n",
    "    data['CONJUN'] = np.where(data['CONJUN'] == 1, '1', '0').astype(int)\n",
    "    data['CIANOSIS'] = np.where(data['CIANOSIS'] == 1, '1', '0').astype(int)  \n",
    "    data['INISUBIS'] = np.where(data['INISUBIS'] == 1, '1', '0').astype(int)\n",
    "    data['ANOSMIA'] = np.where(data['ANOSMIA'] == 1, '1', '0').astype(int)\n",
    "    data['DISGEUSIA'] = np.where(data['DISGEUSIA'] == 1, '1', '0').astype(int)  \n",
    "    \n",
    "    data['UCI'] = np.where(data['UCI'] == 1, '1', '0').astype(int)  \n",
    "    data['INTUBADO'] = np.where(data['INTUBADO'] == 1, '1', '0').astype(int)  \n",
    "    data['ESTAEMBA'] = np.where(data['ESTAEMBA'] == 2, '1', '0').astype(int)  \n",
    "    data['ANTIPIRETICOS'] = np.where(data['ANTIPIRETICOS'] == 1, '1', '0').astype(int)  \n",
    "    data['PUERPERIO'] = np.where(data['PUERPERIO'] == 1, '1', '0').astype(int) \n",
    "    \n",
    "    #LabeL\n",
    "    data['MORTALIDAD'] = np.where(data['EVOLUCI'] == 5, '1', '0').astype(int) \n",
    "    return data\n"
   ]
  },
  {
   "cell_type": "markdown",
   "metadata": {},
   "source": [
    "# Patient selection"
   ]
  },
  {
   "cell_type": "code",
   "execution_count": 5,
   "metadata": {},
   "outputs": [],
   "source": [
    "\"\"\"Patients reported with COVID-19\"\"\"\n",
    "pacientes_cov = data[(data[\"RESDEFIN\"]==2)]"
   ]
  },
  {
   "cell_type": "code",
   "execution_count": 6,
   "metadata": {},
   "outputs": [
    {
     "data": {
      "text/plain": [
       "Index(['ORIGEN', 'SECTOR', 'ID_REGISTRO', 'ENTIDAD', 'UNIDAD', 'FECHREG',\n",
       "       'FOLIO SINAVE', 'SEXO', 'ENTNACI', 'ENTRESI', 'MPIORESI', 'LOCRESI',\n",
       "       'TIPACIEN', 'EVOLUCI', 'FEGRESO', 'FECDEF', 'DEFPORINF', 'DEFVERIFI',\n",
       "       'INTUBADO', 'DIGCLINE', 'FECNACI', 'EDAD', 'NACIONA', 'ESTAEMBA',\n",
       "       'ESINDIGE', 'HABLEIND', 'OCUPACIO', 'SERINGRE', 'FECINGRE', 'FECINISI',\n",
       "       'DIAGPROB', 'FIEBRE', 'TOS', 'ODINOGIA', 'DISNEA', 'IRRITABI',\n",
       "       'DIARREA', 'DOTORACI', 'CALOFRIOS', 'CEFALEA', 'MIALGIAS', 'ARTRAL',\n",
       "       'ATAEDOGE', 'RINORREA', 'POLIPNEA', 'VOMITO', 'DOLABDO', 'CONJUN',\n",
       "       'CIANOSIS', 'INISUBIS', 'ANOSMIA', 'DISGEUSIA', 'DIABETES', 'EPOC',\n",
       "       'ASMA', 'INMUSUPR', 'HIPERTEN', 'VIH-SIDA', 'OTRACON', 'ENFCARDI',\n",
       "       'OBESIDAD', 'INSRENCR', 'TABAQUIS', 'RECTRATA', 'TXCROBIA', 'TXANTIVI',\n",
       "       'ANTIVIRA', 'FECINITXANTIVI', 'CONOCASO', 'CONTAVES', 'CONCERDO',\n",
       "       'CONANIMA', 'VACUNADO', 'FECVAEST', 'TOMMUE', 'LABORA', 'RESDEFIN',\n",
       "       'ESMIGRA', 'PAISNAL', 'PAISORI', 'FINGMEX', 'PAISTRAN1', 'PUERPERIO',\n",
       "       'ANTIPIRETICOS', 'UCI', 'ORIGEN_DATOS', 'ASODIC', 'ANTIGENCOVID',\n",
       "       'FECMUEANT', 'CLASCOVID19', 'PROTOCOLO', 'VACUNA_COV', 'TIPO_VAC_COV',\n",
       "       'FEC_VAC_COV', 'LINAJE', 'VIAJE1', 'VIAJE2', 'VIAJE3', 'VIAJE4',\n",
       "       'VIAJE5'],\n",
       "      dtype='object')"
      ]
     },
     "execution_count": 6,
     "metadata": {},
     "output_type": "execute_result"
    }
   ],
   "source": [
    "pacientes_cov.columns"
   ]
  },
  {
   "cell_type": "code",
   "execution_count": 7,
   "metadata": {},
   "outputs": [
    {
     "name": "stdout",
     "output_type": "stream",
     "text": [
      "Patients COVID-19 1578228\n"
     ]
    }
   ],
   "source": [
    "print (\"Patients COVID-19\", pacientes_cov.shape[0])"
   ]
  },
  {
   "cell_type": "code",
   "execution_count": 8,
   "metadata": {},
   "outputs": [],
   "source": [
    "\"\"\"Patients from Morelos\"\"\"\n",
    "pacientes_cov_morelos = pacientes_cov[(pacientes_cov[\"ENTIDAD\"]==17)]"
   ]
  },
  {
   "cell_type": "code",
   "execution_count": 9,
   "metadata": {},
   "outputs": [
    {
     "name": "stdout",
     "output_type": "stream",
     "text": [
      "Patients from Morelos 12103\n"
     ]
    }
   ],
   "source": [
    "print (\"Patients from Morelos\", pacientes_cov_morelos.shape[0])"
   ]
  },
  {
   "cell_type": "code",
   "execution_count": 10,
   "metadata": {},
   "outputs": [],
   "source": [
    "pacientes_cov_morelos = encoding(pacientes_cov_morelos)"
   ]
  },
  {
   "cell_type": "code",
   "execution_count": 11,
   "metadata": {},
   "outputs": [],
   "source": [
    "\"\"\"Patients without intubation procedure\"\"\"\n",
    "pacientes_triage = pacientes_cov_morelos[(pacientes_cov_morelos[\"INTUBADO\"]==0)]"
   ]
  },
  {
   "cell_type": "code",
   "execution_count": 12,
   "metadata": {},
   "outputs": [
    {
     "name": "stdout",
     "output_type": "stream",
     "text": [
      "Patients without intubation procedure 11703\n"
     ]
    }
   ],
   "source": [
    "print (\"Patients without intubation procedure\", pacientes_triage.shape[0])"
   ]
  },
  {
   "cell_type": "code",
   "execution_count": 13,
   "metadata": {},
   "outputs": [],
   "source": [
    "\"\"\"Patients not admission to intensive care unit\"\"\"\n",
    "pacientes_triage_final = pacientes_triage[(pacientes_triage[\"UCI\"]==0)]"
   ]
  },
  {
   "cell_type": "code",
   "execution_count": 14,
   "metadata": {},
   "outputs": [
    {
     "name": "stdout",
     "output_type": "stream",
     "text": [
      "Patients not admission to intensive care unit 11564\n"
     ]
    }
   ],
   "source": [
    "print (\"Patients not admission to intensive care unit\", pacientes_triage_final.shape[0])"
   ]
  },
  {
   "cell_type": "code",
   "execution_count": 15,
   "metadata": {},
   "outputs": [],
   "source": [
    "columns = ['ORIGEN', 'SECTOR', 'ID_REGISTRO', 'ENTIDAD', 'UNIDAD', 'FECHREG',\n",
    "           'FOLIO SINAVE', 'ENTNACI', 'ENTRESI', 'MPIORESI','ESTAEMBA',\n",
    "           'TIPACIEN', 'FEGRESO', 'FECDEF', 'DEFPORINF', 'DEFVERIFI', 'DIGCLINE', 'INTUBADO', \n",
    "           'FECNACI', 'NACIONA', 'ESINDIGE', 'CONOCASO', 'FECINITXANTIVI', 'UCI', 'EVOLUCI',\n",
    "           'HABLEIND', 'OCUPACIO', 'SERINGRE', 'CONTAVES', 'VIH-SIDA',\n",
    "           'DIAGPROB', 'CONANIMA', 'VACUNADO', 'FECVAEST', 'TOMMUE', 'LABORA', 'OTRACON',\n",
    "           'ESMIGRA', 'PAISNAL', 'PAISORI', 'FINGMEX', 'PAISTRAN1', 'PROTOCOLO', 'CONCERDO',\n",
    "           'ANTIVIRA', 'ORIGEN_DATOS', 'ASODIC', 'ANTIGENCOVID', 'TIPO_VAC_COV', 'FEC_VAC_COV',\n",
    "           'LINAJE', 'VIAJE1', 'VIAJE2', 'VIAJE3', 'VIAJE4','VIAJE5','ESMIGRA','PAISNAL', \n",
    "           'VACUNA_COV', 'FECMUEANT','LOCRESI','RECTRATA', 'TXCROBIA','PUERPERIO', \n",
    "           'TXANTIVI', 'RESDEFIN', 'CLASCOVID19','FECINGRE', 'FECINISI']"
   ]
  },
  {
   "cell_type": "code",
   "execution_count": 16,
   "metadata": {},
   "outputs": [],
   "source": [
    "\"\"\"Estimate in days the time of elapsed from the onset of disease symptoms to the start of medical care\"\"\"\n",
    "pacientes_triage_final = estimation_of_elapsed_days(pacientes_triage_final)"
   ]
  },
  {
   "cell_type": "code",
   "execution_count": 17,
   "metadata": {},
   "outputs": [],
   "source": [
    "\"\"\"Variables\"\"\"\n",
    "pacientes_triage_final = delete_columns(pacientes_triage_final,columns)"
   ]
  },
  {
   "cell_type": "code",
   "execution_count": 18,
   "metadata": {},
   "outputs": [],
   "source": [
    "\"\"\"Study patients\"\"\"\n",
    "data_final_mor = pacientes_triage_final"
   ]
  },
  {
   "cell_type": "code",
   "execution_count": 19,
   "metadata": {},
   "outputs": [
    {
     "data": {
      "text/plain": [
       "Index(['SEXO', 'EDAD', 'FIEBRE', 'TOS', 'ODINOGIA', 'DISNEA', 'IRRITABI',\n",
       "       'DIARREA', 'DOTORACI', 'CALOFRIOS', 'CEFALEA', 'MIALGIAS', 'ARTRAL',\n",
       "       'ATAEDOGE', 'RINORREA', 'POLIPNEA', 'VOMITO', 'DOLABDO', 'CONJUN',\n",
       "       'CIANOSIS', 'INISUBIS', 'ANOSMIA', 'DISGEUSIA', 'DIABETES', 'EPOC',\n",
       "       'ASMA', 'INMUSUPR', 'HIPERTEN', 'ENFCARDI', 'OBESIDAD', 'INSRENCR',\n",
       "       'TABAQUIS', 'ANTIPIRETICOS', 'MORTALIDAD', 'dias_trans'],\n",
       "      dtype='object')"
      ]
     },
     "execution_count": 19,
     "metadata": {},
     "output_type": "execute_result"
    }
   ],
   "source": [
    "data_final_mor.columns"
   ]
  },
  {
   "cell_type": "code",
   "execution_count": 20,
   "metadata": {},
   "outputs": [
    {
     "name": "stdout",
     "output_type": "stream",
     "text": [
      "Study patients 11564\n"
     ]
    }
   ],
   "source": [
    "print (\"Study patients\", data_final_mor.shape[0])"
   ]
  },
  {
   "cell_type": "code",
   "execution_count": 21,
   "metadata": {},
   "outputs": [],
   "source": [
    "data_final_mor = data_final_mor.rename(columns = {'SEXO': 'Sex','EDAD': 'Age', 'FIEBRE': 'Fever', 'TOS': 'Cough', 'ODINOGIA': 'Odynophagia', 'DISNEA': 'Dyspnea', 'IRRITABI': 'Irritability', 'DIARREA': 'Diarrhea', 'DOTORACI': 'Chest pain', 'CALOFRIOS': 'Chills', 'CEFALEA': 'Headache', 'MIALGIAS': 'Myalgia', 'ARTRAL': 'Arthralgia', 'ATAEDOGE': 'General discomfort', 'RINORREA': 'Rhinorrhea', 'POLIPNEA': 'Polypnea', 'VOMITO': 'Vomiting', 'DOLABDO': 'Abdominal pain', 'CONJUN': 'Conjunctivitis', 'CIANOSIS': 'Cyanosis', 'INISUBIS': 'Sudden onset of symptoms', 'ANOSMIA': 'Anosmia', 'DISGEUSIA': 'Dysgeusia', 'DIABETES': 'Diabetes', 'EPOC': 'COPD', 'ASMA': 'Asthma', 'INMUSUPR': 'Immunosuppression', 'HIPERTEN': 'Hypertension', 'ENFCARDI': 'Cardiovascular disease', 'OBESIDAD': 'Obesity', 'INSRENCR': 'CKD', 'TABAQUIS': 'Smoking', 'ANTIPIRETICOS': 'Use of antipyretics','dias_trans': 'Days elapsed', 'MORTALIDAD': 'Mortality' })"
   ]
  },
  {
   "cell_type": "code",
   "execution_count": 22,
   "metadata": {},
   "outputs": [
    {
     "data": {
      "text/plain": [
       "Index(['Sex', 'Age', 'Fever', 'Cough', 'Odynophagia', 'Dyspnea',\n",
       "       'Irritability', 'Diarrhea', 'Chest pain', 'Chills', 'Headache',\n",
       "       'Myalgia', 'Arthralgia', 'General discomfort', 'Rhinorrhea', 'Polypnea',\n",
       "       'Vomiting', 'Abdominal pain', 'Conjunctivitis', 'Cyanosis',\n",
       "       'Sudden onset of symptoms', 'Anosmia', 'Dysgeusia', 'Diabetes', 'COPD',\n",
       "       'Asthma', 'Immunosuppression', 'Hypertension', 'Cardiovascular disease',\n",
       "       'Obesity', 'CKD', 'Smoking', 'Use of antipyretics', 'Mortality',\n",
       "       'Days elapsed'],\n",
       "      dtype='object')"
      ]
     },
     "execution_count": 22,
     "metadata": {},
     "output_type": "execute_result"
    }
   ],
   "source": [
    "\"\"\"Study variables\"\"\"\n",
    "data_final_mor.columns"
   ]
  },
  {
   "cell_type": "code",
   "execution_count": 23,
   "metadata": {},
   "outputs": [],
   "source": [
    "df = pd.DataFrame(data_final_mor)"
   ]
  },
  {
   "cell_type": "code",
   "execution_count": 24,
   "metadata": {},
   "outputs": [],
   "source": [
    "\"\"\"Save datafreme\"\"\"\n",
    "df.to_csv('data_final_mor.csv')"
   ]
  },
  {
   "cell_type": "markdown",
   "metadata": {},
   "source": []
  }
 ],
 "metadata": {
  "kernelspec": {
   "display_name": "Python 3",
   "language": "python",
   "name": "python3"
  },
  "language_info": {
   "codemirror_mode": {
    "name": "ipython",
    "version": 3
   },
   "file_extension": ".py",
   "mimetype": "text/x-python",
   "name": "python",
   "nbconvert_exporter": "python",
   "pygments_lexer": "ipython3",
   "version": "3.8.5"
  }
 },
 "nbformat": 4,
 "nbformat_minor": 4
}
