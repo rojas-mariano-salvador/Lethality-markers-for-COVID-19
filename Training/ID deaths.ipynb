{
 "cells": [
  {
   "cell_type": "markdown",
   "metadata": {},
   "source": [
    "# ID deaths"
   ]
  },
  {
   "cell_type": "code",
   "execution_count": 1,
   "metadata": {},
   "outputs": [],
   "source": [
    "import argparse\n",
    "import sys\n",
    "import numpy as np\n",
    "import pandas as pd\n",
    "import warnings\n",
    "warnings.filterwarnings('ignore')"
   ]
  },
  {
   "cell_type": "code",
   "execution_count": 2,
   "metadata": {},
   "outputs": [],
   "source": [
    "def read_data(raw_clinical_note):\n",
    "    data = pd.read_csv(raw_clinical_note, header=0,na_filter=True)\n",
    "    return data\n",
    "\n",
    "def read_ydata(data):\n",
    "    data = pd.read_csv(data, header=1,na_filter=True)\n",
    "    y = pd.DataFrame(data[\"Mortality\"],columns=[\"Mortality\"])\n",
    "    return y\n"
   ]
  },
  {
   "cell_type": "code",
   "execution_count": 3,
   "metadata": {},
   "outputs": [
    {
     "name": "stdout",
     "output_type": "stream",
     "text": [
      "Total records 11564\n"
     ]
    }
   ],
   "source": [
    "raw_data = 'C:/Users/Salvador/Modelo_COVID19/Libretas manuscrito/BCM Infectius diseases/data_final_mor.csv'\n",
    "data = pd.read_csv(raw_data)\n",
    "print (\"Total records\", data.shape[0])"
   ]
  },
  {
   "cell_type": "code",
   "execution_count": 4,
   "metadata": {},
   "outputs": [
    {
     "name": "stdout",
     "output_type": "stream",
     "text": [
      "X:: (11564, 37)\n",
      "Y:: (11564, 1)\n"
     ]
    }
   ],
   "source": [
    "X = data.drop(['Unnamed: 0','Mortality'],axis=1).astype(int)\n",
    "y = data['Mortality'].astype(int) \n",
    "y = y.values.reshape(y.shape[0],1) \n",
    "feature_list = X.columns\n",
    "print(\"X::\", X.shape)\n",
    "print(\"Y::\", y.shape)"
   ]
  },
  {
   "cell_type": "code",
   "execution_count": 5,
   "metadata": {},
   "outputs": [
    {
     "data": {
      "text/plain": [
       "Index(['Unnamed: 0', 'Sex', 'Age', 'Pregnancy', 'Fever', 'Cough',\n",
       "       'Odynophagia', 'Dyspnea', 'Irritability', 'Diarrhea', 'Chest pain',\n",
       "       'Chills', 'Headache', 'Myalgia', 'Arthralgia', 'General discomfort',\n",
       "       'Rhinorrhea', 'Polypnea', 'Vomiting', 'Abdominal pain',\n",
       "       'Conjunctivitis', 'Cyanosis', 'Sudden onset of symptoms', 'Anosmia',\n",
       "       'Dysgeusia', 'Diabetes', 'COPD', 'Asthma', 'Immunosuppression',\n",
       "       'Hypertension', 'HIV AIDS', 'Cardiovascular disease', 'Obesity', 'CKD',\n",
       "       'Smoking', 'Puerperium', 'Use of antipyretics', 'Mortality',\n",
       "       'Days elapsed'],\n",
       "      dtype='object')"
      ]
     },
     "execution_count": 5,
     "metadata": {},
     "output_type": "execute_result"
    }
   ],
   "source": [
    "data.columns"
   ]
  },
  {
   "cell_type": "code",
   "execution_count": 6,
   "metadata": {},
   "outputs": [
    {
     "name": "stdout",
     "output_type": "stream",
     "text": [
      "Patients expired (ids): (array([    2,     6,    16, ..., 11433, 11525, 11533], dtype=int64),)\n"
     ]
    }
   ],
   "source": [
    "ids_patients_expired = np.where(data.Mortality==1)\n",
    "print(\"Patients expired (ids):\",ids_patients_expired)"
   ]
  },
  {
   "cell_type": "markdown",
   "metadata": {},
   "source": [
    "# Men"
   ]
  },
  {
   "cell_type": "code",
   "execution_count": 7,
   "metadata": {},
   "outputs": [],
   "source": [
    "data_hombres = data[(data[\"Sex\"]==1)] "
   ]
  },
  {
   "cell_type": "code",
   "execution_count": 8,
   "metadata": {},
   "outputs": [
    {
     "name": "stdout",
     "output_type": "stream",
     "text": [
      "Men (death): (array([   1,    4,    8, ..., 6178, 6224, 6230], dtype=int64),)\n"
     ]
    },
    {
     "data": {
      "text/plain": [
       "0    5161\n",
       "1    1084\n",
       "Name: Mortality, dtype: int64"
      ]
     },
     "execution_count": 8,
     "metadata": {},
     "output_type": "execute_result"
    }
   ],
   "source": [
    "death_men = np.where(data_hombres.Mortality==1)\n",
    "print(\"Men (death):\",death_men)\n",
    "data_hombres['Mortality'].value_counts()"
   ]
  },
  {
   "cell_type": "markdown",
   "metadata": {},
   "source": [
    "# Men under 19 years old"
   ]
  },
  {
   "cell_type": "code",
   "execution_count": 9,
   "metadata": {},
   "outputs": [],
   "source": [
    "data_hombres_edad_19 = data_hombres[(data_hombres[\"Age\"]<=19)] "
   ]
  },
  {
   "cell_type": "code",
   "execution_count": 10,
   "metadata": {},
   "outputs": [
    {
     "name": "stdout",
     "output_type": "stream",
     "text": [
      "Men (death): (array([ 7, 77], dtype=int64),)\n"
     ]
    },
    {
     "data": {
      "text/plain": [
       "0    132\n",
       "1      2\n",
       "Name: Mortality, dtype: int64"
      ]
     },
     "execution_count": 10,
     "metadata": {},
     "output_type": "execute_result"
    }
   ],
   "source": [
    "death_men_19 = np.where(data_hombres_edad_19.Mortality==1)\n",
    "print(\"Men (death):\",death_men_19)\n",
    "data_hombres_edad_19['Mortality'].value_counts()"
   ]
  },
  {
   "cell_type": "code",
   "execution_count": 11,
   "metadata": {},
   "outputs": [
    {
     "name": "stdout",
     "output_type": "stream",
     "text": [
      "(array([ 7, 77], dtype=int64),)\n"
     ]
    }
   ],
   "source": [
    "print (death_men_19)"
   ]
  },
  {
   "cell_type": "markdown",
   "metadata": {},
   "source": [
    "# Men aged 20-29"
   ]
  },
  {
   "cell_type": "code",
   "execution_count": 12,
   "metadata": {},
   "outputs": [],
   "source": [
    "data_hombres_edad_20_29 = data_hombres[(data_hombres[\"Age\"]>=20) & ((data_hombres[\"Age\"]<=29))]"
   ]
  },
  {
   "cell_type": "code",
   "execution_count": 13,
   "metadata": {},
   "outputs": [
    {
     "name": "stdout",
     "output_type": "stream",
     "text": [
      "Men (death): (array([ 14,  15, 128, 148, 164, 265, 291, 321, 360, 562, 612, 640, 643,\n",
      "       652], dtype=int64),)\n"
     ]
    },
    {
     "data": {
      "text/plain": [
       "0    643\n",
       "1     14\n",
       "Name: Mortality, dtype: int64"
      ]
     },
     "execution_count": 13,
     "metadata": {},
     "output_type": "execute_result"
    }
   ],
   "source": [
    "death_men_20_29 = np.where(data_hombres_edad_20_29.Mortality==1)\n",
    "print(\"Men (death):\",death_men_20_29)\n",
    "data_hombres_edad_20_29['Mortality'].value_counts()"
   ]
  },
  {
   "cell_type": "markdown",
   "metadata": {},
   "source": [
    "# Men aged 30-39"
   ]
  },
  {
   "cell_type": "code",
   "execution_count": 14,
   "metadata": {},
   "outputs": [],
   "source": [
    "data_hombres_edad_30_39 = data_hombres[(data_hombres[\"Age\"]>=30) & ((data_hombres[\"Age\"]<=39))] "
   ]
  },
  {
   "cell_type": "code",
   "execution_count": 15,
   "metadata": {},
   "outputs": [
    {
     "name": "stdout",
     "output_type": "stream",
     "text": [
      "Men (death): (array([   1,   44,   46,   51,   63,   85,  136,  158,  173,  179,  200,\n",
      "        236,  238,  297,  305,  337,  342,  384,  408,  486,  488,  501,\n",
      "        508,  521,  535,  592,  600,  630,  680,  759,  885,  918,  927,\n",
      "        991, 1000, 1037, 1048, 1053], dtype=int64),)\n"
     ]
    },
    {
     "data": {
      "text/plain": [
       "0    1053\n",
       "1      38\n",
       "Name: Mortality, dtype: int64"
      ]
     },
     "execution_count": 15,
     "metadata": {},
     "output_type": "execute_result"
    }
   ],
   "source": [
    "death_men_30_39 = np.where(data_hombres_edad_30_39.Mortality==1)\n",
    "print(\"Men (death):\",death_men_30_39)\n",
    "data_hombres_edad_30_39['Mortality'].value_counts()"
   ]
  },
  {
   "cell_type": "markdown",
   "metadata": {},
   "source": [
    "# Men ages 40-49"
   ]
  },
  {
   "cell_type": "code",
   "execution_count": 16,
   "metadata": {},
   "outputs": [],
   "source": [
    "data_hombres_edad_40_49 = data_hombres[(data_hombres[\"Age\"]>=40) & ((data_hombres[\"Age\"]<=49))] "
   ]
  },
  {
   "cell_type": "code",
   "execution_count": 17,
   "metadata": {},
   "outputs": [
    {
     "name": "stdout",
     "output_type": "stream",
     "text": [
      "Men (death): (array([   8,   24,   27,   31,   34,   39,   41,   49,   55,   72,   80,\n",
      "         93,   95,  102,  103,  140,  141,  176,  193,  213,  216,  219,\n",
      "        272,  282,  292,  317,  323,  347,  382,  396,  399,  407,  409,\n",
      "        416,  420,  466,  470,  504,  506,  522,  569,  590,  610,  633,\n",
      "        648,  654,  657,  675,  697,  698,  716,  718,  719,  721,  742,\n",
      "        761,  766,  828,  835,  841,  845,  855,  858,  940,  943,  946,\n",
      "        952,  967,  983, 1006, 1007, 1019, 1028, 1033, 1038, 1057, 1069,\n",
      "       1080, 1089, 1092, 1094, 1099, 1101, 1109, 1115, 1118, 1123, 1129],\n",
      "      dtype=int64),)\n"
     ]
    },
    {
     "data": {
      "text/plain": [
       "0    1061\n",
       "1      88\n",
       "Name: Mortality, dtype: int64"
      ]
     },
     "execution_count": 17,
     "metadata": {},
     "output_type": "execute_result"
    }
   ],
   "source": [
    "death_men_40_49 = np.where(data_hombres_edad_40_49.Mortality==1)\n",
    "print(\"Men (death):\",death_men_40_49)\n",
    "data_hombres_edad_40_49['Mortality'].value_counts()"
   ]
  },
  {
   "cell_type": "markdown",
   "metadata": {},
   "source": [
    "# Men ages 50-59"
   ]
  },
  {
   "cell_type": "code",
   "execution_count": 18,
   "metadata": {},
   "outputs": [],
   "source": [
    "data_hombres_edad_50_59 = data_hombres[(data_hombres[\"Age\"]>=50) & ((data_hombres[\"Age\"]<=59))]"
   ]
  },
  {
   "cell_type": "code",
   "execution_count": 19,
   "metadata": {},
   "outputs": [
    {
     "name": "stdout",
     "output_type": "stream",
     "text": [
      "Men (death): (array([   0,    1,    4,    6,   11,   17,   18,   23,   28,   32,   33,\n",
      "         35,   38,   40,   42,   46,   47,   51,   54,   58,   59,   60,\n",
      "         62,   69,   72,   78,   82,   84,   86,   87,   91,  101,  103,\n",
      "        104,  107,  113,  115,  116,  118,  119,  123,  124,  129,  135,\n",
      "        137,  140,  141,  145,  160,  176,  177,  178,  179,  182,  184,\n",
      "        187,  189,  195,  199,  215,  216,  220,  221,  228,  229,  232,\n",
      "        239,  248,  252,  257,  260,  265,  272,  273,  276,  277,  283,\n",
      "        286,  288,  302,  332,  333,  344,  347,  353,  356,  371,  373,\n",
      "        379,  381,  383,  386,  421,  437,  439,  443,  444,  449,  459,\n",
      "        479,  489,  495,  500,  508,  513,  516,  519,  529,  538,  539,\n",
      "        554,  558,  560,  583,  585,  587,  591,  606,  607,  609,  611,\n",
      "        615,  618,  640,  644,  684,  691,  696,  699,  706,  732,  737,\n",
      "        752,  765,  768,  782,  789,  790,  794,  796,  797,  806,  816,\n",
      "        830,  836,  838,  839,  841,  853,  867,  870,  871,  878,  884,\n",
      "        894,  897,  910,  911,  934,  936,  945,  948,  952,  954,  969,\n",
      "        972,  973,  980,  981,  991,  997, 1004, 1005, 1006, 1007, 1030,\n",
      "       1036, 1037, 1041, 1047, 1048, 1050, 1051, 1052, 1053, 1056, 1067,\n",
      "       1068, 1071, 1073, 1074, 1081, 1084, 1085, 1091, 1092, 1094, 1096,\n",
      "       1102, 1107, 1110, 1111, 1118], dtype=int64),)\n"
     ]
    },
    {
     "data": {
      "text/plain": [
       "0    947\n",
       "1    203\n",
       "Name: Mortality, dtype: int64"
      ]
     },
     "execution_count": 19,
     "metadata": {},
     "output_type": "execute_result"
    }
   ],
   "source": [
    "death_men_50_59 = np.where(data_hombres_edad_50_59.Mortality==1)\n",
    "print(\"Men (death):\",death_men_50_59)\n",
    "data_hombres_edad_50_59['Mortality'].value_counts()"
   ]
  },
  {
   "cell_type": "markdown",
   "metadata": {},
   "source": [
    "# Men aged 60-69"
   ]
  },
  {
   "cell_type": "code",
   "execution_count": 20,
   "metadata": {},
   "outputs": [],
   "source": [
    "data_hombres_edad_60_69 = data_hombres[(data_hombres[\"Age\"]>=60) & ((data_hombres[\"Age\"]<=69))] "
   ]
  },
  {
   "cell_type": "code",
   "execution_count": 21,
   "metadata": {},
   "outputs": [
    {
     "name": "stdout",
     "output_type": "stream",
     "text": [
      "Men (death): (array([   1,    2,    3,   12,   13,   14,   15,   17,   22,   23,   27,\n",
      "         30,   33,   34,   35,   39,   41,   42,   43,   44,   47,   49,\n",
      "         50,   52,   54,   56,   60,   65,   68,   70,   71,   73,   74,\n",
      "         76,   80,   81,   85,   86,   88,   89,   90,   92,   95,   96,\n",
      "         97,   99,  100,  105,  110,  113,  122,  123,  124,  131,  138,\n",
      "        144,  145,  146,  149,  150,  156,  157,  160,  162,  164,  167,\n",
      "        174,  178,  179,  184,  186,  187,  189,  193,  195,  201,  206,\n",
      "        207,  210,  213,  217,  220,  223,  232,  235,  239,  241,  243,\n",
      "        248,  251,  262,  267,  271,  272,  273,  274,  277,  280,  286,\n",
      "        287,  288,  289,  291,  295,  296,  300,  302,  305,  308,  313,\n",
      "        314,  315,  317,  318,  319,  325,  326,  330,  332,  336,  342,\n",
      "        343,  344,  347,  349,  352,  354,  355,  362,  365,  372,  375,\n",
      "        376,  379,  383,  385,  386,  389,  390,  391,  394,  401,  402,\n",
      "        404,  411,  412,  415,  418,  421,  423,  425,  431,  432,  434,\n",
      "        444,  445,  446,  452,  461,  462,  464,  467,  468,  470,  471,\n",
      "        475,  477,  478,  486,  489,  492,  493,  498,  501,  503,  507,\n",
      "        514,  515,  516,  519,  523,  528,  536,  540,  541,  542,  544,\n",
      "        545,  546,  551,  552,  553,  557,  559,  560,  564,  565,  567,\n",
      "        568,  569,  570,  572,  573,  576,  578,  585,  587,  588,  590,\n",
      "        591,  596,  601,  613,  615,  623,  630,  633,  635,  636,  637,\n",
      "        643,  645,  646,  649,  652,  656,  660,  662,  664,  668,  670,\n",
      "        671,  672,  673,  674,  676,  678,  703,  704,  705,  706,  707,\n",
      "        708,  712,  719,  720,  731,  732,  733,  734,  736,  746,  754,\n",
      "        762,  765,  769,  770,  771,  784,  787,  793,  801,  809,  810,\n",
      "        817,  823,  824,  839,  845,  853,  854,  855,  864,  872,  874,\n",
      "        882,  887,  902,  903,  907,  908,  911,  913,  916,  920,  922,\n",
      "        926,  929,  931,  937,  938,  943,  944,  945,  946,  950,  955,\n",
      "        958,  959,  960,  963,  966,  985,  993,  994,  996,  998, 1001,\n",
      "       1013, 1015], dtype=int64),)\n"
     ]
    },
    {
     "data": {
      "text/plain": [
       "0    724\n",
       "1    310\n",
       "Name: Mortality, dtype: int64"
      ]
     },
     "execution_count": 21,
     "metadata": {},
     "output_type": "execute_result"
    }
   ],
   "source": [
    "death_men_60_69 = np.where(data_hombres_edad_60_69.Mortality==1)\n",
    "print(\"Men (death):\",death_men_60_69)\n",
    "data_hombres_edad_60_69['Mortality'].value_counts()"
   ]
  },
  {
   "cell_type": "markdown",
   "metadata": {},
   "source": [
    "# Men aged 70 and over"
   ]
  },
  {
   "cell_type": "code",
   "execution_count": 22,
   "metadata": {},
   "outputs": [],
   "source": [
    "data_hombres_edad_70 = data_hombres[(data_hombres[\"Age\"]>=70)] "
   ]
  },
  {
   "cell_type": "code",
   "execution_count": 23,
   "metadata": {},
   "outputs": [
    {
     "name": "stdout",
     "output_type": "stream",
     "text": [
      "Men (death): (array([   0,    6,    8,    9,   11,   12,   15,   16,   17,   18,   20,\n",
      "         21,   22,   24,   25,   28,   29,   30,   31,   33,   35,   36,\n",
      "         38,   39,   45,   46,   47,   48,   50,   57,   58,   60,   65,\n",
      "         66,   68,   70,   71,   74,   75,   76,   78,   79,   80,   81,\n",
      "         82,   84,   85,   86,   87,   88,   89,   90,   91,   94,   97,\n",
      "         98,   99,  101,  102,  104,  107,  108,  109,  112,  117,  118,\n",
      "        120,  121,  122,  123,  124,  125,  126,  127,  128,  129,  130,\n",
      "        131,  133,  134,  136,  137,  139,  140,  141,  145,  149,  151,\n",
      "        152,  154,  155,  158,  159,  164,  166,  169,  171,  175,  176,\n",
      "        177,  178,  182,  187,  191,  192,  193,  194,  195,  196,  198,\n",
      "        199,  202,  204,  205,  208,  209,  211,  212,  216,  217,  219,\n",
      "        220,  224,  225,  226,  227,  229,  230,  233,  234,  238,  242,\n",
      "        243,  245,  248,  249,  250,  251,  252,  256,  260,  261,  263,\n",
      "        272,  273,  276,  277,  278,  279,  280,  281,  282,  290,  291,\n",
      "        294,  296,  298,  300,  302,  307,  310,  311,  312,  315,  316,\n",
      "        317,  320,  321,  324,  325,  335,  337,  338,  339,  341,  342,\n",
      "        344,  346,  348,  350,  351,  352,  353,  356,  359,  360,  361,\n",
      "        364,  365,  368,  370,  372,  373,  382,  385,  391,  393,  394,\n",
      "        398,  402,  403,  404,  405,  406,  407,  408,  409,  411,  414,\n",
      "        416,  418,  419,  420,  422,  423,  427,  432,  438,  440,  443,\n",
      "        444,  447,  449,  450,  451,  455,  457,  459,  461,  463,  464,\n",
      "        467,  471,  473,  477,  480,  484,  486,  491,  494,  496,  500,\n",
      "        506,  509,  517,  518,  520,  521,  522,  523,  537,  538,  543,\n",
      "        544,  549,  553,  554,  555,  560,  566,  569,  570,  574,  575,\n",
      "        577,  579,  580,  581,  582,  592,  595,  597,  599,  602,  603,\n",
      "        606,  611,  615,  617,  624,  628,  631,  636,  637,  638,  639,\n",
      "        641,  642,  647,  649,  650,  651,  652,  653,  658,  661,  663,\n",
      "        670,  673,  674,  676,  677,  681,  684,  685,  688,  689,  691,\n",
      "        696,  697,  698,  699,  701,  706,  710,  713,  714,  716,  717,\n",
      "        718,  719,  722,  724,  729,  732,  735,  736,  737,  740,  742,\n",
      "        750,  751,  752,  753,  754,  767,  768,  769,  771,  774,  777,\n",
      "        778,  780,  782,  794,  796,  808,  809,  810,  812,  814,  815,\n",
      "        823,  824,  825,  831,  832,  833,  834,  835,  836,  837,  838,\n",
      "        839,  841,  844,  845,  846,  847,  848,  855,  857,  858,  859,\n",
      "        861,  864,  866,  868,  869,  875,  876,  877,  882,  885,  888,\n",
      "        889,  890,  895,  896,  898,  904,  905,  907,  908,  911,  912,\n",
      "        913,  914,  916,  919,  922,  926,  929,  931,  932,  933,  935,\n",
      "        946,  947,  951,  953,  958,  959,  960,  966,  970,  975,  977,\n",
      "        981,  986,  988,  996, 1000, 1006, 1007, 1008, 1014, 1025, 1027],\n",
      "      dtype=int64),)\n"
     ]
    },
    {
     "data": {
      "text/plain": [
       "0    601\n",
       "1    429\n",
       "Name: Mortality, dtype: int64"
      ]
     },
     "execution_count": 23,
     "metadata": {},
     "output_type": "execute_result"
    }
   ],
   "source": [
    "death_men_70 = np.where(data_hombres_edad_70.Mortality==1)\n",
    "print(\"Men (death):\",death_men_70)\n",
    "data_hombres_edad_70['Mortality'].value_counts()"
   ]
  },
  {
   "cell_type": "markdown",
   "metadata": {},
   "source": [
    "# Women"
   ]
  },
  {
   "cell_type": "code",
   "execution_count": 24,
   "metadata": {},
   "outputs": [],
   "source": [
    "\"\"\"Asignación de datos: X y Y\"\"\"\n",
    "data_mujer = data[(data[\"Sex\"]==0)]  "
   ]
  },
  {
   "cell_type": "code",
   "execution_count": 25,
   "metadata": {},
   "outputs": [
    {
     "name": "stdout",
     "output_type": "stream",
     "text": [
      "Women (death): (array([  12,   16,   19,   20,   29,   32,   37,   45,   70,   78,   79,\n",
      "         85,   86,   94,  101,  102,  104,  105,  106,  113,  117,  121,\n",
      "        126,  127,  128,  144,  145,  152,  162,  167,  172,  174,  178,\n",
      "        186,  191,  194,  201,  209,  211,  216,  225,  226,  233,  244,\n",
      "        249,  254,  256,  264,  265,  269,  276,  279,  281,  284,  285,\n",
      "        288,  303,  304,  310,  314,  327,  331,  334,  340,  345,  346,\n",
      "        360,  361,  363,  366,  368,  369,  374,  375,  379,  382,  385,\n",
      "        386,  391,  399,  400,  401,  402,  406,  411,  422,  429,  443,\n",
      "        444,  452,  464,  465,  467,  481,  504,  519,  520,  522,  553,\n",
      "        554,  564,  599,  608,  630,  638,  647,  651,  655,  657,  659,\n",
      "        665,  667,  671,  676,  705,  706,  716,  720,  731,  735,  758,\n",
      "        768,  778,  780,  796,  798,  800,  806,  812,  826,  832,  833,\n",
      "        853,  854,  860,  865,  866,  879,  893,  894,  895,  898,  899,\n",
      "        912,  940,  942,  947,  954,  958,  976, 1001, 1024, 1028, 1055,\n",
      "       1058, 1060, 1085, 1095, 1120, 1123, 1141, 1148, 1155, 1159, 1169,\n",
      "       1179, 1180, 1183, 1186, 1205, 1211, 1221, 1237, 1258, 1263, 1300,\n",
      "       1308, 1323, 1350, 1356, 1376, 1381, 1416, 1417, 1418, 1420, 1425,\n",
      "       1439, 1451, 1480, 1520, 1521, 1533, 1540, 1547, 1556, 1567, 1574,\n",
      "       1579, 1593, 1604, 1628, 1641, 1649, 1652, 1653, 1654, 1679, 1687,\n",
      "       1689, 1690, 1762, 1774, 1783, 1804, 1811, 1814, 1822, 1859, 1874,\n",
      "       1895, 1899, 1913, 1916, 1924, 1932, 1953, 1967, 1969, 1980, 1991,\n",
      "       1999, 2004, 2025, 2052, 2059, 2067, 2079, 2095, 2109, 2111, 2112,\n",
      "       2124, 2126, 2162, 2184, 2185, 2195, 2212, 2254, 2267, 2276, 2277,\n",
      "       2303, 2314, 2323, 2333, 2334, 2335, 2337, 2343, 2346, 2361, 2378,\n",
      "       2382, 2407, 2433, 2440, 2449, 2463, 2467, 2468, 2483, 2484, 2521,\n",
      "       2552, 2555, 2557, 2566, 2567, 2570, 2577, 2613, 2614, 2622, 2636,\n",
      "       2646, 2656, 2657, 2658, 2662, 2663, 2667, 2697, 2705, 2716, 2736,\n",
      "       2753, 2762, 2775, 2778, 2787, 2811, 2815, 2821, 2823, 2869, 2870,\n",
      "       2872, 2932, 2935, 2964, 2965, 2966, 2993, 2997, 3000, 3007, 3008,\n",
      "       3011, 3012, 3015, 3036, 3037, 3071, 3198, 3205, 3248, 3261, 3269,\n",
      "       3281, 3340, 3348, 3409, 3410, 3415, 3469, 3541, 3554, 3568, 3609,\n",
      "       3618, 3619, 3634, 3651, 3680, 3688, 3693, 3726, 3733, 3735, 3777,\n",
      "       3799, 3812, 3828, 3841, 3862, 3935, 3957, 3973, 3977, 3980, 3982,\n",
      "       3985, 4006, 4007, 4016, 4017, 4031, 4051, 4054, 4084, 4092, 4094,\n",
      "       4098, 4101, 4127, 4161, 4165, 4166, 4184, 4195, 4196, 4214, 4215,\n",
      "       4221, 4223, 4228, 4229, 4235, 4238, 4250, 4292, 4297, 4315, 4322,\n",
      "       4345, 4350, 4370, 4371, 4372, 4376, 4397, 4398, 4429, 4448, 4452,\n",
      "       4454, 4460, 4461, 4493, 4495, 4501, 4508, 4509, 4510, 4517, 4521,\n",
      "       4522, 4526, 4560, 4577, 4579, 4580, 4582, 4584, 4589, 4602, 4614,\n",
      "       4638, 4641, 4642, 4663, 4674, 4682, 4683, 4687, 4688, 4689, 4715,\n",
      "       4717, 4719, 4744, 4745, 4749, 4753, 4754, 4756, 4758, 4787, 4792,\n",
      "       4794, 4809, 4810, 4814, 4815, 4819, 4820, 4827, 4829, 4831, 4833,\n",
      "       4836, 4844, 4845, 4847, 4848, 4859, 4860, 4861, 4863, 4866, 4869,\n",
      "       4872, 4878, 4879, 4882, 4888, 4893, 4897, 4900, 4902, 4905, 4906,\n",
      "       4910, 4915, 4940, 4942, 4944, 4946, 4967, 4971, 4975, 4982, 4986,\n",
      "       4987, 4988, 4990, 4991, 4992, 4993, 4994, 4999, 5000, 5001, 5003,\n",
      "       5006, 5012, 5013, 5018, 5040, 5043, 5054, 5063, 5069, 5080, 5092,\n",
      "       5093, 5100, 5109, 5114, 5116, 5117, 5118, 5129, 5131, 5135, 5161,\n",
      "       5164, 5167, 5199, 5202, 5205, 5217, 5220, 5224, 5235, 5241],\n",
      "      dtype=int64),)\n"
     ]
    },
    {
     "data": {
      "text/plain": [
       "0    4781\n",
       "1     538\n",
       "Name: Mortality, dtype: int64"
      ]
     },
     "execution_count": 25,
     "metadata": {},
     "output_type": "execute_result"
    }
   ],
   "source": [
    "death_women = np.where(data_mujer.Mortality==1)\n",
    "print(\"Women (death):\",death_women)\n",
    "data_mujer['Mortality'].value_counts()"
   ]
  },
  {
   "cell_type": "markdown",
   "metadata": {},
   "source": [
    "# Women under 19 years old"
   ]
  },
  {
   "cell_type": "code",
   "execution_count": 26,
   "metadata": {},
   "outputs": [],
   "source": [
    "data_mujeres_edad_19 = data_mujer[(data_mujer[\"Age\"]<=19)]"
   ]
  },
  {
   "cell_type": "code",
   "execution_count": 27,
   "metadata": {},
   "outputs": [
    {
     "name": "stdout",
     "output_type": "stream",
     "text": [
      "Women (death): (array([29, 64, 86], dtype=int64),)\n"
     ]
    },
    {
     "data": {
      "text/plain": [
       "0    137\n",
       "1      3\n",
       "Name: Mortality, dtype: int64"
      ]
     },
     "execution_count": 27,
     "metadata": {},
     "output_type": "execute_result"
    }
   ],
   "source": [
    "death_women_19 = np.where(data_mujeres_edad_19.Mortality==1)\n",
    "print(\"Women (death):\",death_women_19)\n",
    "data_mujeres_edad_19['Mortality'].value_counts()"
   ]
  },
  {
   "cell_type": "markdown",
   "metadata": {},
   "source": [
    "# Women aged 20-29"
   ]
  },
  {
   "cell_type": "code",
   "execution_count": 28,
   "metadata": {},
   "outputs": [],
   "source": [
    "data_mujeres_edad_20_29 = data_mujer[(data_mujer[\"Age\"]>=20) & ((data_mujer[\"Age\"]<=29))]"
   ]
  },
  {
   "cell_type": "code",
   "execution_count": 29,
   "metadata": {},
   "outputs": [
    {
     "name": "stdout",
     "output_type": "stream",
     "text": [
      "Women (death): (array([], dtype=int64),)\n"
     ]
    },
    {
     "data": {
      "text/plain": [
       "0    696\n",
       "Name: Mortality, dtype: int64"
      ]
     },
     "execution_count": 29,
     "metadata": {},
     "output_type": "execute_result"
    }
   ],
   "source": [
    "death_women_20_29 = np.where(data_mujeres_edad_20_29.Mortality==1)\n",
    "print(\"Women (death):\",death_women_20_29)\n",
    "data_mujeres_edad_20_29['Mortality'].value_counts()"
   ]
  },
  {
   "cell_type": "markdown",
   "metadata": {},
   "source": [
    "# Women aged 30-39"
   ]
  },
  {
   "cell_type": "code",
   "execution_count": 30,
   "metadata": {},
   "outputs": [],
   "source": [
    "data_mujeres_edad_30_39 = data_mujer[(data_mujer[\"Age\"]>=30) & ((data_mujer[\"Age\"]<=39))]"
   ]
  },
  {
   "cell_type": "code",
   "execution_count": 31,
   "metadata": {},
   "outputs": [
    {
     "name": "stdout",
     "output_type": "stream",
     "text": [
      "Women (death): (array([   5,   18,   25,   75,  109,  201,  296,  427,  523,  571,  839,\n",
      "        904,  973,  995, 1001, 1014, 1051, 1060, 1077, 1108], dtype=int64),)\n"
     ]
    },
    {
     "data": {
      "text/plain": [
       "0    1107\n",
       "1      20\n",
       "Name: Mortality, dtype: int64"
      ]
     },
     "execution_count": 31,
     "metadata": {},
     "output_type": "execute_result"
    }
   ],
   "source": [
    "death_women_30_39 = np.where(data_mujeres_edad_30_39.Mortality==1)\n",
    "print(\"Women (death):\",death_women_30_39)\n",
    "data_mujeres_edad_30_39['Mortality'].value_counts()"
   ]
  },
  {
   "cell_type": "markdown",
   "metadata": {},
   "source": [
    "# Women aged 40-49"
   ]
  },
  {
   "cell_type": "code",
   "execution_count": 32,
   "metadata": {},
   "outputs": [],
   "source": [
    "data_mujeres_edad_40_49 = data_mujer[(data_mujer[\"Age\"]>=40) & ((data_mujer[\"Age\"]<=49))]"
   ]
  },
  {
   "cell_type": "code",
   "execution_count": 33,
   "metadata": {},
   "outputs": [
    {
     "name": "stdout",
     "output_type": "stream",
     "text": [
      "Women (death): (array([  24,   41,   45,   62,   66,   68,   69,   73,   78,   94,  235,\n",
      "        244,  256,  274,  304,  312,  465,  500,  583,  609,  753,  850,\n",
      "        876,  932,  970,  983, 1001, 1003, 1021, 1038], dtype=int64),)\n"
     ]
    },
    {
     "data": {
      "text/plain": [
       "0    1042\n",
       "1      30\n",
       "Name: Mortality, dtype: int64"
      ]
     },
     "execution_count": 33,
     "metadata": {},
     "output_type": "execute_result"
    }
   ],
   "source": [
    "death_women_40_49 = np.where(data_mujeres_edad_40_49.Mortality==1)\n",
    "print(\"Women (death):\",death_women_40_49)\n",
    "data_mujeres_edad_40_49['Mortality'].value_counts()"
   ]
  },
  {
   "cell_type": "markdown",
   "metadata": {},
   "source": [
    "# Women aged 50-59"
   ]
  },
  {
   "cell_type": "code",
   "execution_count": 34,
   "metadata": {},
   "outputs": [],
   "source": [
    "data_mujeres_edad_50_59 = data_mujer[(data_mujer[\"Age\"]>=50) & ((data_mujer[\"Age\"]<=59))]"
   ]
  },
  {
   "cell_type": "code",
   "execution_count": 35,
   "metadata": {},
   "outputs": [
    {
     "name": "stdout",
     "output_type": "stream",
     "text": [
      "Women (death): (array([  5,   6,  12,  14,  19,  20,  22,  24,  29,  30,  31,  37,  38,\n",
      "        40,  51,  56,  64,  65,  68,  70,  71,  83,  94, 121, 122, 123,\n",
      "       142, 146, 148, 166, 169, 172, 174, 189, 193, 206, 277, 279, 289,\n",
      "       306, 309, 325, 327, 339, 370, 373, 413, 435, 438, 447, 451, 454,\n",
      "       475, 481, 483, 484, 485, 509, 529, 538, 539, 590, 616, 628, 660,\n",
      "       669, 700, 707, 710, 726, 734, 740, 742, 745, 771, 774, 783, 785,\n",
      "       791, 794, 795, 806, 817, 831, 836, 837, 843, 854, 856, 858, 866,\n",
      "       880, 881, 889, 890, 891, 892, 894, 895, 903, 913, 917, 918, 921],\n",
      "      dtype=int64),)\n"
     ]
    },
    {
     "data": {
      "text/plain": [
       "0    847\n",
       "1    104\n",
       "Name: Mortality, dtype: int64"
      ]
     },
     "execution_count": 35,
     "metadata": {},
     "output_type": "execute_result"
    }
   ],
   "source": [
    "death_women_50_59 = np.where(data_mujeres_edad_50_59.Mortality==1)\n",
    "print(\"Women (death):\",death_women_50_59)\n",
    "data_mujeres_edad_50_59['Mortality'].value_counts()"
   ]
  },
  {
   "cell_type": "markdown",
   "metadata": {},
   "source": [
    "# Women aged 60-69"
   ]
  },
  {
   "cell_type": "code",
   "execution_count": 36,
   "metadata": {},
   "outputs": [],
   "source": [
    "data_mujeres_edad_60_69 = data_mujer[(data_mujer[\"Age\"]>=60) & ((data_mujer[\"Age\"]<=69))]"
   ]
  },
  {
   "cell_type": "code",
   "execution_count": 37,
   "metadata": {},
   "outputs": [
    {
     "name": "stdout",
     "output_type": "stream",
     "text": [
      "Women (death): (array([  2,   4,  12,  18,  20,  22,  23,  26,  28,  30,  36,  38,  43,\n",
      "        44,  46,  49,  51,  52,  55,  56,  59,  60,  61,  64,  67,  68,\n",
      "        82,  86,  89,  90,  93,  96,  99, 100, 101, 103, 106, 107, 110,\n",
      "       114, 116, 117, 120, 129, 132, 140, 145, 150, 151, 154, 156, 157,\n",
      "       158, 160, 161, 170, 172, 180, 181, 186, 202, 206, 211, 214, 222,\n",
      "       229, 231, 233, 236, 237, 240, 246, 248, 252, 253, 255, 267, 272,\n",
      "       277, 278, 279, 293, 304, 309, 311, 312, 314, 315, 320, 322, 324,\n",
      "       326, 336, 340, 344, 348, 359, 360, 365, 371, 372, 373, 375, 376,\n",
      "       400, 429, 436, 442, 459, 460, 477, 482, 483, 494, 498, 504, 510,\n",
      "       512, 514, 515, 529, 540, 541, 543, 554, 556, 563, 566, 570, 574,\n",
      "       575, 576, 588, 590, 602, 604, 606, 607, 608, 609, 615, 617, 619,\n",
      "       621, 623, 624, 626, 633, 635, 636, 637, 641, 651, 658, 659, 663,\n",
      "       664, 666, 671, 673, 675, 682, 684, 686], dtype=int64),)\n"
     ]
    },
    {
     "data": {
      "text/plain": [
       "0    536\n",
       "1    164\n",
       "Name: Mortality, dtype: int64"
      ]
     },
     "execution_count": 37,
     "metadata": {},
     "output_type": "execute_result"
    }
   ],
   "source": [
    "death_women_60_69 = np.where(data_mujeres_edad_60_69.Mortality==1)\n",
    "print(\"Women (death):\",death_women_60_69)\n",
    "data_mujeres_edad_60_69['Mortality'].value_counts()"
   ]
  },
  {
   "cell_type": "markdown",
   "metadata": {},
   "source": [
    "# Women aged 70 and over"
   ]
  },
  {
   "cell_type": "code",
   "execution_count": 38,
   "metadata": {},
   "outputs": [],
   "source": [
    "data_mujeres_edad_70 = data_mujer[(data_mujer[\"Age\"]>=70)]"
   ]
  },
  {
   "cell_type": "code",
   "execution_count": 39,
   "metadata": {},
   "outputs": [
    {
     "name": "stdout",
     "output_type": "stream",
     "text": [
      "Women (death): (array([  0,   1,   2,   4,   5,   6,   8,   9,  12,  15,  17,  20,  21,\n",
      "        22,  23,  26,  27,  32,  35,  36,  37,  38,  39,  40,  41,  42,\n",
      "        43,  46,  48,  51,  52,  53,  56,  59,  60,  63,  67,  69,  71,\n",
      "        74,  75,  80,  82,  83,  88,  91,  92,  97,  98,  99, 103, 104,\n",
      "       105, 107, 109, 115, 124, 128, 129, 132, 134, 137, 139, 143, 147,\n",
      "       151, 158, 159, 166, 167, 173, 174, 176, 177, 180, 183, 185, 186,\n",
      "       191, 192, 197, 199, 201, 202, 204, 212, 217, 218, 220, 222, 227,\n",
      "       229, 230, 234, 236, 238, 243, 244, 246, 257, 258, 260, 261, 262,\n",
      "       263, 264, 268, 270, 273, 274, 277, 284, 287, 288, 296, 301, 303,\n",
      "       310, 312, 314, 318, 320, 330, 331, 332, 334, 335, 338, 346, 348,\n",
      "       353, 356, 360, 363, 366, 367, 377, 387, 388, 391, 395, 396, 405,\n",
      "       406, 408, 409, 415, 419, 420, 421, 422, 424, 428, 430, 431, 432,\n",
      "       433, 438, 439, 443, 445, 446, 448, 451, 454, 459, 465, 475, 482,\n",
      "       486, 491, 494, 496, 498, 500, 501, 502, 505, 510, 511, 514, 515,\n",
      "       517, 518, 519, 520, 526, 527, 528, 529, 530, 532, 533, 536, 543,\n",
      "       545, 546, 547, 548, 549, 551, 552, 563, 565, 568, 569, 571, 575,\n",
      "       578, 583, 586, 593, 595, 609, 612, 614, 618], dtype=int64),)\n"
     ]
    },
    {
     "data": {
      "text/plain": [
       "0    416\n",
       "1    217\n",
       "Name: Mortality, dtype: int64"
      ]
     },
     "execution_count": 39,
     "metadata": {},
     "output_type": "execute_result"
    }
   ],
   "source": [
    "death_women_70 = np.where(data_mujeres_edad_70.Mortality==1)\n",
    "print(\"Women (death):\",death_women_70)\n",
    "data_mujeres_edad_70['Mortality'].value_counts()"
   ]
  }
 ],
 "metadata": {
  "kernelspec": {
   "display_name": "Python 3",
   "language": "python",
   "name": "python3"
  },
  "language_info": {
   "codemirror_mode": {
    "name": "ipython",
    "version": 3
   },
   "file_extension": ".py",
   "mimetype": "text/x-python",
   "name": "python",
   "nbconvert_exporter": "python",
   "pygments_lexer": "ipython3",
   "version": "3.8.5"
  }
 },
 "nbformat": 4,
 "nbformat_minor": 4
}
