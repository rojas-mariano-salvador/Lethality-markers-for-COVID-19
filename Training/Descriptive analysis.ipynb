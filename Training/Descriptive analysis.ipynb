{
 "cells": [
  {
   "cell_type": "markdown",
   "metadata": {},
   "source": [
    "# Descriptive analysis"
   ]
  },
  {
   "cell_type": "code",
   "execution_count": 1,
   "metadata": {},
   "outputs": [],
   "source": [
    "import argparse\n",
    "import sys\n",
    "import numpy as np\n",
    "import pandas as pd\n",
    "import warnings\n",
    "warnings.filterwarnings('ignore')"
   ]
  },
  {
   "cell_type": "code",
   "execution_count": 2,
   "metadata": {},
   "outputs": [],
   "source": [
    "def read_data(raw_clinical_note):\n",
    "    data = pd.read_csv(raw_clinical_note, header=0,na_filter=True)\n",
    "    return data\n",
    "\n",
    "def delete_columns(data,columns): \n",
    "    df = data.drop(columns,axis=1)\n",
    "    return df"
   ]
  },
  {
   "cell_type": "code",
   "execution_count": 3,
   "metadata": {},
   "outputs": [
    {
     "name": "stdout",
     "output_type": "stream",
     "text": [
      "Total records 11564\n"
     ]
    }
   ],
   "source": [
    "raw_data = 'C:/Users/Salvador/Modelo_COVID19/Libretas manuscrito/BCM Infectius diseases/data_final_mor.csv'\n",
    "data = pd.read_csv(raw_data)\n",
    "print (\"Total records\", data.shape[0])"
   ]
  },
  {
   "cell_type": "code",
   "execution_count": 4,
   "metadata": {},
   "outputs": [
    {
     "data": {
      "text/plain": [
       "11564"
      ]
     },
     "execution_count": 4,
     "metadata": {},
     "output_type": "execute_result"
    }
   ],
   "source": [
    "data.shape[0]"
   ]
  },
  {
   "cell_type": "code",
   "execution_count": 5,
   "metadata": {},
   "outputs": [
    {
     "data": {
      "text/html": [
       "<div>\n",
       "<style scoped>\n",
       "    .dataframe tbody tr th:only-of-type {\n",
       "        vertical-align: middle;\n",
       "    }\n",
       "\n",
       "    .dataframe tbody tr th {\n",
       "        vertical-align: top;\n",
       "    }\n",
       "\n",
       "    .dataframe thead th {\n",
       "        text-align: right;\n",
       "    }\n",
       "</style>\n",
       "<table border=\"1\" class=\"dataframe\">\n",
       "  <thead>\n",
       "    <tr style=\"text-align: right;\">\n",
       "      <th></th>\n",
       "      <th>Unnamed: 0</th>\n",
       "      <th>Sex</th>\n",
       "      <th>Age</th>\n",
       "      <th>Pregnancy</th>\n",
       "      <th>Fever</th>\n",
       "      <th>Cough</th>\n",
       "      <th>Odynophagia</th>\n",
       "      <th>Dyspnea</th>\n",
       "      <th>Irritability</th>\n",
       "      <th>Diarrhea</th>\n",
       "      <th>...</th>\n",
       "      <th>Hypertension</th>\n",
       "      <th>HIV AIDS</th>\n",
       "      <th>Cardiovascular disease</th>\n",
       "      <th>Obesity</th>\n",
       "      <th>CKD</th>\n",
       "      <th>Smoking</th>\n",
       "      <th>Puerperium</th>\n",
       "      <th>Use of antipyretics</th>\n",
       "      <th>Mortality</th>\n",
       "      <th>Days elapsed</th>\n",
       "    </tr>\n",
       "  </thead>\n",
       "  <tbody>\n",
       "    <tr>\n",
       "      <th>count</th>\n",
       "      <td>1.156400e+04</td>\n",
       "      <td>11564.000000</td>\n",
       "      <td>11564.000000</td>\n",
       "      <td>11564.000000</td>\n",
       "      <td>11564.000000</td>\n",
       "      <td>11564.000000</td>\n",
       "      <td>11564.000000</td>\n",
       "      <td>11564.00000</td>\n",
       "      <td>11564.000000</td>\n",
       "      <td>11564.000000</td>\n",
       "      <td>...</td>\n",
       "      <td>11564.000000</td>\n",
       "      <td>11564.000000</td>\n",
       "      <td>11564.000000</td>\n",
       "      <td>11564.000000</td>\n",
       "      <td>11564.000000</td>\n",
       "      <td>11564.000000</td>\n",
       "      <td>11564.000000</td>\n",
       "      <td>11564.000000</td>\n",
       "      <td>11564.000000</td>\n",
       "      <td>11564.000000</td>\n",
       "    </tr>\n",
       "    <tr>\n",
       "      <th>mean</th>\n",
       "      <td>2.278208e+06</td>\n",
       "      <td>0.540038</td>\n",
       "      <td>49.118039</td>\n",
       "      <td>0.006572</td>\n",
       "      <td>0.845901</td>\n",
       "      <td>0.866655</td>\n",
       "      <td>0.609824</td>\n",
       "      <td>0.44431</td>\n",
       "      <td>0.151851</td>\n",
       "      <td>0.212383</td>\n",
       "      <td>...</td>\n",
       "      <td>0.241439</td>\n",
       "      <td>0.002162</td>\n",
       "      <td>0.022138</td>\n",
       "      <td>0.169405</td>\n",
       "      <td>0.029834</td>\n",
       "      <td>0.063732</td>\n",
       "      <td>0.000432</td>\n",
       "      <td>0.524127</td>\n",
       "      <td>0.140263</td>\n",
       "      <td>3.472155</td>\n",
       "    </tr>\n",
       "    <tr>\n",
       "      <th>std</th>\n",
       "      <td>1.576312e+06</td>\n",
       "      <td>0.498416</td>\n",
       "      <td>17.530808</td>\n",
       "      <td>0.080805</td>\n",
       "      <td>0.361059</td>\n",
       "      <td>0.339962</td>\n",
       "      <td>0.487811</td>\n",
       "      <td>0.49691</td>\n",
       "      <td>0.358892</td>\n",
       "      <td>0.409012</td>\n",
       "      <td>...</td>\n",
       "      <td>0.427974</td>\n",
       "      <td>0.046448</td>\n",
       "      <td>0.147138</td>\n",
       "      <td>0.375126</td>\n",
       "      <td>0.170136</td>\n",
       "      <td>0.244286</td>\n",
       "      <td>0.020790</td>\n",
       "      <td>0.499439</td>\n",
       "      <td>0.347275</td>\n",
       "      <td>2.399516</td>\n",
       "    </tr>\n",
       "    <tr>\n",
       "      <th>min</th>\n",
       "      <td>2.517300e+04</td>\n",
       "      <td>0.000000</td>\n",
       "      <td>0.000000</td>\n",
       "      <td>0.000000</td>\n",
       "      <td>0.000000</td>\n",
       "      <td>0.000000</td>\n",
       "      <td>0.000000</td>\n",
       "      <td>0.00000</td>\n",
       "      <td>0.000000</td>\n",
       "      <td>0.000000</td>\n",
       "      <td>...</td>\n",
       "      <td>0.000000</td>\n",
       "      <td>0.000000</td>\n",
       "      <td>0.000000</td>\n",
       "      <td>0.000000</td>\n",
       "      <td>0.000000</td>\n",
       "      <td>0.000000</td>\n",
       "      <td>0.000000</td>\n",
       "      <td>0.000000</td>\n",
       "      <td>0.000000</td>\n",
       "      <td>0.000000</td>\n",
       "    </tr>\n",
       "    <tr>\n",
       "      <th>25%</th>\n",
       "      <td>7.578522e+05</td>\n",
       "      <td>0.000000</td>\n",
       "      <td>35.000000</td>\n",
       "      <td>0.000000</td>\n",
       "      <td>1.000000</td>\n",
       "      <td>1.000000</td>\n",
       "      <td>0.000000</td>\n",
       "      <td>0.00000</td>\n",
       "      <td>0.000000</td>\n",
       "      <td>0.000000</td>\n",
       "      <td>...</td>\n",
       "      <td>0.000000</td>\n",
       "      <td>0.000000</td>\n",
       "      <td>0.000000</td>\n",
       "      <td>0.000000</td>\n",
       "      <td>0.000000</td>\n",
       "      <td>0.000000</td>\n",
       "      <td>0.000000</td>\n",
       "      <td>0.000000</td>\n",
       "      <td>0.000000</td>\n",
       "      <td>2.000000</td>\n",
       "    </tr>\n",
       "    <tr>\n",
       "      <th>50%</th>\n",
       "      <td>2.167698e+06</td>\n",
       "      <td>1.000000</td>\n",
       "      <td>48.000000</td>\n",
       "      <td>0.000000</td>\n",
       "      <td>1.000000</td>\n",
       "      <td>1.000000</td>\n",
       "      <td>1.000000</td>\n",
       "      <td>0.00000</td>\n",
       "      <td>0.000000</td>\n",
       "      <td>0.000000</td>\n",
       "      <td>...</td>\n",
       "      <td>0.000000</td>\n",
       "      <td>0.000000</td>\n",
       "      <td>0.000000</td>\n",
       "      <td>0.000000</td>\n",
       "      <td>0.000000</td>\n",
       "      <td>0.000000</td>\n",
       "      <td>0.000000</td>\n",
       "      <td>1.000000</td>\n",
       "      <td>0.000000</td>\n",
       "      <td>3.000000</td>\n",
       "    </tr>\n",
       "    <tr>\n",
       "      <th>75%</th>\n",
       "      <td>3.518499e+06</td>\n",
       "      <td>1.000000</td>\n",
       "      <td>62.000000</td>\n",
       "      <td>0.000000</td>\n",
       "      <td>1.000000</td>\n",
       "      <td>1.000000</td>\n",
       "      <td>1.000000</td>\n",
       "      <td>1.00000</td>\n",
       "      <td>0.000000</td>\n",
       "      <td>0.000000</td>\n",
       "      <td>...</td>\n",
       "      <td>0.000000</td>\n",
       "      <td>0.000000</td>\n",
       "      <td>0.000000</td>\n",
       "      <td>0.000000</td>\n",
       "      <td>0.000000</td>\n",
       "      <td>0.000000</td>\n",
       "      <td>0.000000</td>\n",
       "      <td>1.000000</td>\n",
       "      <td>0.000000</td>\n",
       "      <td>5.000000</td>\n",
       "    </tr>\n",
       "    <tr>\n",
       "      <th>max</th>\n",
       "      <td>5.477685e+06</td>\n",
       "      <td>1.000000</td>\n",
       "      <td>100.000000</td>\n",
       "      <td>1.000000</td>\n",
       "      <td>1.000000</td>\n",
       "      <td>1.000000</td>\n",
       "      <td>1.000000</td>\n",
       "      <td>1.00000</td>\n",
       "      <td>1.000000</td>\n",
       "      <td>1.000000</td>\n",
       "      <td>...</td>\n",
       "      <td>1.000000</td>\n",
       "      <td>1.000000</td>\n",
       "      <td>1.000000</td>\n",
       "      <td>1.000000</td>\n",
       "      <td>1.000000</td>\n",
       "      <td>1.000000</td>\n",
       "      <td>1.000000</td>\n",
       "      <td>1.000000</td>\n",
       "      <td>1.000000</td>\n",
       "      <td>24.000000</td>\n",
       "    </tr>\n",
       "  </tbody>\n",
       "</table>\n",
       "<p>8 rows × 39 columns</p>\n",
       "</div>"
      ],
      "text/plain": [
       "         Unnamed: 0           Sex           Age     Pregnancy         Fever  \\\n",
       "count  1.156400e+04  11564.000000  11564.000000  11564.000000  11564.000000   \n",
       "mean   2.278208e+06      0.540038     49.118039      0.006572      0.845901   \n",
       "std    1.576312e+06      0.498416     17.530808      0.080805      0.361059   \n",
       "min    2.517300e+04      0.000000      0.000000      0.000000      0.000000   \n",
       "25%    7.578522e+05      0.000000     35.000000      0.000000      1.000000   \n",
       "50%    2.167698e+06      1.000000     48.000000      0.000000      1.000000   \n",
       "75%    3.518499e+06      1.000000     62.000000      0.000000      1.000000   \n",
       "max    5.477685e+06      1.000000    100.000000      1.000000      1.000000   \n",
       "\n",
       "              Cough   Odynophagia      Dyspnea  Irritability      Diarrhea  \\\n",
       "count  11564.000000  11564.000000  11564.00000  11564.000000  11564.000000   \n",
       "mean       0.866655      0.609824      0.44431      0.151851      0.212383   \n",
       "std        0.339962      0.487811      0.49691      0.358892      0.409012   \n",
       "min        0.000000      0.000000      0.00000      0.000000      0.000000   \n",
       "25%        1.000000      0.000000      0.00000      0.000000      0.000000   \n",
       "50%        1.000000      1.000000      0.00000      0.000000      0.000000   \n",
       "75%        1.000000      1.000000      1.00000      0.000000      0.000000   \n",
       "max        1.000000      1.000000      1.00000      1.000000      1.000000   \n",
       "\n",
       "       ...  Hypertension      HIV AIDS  Cardiovascular disease       Obesity  \\\n",
       "count  ...  11564.000000  11564.000000            11564.000000  11564.000000   \n",
       "mean   ...      0.241439      0.002162                0.022138      0.169405   \n",
       "std    ...      0.427974      0.046448                0.147138      0.375126   \n",
       "min    ...      0.000000      0.000000                0.000000      0.000000   \n",
       "25%    ...      0.000000      0.000000                0.000000      0.000000   \n",
       "50%    ...      0.000000      0.000000                0.000000      0.000000   \n",
       "75%    ...      0.000000      0.000000                0.000000      0.000000   \n",
       "max    ...      1.000000      1.000000                1.000000      1.000000   \n",
       "\n",
       "                CKD       Smoking    Puerperium  Use of antipyretics  \\\n",
       "count  11564.000000  11564.000000  11564.000000         11564.000000   \n",
       "mean       0.029834      0.063732      0.000432             0.524127   \n",
       "std        0.170136      0.244286      0.020790             0.499439   \n",
       "min        0.000000      0.000000      0.000000             0.000000   \n",
       "25%        0.000000      0.000000      0.000000             0.000000   \n",
       "50%        0.000000      0.000000      0.000000             1.000000   \n",
       "75%        0.000000      0.000000      0.000000             1.000000   \n",
       "max        1.000000      1.000000      1.000000             1.000000   \n",
       "\n",
       "          Mortality  Days elapsed  \n",
       "count  11564.000000  11564.000000  \n",
       "mean       0.140263      3.472155  \n",
       "std        0.347275      2.399516  \n",
       "min        0.000000      0.000000  \n",
       "25%        0.000000      2.000000  \n",
       "50%        0.000000      3.000000  \n",
       "75%        0.000000      5.000000  \n",
       "max        1.000000     24.000000  \n",
       "\n",
       "[8 rows x 39 columns]"
      ]
     },
     "execution_count": 5,
     "metadata": {},
     "output_type": "execute_result"
    }
   ],
   "source": [
    "data.describe()"
   ]
  },
  {
   "cell_type": "code",
   "execution_count": 6,
   "metadata": {},
   "outputs": [
    {
     "data": {
      "text/plain": [
       "Index(['Unnamed: 0', 'Sex', 'Age', 'Pregnancy', 'Fever', 'Cough',\n",
       "       'Odynophagia', 'Dyspnea', 'Irritability', 'Diarrhea', 'Chest pain',\n",
       "       'Chills', 'Headache', 'Myalgia', 'Arthralgia', 'General discomfort',\n",
       "       'Rhinorrhea', 'Polypnea', 'Vomiting', 'Abdominal pain',\n",
       "       'Conjunctivitis', 'Cyanosis', 'Sudden onset of symptoms', 'Anosmia',\n",
       "       'Dysgeusia', 'Diabetes', 'COPD', 'Asthma', 'Immunosuppression',\n",
       "       'Hypertension', 'HIV AIDS', 'Cardiovascular disease', 'Obesity', 'CKD',\n",
       "       'Smoking', 'Puerperium', 'Use of antipyretics', 'Mortality',\n",
       "       'Days elapsed'],\n",
       "      dtype='object')"
      ]
     },
     "execution_count": 6,
     "metadata": {},
     "output_type": "execute_result"
    }
   ],
   "source": [
    "data.columns"
   ]
  },
  {
   "cell_type": "code",
   "execution_count": 7,
   "metadata": {},
   "outputs": [],
   "source": [
    "data['Sex'] = np.where(data['Sex'] == 1, 'Men', 'Women')\n",
    "data['Diabetes'] = np.where(data['Diabetes'] == 1, 'With Diabetes', 'Without Diabetes')\n",
    "data['COPD'] = np.where(data['COPD'] == 1, 'With COPD', 'Without COPD')\n",
    "data['Asthma'] = np.where(data['Asthma'] == 1, 'With Asthma', 'Without Asthma')\n",
    "data['Immunosuppression'] = np.where(data['Immunosuppression'] == 1, 'With Immunosuppression', 'Without Immunosuppression')\n",
    "data['Hypertension'] = np.where(data['Hypertension'] == 1, 'With Hypertension', 'Without Hypertension')\n",
    "data['HIV AIDS'] = np.where(data['HIV AIDS'] == 1, 'With HIV AIDS', 'Without HIV AIDS')\n",
    "data['Cardiovascular disease'] = np.where(data['Cardiovascular disease'] == 1, 'With Cardiovascular disease', 'Without Cardiovascular disease')\n",
    "data['Obesity'] = np.where(data['Obesity'] == 1, 'With Obesity', 'Without Obesity')\n",
    "data['CKD'] = np.where(data['CKD'] == 1, 'With CKD', 'Without CKD')\n",
    "data['Smoking'] = np.where(data['Smoking'] == 1, 'With Smoking', 'Without Smoking')\n",
    "\n",
    "data['Fever'] = np.where(data['Fever'] == 1, 'With Fever', 'Without Fever')\n",
    "data['Cough'] = np.where(data['Cough'] == 1, 'With Cough', 'Without Cough')\n",
    "data['Odynophagia'] = np.where(data['Odynophagia'] == 1, 'With Odynophagia', 'Without Odynophagia')\n",
    "data['Dyspnea'] = np.where(data['Dyspnea'] == 1, 'With Dyspnea', 'Without Dyspnea')\n",
    "data['Irritability'] = np.where(data['Irritability'] == 1, 'With Irritability', 'Without Irritability')\n",
    "data['Diarrhea'] = np.where(data['Diarrhea'] == 1, 'With Diarrhea', 'Without Diarrhea')\n",
    "data['Chest pain'] = np.where(data['Chest pain'] == 1, 'With Chest pain', 'Without Chest pain')\n",
    "data['Chills'] = np.where(data['Chills'] == 1, 'With Chills', 'Without Chills')\n",
    "data['Headache'] = np.where(data['Headache'] == 1, 'With Headache', 'Without Headache')\n",
    "data['Myalgia'] = np.where(data['Myalgia'] == 1, 'With Myalgia', 'Without Myalgia')\n",
    "data['Arthralgia'] = np.where(data['Arthralgia'] == 1, 'With Arthralgia', 'Without Arthralgia')\n",
    "data['General discomfort'] = np.where(data['General discomfort'] == 1, 'With General discomfort', 'Without General discomfort')\n",
    "data['Rhinorrhea'] = np.where(data['Rhinorrhea'] == 1, 'With Rhinorrhea', 'Without Rhinorrhea')\n",
    "data['Polypnea'] = np.where(data['Polypnea'] == 1, 'With Polypnea', 'Without Polypnea')\n",
    "data['Vomiting'] = np.where(data['Vomiting'] == 1, 'With Vomiting', 'Without Vomiting')\n",
    "data['Abdominal pain'] = np.where(data['Abdominal pain'] == 1, 'With Abdominal pain', 'Without Abdominal pain')\n",
    "data['Conjunctivitis'] = np.where(data['Conjunctivitis'] == 1, 'With Conjunctivitis', 'Without Conjunctivitis')\n",
    "data['Cyanosis'] = np.where(data['Cyanosis'] == 1, 'With Cyanosis', 'Without Cyanosis')\n",
    "data['Sudden onset of symptoms'] = np.where(data['Sudden onset of symptoms'] == 1, 'With Sudden onset of symptoms', 'Without Sudden onset of symptoms')\n",
    "data['Anosmia'] = np.where(data['Anosmia'] == 1, 'With Anosmia', 'Without Anosmia')\n",
    "data['Dysgeusia'] = np.where(data['Dysgeusia'] == 1, 'With Dysgeusia', 'Without Dysgeusia')\n",
    "data['Use of antipyretics'] = np.where(data['Use of antipyretics'] == 1, 'With Use of antipyretics', 'Without Use of antipyretics')\n",
    "data['Pregnancy'] = np.where(data['Pregnancy'] == 1, 'With Pregnancy', 'Without Pregnancy')\n",
    "data['Puerperium'] = np.where(data['Puerperium'] == 1, 'With Puerperium', 'Without Puerperium')\n",
    "data['Mortality'] = np.where(data['Mortality'] == 1, 'Mortality', 'Survival')\n"
   ]
  },
  {
   "cell_type": "markdown",
   "metadata": {},
   "source": [
    "# Comorbidities"
   ]
  },
  {
   "cell_type": "code",
   "execution_count": 8,
   "metadata": {},
   "outputs": [
    {
     "data": {
      "text/html": [
       "<div>\n",
       "<style scoped>\n",
       "    .dataframe tbody tr th:only-of-type {\n",
       "        vertical-align: middle;\n",
       "    }\n",
       "\n",
       "    .dataframe tbody tr th {\n",
       "        vertical-align: top;\n",
       "    }\n",
       "\n",
       "    .dataframe thead th {\n",
       "        text-align: right;\n",
       "    }\n",
       "</style>\n",
       "<table border=\"1\" class=\"dataframe\">\n",
       "  <thead>\n",
       "    <tr style=\"text-align: right;\">\n",
       "      <th>Diabetes</th>\n",
       "      <th>With Diabetes</th>\n",
       "      <th>Without Diabetes</th>\n",
       "      <th>All</th>\n",
       "    </tr>\n",
       "    <tr>\n",
       "      <th>Sex</th>\n",
       "      <th></th>\n",
       "      <th></th>\n",
       "      <th></th>\n",
       "    </tr>\n",
       "  </thead>\n",
       "  <tbody>\n",
       "    <tr>\n",
       "      <th>Men</th>\n",
       "      <td>1266</td>\n",
       "      <td>4979</td>\n",
       "      <td>6245</td>\n",
       "    </tr>\n",
       "    <tr>\n",
       "      <th>Women</th>\n",
       "      <td>997</td>\n",
       "      <td>4322</td>\n",
       "      <td>5319</td>\n",
       "    </tr>\n",
       "    <tr>\n",
       "      <th>All</th>\n",
       "      <td>2263</td>\n",
       "      <td>9301</td>\n",
       "      <td>11564</td>\n",
       "    </tr>\n",
       "  </tbody>\n",
       "</table>\n",
       "</div>"
      ],
      "text/plain": [
       "Diabetes  With Diabetes  Without Diabetes    All\n",
       "Sex                                             \n",
       "Men                1266              4979   6245\n",
       "Women               997              4322   5319\n",
       "All                2263              9301  11564"
      ]
     },
     "execution_count": 8,
     "metadata": {},
     "output_type": "execute_result"
    }
   ],
   "source": [
    "\"\"\"Contingency table Sex & Diabetes\"\"\"\n",
    "Diabetes_ct=pd.crosstab(index=data['Sex'],columns=data['Diabetes'])\n",
    "Diabetes_ct\n",
    "Diabetes_ct.iloc[0].values\n",
    "Diabetes_ct.iloc[1].values\n",
    "pd.crosstab(index=data['Sex'],columns=data['Diabetes'], margins=True)"
   ]
  },
  {
   "cell_type": "code",
   "execution_count": 9,
   "metadata": {},
   "outputs": [
    {
     "data": {
      "text/html": [
       "<div>\n",
       "<style scoped>\n",
       "    .dataframe tbody tr th:only-of-type {\n",
       "        vertical-align: middle;\n",
       "    }\n",
       "\n",
       "    .dataframe tbody tr th {\n",
       "        vertical-align: top;\n",
       "    }\n",
       "\n",
       "    .dataframe thead th {\n",
       "        text-align: right;\n",
       "    }\n",
       "</style>\n",
       "<table border=\"1\" class=\"dataframe\">\n",
       "  <thead>\n",
       "    <tr style=\"text-align: right;\">\n",
       "      <th>COPD</th>\n",
       "      <th>With COPD</th>\n",
       "      <th>Without COPD</th>\n",
       "      <th>All</th>\n",
       "    </tr>\n",
       "    <tr>\n",
       "      <th>Sex</th>\n",
       "      <th></th>\n",
       "      <th></th>\n",
       "      <th></th>\n",
       "    </tr>\n",
       "  </thead>\n",
       "  <tbody>\n",
       "    <tr>\n",
       "      <th>Men</th>\n",
       "      <td>101</td>\n",
       "      <td>6144</td>\n",
       "      <td>6245</td>\n",
       "    </tr>\n",
       "    <tr>\n",
       "      <th>Women</th>\n",
       "      <td>129</td>\n",
       "      <td>5190</td>\n",
       "      <td>5319</td>\n",
       "    </tr>\n",
       "    <tr>\n",
       "      <th>All</th>\n",
       "      <td>230</td>\n",
       "      <td>11334</td>\n",
       "      <td>11564</td>\n",
       "    </tr>\n",
       "  </tbody>\n",
       "</table>\n",
       "</div>"
      ],
      "text/plain": [
       "COPD   With COPD  Without COPD    All\n",
       "Sex                                  \n",
       "Men          101          6144   6245\n",
       "Women        129          5190   5319\n",
       "All          230         11334  11564"
      ]
     },
     "execution_count": 9,
     "metadata": {},
     "output_type": "execute_result"
    }
   ],
   "source": [
    "\"\"\"Contingency table Sex & Chronic Obstructive Pulmonary Disease\"\"\"\n",
    "COPD_ct=pd.crosstab(index=data['Sex'],columns=data['COPD'])\n",
    "COPD_ct\n",
    "COPD_ct.iloc[0].values\n",
    "COPD_ct.iloc[1].values\n",
    "pd.crosstab(index=data['Sex'],columns=data['COPD'], margins=True)"
   ]
  },
  {
   "cell_type": "code",
   "execution_count": 10,
   "metadata": {},
   "outputs": [
    {
     "data": {
      "text/html": [
       "<div>\n",
       "<style scoped>\n",
       "    .dataframe tbody tr th:only-of-type {\n",
       "        vertical-align: middle;\n",
       "    }\n",
       "\n",
       "    .dataframe tbody tr th {\n",
       "        vertical-align: top;\n",
       "    }\n",
       "\n",
       "    .dataframe thead th {\n",
       "        text-align: right;\n",
       "    }\n",
       "</style>\n",
       "<table border=\"1\" class=\"dataframe\">\n",
       "  <thead>\n",
       "    <tr style=\"text-align: right;\">\n",
       "      <th>Asthma</th>\n",
       "      <th>With Asthma</th>\n",
       "      <th>Without Asthma</th>\n",
       "      <th>All</th>\n",
       "    </tr>\n",
       "    <tr>\n",
       "      <th>Sex</th>\n",
       "      <th></th>\n",
       "      <th></th>\n",
       "      <th></th>\n",
       "    </tr>\n",
       "  </thead>\n",
       "  <tbody>\n",
       "    <tr>\n",
       "      <th>Men</th>\n",
       "      <td>88</td>\n",
       "      <td>6157</td>\n",
       "      <td>6245</td>\n",
       "    </tr>\n",
       "    <tr>\n",
       "      <th>Women</th>\n",
       "      <td>132</td>\n",
       "      <td>5187</td>\n",
       "      <td>5319</td>\n",
       "    </tr>\n",
       "    <tr>\n",
       "      <th>All</th>\n",
       "      <td>220</td>\n",
       "      <td>11344</td>\n",
       "      <td>11564</td>\n",
       "    </tr>\n",
       "  </tbody>\n",
       "</table>\n",
       "</div>"
      ],
      "text/plain": [
       "Asthma  With Asthma  Without Asthma    All\n",
       "Sex                                       \n",
       "Men              88            6157   6245\n",
       "Women           132            5187   5319\n",
       "All             220           11344  11564"
      ]
     },
     "execution_count": 10,
     "metadata": {},
     "output_type": "execute_result"
    }
   ],
   "source": [
    "\"\"\"Contingency table Sex & Asthma\"\"\"\n",
    "Asthma_ct=pd.crosstab(index=data['Sex'],columns=data['Asthma'])\n",
    "Asthma_ct\n",
    "Asthma_ct.iloc[0].values\n",
    "Asthma_ct.iloc[1].values\n",
    "pd.crosstab(index=data['Sex'],columns=data['Asthma'], margins=True)"
   ]
  },
  {
   "cell_type": "code",
   "execution_count": 11,
   "metadata": {},
   "outputs": [
    {
     "data": {
      "text/html": [
       "<div>\n",
       "<style scoped>\n",
       "    .dataframe tbody tr th:only-of-type {\n",
       "        vertical-align: middle;\n",
       "    }\n",
       "\n",
       "    .dataframe tbody tr th {\n",
       "        vertical-align: top;\n",
       "    }\n",
       "\n",
       "    .dataframe thead th {\n",
       "        text-align: right;\n",
       "    }\n",
       "</style>\n",
       "<table border=\"1\" class=\"dataframe\">\n",
       "  <thead>\n",
       "    <tr style=\"text-align: right;\">\n",
       "      <th>Immunosuppression</th>\n",
       "      <th>With Immunosuppression</th>\n",
       "      <th>Without Immunosuppression</th>\n",
       "      <th>All</th>\n",
       "    </tr>\n",
       "    <tr>\n",
       "      <th>Sex</th>\n",
       "      <th></th>\n",
       "      <th></th>\n",
       "      <th></th>\n",
       "    </tr>\n",
       "  </thead>\n",
       "  <tbody>\n",
       "    <tr>\n",
       "      <th>Men</th>\n",
       "      <td>36</td>\n",
       "      <td>6209</td>\n",
       "      <td>6245</td>\n",
       "    </tr>\n",
       "    <tr>\n",
       "      <th>Women</th>\n",
       "      <td>38</td>\n",
       "      <td>5281</td>\n",
       "      <td>5319</td>\n",
       "    </tr>\n",
       "    <tr>\n",
       "      <th>All</th>\n",
       "      <td>74</td>\n",
       "      <td>11490</td>\n",
       "      <td>11564</td>\n",
       "    </tr>\n",
       "  </tbody>\n",
       "</table>\n",
       "</div>"
      ],
      "text/plain": [
       "Immunosuppression  With Immunosuppression  Without Immunosuppression    All\n",
       "Sex                                                                        \n",
       "Men                                    36                       6209   6245\n",
       "Women                                  38                       5281   5319\n",
       "All                                    74                      11490  11564"
      ]
     },
     "execution_count": 11,
     "metadata": {},
     "output_type": "execute_result"
    }
   ],
   "source": [
    "\"\"\"Contingency table Sex & Immunosuppression\"\"\"\n",
    "Immunosuppression_ct=pd.crosstab(index=data['Sex'],columns=data['Immunosuppression'])\n",
    "Immunosuppression_ct\n",
    "Immunosuppression_ct.iloc[0].values\n",
    "Immunosuppression_ct.iloc[1].values\n",
    "pd.crosstab(index=data['Sex'],columns=data['Immunosuppression'], margins=True)"
   ]
  },
  {
   "cell_type": "code",
   "execution_count": 12,
   "metadata": {},
   "outputs": [
    {
     "data": {
      "text/html": [
       "<div>\n",
       "<style scoped>\n",
       "    .dataframe tbody tr th:only-of-type {\n",
       "        vertical-align: middle;\n",
       "    }\n",
       "\n",
       "    .dataframe tbody tr th {\n",
       "        vertical-align: top;\n",
       "    }\n",
       "\n",
       "    .dataframe thead th {\n",
       "        text-align: right;\n",
       "    }\n",
       "</style>\n",
       "<table border=\"1\" class=\"dataframe\">\n",
       "  <thead>\n",
       "    <tr style=\"text-align: right;\">\n",
       "      <th>Hypertension</th>\n",
       "      <th>With Hypertension</th>\n",
       "      <th>Without Hypertension</th>\n",
       "      <th>All</th>\n",
       "    </tr>\n",
       "    <tr>\n",
       "      <th>Sex</th>\n",
       "      <th></th>\n",
       "      <th></th>\n",
       "      <th></th>\n",
       "    </tr>\n",
       "  </thead>\n",
       "  <tbody>\n",
       "    <tr>\n",
       "      <th>Men</th>\n",
       "      <td>1567</td>\n",
       "      <td>4678</td>\n",
       "      <td>6245</td>\n",
       "    </tr>\n",
       "    <tr>\n",
       "      <th>Women</th>\n",
       "      <td>1225</td>\n",
       "      <td>4094</td>\n",
       "      <td>5319</td>\n",
       "    </tr>\n",
       "    <tr>\n",
       "      <th>All</th>\n",
       "      <td>2792</td>\n",
       "      <td>8772</td>\n",
       "      <td>11564</td>\n",
       "    </tr>\n",
       "  </tbody>\n",
       "</table>\n",
       "</div>"
      ],
      "text/plain": [
       "Hypertension  With Hypertension  Without Hypertension    All\n",
       "Sex                                                         \n",
       "Men                        1567                  4678   6245\n",
       "Women                      1225                  4094   5319\n",
       "All                        2792                  8772  11564"
      ]
     },
     "execution_count": 12,
     "metadata": {},
     "output_type": "execute_result"
    }
   ],
   "source": [
    "\"\"\"Contingency table Sex & Hypertension\"\"\"\n",
    "Hypertension_ct=pd.crosstab(index=data['Sex'],columns=data['Hypertension'])\n",
    "Hypertension_ct\n",
    "Hypertension_ct.iloc[0].values\n",
    "Hypertension_ct.iloc[1].values\n",
    "pd.crosstab(index=data['Sex'],columns=data['Hypertension'], margins=True)"
   ]
  },
  {
   "cell_type": "code",
   "execution_count": 13,
   "metadata": {},
   "outputs": [
    {
     "data": {
      "text/html": [
       "<div>\n",
       "<style scoped>\n",
       "    .dataframe tbody tr th:only-of-type {\n",
       "        vertical-align: middle;\n",
       "    }\n",
       "\n",
       "    .dataframe tbody tr th {\n",
       "        vertical-align: top;\n",
       "    }\n",
       "\n",
       "    .dataframe thead th {\n",
       "        text-align: right;\n",
       "    }\n",
       "</style>\n",
       "<table border=\"1\" class=\"dataframe\">\n",
       "  <thead>\n",
       "    <tr style=\"text-align: right;\">\n",
       "      <th>HIV AIDS</th>\n",
       "      <th>With HIV AIDS</th>\n",
       "      <th>Without HIV AIDS</th>\n",
       "      <th>All</th>\n",
       "    </tr>\n",
       "    <tr>\n",
       "      <th>Sex</th>\n",
       "      <th></th>\n",
       "      <th></th>\n",
       "      <th></th>\n",
       "    </tr>\n",
       "  </thead>\n",
       "  <tbody>\n",
       "    <tr>\n",
       "      <th>Men</th>\n",
       "      <td>18</td>\n",
       "      <td>6227</td>\n",
       "      <td>6245</td>\n",
       "    </tr>\n",
       "    <tr>\n",
       "      <th>Women</th>\n",
       "      <td>7</td>\n",
       "      <td>5312</td>\n",
       "      <td>5319</td>\n",
       "    </tr>\n",
       "    <tr>\n",
       "      <th>All</th>\n",
       "      <td>25</td>\n",
       "      <td>11539</td>\n",
       "      <td>11564</td>\n",
       "    </tr>\n",
       "  </tbody>\n",
       "</table>\n",
       "</div>"
      ],
      "text/plain": [
       "HIV AIDS  With HIV AIDS  Without HIV AIDS    All\n",
       "Sex                                             \n",
       "Men                  18              6227   6245\n",
       "Women                 7              5312   5319\n",
       "All                  25             11539  11564"
      ]
     },
     "execution_count": 13,
     "metadata": {},
     "output_type": "execute_result"
    }
   ],
   "source": [
    "\"\"\"Contingency table Sex & HIV AIDS\"\"\"\n",
    "HIV_ct=pd.crosstab(index=data['Sex'],columns=data['HIV AIDS'])\n",
    "HIV_ct\n",
    "HIV_ct.iloc[0].values\n",
    "HIV_ct.iloc[1].values\n",
    "pd.crosstab(index=data['Sex'],columns=data['HIV AIDS'], margins=True)"
   ]
  },
  {
   "cell_type": "code",
   "execution_count": 14,
   "metadata": {},
   "outputs": [
    {
     "data": {
      "text/html": [
       "<div>\n",
       "<style scoped>\n",
       "    .dataframe tbody tr th:only-of-type {\n",
       "        vertical-align: middle;\n",
       "    }\n",
       "\n",
       "    .dataframe tbody tr th {\n",
       "        vertical-align: top;\n",
       "    }\n",
       "\n",
       "    .dataframe thead th {\n",
       "        text-align: right;\n",
       "    }\n",
       "</style>\n",
       "<table border=\"1\" class=\"dataframe\">\n",
       "  <thead>\n",
       "    <tr style=\"text-align: right;\">\n",
       "      <th>Cardiovascular disease</th>\n",
       "      <th>With Cardiovascular disease</th>\n",
       "      <th>Without Cardiovascular disease</th>\n",
       "      <th>All</th>\n",
       "    </tr>\n",
       "    <tr>\n",
       "      <th>Sex</th>\n",
       "      <th></th>\n",
       "      <th></th>\n",
       "      <th></th>\n",
       "    </tr>\n",
       "  </thead>\n",
       "  <tbody>\n",
       "    <tr>\n",
       "      <th>Men</th>\n",
       "      <td>150</td>\n",
       "      <td>6095</td>\n",
       "      <td>6245</td>\n",
       "    </tr>\n",
       "    <tr>\n",
       "      <th>Women</th>\n",
       "      <td>106</td>\n",
       "      <td>5213</td>\n",
       "      <td>5319</td>\n",
       "    </tr>\n",
       "    <tr>\n",
       "      <th>All</th>\n",
       "      <td>256</td>\n",
       "      <td>11308</td>\n",
       "      <td>11564</td>\n",
       "    </tr>\n",
       "  </tbody>\n",
       "</table>\n",
       "</div>"
      ],
      "text/plain": [
       "Cardiovascular disease  With Cardiovascular disease  \\\n",
       "Sex                                                   \n",
       "Men                                             150   \n",
       "Women                                           106   \n",
       "All                                             256   \n",
       "\n",
       "Cardiovascular disease  Without Cardiovascular disease    All  \n",
       "Sex                                                            \n",
       "Men                                               6095   6245  \n",
       "Women                                             5213   5319  \n",
       "All                                              11308  11564  "
      ]
     },
     "execution_count": 14,
     "metadata": {},
     "output_type": "execute_result"
    }
   ],
   "source": [
    "\"\"\"Contingency table Sex & Cardiovascular disease\"\"\"\n",
    "Cardiovascular_ct=pd.crosstab(index=data['Sex'],columns=data['Cardiovascular disease'])\n",
    "Cardiovascular_ct\n",
    "Cardiovascular_ct.iloc[0].values\n",
    "Cardiovascular_ct.iloc[1].values\n",
    "pd.crosstab(index=data['Sex'],columns=data['Cardiovascular disease'], margins=True)"
   ]
  },
  {
   "cell_type": "code",
   "execution_count": 15,
   "metadata": {},
   "outputs": [
    {
     "data": {
      "text/html": [
       "<div>\n",
       "<style scoped>\n",
       "    .dataframe tbody tr th:only-of-type {\n",
       "        vertical-align: middle;\n",
       "    }\n",
       "\n",
       "    .dataframe tbody tr th {\n",
       "        vertical-align: top;\n",
       "    }\n",
       "\n",
       "    .dataframe thead th {\n",
       "        text-align: right;\n",
       "    }\n",
       "</style>\n",
       "<table border=\"1\" class=\"dataframe\">\n",
       "  <thead>\n",
       "    <tr style=\"text-align: right;\">\n",
       "      <th>Obesity</th>\n",
       "      <th>With Obesity</th>\n",
       "      <th>Without Obesity</th>\n",
       "      <th>All</th>\n",
       "    </tr>\n",
       "    <tr>\n",
       "      <th>Sex</th>\n",
       "      <th></th>\n",
       "      <th></th>\n",
       "      <th></th>\n",
       "    </tr>\n",
       "  </thead>\n",
       "  <tbody>\n",
       "    <tr>\n",
       "      <th>Men</th>\n",
       "      <td>1005</td>\n",
       "      <td>5240</td>\n",
       "      <td>6245</td>\n",
       "    </tr>\n",
       "    <tr>\n",
       "      <th>Women</th>\n",
       "      <td>954</td>\n",
       "      <td>4365</td>\n",
       "      <td>5319</td>\n",
       "    </tr>\n",
       "    <tr>\n",
       "      <th>All</th>\n",
       "      <td>1959</td>\n",
       "      <td>9605</td>\n",
       "      <td>11564</td>\n",
       "    </tr>\n",
       "  </tbody>\n",
       "</table>\n",
       "</div>"
      ],
      "text/plain": [
       "Obesity  With Obesity  Without Obesity    All\n",
       "Sex                                          \n",
       "Men              1005             5240   6245\n",
       "Women             954             4365   5319\n",
       "All              1959             9605  11564"
      ]
     },
     "execution_count": 15,
     "metadata": {},
     "output_type": "execute_result"
    }
   ],
   "source": [
    "\"\"\"Contingency table Sex & Obesity\"\"\"\n",
    "Obesity_ct=pd.crosstab(index=data['Sex'],columns=data['Obesity'])\n",
    "Obesity_ct\n",
    "Obesity_ct.iloc[0].values\n",
    "Obesity_ct.iloc[1].values\n",
    "pd.crosstab(index=data['Sex'],columns=data['Obesity'], margins=True)"
   ]
  },
  {
   "cell_type": "code",
   "execution_count": 16,
   "metadata": {},
   "outputs": [
    {
     "data": {
      "text/html": [
       "<div>\n",
       "<style scoped>\n",
       "    .dataframe tbody tr th:only-of-type {\n",
       "        vertical-align: middle;\n",
       "    }\n",
       "\n",
       "    .dataframe tbody tr th {\n",
       "        vertical-align: top;\n",
       "    }\n",
       "\n",
       "    .dataframe thead th {\n",
       "        text-align: right;\n",
       "    }\n",
       "</style>\n",
       "<table border=\"1\" class=\"dataframe\">\n",
       "  <thead>\n",
       "    <tr style=\"text-align: right;\">\n",
       "      <th>CKD</th>\n",
       "      <th>With CKD</th>\n",
       "      <th>Without CKD</th>\n",
       "      <th>All</th>\n",
       "    </tr>\n",
       "    <tr>\n",
       "      <th>Sex</th>\n",
       "      <th></th>\n",
       "      <th></th>\n",
       "      <th></th>\n",
       "    </tr>\n",
       "  </thead>\n",
       "  <tbody>\n",
       "    <tr>\n",
       "      <th>Men</th>\n",
       "      <td>219</td>\n",
       "      <td>6026</td>\n",
       "      <td>6245</td>\n",
       "    </tr>\n",
       "    <tr>\n",
       "      <th>Women</th>\n",
       "      <td>126</td>\n",
       "      <td>5193</td>\n",
       "      <td>5319</td>\n",
       "    </tr>\n",
       "    <tr>\n",
       "      <th>All</th>\n",
       "      <td>345</td>\n",
       "      <td>11219</td>\n",
       "      <td>11564</td>\n",
       "    </tr>\n",
       "  </tbody>\n",
       "</table>\n",
       "</div>"
      ],
      "text/plain": [
       "CKD    With CKD  Without CKD    All\n",
       "Sex                                \n",
       "Men         219         6026   6245\n",
       "Women       126         5193   5319\n",
       "All         345        11219  11564"
      ]
     },
     "execution_count": 16,
     "metadata": {},
     "output_type": "execute_result"
    }
   ],
   "source": [
    "\"\"\"Contingency table Sex & Chronic Kidney Disease\"\"\"\n",
    "CKD_ct=pd.crosstab(index=data['Sex'],columns=data['CKD'])\n",
    "CKD_ct\n",
    "CKD_ct.iloc[0].values\n",
    "CKD_ct.iloc[1].values\n",
    "pd.crosstab(index=data['Sex'],columns=data['CKD'], margins=True)"
   ]
  },
  {
   "cell_type": "code",
   "execution_count": 17,
   "metadata": {},
   "outputs": [
    {
     "data": {
      "text/html": [
       "<div>\n",
       "<style scoped>\n",
       "    .dataframe tbody tr th:only-of-type {\n",
       "        vertical-align: middle;\n",
       "    }\n",
       "\n",
       "    .dataframe tbody tr th {\n",
       "        vertical-align: top;\n",
       "    }\n",
       "\n",
       "    .dataframe thead th {\n",
       "        text-align: right;\n",
       "    }\n",
       "</style>\n",
       "<table border=\"1\" class=\"dataframe\">\n",
       "  <thead>\n",
       "    <tr style=\"text-align: right;\">\n",
       "      <th>Smoking</th>\n",
       "      <th>With Smoking</th>\n",
       "      <th>Without Smoking</th>\n",
       "      <th>All</th>\n",
       "    </tr>\n",
       "    <tr>\n",
       "      <th>Sex</th>\n",
       "      <th></th>\n",
       "      <th></th>\n",
       "      <th></th>\n",
       "    </tr>\n",
       "  </thead>\n",
       "  <tbody>\n",
       "    <tr>\n",
       "      <th>Men</th>\n",
       "      <td>547</td>\n",
       "      <td>5698</td>\n",
       "      <td>6245</td>\n",
       "    </tr>\n",
       "    <tr>\n",
       "      <th>Women</th>\n",
       "      <td>190</td>\n",
       "      <td>5129</td>\n",
       "      <td>5319</td>\n",
       "    </tr>\n",
       "    <tr>\n",
       "      <th>All</th>\n",
       "      <td>737</td>\n",
       "      <td>10827</td>\n",
       "      <td>11564</td>\n",
       "    </tr>\n",
       "  </tbody>\n",
       "</table>\n",
       "</div>"
      ],
      "text/plain": [
       "Smoking  With Smoking  Without Smoking    All\n",
       "Sex                                          \n",
       "Men               547             5698   6245\n",
       "Women             190             5129   5319\n",
       "All               737            10827  11564"
      ]
     },
     "execution_count": 17,
     "metadata": {},
     "output_type": "execute_result"
    }
   ],
   "source": [
    "\"\"\"Contingency table Sex & Smoking\"\"\"\n",
    "Smoking_ct=pd.crosstab(index=data['Sex'],columns=data['Smoking'])\n",
    "Smoking_ct\n",
    "Smoking_ct.iloc[0].values\n",
    "Smoking_ct.iloc[1].values\n",
    "pd.crosstab(index=data['Sex'],columns=data['Smoking'], margins=True)"
   ]
  },
  {
   "cell_type": "markdown",
   "metadata": {},
   "source": [
    "# Symptom"
   ]
  },
  {
   "cell_type": "code",
   "execution_count": 18,
   "metadata": {},
   "outputs": [
    {
     "data": {
      "text/html": [
       "<div>\n",
       "<style scoped>\n",
       "    .dataframe tbody tr th:only-of-type {\n",
       "        vertical-align: middle;\n",
       "    }\n",
       "\n",
       "    .dataframe tbody tr th {\n",
       "        vertical-align: top;\n",
       "    }\n",
       "\n",
       "    .dataframe thead th {\n",
       "        text-align: right;\n",
       "    }\n",
       "</style>\n",
       "<table border=\"1\" class=\"dataframe\">\n",
       "  <thead>\n",
       "    <tr style=\"text-align: right;\">\n",
       "      <th>Fever</th>\n",
       "      <th>With Fever</th>\n",
       "      <th>Without Fever</th>\n",
       "      <th>All</th>\n",
       "    </tr>\n",
       "    <tr>\n",
       "      <th>Sex</th>\n",
       "      <th></th>\n",
       "      <th></th>\n",
       "      <th></th>\n",
       "    </tr>\n",
       "  </thead>\n",
       "  <tbody>\n",
       "    <tr>\n",
       "      <th>Men</th>\n",
       "      <td>5429</td>\n",
       "      <td>816</td>\n",
       "      <td>6245</td>\n",
       "    </tr>\n",
       "    <tr>\n",
       "      <th>Women</th>\n",
       "      <td>4353</td>\n",
       "      <td>966</td>\n",
       "      <td>5319</td>\n",
       "    </tr>\n",
       "    <tr>\n",
       "      <th>All</th>\n",
       "      <td>9782</td>\n",
       "      <td>1782</td>\n",
       "      <td>11564</td>\n",
       "    </tr>\n",
       "  </tbody>\n",
       "</table>\n",
       "</div>"
      ],
      "text/plain": [
       "Fever  With Fever  Without Fever    All\n",
       "Sex                                    \n",
       "Men          5429            816   6245\n",
       "Women        4353            966   5319\n",
       "All          9782           1782  11564"
      ]
     },
     "execution_count": 18,
     "metadata": {},
     "output_type": "execute_result"
    }
   ],
   "source": [
    "\"\"\"Contingency table Sex & Fever\"\"\"\n",
    "fever_ct=pd.crosstab(index=data['Sex'],columns=data['Fever'])\n",
    "fever_ct\n",
    "fever_ct.iloc[0].values\n",
    "fever_ct.iloc[1].values\n",
    "pd.crosstab(index=data['Sex'],columns=data['Fever'], margins=True)"
   ]
  },
  {
   "cell_type": "code",
   "execution_count": 19,
   "metadata": {},
   "outputs": [
    {
     "data": {
      "text/html": [
       "<div>\n",
       "<style scoped>\n",
       "    .dataframe tbody tr th:only-of-type {\n",
       "        vertical-align: middle;\n",
       "    }\n",
       "\n",
       "    .dataframe tbody tr th {\n",
       "        vertical-align: top;\n",
       "    }\n",
       "\n",
       "    .dataframe thead th {\n",
       "        text-align: right;\n",
       "    }\n",
       "</style>\n",
       "<table border=\"1\" class=\"dataframe\">\n",
       "  <thead>\n",
       "    <tr style=\"text-align: right;\">\n",
       "      <th>Cough</th>\n",
       "      <th>With Cough</th>\n",
       "      <th>Without Cough</th>\n",
       "      <th>All</th>\n",
       "    </tr>\n",
       "    <tr>\n",
       "      <th>Sex</th>\n",
       "      <th></th>\n",
       "      <th></th>\n",
       "      <th></th>\n",
       "    </tr>\n",
       "  </thead>\n",
       "  <tbody>\n",
       "    <tr>\n",
       "      <th>Men</th>\n",
       "      <td>5469</td>\n",
       "      <td>776</td>\n",
       "      <td>6245</td>\n",
       "    </tr>\n",
       "    <tr>\n",
       "      <th>Women</th>\n",
       "      <td>4553</td>\n",
       "      <td>766</td>\n",
       "      <td>5319</td>\n",
       "    </tr>\n",
       "    <tr>\n",
       "      <th>All</th>\n",
       "      <td>10022</td>\n",
       "      <td>1542</td>\n",
       "      <td>11564</td>\n",
       "    </tr>\n",
       "  </tbody>\n",
       "</table>\n",
       "</div>"
      ],
      "text/plain": [
       "Cough  With Cough  Without Cough    All\n",
       "Sex                                    \n",
       "Men          5469            776   6245\n",
       "Women        4553            766   5319\n",
       "All         10022           1542  11564"
      ]
     },
     "execution_count": 19,
     "metadata": {},
     "output_type": "execute_result"
    }
   ],
   "source": [
    "\"\"\"Contingency table Sex & Cough\"\"\"\n",
    "cough_ct=pd.crosstab(index=data['Sex'],columns=data['Cough'])\n",
    "cough_ct\n",
    "cough_ct.iloc[0].values\n",
    "cough_ct.iloc[1].values\n",
    "pd.crosstab(index=data['Sex'],columns=data['Cough'], margins=True)"
   ]
  },
  {
   "cell_type": "code",
   "execution_count": 20,
   "metadata": {},
   "outputs": [
    {
     "data": {
      "text/html": [
       "<div>\n",
       "<style scoped>\n",
       "    .dataframe tbody tr th:only-of-type {\n",
       "        vertical-align: middle;\n",
       "    }\n",
       "\n",
       "    .dataframe tbody tr th {\n",
       "        vertical-align: top;\n",
       "    }\n",
       "\n",
       "    .dataframe thead th {\n",
       "        text-align: right;\n",
       "    }\n",
       "</style>\n",
       "<table border=\"1\" class=\"dataframe\">\n",
       "  <thead>\n",
       "    <tr style=\"text-align: right;\">\n",
       "      <th>Odynophagia</th>\n",
       "      <th>With Odynophagia</th>\n",
       "      <th>Without Odynophagia</th>\n",
       "      <th>All</th>\n",
       "    </tr>\n",
       "    <tr>\n",
       "      <th>Sex</th>\n",
       "      <th></th>\n",
       "      <th></th>\n",
       "      <th></th>\n",
       "    </tr>\n",
       "  </thead>\n",
       "  <tbody>\n",
       "    <tr>\n",
       "      <th>Men</th>\n",
       "      <td>3771</td>\n",
       "      <td>2474</td>\n",
       "      <td>6245</td>\n",
       "    </tr>\n",
       "    <tr>\n",
       "      <th>Women</th>\n",
       "      <td>3281</td>\n",
       "      <td>2038</td>\n",
       "      <td>5319</td>\n",
       "    </tr>\n",
       "    <tr>\n",
       "      <th>All</th>\n",
       "      <td>7052</td>\n",
       "      <td>4512</td>\n",
       "      <td>11564</td>\n",
       "    </tr>\n",
       "  </tbody>\n",
       "</table>\n",
       "</div>"
      ],
      "text/plain": [
       "Odynophagia  With Odynophagia  Without Odynophagia    All\n",
       "Sex                                                      \n",
       "Men                      3771                 2474   6245\n",
       "Women                    3281                 2038   5319\n",
       "All                      7052                 4512  11564"
      ]
     },
     "execution_count": 20,
     "metadata": {},
     "output_type": "execute_result"
    }
   ],
   "source": [
    "\"\"\"Contingency table Sex & Odynophagia\"\"\"\n",
    "Odynophagia_ct=pd.crosstab(index=data['Sex'],columns=data['Odynophagia'])\n",
    "Odynophagia_ct\n",
    "Odynophagia_ct.iloc[0].values\n",
    "Odynophagia_ct.iloc[1].values\n",
    "pd.crosstab(index=data['Sex'],columns=data['Odynophagia'], margins=True)"
   ]
  },
  {
   "cell_type": "code",
   "execution_count": 21,
   "metadata": {},
   "outputs": [
    {
     "data": {
      "text/html": [
       "<div>\n",
       "<style scoped>\n",
       "    .dataframe tbody tr th:only-of-type {\n",
       "        vertical-align: middle;\n",
       "    }\n",
       "\n",
       "    .dataframe tbody tr th {\n",
       "        vertical-align: top;\n",
       "    }\n",
       "\n",
       "    .dataframe thead th {\n",
       "        text-align: right;\n",
       "    }\n",
       "</style>\n",
       "<table border=\"1\" class=\"dataframe\">\n",
       "  <thead>\n",
       "    <tr style=\"text-align: right;\">\n",
       "      <th>Dyspnea</th>\n",
       "      <th>With Dyspnea</th>\n",
       "      <th>Without Dyspnea</th>\n",
       "      <th>All</th>\n",
       "    </tr>\n",
       "    <tr>\n",
       "      <th>Sex</th>\n",
       "      <th></th>\n",
       "      <th></th>\n",
       "      <th></th>\n",
       "    </tr>\n",
       "  </thead>\n",
       "  <tbody>\n",
       "    <tr>\n",
       "      <th>Men</th>\n",
       "      <td>3113</td>\n",
       "      <td>3132</td>\n",
       "      <td>6245</td>\n",
       "    </tr>\n",
       "    <tr>\n",
       "      <th>Women</th>\n",
       "      <td>2025</td>\n",
       "      <td>3294</td>\n",
       "      <td>5319</td>\n",
       "    </tr>\n",
       "    <tr>\n",
       "      <th>All</th>\n",
       "      <td>5138</td>\n",
       "      <td>6426</td>\n",
       "      <td>11564</td>\n",
       "    </tr>\n",
       "  </tbody>\n",
       "</table>\n",
       "</div>"
      ],
      "text/plain": [
       "Dyspnea  With Dyspnea  Without Dyspnea    All\n",
       "Sex                                          \n",
       "Men              3113             3132   6245\n",
       "Women            2025             3294   5319\n",
       "All              5138             6426  11564"
      ]
     },
     "execution_count": 21,
     "metadata": {},
     "output_type": "execute_result"
    }
   ],
   "source": [
    "\"\"\"Contingency table Sex & Dyspnea\"\"\"\n",
    "Dyspnea_ct=pd.crosstab(index=data['Sex'],columns=data['Dyspnea'])\n",
    "Dyspnea_ct\n",
    "Dyspnea_ct.iloc[0].values\n",
    "Dyspnea_ct.iloc[1].values\n",
    "pd.crosstab(index=data['Sex'],columns=data['Dyspnea'], margins=True)"
   ]
  },
  {
   "cell_type": "code",
   "execution_count": 22,
   "metadata": {},
   "outputs": [
    {
     "data": {
      "text/html": [
       "<div>\n",
       "<style scoped>\n",
       "    .dataframe tbody tr th:only-of-type {\n",
       "        vertical-align: middle;\n",
       "    }\n",
       "\n",
       "    .dataframe tbody tr th {\n",
       "        vertical-align: top;\n",
       "    }\n",
       "\n",
       "    .dataframe thead th {\n",
       "        text-align: right;\n",
       "    }\n",
       "</style>\n",
       "<table border=\"1\" class=\"dataframe\">\n",
       "  <thead>\n",
       "    <tr style=\"text-align: right;\">\n",
       "      <th>Irritability</th>\n",
       "      <th>With Irritability</th>\n",
       "      <th>Without Irritability</th>\n",
       "      <th>All</th>\n",
       "    </tr>\n",
       "    <tr>\n",
       "      <th>Sex</th>\n",
       "      <th></th>\n",
       "      <th></th>\n",
       "      <th></th>\n",
       "    </tr>\n",
       "  </thead>\n",
       "  <tbody>\n",
       "    <tr>\n",
       "      <th>Men</th>\n",
       "      <td>940</td>\n",
       "      <td>5305</td>\n",
       "      <td>6245</td>\n",
       "    </tr>\n",
       "    <tr>\n",
       "      <th>Women</th>\n",
       "      <td>816</td>\n",
       "      <td>4503</td>\n",
       "      <td>5319</td>\n",
       "    </tr>\n",
       "    <tr>\n",
       "      <th>All</th>\n",
       "      <td>1756</td>\n",
       "      <td>9808</td>\n",
       "      <td>11564</td>\n",
       "    </tr>\n",
       "  </tbody>\n",
       "</table>\n",
       "</div>"
      ],
      "text/plain": [
       "Irritability  With Irritability  Without Irritability    All\n",
       "Sex                                                         \n",
       "Men                         940                  5305   6245\n",
       "Women                       816                  4503   5319\n",
       "All                        1756                  9808  11564"
      ]
     },
     "execution_count": 22,
     "metadata": {},
     "output_type": "execute_result"
    }
   ],
   "source": [
    "\"\"\"Contingency table Sex & Irritability\"\"\"\n",
    "Irritability_ct=pd.crosstab(index=data['Sex'],columns=data['Irritability'])\n",
    "Irritability_ct\n",
    "Irritability_ct.iloc[0].values\n",
    "Irritability_ct.iloc[1].values\n",
    "pd.crosstab(index=data['Sex'],columns=data['Irritability'], margins=True)"
   ]
  },
  {
   "cell_type": "code",
   "execution_count": 23,
   "metadata": {},
   "outputs": [
    {
     "data": {
      "text/html": [
       "<div>\n",
       "<style scoped>\n",
       "    .dataframe tbody tr th:only-of-type {\n",
       "        vertical-align: middle;\n",
       "    }\n",
       "\n",
       "    .dataframe tbody tr th {\n",
       "        vertical-align: top;\n",
       "    }\n",
       "\n",
       "    .dataframe thead th {\n",
       "        text-align: right;\n",
       "    }\n",
       "</style>\n",
       "<table border=\"1\" class=\"dataframe\">\n",
       "  <thead>\n",
       "    <tr style=\"text-align: right;\">\n",
       "      <th>Diarrhea</th>\n",
       "      <th>With Diarrhea</th>\n",
       "      <th>Without Diarrhea</th>\n",
       "      <th>All</th>\n",
       "    </tr>\n",
       "    <tr>\n",
       "      <th>Sex</th>\n",
       "      <th></th>\n",
       "      <th></th>\n",
       "      <th></th>\n",
       "    </tr>\n",
       "  </thead>\n",
       "  <tbody>\n",
       "    <tr>\n",
       "      <th>Men</th>\n",
       "      <td>1301</td>\n",
       "      <td>4944</td>\n",
       "      <td>6245</td>\n",
       "    </tr>\n",
       "    <tr>\n",
       "      <th>Women</th>\n",
       "      <td>1155</td>\n",
       "      <td>4164</td>\n",
       "      <td>5319</td>\n",
       "    </tr>\n",
       "    <tr>\n",
       "      <th>All</th>\n",
       "      <td>2456</td>\n",
       "      <td>9108</td>\n",
       "      <td>11564</td>\n",
       "    </tr>\n",
       "  </tbody>\n",
       "</table>\n",
       "</div>"
      ],
      "text/plain": [
       "Diarrhea  With Diarrhea  Without Diarrhea    All\n",
       "Sex                                             \n",
       "Men                1301              4944   6245\n",
       "Women              1155              4164   5319\n",
       "All                2456              9108  11564"
      ]
     },
     "execution_count": 23,
     "metadata": {},
     "output_type": "execute_result"
    }
   ],
   "source": [
    "\"\"\"Contingency table Sex & Diarrhea\"\"\"\n",
    "Diarrhea_ct=pd.crosstab(index=data['Sex'],columns=data['Diarrhea'])\n",
    "Diarrhea_ct\n",
    "Diarrhea_ct.iloc[0].values\n",
    "Diarrhea_ct.iloc[1].values\n",
    "pd.crosstab(index=data['Sex'],columns=data['Diarrhea'], margins=True)"
   ]
  },
  {
   "cell_type": "code",
   "execution_count": 24,
   "metadata": {},
   "outputs": [
    {
     "data": {
      "text/html": [
       "<div>\n",
       "<style scoped>\n",
       "    .dataframe tbody tr th:only-of-type {\n",
       "        vertical-align: middle;\n",
       "    }\n",
       "\n",
       "    .dataframe tbody tr th {\n",
       "        vertical-align: top;\n",
       "    }\n",
       "\n",
       "    .dataframe thead th {\n",
       "        text-align: right;\n",
       "    }\n",
       "</style>\n",
       "<table border=\"1\" class=\"dataframe\">\n",
       "  <thead>\n",
       "    <tr style=\"text-align: right;\">\n",
       "      <th>Chest pain</th>\n",
       "      <th>With Chest pain</th>\n",
       "      <th>Without Chest pain</th>\n",
       "      <th>All</th>\n",
       "    </tr>\n",
       "    <tr>\n",
       "      <th>Sex</th>\n",
       "      <th></th>\n",
       "      <th></th>\n",
       "      <th></th>\n",
       "    </tr>\n",
       "  </thead>\n",
       "  <tbody>\n",
       "    <tr>\n",
       "      <th>Men</th>\n",
       "      <td>2079</td>\n",
       "      <td>4166</td>\n",
       "      <td>6245</td>\n",
       "    </tr>\n",
       "    <tr>\n",
       "      <th>Women</th>\n",
       "      <td>1732</td>\n",
       "      <td>3587</td>\n",
       "      <td>5319</td>\n",
       "    </tr>\n",
       "    <tr>\n",
       "      <th>All</th>\n",
       "      <td>3811</td>\n",
       "      <td>7753</td>\n",
       "      <td>11564</td>\n",
       "    </tr>\n",
       "  </tbody>\n",
       "</table>\n",
       "</div>"
      ],
      "text/plain": [
       "Chest pain  With Chest pain  Without Chest pain    All\n",
       "Sex                                                   \n",
       "Men                    2079                4166   6245\n",
       "Women                  1732                3587   5319\n",
       "All                    3811                7753  11564"
      ]
     },
     "execution_count": 24,
     "metadata": {},
     "output_type": "execute_result"
    }
   ],
   "source": [
    "\"\"\"Contingency table Sex & Chest pain\"\"\"\n",
    "chest_pain_ct=pd.crosstab(index=data['Sex'],columns=data['Chest pain'])\n",
    "chest_pain_ct\n",
    "chest_pain_ct.iloc[0].values\n",
    "chest_pain_ct.iloc[1].values\n",
    "pd.crosstab(index=data['Sex'],columns=data['Chest pain'], margins=True)"
   ]
  },
  {
   "cell_type": "code",
   "execution_count": 25,
   "metadata": {},
   "outputs": [
    {
     "data": {
      "text/html": [
       "<div>\n",
       "<style scoped>\n",
       "    .dataframe tbody tr th:only-of-type {\n",
       "        vertical-align: middle;\n",
       "    }\n",
       "\n",
       "    .dataframe tbody tr th {\n",
       "        vertical-align: top;\n",
       "    }\n",
       "\n",
       "    .dataframe thead th {\n",
       "        text-align: right;\n",
       "    }\n",
       "</style>\n",
       "<table border=\"1\" class=\"dataframe\">\n",
       "  <thead>\n",
       "    <tr style=\"text-align: right;\">\n",
       "      <th>Chills</th>\n",
       "      <th>With Chills</th>\n",
       "      <th>Without Chills</th>\n",
       "      <th>All</th>\n",
       "    </tr>\n",
       "    <tr>\n",
       "      <th>Sex</th>\n",
       "      <th></th>\n",
       "      <th></th>\n",
       "      <th></th>\n",
       "    </tr>\n",
       "  </thead>\n",
       "  <tbody>\n",
       "    <tr>\n",
       "      <th>Men</th>\n",
       "      <td>3297</td>\n",
       "      <td>2948</td>\n",
       "      <td>6245</td>\n",
       "    </tr>\n",
       "    <tr>\n",
       "      <th>Women</th>\n",
       "      <td>2760</td>\n",
       "      <td>2559</td>\n",
       "      <td>5319</td>\n",
       "    </tr>\n",
       "    <tr>\n",
       "      <th>All</th>\n",
       "      <td>6057</td>\n",
       "      <td>5507</td>\n",
       "      <td>11564</td>\n",
       "    </tr>\n",
       "  </tbody>\n",
       "</table>\n",
       "</div>"
      ],
      "text/plain": [
       "Chills  With Chills  Without Chills    All\n",
       "Sex                                       \n",
       "Men            3297            2948   6245\n",
       "Women          2760            2559   5319\n",
       "All            6057            5507  11564"
      ]
     },
     "execution_count": 25,
     "metadata": {},
     "output_type": "execute_result"
    }
   ],
   "source": [
    "\"\"\"Contingency table Sex & Chills\"\"\"\n",
    "Chills_ct=pd.crosstab(index=data['Sex'],columns=data['Chills'])\n",
    "Chills_ct\n",
    "Chills_ct.iloc[0].values\n",
    "Chills_ct.iloc[1].values\n",
    "pd.crosstab(index=data['Sex'],columns=data['Chills'], margins=True)"
   ]
  },
  {
   "cell_type": "code",
   "execution_count": 26,
   "metadata": {},
   "outputs": [
    {
     "data": {
      "text/html": [
       "<div>\n",
       "<style scoped>\n",
       "    .dataframe tbody tr th:only-of-type {\n",
       "        vertical-align: middle;\n",
       "    }\n",
       "\n",
       "    .dataframe tbody tr th {\n",
       "        vertical-align: top;\n",
       "    }\n",
       "\n",
       "    .dataframe thead th {\n",
       "        text-align: right;\n",
       "    }\n",
       "</style>\n",
       "<table border=\"1\" class=\"dataframe\">\n",
       "  <thead>\n",
       "    <tr style=\"text-align: right;\">\n",
       "      <th>Headache</th>\n",
       "      <th>With Headache</th>\n",
       "      <th>Without Headache</th>\n",
       "      <th>All</th>\n",
       "    </tr>\n",
       "    <tr>\n",
       "      <th>Sex</th>\n",
       "      <th></th>\n",
       "      <th></th>\n",
       "      <th></th>\n",
       "    </tr>\n",
       "  </thead>\n",
       "  <tbody>\n",
       "    <tr>\n",
       "      <th>Men</th>\n",
       "      <td>5211</td>\n",
       "      <td>1034</td>\n",
       "      <td>6245</td>\n",
       "    </tr>\n",
       "    <tr>\n",
       "      <th>Women</th>\n",
       "      <td>4609</td>\n",
       "      <td>710</td>\n",
       "      <td>5319</td>\n",
       "    </tr>\n",
       "    <tr>\n",
       "      <th>All</th>\n",
       "      <td>9820</td>\n",
       "      <td>1744</td>\n",
       "      <td>11564</td>\n",
       "    </tr>\n",
       "  </tbody>\n",
       "</table>\n",
       "</div>"
      ],
      "text/plain": [
       "Headache  With Headache  Without Headache    All\n",
       "Sex                                             \n",
       "Men                5211              1034   6245\n",
       "Women              4609               710   5319\n",
       "All                9820              1744  11564"
      ]
     },
     "execution_count": 26,
     "metadata": {},
     "output_type": "execute_result"
    }
   ],
   "source": [
    "\"\"\"Contingency table Sex & Headache\"\"\"\n",
    "Headache_ct=pd.crosstab(index=data['Sex'],columns=data['Headache'])\n",
    "Headache_ct\n",
    "Headache_ct.iloc[0].values\n",
    "Headache_ct.iloc[1].values\n",
    "pd.crosstab(index=data['Sex'],columns=data['Headache'], margins=True)"
   ]
  },
  {
   "cell_type": "code",
   "execution_count": 27,
   "metadata": {},
   "outputs": [
    {
     "data": {
      "text/html": [
       "<div>\n",
       "<style scoped>\n",
       "    .dataframe tbody tr th:only-of-type {\n",
       "        vertical-align: middle;\n",
       "    }\n",
       "\n",
       "    .dataframe tbody tr th {\n",
       "        vertical-align: top;\n",
       "    }\n",
       "\n",
       "    .dataframe thead th {\n",
       "        text-align: right;\n",
       "    }\n",
       "</style>\n",
       "<table border=\"1\" class=\"dataframe\">\n",
       "  <thead>\n",
       "    <tr style=\"text-align: right;\">\n",
       "      <th>Myalgia</th>\n",
       "      <th>With Myalgia</th>\n",
       "      <th>Without Myalgia</th>\n",
       "      <th>All</th>\n",
       "    </tr>\n",
       "    <tr>\n",
       "      <th>Sex</th>\n",
       "      <th></th>\n",
       "      <th></th>\n",
       "      <th></th>\n",
       "    </tr>\n",
       "  </thead>\n",
       "  <tbody>\n",
       "    <tr>\n",
       "      <th>Men</th>\n",
       "      <td>4677</td>\n",
       "      <td>1568</td>\n",
       "      <td>6245</td>\n",
       "    </tr>\n",
       "    <tr>\n",
       "      <th>Women</th>\n",
       "      <td>3979</td>\n",
       "      <td>1340</td>\n",
       "      <td>5319</td>\n",
       "    </tr>\n",
       "    <tr>\n",
       "      <th>All</th>\n",
       "      <td>8656</td>\n",
       "      <td>2908</td>\n",
       "      <td>11564</td>\n",
       "    </tr>\n",
       "  </tbody>\n",
       "</table>\n",
       "</div>"
      ],
      "text/plain": [
       "Myalgia  With Myalgia  Without Myalgia    All\n",
       "Sex                                          \n",
       "Men              4677             1568   6245\n",
       "Women            3979             1340   5319\n",
       "All              8656             2908  11564"
      ]
     },
     "execution_count": 27,
     "metadata": {},
     "output_type": "execute_result"
    }
   ],
   "source": [
    "\"\"\"Contingency table Sex & Myalgia\"\"\"\n",
    "Myalgia_ct=pd.crosstab(index=data['Sex'],columns=data['Myalgia'])\n",
    "Myalgia_ct\n",
    "Myalgia_ct.iloc[0].values\n",
    "Myalgia_ct.iloc[1].values\n",
    "pd.crosstab(index=data['Sex'],columns=data['Myalgia'], margins=True)"
   ]
  },
  {
   "cell_type": "code",
   "execution_count": 28,
   "metadata": {},
   "outputs": [
    {
     "data": {
      "text/html": [
       "<div>\n",
       "<style scoped>\n",
       "    .dataframe tbody tr th:only-of-type {\n",
       "        vertical-align: middle;\n",
       "    }\n",
       "\n",
       "    .dataframe tbody tr th {\n",
       "        vertical-align: top;\n",
       "    }\n",
       "\n",
       "    .dataframe thead th {\n",
       "        text-align: right;\n",
       "    }\n",
       "</style>\n",
       "<table border=\"1\" class=\"dataframe\">\n",
       "  <thead>\n",
       "    <tr style=\"text-align: right;\">\n",
       "      <th>Arthralgia</th>\n",
       "      <th>With Arthralgia</th>\n",
       "      <th>Without Arthralgia</th>\n",
       "      <th>All</th>\n",
       "    </tr>\n",
       "    <tr>\n",
       "      <th>Sex</th>\n",
       "      <th></th>\n",
       "      <th></th>\n",
       "      <th></th>\n",
       "    </tr>\n",
       "  </thead>\n",
       "  <tbody>\n",
       "    <tr>\n",
       "      <th>Men</th>\n",
       "      <td>4444</td>\n",
       "      <td>1801</td>\n",
       "      <td>6245</td>\n",
       "    </tr>\n",
       "    <tr>\n",
       "      <th>Women</th>\n",
       "      <td>3719</td>\n",
       "      <td>1600</td>\n",
       "      <td>5319</td>\n",
       "    </tr>\n",
       "    <tr>\n",
       "      <th>All</th>\n",
       "      <td>8163</td>\n",
       "      <td>3401</td>\n",
       "      <td>11564</td>\n",
       "    </tr>\n",
       "  </tbody>\n",
       "</table>\n",
       "</div>"
      ],
      "text/plain": [
       "Arthralgia  With Arthralgia  Without Arthralgia    All\n",
       "Sex                                                   \n",
       "Men                    4444                1801   6245\n",
       "Women                  3719                1600   5319\n",
       "All                    8163                3401  11564"
      ]
     },
     "execution_count": 28,
     "metadata": {},
     "output_type": "execute_result"
    }
   ],
   "source": [
    "\"\"\"Contingency table Sex & Arthralgia\"\"\"\n",
    "Arthralgia_ct=pd.crosstab(index=data['Sex'],columns=data['Arthralgia'])\n",
    "Arthralgia_ct\n",
    "Arthralgia_ct.iloc[0].values\n",
    "Arthralgia_ct.iloc[1].values\n",
    "pd.crosstab(index=data['Sex'],columns=data['Arthralgia'], margins=True)"
   ]
  },
  {
   "cell_type": "code",
   "execution_count": 29,
   "metadata": {},
   "outputs": [
    {
     "data": {
      "text/html": [
       "<div>\n",
       "<style scoped>\n",
       "    .dataframe tbody tr th:only-of-type {\n",
       "        vertical-align: middle;\n",
       "    }\n",
       "\n",
       "    .dataframe tbody tr th {\n",
       "        vertical-align: top;\n",
       "    }\n",
       "\n",
       "    .dataframe thead th {\n",
       "        text-align: right;\n",
       "    }\n",
       "</style>\n",
       "<table border=\"1\" class=\"dataframe\">\n",
       "  <thead>\n",
       "    <tr style=\"text-align: right;\">\n",
       "      <th>General discomfort</th>\n",
       "      <th>With General discomfort</th>\n",
       "      <th>Without General discomfort</th>\n",
       "      <th>All</th>\n",
       "    </tr>\n",
       "    <tr>\n",
       "      <th>Sex</th>\n",
       "      <th></th>\n",
       "      <th></th>\n",
       "      <th></th>\n",
       "    </tr>\n",
       "  </thead>\n",
       "  <tbody>\n",
       "    <tr>\n",
       "      <th>Men</th>\n",
       "      <td>3707</td>\n",
       "      <td>2538</td>\n",
       "      <td>6245</td>\n",
       "    </tr>\n",
       "    <tr>\n",
       "      <th>Women</th>\n",
       "      <td>2877</td>\n",
       "      <td>2442</td>\n",
       "      <td>5319</td>\n",
       "    </tr>\n",
       "    <tr>\n",
       "      <th>All</th>\n",
       "      <td>6584</td>\n",
       "      <td>4980</td>\n",
       "      <td>11564</td>\n",
       "    </tr>\n",
       "  </tbody>\n",
       "</table>\n",
       "</div>"
      ],
      "text/plain": [
       "General discomfort  With General discomfort  Without General discomfort    All\n",
       "Sex                                                                           \n",
       "Men                                    3707                        2538   6245\n",
       "Women                                  2877                        2442   5319\n",
       "All                                    6584                        4980  11564"
      ]
     },
     "execution_count": 29,
     "metadata": {},
     "output_type": "execute_result"
    }
   ],
   "source": [
    "\"\"\"Contingency table Sex & General discomfort\"\"\"\n",
    "General_ct=pd.crosstab(index=data['Sex'],columns=data['General discomfort'])\n",
    "General_ct\n",
    "General_ct.iloc[0].values\n",
    "General_ct.iloc[1].values\n",
    "pd.crosstab(index=data['Sex'],columns=data['General discomfort'], margins=True)"
   ]
  },
  {
   "cell_type": "code",
   "execution_count": 30,
   "metadata": {},
   "outputs": [
    {
     "data": {
      "text/html": [
       "<div>\n",
       "<style scoped>\n",
       "    .dataframe tbody tr th:only-of-type {\n",
       "        vertical-align: middle;\n",
       "    }\n",
       "\n",
       "    .dataframe tbody tr th {\n",
       "        vertical-align: top;\n",
       "    }\n",
       "\n",
       "    .dataframe thead th {\n",
       "        text-align: right;\n",
       "    }\n",
       "</style>\n",
       "<table border=\"1\" class=\"dataframe\">\n",
       "  <thead>\n",
       "    <tr style=\"text-align: right;\">\n",
       "      <th>Rhinorrhea</th>\n",
       "      <th>With Rhinorrhea</th>\n",
       "      <th>Without Rhinorrhea</th>\n",
       "      <th>All</th>\n",
       "    </tr>\n",
       "    <tr>\n",
       "      <th>Sex</th>\n",
       "      <th></th>\n",
       "      <th></th>\n",
       "      <th></th>\n",
       "    </tr>\n",
       "  </thead>\n",
       "  <tbody>\n",
       "    <tr>\n",
       "      <th>Men</th>\n",
       "      <td>1796</td>\n",
       "      <td>4449</td>\n",
       "      <td>6245</td>\n",
       "    </tr>\n",
       "    <tr>\n",
       "      <th>Women</th>\n",
       "      <td>1760</td>\n",
       "      <td>3559</td>\n",
       "      <td>5319</td>\n",
       "    </tr>\n",
       "    <tr>\n",
       "      <th>All</th>\n",
       "      <td>3556</td>\n",
       "      <td>8008</td>\n",
       "      <td>11564</td>\n",
       "    </tr>\n",
       "  </tbody>\n",
       "</table>\n",
       "</div>"
      ],
      "text/plain": [
       "Rhinorrhea  With Rhinorrhea  Without Rhinorrhea    All\n",
       "Sex                                                   \n",
       "Men                    1796                4449   6245\n",
       "Women                  1760                3559   5319\n",
       "All                    3556                8008  11564"
      ]
     },
     "execution_count": 30,
     "metadata": {},
     "output_type": "execute_result"
    }
   ],
   "source": [
    "\"\"\"Contingency table Sex & Rhinorrhea\"\"\"\n",
    "Rhinorrhea_ct=pd.crosstab(index=data['Sex'],columns=data['Rhinorrhea'])\n",
    "Rhinorrhea_ct\n",
    "Rhinorrhea_ct.iloc[0].values\n",
    "Rhinorrhea_ct.iloc[1].values\n",
    "pd.crosstab(index=data['Sex'],columns=data['Rhinorrhea'], margins=True)"
   ]
  },
  {
   "cell_type": "code",
   "execution_count": 31,
   "metadata": {},
   "outputs": [
    {
     "data": {
      "text/html": [
       "<div>\n",
       "<style scoped>\n",
       "    .dataframe tbody tr th:only-of-type {\n",
       "        vertical-align: middle;\n",
       "    }\n",
       "\n",
       "    .dataframe tbody tr th {\n",
       "        vertical-align: top;\n",
       "    }\n",
       "\n",
       "    .dataframe thead th {\n",
       "        text-align: right;\n",
       "    }\n",
       "</style>\n",
       "<table border=\"1\" class=\"dataframe\">\n",
       "  <thead>\n",
       "    <tr style=\"text-align: right;\">\n",
       "      <th>Polypnea</th>\n",
       "      <th>With Polypnea</th>\n",
       "      <th>Without Polypnea</th>\n",
       "      <th>All</th>\n",
       "    </tr>\n",
       "    <tr>\n",
       "      <th>Sex</th>\n",
       "      <th></th>\n",
       "      <th></th>\n",
       "      <th></th>\n",
       "    </tr>\n",
       "  </thead>\n",
       "  <tbody>\n",
       "    <tr>\n",
       "      <th>Men</th>\n",
       "      <td>1065</td>\n",
       "      <td>5180</td>\n",
       "      <td>6245</td>\n",
       "    </tr>\n",
       "    <tr>\n",
       "      <th>Women</th>\n",
       "      <td>650</td>\n",
       "      <td>4669</td>\n",
       "      <td>5319</td>\n",
       "    </tr>\n",
       "    <tr>\n",
       "      <th>All</th>\n",
       "      <td>1715</td>\n",
       "      <td>9849</td>\n",
       "      <td>11564</td>\n",
       "    </tr>\n",
       "  </tbody>\n",
       "</table>\n",
       "</div>"
      ],
      "text/plain": [
       "Polypnea  With Polypnea  Without Polypnea    All\n",
       "Sex                                             \n",
       "Men                1065              5180   6245\n",
       "Women               650              4669   5319\n",
       "All                1715              9849  11564"
      ]
     },
     "execution_count": 31,
     "metadata": {},
     "output_type": "execute_result"
    }
   ],
   "source": [
    "\"\"\"Contingency table Sex & Polypnea\"\"\"\n",
    "Polypnea_ct=pd.crosstab(index=data['Sex'],columns=data['Polypnea'])\n",
    "Polypnea_ct\n",
    "Polypnea_ct.iloc[0].values\n",
    "Polypnea_ct.iloc[1].values\n",
    "pd.crosstab(index=data['Sex'],columns=data['Polypnea'], margins=True)"
   ]
  },
  {
   "cell_type": "code",
   "execution_count": 32,
   "metadata": {},
   "outputs": [
    {
     "data": {
      "text/html": [
       "<div>\n",
       "<style scoped>\n",
       "    .dataframe tbody tr th:only-of-type {\n",
       "        vertical-align: middle;\n",
       "    }\n",
       "\n",
       "    .dataframe tbody tr th {\n",
       "        vertical-align: top;\n",
       "    }\n",
       "\n",
       "    .dataframe thead th {\n",
       "        text-align: right;\n",
       "    }\n",
       "</style>\n",
       "<table border=\"1\" class=\"dataframe\">\n",
       "  <thead>\n",
       "    <tr style=\"text-align: right;\">\n",
       "      <th>Vomiting</th>\n",
       "      <th>With Vomiting</th>\n",
       "      <th>Without Vomiting</th>\n",
       "      <th>All</th>\n",
       "    </tr>\n",
       "    <tr>\n",
       "      <th>Sex</th>\n",
       "      <th></th>\n",
       "      <th></th>\n",
       "      <th></th>\n",
       "    </tr>\n",
       "  </thead>\n",
       "  <tbody>\n",
       "    <tr>\n",
       "      <th>Men</th>\n",
       "      <td>424</td>\n",
       "      <td>5821</td>\n",
       "      <td>6245</td>\n",
       "    </tr>\n",
       "    <tr>\n",
       "      <th>Women</th>\n",
       "      <td>459</td>\n",
       "      <td>4860</td>\n",
       "      <td>5319</td>\n",
       "    </tr>\n",
       "    <tr>\n",
       "      <th>All</th>\n",
       "      <td>883</td>\n",
       "      <td>10681</td>\n",
       "      <td>11564</td>\n",
       "    </tr>\n",
       "  </tbody>\n",
       "</table>\n",
       "</div>"
      ],
      "text/plain": [
       "Vomiting  With Vomiting  Without Vomiting    All\n",
       "Sex                                             \n",
       "Men                 424              5821   6245\n",
       "Women               459              4860   5319\n",
       "All                 883             10681  11564"
      ]
     },
     "execution_count": 32,
     "metadata": {},
     "output_type": "execute_result"
    }
   ],
   "source": [
    "\"\"\"Contingency table Sex & Vomiting\"\"\"\n",
    "Vomiting_ct=pd.crosstab(index=data['Sex'],columns=data['Vomiting'])\n",
    "Vomiting_ct\n",
    "Vomiting_ct.iloc[0].values\n",
    "Vomiting_ct.iloc[1].values\n",
    "pd.crosstab(index=data['Sex'],columns=data['Vomiting'], margins=True)"
   ]
  },
  {
   "cell_type": "code",
   "execution_count": 33,
   "metadata": {},
   "outputs": [
    {
     "data": {
      "text/html": [
       "<div>\n",
       "<style scoped>\n",
       "    .dataframe tbody tr th:only-of-type {\n",
       "        vertical-align: middle;\n",
       "    }\n",
       "\n",
       "    .dataframe tbody tr th {\n",
       "        vertical-align: top;\n",
       "    }\n",
       "\n",
       "    .dataframe thead th {\n",
       "        text-align: right;\n",
       "    }\n",
       "</style>\n",
       "<table border=\"1\" class=\"dataframe\">\n",
       "  <thead>\n",
       "    <tr style=\"text-align: right;\">\n",
       "      <th>Abdominal pain</th>\n",
       "      <th>With Abdominal pain</th>\n",
       "      <th>Without Abdominal pain</th>\n",
       "      <th>All</th>\n",
       "    </tr>\n",
       "    <tr>\n",
       "      <th>Sex</th>\n",
       "      <th></th>\n",
       "      <th></th>\n",
       "      <th></th>\n",
       "    </tr>\n",
       "  </thead>\n",
       "  <tbody>\n",
       "    <tr>\n",
       "      <th>Men</th>\n",
       "      <td>741</td>\n",
       "      <td>5504</td>\n",
       "      <td>6245</td>\n",
       "    </tr>\n",
       "    <tr>\n",
       "      <th>Women</th>\n",
       "      <td>756</td>\n",
       "      <td>4563</td>\n",
       "      <td>5319</td>\n",
       "    </tr>\n",
       "    <tr>\n",
       "      <th>All</th>\n",
       "      <td>1497</td>\n",
       "      <td>10067</td>\n",
       "      <td>11564</td>\n",
       "    </tr>\n",
       "  </tbody>\n",
       "</table>\n",
       "</div>"
      ],
      "text/plain": [
       "Abdominal pain  With Abdominal pain  Without Abdominal pain    All\n",
       "Sex                                                               \n",
       "Men                             741                    5504   6245\n",
       "Women                           756                    4563   5319\n",
       "All                            1497                   10067  11564"
      ]
     },
     "execution_count": 33,
     "metadata": {},
     "output_type": "execute_result"
    }
   ],
   "source": [
    "\"\"\"Contingency table Sex & Abdominal pain\"\"\"\n",
    "Abdominal_pain_ct=pd.crosstab(index=data['Sex'],columns=data['Abdominal pain'])\n",
    "Abdominal_pain_ct\n",
    "Abdominal_pain_ct.iloc[0].values\n",
    "Abdominal_pain_ct.iloc[1].values\n",
    "pd.crosstab(index=data['Sex'],columns=data['Abdominal pain'], margins=True)"
   ]
  },
  {
   "cell_type": "code",
   "execution_count": 34,
   "metadata": {},
   "outputs": [
    {
     "data": {
      "text/html": [
       "<div>\n",
       "<style scoped>\n",
       "    .dataframe tbody tr th:only-of-type {\n",
       "        vertical-align: middle;\n",
       "    }\n",
       "\n",
       "    .dataframe tbody tr th {\n",
       "        vertical-align: top;\n",
       "    }\n",
       "\n",
       "    .dataframe thead th {\n",
       "        text-align: right;\n",
       "    }\n",
       "</style>\n",
       "<table border=\"1\" class=\"dataframe\">\n",
       "  <thead>\n",
       "    <tr style=\"text-align: right;\">\n",
       "      <th>Conjunctivitis</th>\n",
       "      <th>With Conjunctivitis</th>\n",
       "      <th>Without Conjunctivitis</th>\n",
       "      <th>All</th>\n",
       "    </tr>\n",
       "    <tr>\n",
       "      <th>Sex</th>\n",
       "      <th></th>\n",
       "      <th></th>\n",
       "      <th></th>\n",
       "    </tr>\n",
       "  </thead>\n",
       "  <tbody>\n",
       "    <tr>\n",
       "      <th>Men</th>\n",
       "      <td>638</td>\n",
       "      <td>5607</td>\n",
       "      <td>6245</td>\n",
       "    </tr>\n",
       "    <tr>\n",
       "      <th>Women</th>\n",
       "      <td>580</td>\n",
       "      <td>4739</td>\n",
       "      <td>5319</td>\n",
       "    </tr>\n",
       "    <tr>\n",
       "      <th>All</th>\n",
       "      <td>1218</td>\n",
       "      <td>10346</td>\n",
       "      <td>11564</td>\n",
       "    </tr>\n",
       "  </tbody>\n",
       "</table>\n",
       "</div>"
      ],
      "text/plain": [
       "Conjunctivitis  With Conjunctivitis  Without Conjunctivitis    All\n",
       "Sex                                                               \n",
       "Men                             638                    5607   6245\n",
       "Women                           580                    4739   5319\n",
       "All                            1218                   10346  11564"
      ]
     },
     "execution_count": 34,
     "metadata": {},
     "output_type": "execute_result"
    }
   ],
   "source": [
    "\"\"\"Contingency table Sex & Conjunctivitis\"\"\"\n",
    "Conjunctivitis_ct=pd.crosstab(index=data['Sex'],columns=data['Conjunctivitis'])\n",
    "Conjunctivitis_ct\n",
    "Conjunctivitis_ct.iloc[0].values\n",
    "Conjunctivitis_ct.iloc[1].values\n",
    "pd.crosstab(index=data['Sex'],columns=data['Conjunctivitis'], margins=True)"
   ]
  },
  {
   "cell_type": "code",
   "execution_count": 35,
   "metadata": {},
   "outputs": [
    {
     "data": {
      "text/html": [
       "<div>\n",
       "<style scoped>\n",
       "    .dataframe tbody tr th:only-of-type {\n",
       "        vertical-align: middle;\n",
       "    }\n",
       "\n",
       "    .dataframe tbody tr th {\n",
       "        vertical-align: top;\n",
       "    }\n",
       "\n",
       "    .dataframe thead th {\n",
       "        text-align: right;\n",
       "    }\n",
       "</style>\n",
       "<table border=\"1\" class=\"dataframe\">\n",
       "  <thead>\n",
       "    <tr style=\"text-align: right;\">\n",
       "      <th>Cyanosis</th>\n",
       "      <th>With Cyanosis</th>\n",
       "      <th>Without Cyanosis</th>\n",
       "      <th>All</th>\n",
       "    </tr>\n",
       "    <tr>\n",
       "      <th>Sex</th>\n",
       "      <th></th>\n",
       "      <th></th>\n",
       "      <th></th>\n",
       "    </tr>\n",
       "  </thead>\n",
       "  <tbody>\n",
       "    <tr>\n",
       "      <th>Men</th>\n",
       "      <td>239</td>\n",
       "      <td>6006</td>\n",
       "      <td>6245</td>\n",
       "    </tr>\n",
       "    <tr>\n",
       "      <th>Women</th>\n",
       "      <td>137</td>\n",
       "      <td>5182</td>\n",
       "      <td>5319</td>\n",
       "    </tr>\n",
       "    <tr>\n",
       "      <th>All</th>\n",
       "      <td>376</td>\n",
       "      <td>11188</td>\n",
       "      <td>11564</td>\n",
       "    </tr>\n",
       "  </tbody>\n",
       "</table>\n",
       "</div>"
      ],
      "text/plain": [
       "Cyanosis  With Cyanosis  Without Cyanosis    All\n",
       "Sex                                             \n",
       "Men                 239              6006   6245\n",
       "Women               137              5182   5319\n",
       "All                 376             11188  11564"
      ]
     },
     "execution_count": 35,
     "metadata": {},
     "output_type": "execute_result"
    }
   ],
   "source": [
    "\"\"\"Contingency table Sex & Cyanosis\"\"\"\n",
    "Cyanosis_ct=pd.crosstab(index=data['Sex'],columns=data['Cyanosis'])\n",
    "Cyanosis_ct\n",
    "Cyanosis_ct.iloc[0].values\n",
    "Cyanosis_ct.iloc[1].values\n",
    "pd.crosstab(index=data['Sex'],columns=data['Cyanosis'], margins=True)"
   ]
  },
  {
   "cell_type": "code",
   "execution_count": 36,
   "metadata": {},
   "outputs": [
    {
     "data": {
      "text/html": [
       "<div>\n",
       "<style scoped>\n",
       "    .dataframe tbody tr th:only-of-type {\n",
       "        vertical-align: middle;\n",
       "    }\n",
       "\n",
       "    .dataframe tbody tr th {\n",
       "        vertical-align: top;\n",
       "    }\n",
       "\n",
       "    .dataframe thead th {\n",
       "        text-align: right;\n",
       "    }\n",
       "</style>\n",
       "<table border=\"1\" class=\"dataframe\">\n",
       "  <thead>\n",
       "    <tr style=\"text-align: right;\">\n",
       "      <th>Sudden onset of symptoms</th>\n",
       "      <th>With Sudden onset of symptoms</th>\n",
       "      <th>Without Sudden onset of symptoms</th>\n",
       "      <th>All</th>\n",
       "    </tr>\n",
       "    <tr>\n",
       "      <th>Sex</th>\n",
       "      <th></th>\n",
       "      <th></th>\n",
       "      <th></th>\n",
       "    </tr>\n",
       "  </thead>\n",
       "  <tbody>\n",
       "    <tr>\n",
       "      <th>Men</th>\n",
       "      <td>2191</td>\n",
       "      <td>4054</td>\n",
       "      <td>6245</td>\n",
       "    </tr>\n",
       "    <tr>\n",
       "      <th>Women</th>\n",
       "      <td>1802</td>\n",
       "      <td>3517</td>\n",
       "      <td>5319</td>\n",
       "    </tr>\n",
       "    <tr>\n",
       "      <th>All</th>\n",
       "      <td>3993</td>\n",
       "      <td>7571</td>\n",
       "      <td>11564</td>\n",
       "    </tr>\n",
       "  </tbody>\n",
       "</table>\n",
       "</div>"
      ],
      "text/plain": [
       "Sudden onset of symptoms  With Sudden onset of symptoms  \\\n",
       "Sex                                                       \n",
       "Men                                                2191   \n",
       "Women                                              1802   \n",
       "All                                                3993   \n",
       "\n",
       "Sudden onset of symptoms  Without Sudden onset of symptoms    All  \n",
       "Sex                                                                \n",
       "Men                                                   4054   6245  \n",
       "Women                                                 3517   5319  \n",
       "All                                                   7571  11564  "
      ]
     },
     "execution_count": 36,
     "metadata": {},
     "output_type": "execute_result"
    }
   ],
   "source": [
    "\"\"\"Contingency table Sex & Sudden onset of symptoms\"\"\"\n",
    "Sudden_ct=pd.crosstab(index=data['Sex'],columns=data['Sudden onset of symptoms'])\n",
    "Sudden_ct\n",
    "Sudden_ct.iloc[0].values\n",
    "Sudden_ct.iloc[1].values\n",
    "pd.crosstab(index=data['Sex'],columns=data['Sudden onset of symptoms'], margins=True)"
   ]
  },
  {
   "cell_type": "code",
   "execution_count": 37,
   "metadata": {},
   "outputs": [
    {
     "data": {
      "text/html": [
       "<div>\n",
       "<style scoped>\n",
       "    .dataframe tbody tr th:only-of-type {\n",
       "        vertical-align: middle;\n",
       "    }\n",
       "\n",
       "    .dataframe tbody tr th {\n",
       "        vertical-align: top;\n",
       "    }\n",
       "\n",
       "    .dataframe thead th {\n",
       "        text-align: right;\n",
       "    }\n",
       "</style>\n",
       "<table border=\"1\" class=\"dataframe\">\n",
       "  <thead>\n",
       "    <tr style=\"text-align: right;\">\n",
       "      <th>Anosmia</th>\n",
       "      <th>With Anosmia</th>\n",
       "      <th>Without Anosmia</th>\n",
       "      <th>All</th>\n",
       "    </tr>\n",
       "    <tr>\n",
       "      <th>Sex</th>\n",
       "      <th></th>\n",
       "      <th></th>\n",
       "      <th></th>\n",
       "    </tr>\n",
       "  </thead>\n",
       "  <tbody>\n",
       "    <tr>\n",
       "      <th>Men</th>\n",
       "      <td>933</td>\n",
       "      <td>5312</td>\n",
       "      <td>6245</td>\n",
       "    </tr>\n",
       "    <tr>\n",
       "      <th>Women</th>\n",
       "      <td>995</td>\n",
       "      <td>4324</td>\n",
       "      <td>5319</td>\n",
       "    </tr>\n",
       "    <tr>\n",
       "      <th>All</th>\n",
       "      <td>1928</td>\n",
       "      <td>9636</td>\n",
       "      <td>11564</td>\n",
       "    </tr>\n",
       "  </tbody>\n",
       "</table>\n",
       "</div>"
      ],
      "text/plain": [
       "Anosmia  With Anosmia  Without Anosmia    All\n",
       "Sex                                          \n",
       "Men               933             5312   6245\n",
       "Women             995             4324   5319\n",
       "All              1928             9636  11564"
      ]
     },
     "execution_count": 37,
     "metadata": {},
     "output_type": "execute_result"
    }
   ],
   "source": [
    "\"\"\"Contingency table Sex & Anosmia\"\"\"\n",
    "Anosmia_ct=pd.crosstab(index=data['Sex'],columns=data['Anosmia'])\n",
    "Anosmia_ct\n",
    "Anosmia_ct.iloc[0].values\n",
    "Anosmia_ct.iloc[1].values\n",
    "pd.crosstab(index=data['Sex'],columns=data['Anosmia'], margins=True)"
   ]
  },
  {
   "cell_type": "code",
   "execution_count": 38,
   "metadata": {},
   "outputs": [
    {
     "data": {
      "text/html": [
       "<div>\n",
       "<style scoped>\n",
       "    .dataframe tbody tr th:only-of-type {\n",
       "        vertical-align: middle;\n",
       "    }\n",
       "\n",
       "    .dataframe tbody tr th {\n",
       "        vertical-align: top;\n",
       "    }\n",
       "\n",
       "    .dataframe thead th {\n",
       "        text-align: right;\n",
       "    }\n",
       "</style>\n",
       "<table border=\"1\" class=\"dataframe\">\n",
       "  <thead>\n",
       "    <tr style=\"text-align: right;\">\n",
       "      <th>Dysgeusia</th>\n",
       "      <th>With Dysgeusia</th>\n",
       "      <th>Without Dysgeusia</th>\n",
       "      <th>All</th>\n",
       "    </tr>\n",
       "    <tr>\n",
       "      <th>Sex</th>\n",
       "      <th></th>\n",
       "      <th></th>\n",
       "      <th></th>\n",
       "    </tr>\n",
       "  </thead>\n",
       "  <tbody>\n",
       "    <tr>\n",
       "      <th>Men</th>\n",
       "      <td>807</td>\n",
       "      <td>5438</td>\n",
       "      <td>6245</td>\n",
       "    </tr>\n",
       "    <tr>\n",
       "      <th>Women</th>\n",
       "      <td>915</td>\n",
       "      <td>4404</td>\n",
       "      <td>5319</td>\n",
       "    </tr>\n",
       "    <tr>\n",
       "      <th>All</th>\n",
       "      <td>1722</td>\n",
       "      <td>9842</td>\n",
       "      <td>11564</td>\n",
       "    </tr>\n",
       "  </tbody>\n",
       "</table>\n",
       "</div>"
      ],
      "text/plain": [
       "Dysgeusia  With Dysgeusia  Without Dysgeusia    All\n",
       "Sex                                                \n",
       "Men                   807               5438   6245\n",
       "Women                 915               4404   5319\n",
       "All                  1722               9842  11564"
      ]
     },
     "execution_count": 38,
     "metadata": {},
     "output_type": "execute_result"
    }
   ],
   "source": [
    "\"\"\"Contingency table Sex & Dysgeusia\"\"\"\n",
    "Dysgeusia_ct=pd.crosstab(index=data['Sex'],columns=data['Dysgeusia'])\n",
    "Dysgeusia_ct\n",
    "Dysgeusia_ct.iloc[0].values\n",
    "Dysgeusia_ct.iloc[1].values\n",
    "pd.crosstab(index=data['Sex'],columns=data['Dysgeusia'], margins=True)"
   ]
  },
  {
   "cell_type": "markdown",
   "metadata": {},
   "source": [
    "# Medication"
   ]
  },
  {
   "cell_type": "code",
   "execution_count": 39,
   "metadata": {},
   "outputs": [
    {
     "data": {
      "text/html": [
       "<div>\n",
       "<style scoped>\n",
       "    .dataframe tbody tr th:only-of-type {\n",
       "        vertical-align: middle;\n",
       "    }\n",
       "\n",
       "    .dataframe tbody tr th {\n",
       "        vertical-align: top;\n",
       "    }\n",
       "\n",
       "    .dataframe thead th {\n",
       "        text-align: right;\n",
       "    }\n",
       "</style>\n",
       "<table border=\"1\" class=\"dataframe\">\n",
       "  <thead>\n",
       "    <tr style=\"text-align: right;\">\n",
       "      <th>Use of antipyretics</th>\n",
       "      <th>With Use of antipyretics</th>\n",
       "      <th>Without Use of antipyretics</th>\n",
       "      <th>All</th>\n",
       "    </tr>\n",
       "    <tr>\n",
       "      <th>Sex</th>\n",
       "      <th></th>\n",
       "      <th></th>\n",
       "      <th></th>\n",
       "    </tr>\n",
       "  </thead>\n",
       "  <tbody>\n",
       "    <tr>\n",
       "      <th>Men</th>\n",
       "      <td>3268</td>\n",
       "      <td>2977</td>\n",
       "      <td>6245</td>\n",
       "    </tr>\n",
       "    <tr>\n",
       "      <th>Women</th>\n",
       "      <td>2793</td>\n",
       "      <td>2526</td>\n",
       "      <td>5319</td>\n",
       "    </tr>\n",
       "    <tr>\n",
       "      <th>All</th>\n",
       "      <td>6061</td>\n",
       "      <td>5503</td>\n",
       "      <td>11564</td>\n",
       "    </tr>\n",
       "  </tbody>\n",
       "</table>\n",
       "</div>"
      ],
      "text/plain": [
       "Use of antipyretics  With Use of antipyretics  Without Use of antipyretics  \\\n",
       "Sex                                                                          \n",
       "Men                                      3268                         2977   \n",
       "Women                                    2793                         2526   \n",
       "All                                      6061                         5503   \n",
       "\n",
       "Use of antipyretics    All  \n",
       "Sex                         \n",
       "Men                   6245  \n",
       "Women                 5319  \n",
       "All                  11564  "
      ]
     },
     "execution_count": 39,
     "metadata": {},
     "output_type": "execute_result"
    }
   ],
   "source": [
    "antipyretics_ct=pd.crosstab(index=data['Sex'],columns=data['Use of antipyretics'])\n",
    "antipyretics_ct\n",
    "antipyretics_ct.iloc[0].values\n",
    "antipyretics_ct.iloc[1].values\n",
    "pd.crosstab(index=data['Sex'],columns=data['Use of antipyretics'], margins=True)"
   ]
  },
  {
   "cell_type": "markdown",
   "metadata": {},
   "source": [
    "# Other"
   ]
  },
  {
   "cell_type": "code",
   "execution_count": 40,
   "metadata": {},
   "outputs": [
    {
     "data": {
      "text/html": [
       "<div>\n",
       "<style scoped>\n",
       "    .dataframe tbody tr th:only-of-type {\n",
       "        vertical-align: middle;\n",
       "    }\n",
       "\n",
       "    .dataframe tbody tr th {\n",
       "        vertical-align: top;\n",
       "    }\n",
       "\n",
       "    .dataframe thead th {\n",
       "        text-align: right;\n",
       "    }\n",
       "</style>\n",
       "<table border=\"1\" class=\"dataframe\">\n",
       "  <thead>\n",
       "    <tr style=\"text-align: right;\">\n",
       "      <th>Pregnancy</th>\n",
       "      <th>With Pregnancy</th>\n",
       "      <th>Without Pregnancy</th>\n",
       "      <th>All</th>\n",
       "    </tr>\n",
       "    <tr>\n",
       "      <th>Sex</th>\n",
       "      <th></th>\n",
       "      <th></th>\n",
       "      <th></th>\n",
       "    </tr>\n",
       "  </thead>\n",
       "  <tbody>\n",
       "    <tr>\n",
       "      <th>Men</th>\n",
       "      <td>0</td>\n",
       "      <td>6245</td>\n",
       "      <td>6245</td>\n",
       "    </tr>\n",
       "    <tr>\n",
       "      <th>Women</th>\n",
       "      <td>76</td>\n",
       "      <td>5243</td>\n",
       "      <td>5319</td>\n",
       "    </tr>\n",
       "    <tr>\n",
       "      <th>All</th>\n",
       "      <td>76</td>\n",
       "      <td>11488</td>\n",
       "      <td>11564</td>\n",
       "    </tr>\n",
       "  </tbody>\n",
       "</table>\n",
       "</div>"
      ],
      "text/plain": [
       "Pregnancy  With Pregnancy  Without Pregnancy    All\n",
       "Sex                                                \n",
       "Men                     0               6245   6245\n",
       "Women                  76               5243   5319\n",
       "All                    76              11488  11564"
      ]
     },
     "execution_count": 40,
     "metadata": {},
     "output_type": "execute_result"
    }
   ],
   "source": [
    "\"\"\"Contingency table Sex & Pregnancy\"\"\"\n",
    "Pregnancy_ct=pd.crosstab(index=data['Sex'],columns=data['Pregnancy'])\n",
    "Pregnancy_ct\n",
    "Pregnancy_ct.iloc[0].values\n",
    "Pregnancy_ct.iloc[1].values\n",
    "pd.crosstab(index=data['Sex'],columns=data['Pregnancy'], margins=True)"
   ]
  },
  {
   "cell_type": "code",
   "execution_count": 41,
   "metadata": {},
   "outputs": [
    {
     "data": {
      "text/html": [
       "<div>\n",
       "<style scoped>\n",
       "    .dataframe tbody tr th:only-of-type {\n",
       "        vertical-align: middle;\n",
       "    }\n",
       "\n",
       "    .dataframe tbody tr th {\n",
       "        vertical-align: top;\n",
       "    }\n",
       "\n",
       "    .dataframe thead th {\n",
       "        text-align: right;\n",
       "    }\n",
       "</style>\n",
       "<table border=\"1\" class=\"dataframe\">\n",
       "  <thead>\n",
       "    <tr style=\"text-align: right;\">\n",
       "      <th>Puerperium</th>\n",
       "      <th>With Puerperium</th>\n",
       "      <th>Without Puerperium</th>\n",
       "      <th>All</th>\n",
       "    </tr>\n",
       "    <tr>\n",
       "      <th>Sex</th>\n",
       "      <th></th>\n",
       "      <th></th>\n",
       "      <th></th>\n",
       "    </tr>\n",
       "  </thead>\n",
       "  <tbody>\n",
       "    <tr>\n",
       "      <th>Men</th>\n",
       "      <td>0</td>\n",
       "      <td>6245</td>\n",
       "      <td>6245</td>\n",
       "    </tr>\n",
       "    <tr>\n",
       "      <th>Women</th>\n",
       "      <td>5</td>\n",
       "      <td>5314</td>\n",
       "      <td>5319</td>\n",
       "    </tr>\n",
       "    <tr>\n",
       "      <th>All</th>\n",
       "      <td>5</td>\n",
       "      <td>11559</td>\n",
       "      <td>11564</td>\n",
       "    </tr>\n",
       "  </tbody>\n",
       "</table>\n",
       "</div>"
      ],
      "text/plain": [
       "Puerperium  With Puerperium  Without Puerperium    All\n",
       "Sex                                                   \n",
       "Men                       0                6245   6245\n",
       "Women                     5                5314   5319\n",
       "All                       5               11559  11564"
      ]
     },
     "execution_count": 41,
     "metadata": {},
     "output_type": "execute_result"
    }
   ],
   "source": [
    "\"\"\"Contingency table Sex & Puerperium\"\"\"\n",
    "Puerperium_ct=pd.crosstab(index=data['Sex'],columns=data['Puerperium'])\n",
    "Puerperium_ct\n",
    "Puerperium_ct.iloc[0].values\n",
    "Puerperium_ct.iloc[1].values\n",
    "pd.crosstab(index=data['Sex'],columns=data['Puerperium'], margins=True)"
   ]
  },
  {
   "cell_type": "code",
   "execution_count": 42,
   "metadata": {},
   "outputs": [
    {
     "data": {
      "text/html": [
       "<div>\n",
       "<style scoped>\n",
       "    .dataframe tbody tr th:only-of-type {\n",
       "        vertical-align: middle;\n",
       "    }\n",
       "\n",
       "    .dataframe tbody tr th {\n",
       "        vertical-align: top;\n",
       "    }\n",
       "\n",
       "    .dataframe thead th {\n",
       "        text-align: right;\n",
       "    }\n",
       "</style>\n",
       "<table border=\"1\" class=\"dataframe\">\n",
       "  <thead>\n",
       "    <tr style=\"text-align: right;\">\n",
       "      <th>Mortality</th>\n",
       "      <th>Mortality</th>\n",
       "      <th>Survival</th>\n",
       "      <th>All</th>\n",
       "    </tr>\n",
       "    <tr>\n",
       "      <th>Sex</th>\n",
       "      <th></th>\n",
       "      <th></th>\n",
       "      <th></th>\n",
       "    </tr>\n",
       "  </thead>\n",
       "  <tbody>\n",
       "    <tr>\n",
       "      <th>Men</th>\n",
       "      <td>1084</td>\n",
       "      <td>5161</td>\n",
       "      <td>6245</td>\n",
       "    </tr>\n",
       "    <tr>\n",
       "      <th>Women</th>\n",
       "      <td>538</td>\n",
       "      <td>4781</td>\n",
       "      <td>5319</td>\n",
       "    </tr>\n",
       "    <tr>\n",
       "      <th>All</th>\n",
       "      <td>1622</td>\n",
       "      <td>9942</td>\n",
       "      <td>11564</td>\n",
       "    </tr>\n",
       "  </tbody>\n",
       "</table>\n",
       "</div>"
      ],
      "text/plain": [
       "Mortality  Mortality  Survival    All\n",
       "Sex                                  \n",
       "Men             1084      5161   6245\n",
       "Women            538      4781   5319\n",
       "All             1622      9942  11564"
      ]
     },
     "execution_count": 42,
     "metadata": {},
     "output_type": "execute_result"
    }
   ],
   "source": [
    "\"\"\"Contingency table Sex & Mortality\"\"\"\n",
    "Lethality_ct=pd.crosstab(index=data['Sex'],columns=data['Mortality'])\n",
    "Lethality_ct\n",
    "Lethality_ct.iloc[0].values\n",
    "Lethality_ct.iloc[1].values\n",
    "pd.crosstab(index=data['Sex'],columns=data['Mortality'], margins=True)"
   ]
  },
  {
   "cell_type": "code",
   "execution_count": 43,
   "metadata": {},
   "outputs": [
    {
     "data": {
      "text/html": [
       "<div>\n",
       "<style scoped>\n",
       "    .dataframe tbody tr th:only-of-type {\n",
       "        vertical-align: middle;\n",
       "    }\n",
       "\n",
       "    .dataframe tbody tr th {\n",
       "        vertical-align: top;\n",
       "    }\n",
       "\n",
       "    .dataframe thead th {\n",
       "        text-align: right;\n",
       "    }\n",
       "</style>\n",
       "<table border=\"1\" class=\"dataframe\">\n",
       "  <thead>\n",
       "    <tr style=\"text-align: right;\">\n",
       "      <th>Days elapsed</th>\n",
       "      <th>0.0</th>\n",
       "      <th>1.0</th>\n",
       "      <th>2.0</th>\n",
       "      <th>3.0</th>\n",
       "      <th>4.0</th>\n",
       "      <th>5.0</th>\n",
       "      <th>6.0</th>\n",
       "      <th>7.0</th>\n",
       "      <th>8.0</th>\n",
       "      <th>9.0</th>\n",
       "      <th>...</th>\n",
       "      <th>13.0</th>\n",
       "      <th>14.0</th>\n",
       "      <th>15.0</th>\n",
       "      <th>16.0</th>\n",
       "      <th>17.0</th>\n",
       "      <th>19.0</th>\n",
       "      <th>20.0</th>\n",
       "      <th>21.0</th>\n",
       "      <th>24.0</th>\n",
       "      <th>All</th>\n",
       "    </tr>\n",
       "    <tr>\n",
       "      <th>Sex</th>\n",
       "      <th></th>\n",
       "      <th></th>\n",
       "      <th></th>\n",
       "      <th></th>\n",
       "      <th></th>\n",
       "      <th></th>\n",
       "      <th></th>\n",
       "      <th></th>\n",
       "      <th></th>\n",
       "      <th></th>\n",
       "      <th></th>\n",
       "      <th></th>\n",
       "      <th></th>\n",
       "      <th></th>\n",
       "      <th></th>\n",
       "      <th></th>\n",
       "      <th></th>\n",
       "      <th></th>\n",
       "      <th></th>\n",
       "      <th></th>\n",
       "      <th></th>\n",
       "    </tr>\n",
       "  </thead>\n",
       "  <tbody>\n",
       "    <tr>\n",
       "      <th>Men</th>\n",
       "      <td>265</td>\n",
       "      <td>1187</td>\n",
       "      <td>894</td>\n",
       "      <td>1072</td>\n",
       "      <td>1072</td>\n",
       "      <td>704</td>\n",
       "      <td>405</td>\n",
       "      <td>277</td>\n",
       "      <td>141</td>\n",
       "      <td>81</td>\n",
       "      <td>...</td>\n",
       "      <td>14</td>\n",
       "      <td>13</td>\n",
       "      <td>8</td>\n",
       "      <td>2</td>\n",
       "      <td>2</td>\n",
       "      <td>3</td>\n",
       "      <td>1</td>\n",
       "      <td>0</td>\n",
       "      <td>0</td>\n",
       "      <td>6245</td>\n",
       "    </tr>\n",
       "    <tr>\n",
       "      <th>Women</th>\n",
       "      <td>240</td>\n",
       "      <td>989</td>\n",
       "      <td>789</td>\n",
       "      <td>997</td>\n",
       "      <td>958</td>\n",
       "      <td>542</td>\n",
       "      <td>310</td>\n",
       "      <td>208</td>\n",
       "      <td>124</td>\n",
       "      <td>51</td>\n",
       "      <td>...</td>\n",
       "      <td>11</td>\n",
       "      <td>16</td>\n",
       "      <td>3</td>\n",
       "      <td>3</td>\n",
       "      <td>1</td>\n",
       "      <td>2</td>\n",
       "      <td>0</td>\n",
       "      <td>1</td>\n",
       "      <td>1</td>\n",
       "      <td>5319</td>\n",
       "    </tr>\n",
       "    <tr>\n",
       "      <th>All</th>\n",
       "      <td>505</td>\n",
       "      <td>2176</td>\n",
       "      <td>1683</td>\n",
       "      <td>2069</td>\n",
       "      <td>2030</td>\n",
       "      <td>1246</td>\n",
       "      <td>715</td>\n",
       "      <td>485</td>\n",
       "      <td>265</td>\n",
       "      <td>132</td>\n",
       "      <td>...</td>\n",
       "      <td>25</td>\n",
       "      <td>29</td>\n",
       "      <td>11</td>\n",
       "      <td>5</td>\n",
       "      <td>3</td>\n",
       "      <td>5</td>\n",
       "      <td>1</td>\n",
       "      <td>1</td>\n",
       "      <td>1</td>\n",
       "      <td>11564</td>\n",
       "    </tr>\n",
       "  </tbody>\n",
       "</table>\n",
       "<p>3 rows × 23 columns</p>\n",
       "</div>"
      ],
      "text/plain": [
       "Days elapsed  0.0   1.0   2.0   3.0   4.0   5.0  6.0  7.0  8.0  9.0  ...  \\\n",
       "Sex                                                                  ...   \n",
       "Men           265  1187   894  1072  1072   704  405  277  141   81  ...   \n",
       "Women         240   989   789   997   958   542  310  208  124   51  ...   \n",
       "All           505  2176  1683  2069  2030  1246  715  485  265  132  ...   \n",
       "\n",
       "Days elapsed  13.0  14.0  15.0  16.0  17.0  19.0  20.0  21.0  24.0    All  \n",
       "Sex                                                                        \n",
       "Men             14    13     8     2     2     3     1     0     0   6245  \n",
       "Women           11    16     3     3     1     2     0     1     1   5319  \n",
       "All             25    29    11     5     3     5     1     1     1  11564  \n",
       "\n",
       "[3 rows x 23 columns]"
      ]
     },
     "execution_count": 43,
     "metadata": {},
     "output_type": "execute_result"
    }
   ],
   "source": [
    "\"\"\"Contingency table Sex & Days elapsed\"\"\"\n",
    "Days_ct=pd.crosstab(index=data['Sex'],columns=data['Days elapsed'])\n",
    "Days_ct\n",
    "Days_ct.iloc[0].values\n",
    "Days_ct.iloc[1].values\n",
    "pd.crosstab(index=data['Sex'],columns=data['Days elapsed'], margins=True)"
   ]
  },
  {
   "cell_type": "markdown",
   "metadata": {},
   "source": [
    "# Distribution of men by age"
   ]
  },
  {
   "cell_type": "code",
   "execution_count": 44,
   "metadata": {},
   "outputs": [],
   "source": [
    "data_hombres = data[(data[\"Sex\"]=='Men')]"
   ]
  },
  {
   "cell_type": "code",
   "execution_count": 45,
   "metadata": {},
   "outputs": [
    {
     "data": {
      "text/html": [
       "<div>\n",
       "<style scoped>\n",
       "    .dataframe tbody tr th:only-of-type {\n",
       "        vertical-align: middle;\n",
       "    }\n",
       "\n",
       "    .dataframe tbody tr th {\n",
       "        vertical-align: top;\n",
       "    }\n",
       "\n",
       "    .dataframe thead th {\n",
       "        text-align: right;\n",
       "    }\n",
       "</style>\n",
       "<table border=\"1\" class=\"dataframe\">\n",
       "  <thead>\n",
       "    <tr style=\"text-align: right;\">\n",
       "      <th></th>\n",
       "      <th>Unnamed: 0</th>\n",
       "      <th>Age</th>\n",
       "      <th>Days elapsed</th>\n",
       "    </tr>\n",
       "  </thead>\n",
       "  <tbody>\n",
       "    <tr>\n",
       "      <th>count</th>\n",
       "      <td>6.245000e+03</td>\n",
       "      <td>6245.000000</td>\n",
       "      <td>6245.000000</td>\n",
       "    </tr>\n",
       "    <tr>\n",
       "      <th>mean</th>\n",
       "      <td>2.266527e+06</td>\n",
       "      <td>50.608167</td>\n",
       "      <td>3.514812</td>\n",
       "    </tr>\n",
       "    <tr>\n",
       "      <th>std</th>\n",
       "      <td>1.594487e+06</td>\n",
       "      <td>17.684147</td>\n",
       "      <td>2.423919</td>\n",
       "    </tr>\n",
       "    <tr>\n",
       "      <th>min</th>\n",
       "      <td>2.517300e+04</td>\n",
       "      <td>0.000000</td>\n",
       "      <td>0.000000</td>\n",
       "    </tr>\n",
       "    <tr>\n",
       "      <th>25%</th>\n",
       "      <td>7.031590e+05</td>\n",
       "      <td>37.000000</td>\n",
       "      <td>2.000000</td>\n",
       "    </tr>\n",
       "    <tr>\n",
       "      <th>50%</th>\n",
       "      <td>2.135250e+06</td>\n",
       "      <td>50.000000</td>\n",
       "      <td>3.000000</td>\n",
       "    </tr>\n",
       "    <tr>\n",
       "      <th>75%</th>\n",
       "      <td>3.524145e+06</td>\n",
       "      <td>64.000000</td>\n",
       "      <td>5.000000</td>\n",
       "    </tr>\n",
       "    <tr>\n",
       "      <th>max</th>\n",
       "      <td>5.477685e+06</td>\n",
       "      <td>99.000000</td>\n",
       "      <td>20.000000</td>\n",
       "    </tr>\n",
       "  </tbody>\n",
       "</table>\n",
       "</div>"
      ],
      "text/plain": [
       "         Unnamed: 0          Age  Days elapsed\n",
       "count  6.245000e+03  6245.000000   6245.000000\n",
       "mean   2.266527e+06    50.608167      3.514812\n",
       "std    1.594487e+06    17.684147      2.423919\n",
       "min    2.517300e+04     0.000000      0.000000\n",
       "25%    7.031590e+05    37.000000      2.000000\n",
       "50%    2.135250e+06    50.000000      3.000000\n",
       "75%    3.524145e+06    64.000000      5.000000\n",
       "max    5.477685e+06    99.000000     20.000000"
      ]
     },
     "execution_count": 45,
     "metadata": {},
     "output_type": "execute_result"
    }
   ],
   "source": [
    "data_hombres.describe()"
   ]
  },
  {
   "cell_type": "code",
   "execution_count": 46,
   "metadata": {},
   "outputs": [
    {
     "name": "stdout",
     "output_type": "stream",
     "text": [
      "Men: 6245\n",
      "Survival     5161\n",
      "Mortality    1084\n",
      "Name: Mortality, dtype: int64\n"
     ]
    }
   ],
   "source": [
    "print(\"Men:\",data_hombres.shape[0])\n",
    "print(data_hombres['Mortality'].value_counts())"
   ]
  },
  {
   "cell_type": "markdown",
   "metadata": {},
   "source": [
    "# Men under 20"
   ]
  },
  {
   "cell_type": "code",
   "execution_count": 47,
   "metadata": {},
   "outputs": [
    {
     "name": "stdout",
     "output_type": "stream",
     "text": [
      "Men under 20: 134\n",
      "Survival     132\n",
      "Mortality      2\n",
      "Name: Mortality, dtype: int64\n"
     ]
    }
   ],
   "source": [
    "data_hombres_edad_19 = data_hombres[(data_hombres[\"Age\"]<=19)] \n",
    "print(\"Men under 20:\",data_hombres_edad_19.shape[0])\n",
    "print(data_hombres_edad_19['Mortality'].value_counts())"
   ]
  },
  {
   "cell_type": "markdown",
   "metadata": {},
   "source": [
    "#  Men aged 20 to 29"
   ]
  },
  {
   "cell_type": "code",
   "execution_count": 48,
   "metadata": {},
   "outputs": [
    {
     "name": "stdout",
     "output_type": "stream",
     "text": [
      "Men aged 20 to 29: 657\n",
      "Survival     643\n",
      "Mortality     14\n",
      "Name: Mortality, dtype: int64\n"
     ]
    }
   ],
   "source": [
    "data_hombres_edad_20_29 = data_hombres[(data_hombres[\"Age\"]>=20) & ((data_hombres[\"Age\"]<=29))] \n",
    "print(\"Men aged 20 to 29:\",data_hombres_edad_20_29.shape[0])\n",
    "print(data_hombres_edad_20_29['Mortality'].value_counts())"
   ]
  },
  {
   "cell_type": "markdown",
   "metadata": {},
   "source": [
    "# Men aged 30 to 39"
   ]
  },
  {
   "cell_type": "code",
   "execution_count": 49,
   "metadata": {},
   "outputs": [
    {
     "name": "stdout",
     "output_type": "stream",
     "text": [
      "Men aged 30 to 39: 1091\n",
      "Survival     1053\n",
      "Mortality      38\n",
      "Name: Mortality, dtype: int64\n"
     ]
    }
   ],
   "source": [
    "data_hombres_edad_30_39 = data_hombres[(data_hombres[\"Age\"]>=30) & ((data_hombres[\"Age\"]<=39))] \n",
    "print(\"Men aged 30 to 39:\",data_hombres_edad_30_39.shape[0])\n",
    "print(data_hombres_edad_30_39['Mortality'].value_counts())"
   ]
  },
  {
   "cell_type": "markdown",
   "metadata": {},
   "source": [
    "# Men aged 40 to 49"
   ]
  },
  {
   "cell_type": "code",
   "execution_count": 50,
   "metadata": {},
   "outputs": [
    {
     "name": "stdout",
     "output_type": "stream",
     "text": [
      "Men aged 40 to 49: 1149\n",
      "Survival     1061\n",
      "Mortality      88\n",
      "Name: Mortality, dtype: int64\n"
     ]
    }
   ],
   "source": [
    "\"\"\"Asignación de datos: X y Y\"\"\"\n",
    "data_hombres_edad_40_49 = data_hombres[(data_hombres[\"Age\"]>=40) & ((data_hombres[\"Age\"]<=49))] \n",
    "print(\"Men aged 40 to 49:\",data_hombres_edad_40_49.shape[0])\n",
    "print(data_hombres_edad_40_49['Mortality'].value_counts())"
   ]
  },
  {
   "cell_type": "markdown",
   "metadata": {},
   "source": [
    "# Men aged 50 to 59"
   ]
  },
  {
   "cell_type": "code",
   "execution_count": 51,
   "metadata": {},
   "outputs": [
    {
     "name": "stdout",
     "output_type": "stream",
     "text": [
      "Men aged 50 to 59: 1150\n",
      "Survival     947\n",
      "Mortality    203\n",
      "Name: Mortality, dtype: int64\n"
     ]
    }
   ],
   "source": [
    "data_hombres_edad_50_59 = data_hombres[(data_hombres[\"Age\"]>=50) & ((data_hombres[\"Age\"]<=59))] \n",
    "print(\"Men aged 50 to 59:\",data_hombres_edad_50_59.shape[0])\n",
    "print(data_hombres_edad_50_59['Mortality'].value_counts())"
   ]
  },
  {
   "cell_type": "markdown",
   "metadata": {},
   "source": [
    "# Men aged 60 to 69"
   ]
  },
  {
   "cell_type": "code",
   "execution_count": 52,
   "metadata": {},
   "outputs": [
    {
     "name": "stdout",
     "output_type": "stream",
     "text": [
      "Men aged 60 to 69: 1034\n",
      "Survival     724\n",
      "Mortality    310\n",
      "Name: Mortality, dtype: int64\n"
     ]
    }
   ],
   "source": [
    "data_hombres_edad_60_69 = data_hombres[(data_hombres[\"Age\"]>=60) & ((data_hombres[\"Age\"]<=69))]\n",
    "print(\"Men aged 60 to 69:\",data_hombres_edad_60_69.shape[0])\n",
    "print(data_hombres_edad_60_69['Mortality'].value_counts())"
   ]
  },
  {
   "cell_type": "markdown",
   "metadata": {},
   "source": [
    "# Men aged 70 and over"
   ]
  },
  {
   "cell_type": "code",
   "execution_count": 53,
   "metadata": {},
   "outputs": [
    {
     "name": "stdout",
     "output_type": "stream",
     "text": [
      "Men aged 70 and over: 1030\n",
      "Survival     601\n",
      "Mortality    429\n",
      "Name: Mortality, dtype: int64\n"
     ]
    }
   ],
   "source": [
    "data_hombres_edad_70 = data_hombres[(data_hombres[\"Age\"]>=70)]\n",
    "print(\"Men aged 70 and over:\",data_hombres_edad_70.shape[0])\n",
    "print(data_hombres_edad_70['Mortality'].value_counts())"
   ]
  },
  {
   "cell_type": "markdown",
   "metadata": {},
   "source": [
    "# Distribution of women by age"
   ]
  },
  {
   "cell_type": "code",
   "execution_count": 54,
   "metadata": {},
   "outputs": [],
   "source": [
    "data_mujer = data[(data[\"Sex\"]=='Women')]"
   ]
  },
  {
   "cell_type": "code",
   "execution_count": 55,
   "metadata": {},
   "outputs": [
    {
     "data": {
      "text/html": [
       "<div>\n",
       "<style scoped>\n",
       "    .dataframe tbody tr th:only-of-type {\n",
       "        vertical-align: middle;\n",
       "    }\n",
       "\n",
       "    .dataframe tbody tr th {\n",
       "        vertical-align: top;\n",
       "    }\n",
       "\n",
       "    .dataframe thead th {\n",
       "        text-align: right;\n",
       "    }\n",
       "</style>\n",
       "<table border=\"1\" class=\"dataframe\">\n",
       "  <thead>\n",
       "    <tr style=\"text-align: right;\">\n",
       "      <th></th>\n",
       "      <th>Unnamed: 0</th>\n",
       "      <th>Age</th>\n",
       "      <th>Days elapsed</th>\n",
       "    </tr>\n",
       "  </thead>\n",
       "  <tbody>\n",
       "    <tr>\n",
       "      <th>count</th>\n",
       "      <td>5.319000e+03</td>\n",
       "      <td>5319.000000</td>\n",
       "      <td>5319.000000</td>\n",
       "    </tr>\n",
       "    <tr>\n",
       "      <th>mean</th>\n",
       "      <td>2.291923e+06</td>\n",
       "      <td>47.368490</td>\n",
       "      <td>3.422072</td>\n",
       "    </tr>\n",
       "    <tr>\n",
       "      <th>std</th>\n",
       "      <td>1.554740e+06</td>\n",
       "      <td>17.186562</td>\n",
       "      <td>2.369793</td>\n",
       "    </tr>\n",
       "    <tr>\n",
       "      <th>min</th>\n",
       "      <td>3.038000e+04</td>\n",
       "      <td>0.000000</td>\n",
       "      <td>0.000000</td>\n",
       "    </tr>\n",
       "    <tr>\n",
       "      <th>25%</th>\n",
       "      <td>8.348510e+05</td>\n",
       "      <td>34.000000</td>\n",
       "      <td>2.000000</td>\n",
       "    </tr>\n",
       "    <tr>\n",
       "      <th>50%</th>\n",
       "      <td>2.206787e+06</td>\n",
       "      <td>46.000000</td>\n",
       "      <td>3.000000</td>\n",
       "    </tr>\n",
       "    <tr>\n",
       "      <th>75%</th>\n",
       "      <td>3.503856e+06</td>\n",
       "      <td>60.000000</td>\n",
       "      <td>5.000000</td>\n",
       "    </tr>\n",
       "    <tr>\n",
       "      <th>max</th>\n",
       "      <td>5.475449e+06</td>\n",
       "      <td>100.000000</td>\n",
       "      <td>24.000000</td>\n",
       "    </tr>\n",
       "  </tbody>\n",
       "</table>\n",
       "</div>"
      ],
      "text/plain": [
       "         Unnamed: 0          Age  Days elapsed\n",
       "count  5.319000e+03  5319.000000   5319.000000\n",
       "mean   2.291923e+06    47.368490      3.422072\n",
       "std    1.554740e+06    17.186562      2.369793\n",
       "min    3.038000e+04     0.000000      0.000000\n",
       "25%    8.348510e+05    34.000000      2.000000\n",
       "50%    2.206787e+06    46.000000      3.000000\n",
       "75%    3.503856e+06    60.000000      5.000000\n",
       "max    5.475449e+06   100.000000     24.000000"
      ]
     },
     "execution_count": 55,
     "metadata": {},
     "output_type": "execute_result"
    }
   ],
   "source": [
    "data_mujer.describe()"
   ]
  },
  {
   "cell_type": "code",
   "execution_count": 56,
   "metadata": {},
   "outputs": [
    {
     "name": "stdout",
     "output_type": "stream",
     "text": [
      "Women: 5319\n",
      "Survival     4781\n",
      "Mortality     538\n",
      "Name: Mortality, dtype: int64\n"
     ]
    }
   ],
   "source": [
    "print(\"Women:\",data_mujer.shape[0])\n",
    "print(data_mujer['Mortality'].value_counts())"
   ]
  },
  {
   "cell_type": "markdown",
   "metadata": {},
   "source": [
    "# Women under 20"
   ]
  },
  {
   "cell_type": "code",
   "execution_count": 57,
   "metadata": {},
   "outputs": [
    {
     "name": "stdout",
     "output_type": "stream",
     "text": [
      "Women under 20: 140\n",
      "Survival     137\n",
      "Mortality      3\n",
      "Name: Mortality, dtype: int64\n"
     ]
    }
   ],
   "source": [
    "data_mujeres_edad_19 = data_mujer[(data_mujer[\"Age\"]<=19)] \n",
    "print(\"Women under 20:\",data_mujeres_edad_19.shape[0])\n",
    "print(data_mujeres_edad_19['Mortality'].value_counts())"
   ]
  },
  {
   "cell_type": "markdown",
   "metadata": {},
   "source": [
    "# Women aged 20 to 29"
   ]
  },
  {
   "cell_type": "code",
   "execution_count": 58,
   "metadata": {},
   "outputs": [
    {
     "name": "stdout",
     "output_type": "stream",
     "text": [
      "Women aged 20 to 29: 696\n",
      "Survival    696\n",
      "Name: Mortality, dtype: int64\n"
     ]
    }
   ],
   "source": [
    "data_mujeres_edad_20_29 = data_mujer[(data_mujer[\"Age\"]>=20) & ((data_mujer[\"Age\"]<=29))]\n",
    "print(\"Women aged 20 to 29:\",data_mujeres_edad_20_29.shape[0])\n",
    "print(data_mujeres_edad_20_29['Mortality'].value_counts())"
   ]
  },
  {
   "cell_type": "markdown",
   "metadata": {},
   "source": [
    "# Women aged 30 to 39"
   ]
  },
  {
   "cell_type": "code",
   "execution_count": 59,
   "metadata": {},
   "outputs": [
    {
     "name": "stdout",
     "output_type": "stream",
     "text": [
      "Women aged 30 to 39: 1127\n",
      "Survival     1107\n",
      "Mortality      20\n",
      "Name: Mortality, dtype: int64\n"
     ]
    }
   ],
   "source": [
    "data_mujeres_edad_30_39 = data_mujer[(data_mujer[\"Age\"]>=30) & ((data_mujer[\"Age\"]<=39))]\n",
    "print(\"Women aged 30 to 39:\",data_mujeres_edad_30_39.shape[0])\n",
    "print(data_mujeres_edad_30_39['Mortality'].value_counts())"
   ]
  },
  {
   "cell_type": "markdown",
   "metadata": {},
   "source": [
    "# Women aged 40 to 49"
   ]
  },
  {
   "cell_type": "code",
   "execution_count": 60,
   "metadata": {},
   "outputs": [
    {
     "name": "stdout",
     "output_type": "stream",
     "text": [
      "Women aged 40 to 49: 1072\n",
      "Survival     1042\n",
      "Mortality      30\n",
      "Name: Mortality, dtype: int64\n"
     ]
    }
   ],
   "source": [
    "data_mujeres_edad_40_49 = data_mujer[(data_mujer[\"Age\"]>=40) & ((data_mujer[\"Age\"]<=49))]\n",
    "print(\"Women aged 40 to 49:\",data_mujeres_edad_40_49.shape[0])\n",
    "print(data_mujeres_edad_40_49['Mortality'].value_counts())"
   ]
  },
  {
   "cell_type": "markdown",
   "metadata": {},
   "source": [
    "# Women aged 50 to 59 years"
   ]
  },
  {
   "cell_type": "code",
   "execution_count": 61,
   "metadata": {},
   "outputs": [
    {
     "name": "stdout",
     "output_type": "stream",
     "text": [
      "Women aged 50 to 59: 951\n",
      "Survival     847\n",
      "Mortality    104\n",
      "Name: Mortality, dtype: int64\n"
     ]
    }
   ],
   "source": [
    "data_mujeres_edad_50_59 = data_mujer[(data_mujer[\"Age\"]>=50) & ((data_mujer[\"Age\"]<=59))]\n",
    "print(\"Women aged 50 to 59:\",data_mujeres_edad_50_59.shape[0])\n",
    "print(data_mujeres_edad_50_59['Mortality'].value_counts())"
   ]
  },
  {
   "cell_type": "markdown",
   "metadata": {},
   "source": [
    "# Women aged 60 to 69"
   ]
  },
  {
   "cell_type": "code",
   "execution_count": 62,
   "metadata": {},
   "outputs": [
    {
     "name": "stdout",
     "output_type": "stream",
     "text": [
      "Women aged 60 to 69: 700\n",
      "Survival     536\n",
      "Mortality    164\n",
      "Name: Mortality, dtype: int64\n"
     ]
    }
   ],
   "source": [
    "data_mujeres_edad_60_69 = data_mujer[(data_mujer[\"Age\"]>=60) & ((data_mujer[\"Age\"]<=69))]\n",
    "print(\"Women aged 60 to 69:\",data_mujeres_edad_60_69.shape[0])\n",
    "print(data_mujeres_edad_60_69['Mortality'].value_counts())"
   ]
  },
  {
   "cell_type": "markdown",
   "metadata": {},
   "source": [
    "# Women aged 70 and over"
   ]
  },
  {
   "cell_type": "code",
   "execution_count": 63,
   "metadata": {},
   "outputs": [
    {
     "name": "stdout",
     "output_type": "stream",
     "text": [
      "Women aged 70 and over: 633\n",
      "Survival     416\n",
      "Mortality    217\n",
      "Name: Mortality, dtype: int64\n"
     ]
    }
   ],
   "source": [
    "data_mujeres_edad_70 = data_mujer[(data_mujer[\"Age\"]>=70)]\n",
    "print(\"Women aged 70 and over:\",data_mujeres_edad_70.shape[0])\n",
    "print(data_mujeres_edad_70['Mortality'].value_counts())"
   ]
  }
 ],
 "metadata": {
  "kernelspec": {
   "display_name": "Python 3",
   "language": "python",
   "name": "python3"
  },
  "language_info": {
   "codemirror_mode": {
    "name": "ipython",
    "version": 3
   },
   "file_extension": ".py",
   "mimetype": "text/x-python",
   "name": "python",
   "nbconvert_exporter": "python",
   "pygments_lexer": "ipython3",
   "version": "3.8.5"
  }
 },
 "nbformat": 4,
 "nbformat_minor": 4
}
