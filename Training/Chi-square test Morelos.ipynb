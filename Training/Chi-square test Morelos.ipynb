{
 "cells": [
  {
   "cell_type": "markdown",
   "metadata": {},
   "source": [
    "# Chi-square test"
   ]
  },
  {
   "cell_type": "code",
   "execution_count": 1,
   "metadata": {},
   "outputs": [],
   "source": [
    "import argparse\n",
    "import sys\n",
    "import numpy as np\n",
    "import pandas as pd\n",
    "import matplotlib.pyplot as plt\n",
    "import seaborn as sns\n",
    "import os\n",
    "import pickle\n",
    "from scipy import stats\n",
    "from scipy.stats import chi2_contingency\n",
    "from sklearn.metrics import confusion_matrix\n",
    "import warnings\n",
    "warnings.filterwarnings('ignore')"
   ]
  },
  {
   "cell_type": "code",
   "execution_count": 2,
   "metadata": {},
   "outputs": [
    {
     "name": "stdout",
     "output_type": "stream",
     "text": [
      "Total records 11564\n"
     ]
    }
   ],
   "source": [
    "\"\"\"Loading database\"\"\"\n",
    "raw_data = 'C:/Users/Salvador/Modelo_COVID19/Libretas manuscrito/BCM Infectius diseases/data_final_mor.csv'\n",
    "data = pd.read_csv(raw_data)\n",
    "print (\"Total records\", data.shape[0])  "
   ]
  },
  {
   "cell_type": "code",
   "execution_count": 3,
   "metadata": {},
   "outputs": [
    {
     "name": "stdout",
     "output_type": "stream",
     "text": [
      "(11564, 35)\n"
     ]
    }
   ],
   "source": [
    "X = data.drop(['Unnamed: 0',],axis=1).astype(int)\n",
    "feature_list = X.columns\n",
    "print(X.shape)"
   ]
  },
  {
   "cell_type": "code",
   "execution_count": 4,
   "metadata": {},
   "outputs": [
    {
     "data": {
      "text/plain": [
       "Index(['Sex', 'Age', 'Fever', 'Cough', 'Odynophagia', 'Dyspnea',\n",
       "       'Irritability', 'Diarrhea', 'Chest pain', 'Chills', 'Headache',\n",
       "       'Myalgia', 'Arthralgia', 'General discomfort', 'Rhinorrhea', 'Polypnea',\n",
       "       'Vomiting', 'Abdominal pain', 'Conjunctivitis', 'Cyanosis',\n",
       "       'Sudden onset of symptoms', 'Anosmia', 'Dysgeusia', 'Diabetes', 'COPD',\n",
       "       'Asthma', 'Immunosuppression', 'Hypertension', 'Cardiovascular disease',\n",
       "       'Obesity', 'CKD', 'Smoking', 'Use of antipyretics', 'Mortality',\n",
       "       'Days elapsed'],\n",
       "      dtype='object')"
      ]
     },
     "execution_count": 4,
     "metadata": {},
     "output_type": "execute_result"
    }
   ],
   "source": [
    "X.columns"
   ]
  },
  {
   "cell_type": "code",
   "execution_count": 5,
   "metadata": {},
   "outputs": [
    {
     "name": "stdout",
     "output_type": "stream",
     "text": [
      "Men      6245\n",
      "Women    5319\n",
      "Name: Sex, dtype: int64\n"
     ]
    }
   ],
   "source": [
    "data['Sex'] = np.where(data['Sex'] == 1, 'Men', 'Women')\n",
    "print(data['Sex'].value_counts())"
   ]
  },
  {
   "cell_type": "markdown",
   "metadata": {},
   "source": [
    "# Comorbidities"
   ]
  },
  {
   "cell_type": "code",
   "execution_count": 6,
   "metadata": {},
   "outputs": [
    {
     "name": "stdout",
     "output_type": "stream",
     "text": [
      "Without Diabetes    9301\n",
      "With Diabetes       2263\n",
      "Name: Diabetes, dtype: int64\n"
     ]
    }
   ],
   "source": [
    "data['Diabetes'] = np.where(data['Diabetes'] == 1, 'With Diabetes', 'Without Diabetes')\n",
    "print(data['Diabetes'].value_counts())"
   ]
  },
  {
   "cell_type": "code",
   "execution_count": 7,
   "metadata": {},
   "outputs": [
    {
     "name": "stdout",
     "output_type": "stream",
     "text": [
      "Without COPD    11334\n",
      "With COPD         230\n",
      "Name: COPD, dtype: int64\n"
     ]
    }
   ],
   "source": [
    "data['COPD'] = np.where(data['COPD'] == 1, 'With COPD', 'Without COPD')\n",
    "print(data['COPD'].value_counts())"
   ]
  },
  {
   "cell_type": "code",
   "execution_count": 8,
   "metadata": {},
   "outputs": [
    {
     "name": "stdout",
     "output_type": "stream",
     "text": [
      "Without Asthma    11344\n",
      "With Asthma         220\n",
      "Name: Asthma, dtype: int64\n"
     ]
    }
   ],
   "source": [
    "data['Asthma'] = np.where(data['Asthma'] == 1, 'With Asthma', 'Without Asthma')\n",
    "print(data['Asthma'].value_counts())"
   ]
  },
  {
   "cell_type": "code",
   "execution_count": 9,
   "metadata": {},
   "outputs": [
    {
     "name": "stdout",
     "output_type": "stream",
     "text": [
      "Without Immunosuppression    11490\n",
      "With Immunosuppression          74\n",
      "Name: Immunosuppression, dtype: int64\n"
     ]
    }
   ],
   "source": [
    "data['Immunosuppression'] = np.where(data['Immunosuppression'] == 1, 'With Immunosuppression', 'Without Immunosuppression')\n",
    "print(data['Immunosuppression'].value_counts())"
   ]
  },
  {
   "cell_type": "code",
   "execution_count": 10,
   "metadata": {},
   "outputs": [
    {
     "name": "stdout",
     "output_type": "stream",
     "text": [
      "Without Hypertension    8772\n",
      "With Hypertension       2792\n",
      "Name: Hypertension, dtype: int64\n"
     ]
    }
   ],
   "source": [
    "data['Hypertension'] = np.where(data['Hypertension'] == 1, 'With Hypertension', 'Without Hypertension')\n",
    "print(data['Hypertension'].value_counts())"
   ]
  },
  {
   "cell_type": "code",
   "execution_count": 11,
   "metadata": {},
   "outputs": [
    {
     "name": "stdout",
     "output_type": "stream",
     "text": [
      "Without Cardiovascular disease    11308\n",
      "With Cardiovascular disease         256\n",
      "Name: Cardiovascular disease, dtype: int64\n"
     ]
    }
   ],
   "source": [
    "data['Cardiovascular disease'] = np.where(data['Cardiovascular disease'] == 1, 'With Cardiovascular disease', 'Without Cardiovascular disease')\n",
    "print(data['Cardiovascular disease'].value_counts())"
   ]
  },
  {
   "cell_type": "code",
   "execution_count": 12,
   "metadata": {},
   "outputs": [
    {
     "name": "stdout",
     "output_type": "stream",
     "text": [
      "Without Obesity    9605\n",
      "With Obesity       1959\n",
      "Name: Obesity, dtype: int64\n"
     ]
    }
   ],
   "source": [
    "data['Obesity'] = np.where(data['Obesity'] == 1, 'With Obesity', 'Without Obesity')\n",
    "print(data['Obesity'].value_counts())"
   ]
  },
  {
   "cell_type": "code",
   "execution_count": 13,
   "metadata": {},
   "outputs": [
    {
     "name": "stdout",
     "output_type": "stream",
     "text": [
      "Without CKD    11219\n",
      "With CKD         345\n",
      "Name: CKD, dtype: int64\n"
     ]
    }
   ],
   "source": [
    "data['CKD'] = np.where(data['CKD'] == 1, 'With CKD', 'Without CKD')\n",
    "print(data['CKD'].value_counts())"
   ]
  },
  {
   "cell_type": "code",
   "execution_count": 14,
   "metadata": {},
   "outputs": [
    {
     "name": "stdout",
     "output_type": "stream",
     "text": [
      "Without Smoking    10827\n",
      "With Smoking         737\n",
      "Name: Smoking, dtype: int64\n"
     ]
    }
   ],
   "source": [
    "data['Smoking'] = np.where(data['Smoking'] == 1, 'With Smoking', 'Without Smoking')\n",
    "print(data['Smoking'].value_counts())"
   ]
  },
  {
   "cell_type": "markdown",
   "metadata": {},
   "source": [
    "# Symptom"
   ]
  },
  {
   "cell_type": "code",
   "execution_count": 15,
   "metadata": {},
   "outputs": [
    {
     "name": "stdout",
     "output_type": "stream",
     "text": [
      "With Fever       9782\n",
      "Without Fever    1782\n",
      "Name: Fever, dtype: int64\n"
     ]
    }
   ],
   "source": [
    "data['Fever'] = np.where(data['Fever'] == 1, 'With Fever', 'Without Fever')\n",
    "print(data['Fever'].value_counts())"
   ]
  },
  {
   "cell_type": "code",
   "execution_count": 16,
   "metadata": {},
   "outputs": [
    {
     "name": "stdout",
     "output_type": "stream",
     "text": [
      "With Cough       10022\n",
      "Without Cough     1542\n",
      "Name: Cough, dtype: int64\n"
     ]
    }
   ],
   "source": [
    "data['Cough'] = np.where(data['Cough'] == 1, 'With Cough', 'Without Cough')\n",
    "print(data['Cough'].value_counts())"
   ]
  },
  {
   "cell_type": "code",
   "execution_count": 17,
   "metadata": {},
   "outputs": [
    {
     "name": "stdout",
     "output_type": "stream",
     "text": [
      "With Odynophagia       7052\n",
      "Without Odynophagia    4512\n",
      "Name: Odynophagia, dtype: int64\n"
     ]
    }
   ],
   "source": [
    "data['Odynophagia'] = np.where(data['Odynophagia'] == 1, 'With Odynophagia', 'Without Odynophagia')\n",
    "print(data['Odynophagia'].value_counts())"
   ]
  },
  {
   "cell_type": "code",
   "execution_count": 18,
   "metadata": {},
   "outputs": [
    {
     "name": "stdout",
     "output_type": "stream",
     "text": [
      "Without Dyspnea    6426\n",
      "With Dyspnea       5138\n",
      "Name: Dyspnea, dtype: int64\n"
     ]
    }
   ],
   "source": [
    "data['Dyspnea'] = np.where(data['Dyspnea'] == 1, 'With Dyspnea', 'Without Dyspnea')\n",
    "print(data['Dyspnea'].value_counts())"
   ]
  },
  {
   "cell_type": "code",
   "execution_count": 19,
   "metadata": {},
   "outputs": [
    {
     "name": "stdout",
     "output_type": "stream",
     "text": [
      "Without Irritability    9808\n",
      "With Irritability       1756\n",
      "Name: Irritability, dtype: int64\n"
     ]
    }
   ],
   "source": [
    "data['Irritability'] = np.where(data['Irritability'] == 1, 'With Irritability', 'Without Irritability')\n",
    "print(data['Irritability'].value_counts())"
   ]
  },
  {
   "cell_type": "code",
   "execution_count": 20,
   "metadata": {},
   "outputs": [
    {
     "name": "stdout",
     "output_type": "stream",
     "text": [
      "Without Diarrhea    9108\n",
      "With Diarrhea       2456\n",
      "Name: Diarrhea, dtype: int64\n"
     ]
    }
   ],
   "source": [
    "data['Diarrhea'] = np.where(data['Diarrhea'] == 1, 'With Diarrhea', 'Without Diarrhea')\n",
    "print(data['Diarrhea'].value_counts())"
   ]
  },
  {
   "cell_type": "code",
   "execution_count": 21,
   "metadata": {},
   "outputs": [
    {
     "name": "stdout",
     "output_type": "stream",
     "text": [
      "Without Chest pain    7753\n",
      "With Chest pain       3811\n",
      "Name: Chest pain, dtype: int64\n"
     ]
    }
   ],
   "source": [
    "data['Chest pain'] = np.where(data['Chest pain'] == 1, 'With Chest pain', 'Without Chest pain')\n",
    "print(data['Chest pain'].value_counts())"
   ]
  },
  {
   "cell_type": "code",
   "execution_count": 22,
   "metadata": {},
   "outputs": [
    {
     "name": "stdout",
     "output_type": "stream",
     "text": [
      "With Chills       6057\n",
      "Without Chills    5507\n",
      "Name: Chills, dtype: int64\n"
     ]
    }
   ],
   "source": [
    "data['Chills'] = np.where(data['Chills'] == 1, 'With Chills', 'Without Chills')\n",
    "print(data['Chills'].value_counts())"
   ]
  },
  {
   "cell_type": "code",
   "execution_count": 23,
   "metadata": {},
   "outputs": [
    {
     "name": "stdout",
     "output_type": "stream",
     "text": [
      "With Headache       9820\n",
      "Without Headache    1744\n",
      "Name: Headache, dtype: int64\n"
     ]
    }
   ],
   "source": [
    "data['Headache'] = np.where(data['Headache'] == 1, 'With Headache', 'Without Headache')\n",
    "print(data['Headache'].value_counts())"
   ]
  },
  {
   "cell_type": "code",
   "execution_count": 24,
   "metadata": {},
   "outputs": [
    {
     "name": "stdout",
     "output_type": "stream",
     "text": [
      "With Myalgia       8656\n",
      "Without Myalgia    2908\n",
      "Name: Myalgia, dtype: int64\n"
     ]
    }
   ],
   "source": [
    "data['Myalgia'] = np.where(data['Myalgia'] == 1, 'With Myalgia', 'Without Myalgia')\n",
    "print(data['Myalgia'].value_counts())"
   ]
  },
  {
   "cell_type": "code",
   "execution_count": 25,
   "metadata": {},
   "outputs": [
    {
     "name": "stdout",
     "output_type": "stream",
     "text": [
      "With Arthralgia       8163\n",
      "Without Arthralgia    3401\n",
      "Name: Arthralgia, dtype: int64\n"
     ]
    }
   ],
   "source": [
    "data['Arthralgia'] = np.where(data['Arthralgia'] == 1, 'With Arthralgia', 'Without Arthralgia')\n",
    "print(data['Arthralgia'].value_counts())"
   ]
  },
  {
   "cell_type": "code",
   "execution_count": 26,
   "metadata": {},
   "outputs": [
    {
     "name": "stdout",
     "output_type": "stream",
     "text": [
      "With General discomfort       6584\n",
      "Without General discomfort    4980\n",
      "Name: General discomfort, dtype: int64\n"
     ]
    }
   ],
   "source": [
    "data['General discomfort'] = np.where(data['General discomfort'] == 1, 'With General discomfort', 'Without General discomfort')\n",
    "print(data['General discomfort'].value_counts())"
   ]
  },
  {
   "cell_type": "code",
   "execution_count": 27,
   "metadata": {},
   "outputs": [
    {
     "name": "stdout",
     "output_type": "stream",
     "text": [
      "Without Rhinorrhea    8008\n",
      "With Rhinorrhea       3556\n",
      "Name: Rhinorrhea, dtype: int64\n"
     ]
    }
   ],
   "source": [
    "data['Rhinorrhea'] = np.where(data['Rhinorrhea'] == 1, 'With Rhinorrhea', 'Without Rhinorrhea')\n",
    "print(data['Rhinorrhea'].value_counts())"
   ]
  },
  {
   "cell_type": "code",
   "execution_count": 28,
   "metadata": {},
   "outputs": [
    {
     "name": "stdout",
     "output_type": "stream",
     "text": [
      "Without Polypnea    9849\n",
      "With Polypnea       1715\n",
      "Name: Polypnea, dtype: int64\n"
     ]
    }
   ],
   "source": [
    "data['Polypnea'] = np.where(data['Polypnea'] == 1, 'With Polypnea', 'Without Polypnea')\n",
    "print(data['Polypnea'].value_counts())"
   ]
  },
  {
   "cell_type": "code",
   "execution_count": 29,
   "metadata": {},
   "outputs": [
    {
     "name": "stdout",
     "output_type": "stream",
     "text": [
      "Without Vomiting    10681\n",
      "With Vomiting         883\n",
      "Name: Vomiting, dtype: int64\n"
     ]
    }
   ],
   "source": [
    "data['Vomiting'] = np.where(data['Vomiting'] == 1, 'With Vomiting', 'Without Vomiting')\n",
    "print(data['Vomiting'].value_counts())"
   ]
  },
  {
   "cell_type": "code",
   "execution_count": 30,
   "metadata": {},
   "outputs": [
    {
     "name": "stdout",
     "output_type": "stream",
     "text": [
      "Without Abdominal pain    10067\n",
      "With Abdominal pain        1497\n",
      "Name: Abdominal pain, dtype: int64\n"
     ]
    }
   ],
   "source": [
    "data['Abdominal pain'] = np.where(data['Abdominal pain'] == 1, 'With Abdominal pain', 'Without Abdominal pain')\n",
    "print(data['Abdominal pain'].value_counts())"
   ]
  },
  {
   "cell_type": "code",
   "execution_count": 31,
   "metadata": {},
   "outputs": [
    {
     "name": "stdout",
     "output_type": "stream",
     "text": [
      "Without Conjunctivitis    10346\n",
      "With Conjunctivitis        1218\n",
      "Name: Conjunctivitis, dtype: int64\n"
     ]
    }
   ],
   "source": [
    "data['Conjunctivitis'] = np.where(data['Conjunctivitis'] == 1, 'With Conjunctivitis', 'Without Conjunctivitis')\n",
    "print(data['Conjunctivitis'].value_counts())"
   ]
  },
  {
   "cell_type": "code",
   "execution_count": 32,
   "metadata": {},
   "outputs": [
    {
     "name": "stdout",
     "output_type": "stream",
     "text": [
      "Without Cyanosis    11188\n",
      "With Cyanosis         376\n",
      "Name: Cyanosis, dtype: int64\n"
     ]
    }
   ],
   "source": [
    "data['Cyanosis'] = np.where(data['Cyanosis'] == 1, 'With Cyanosis', 'Without Cyanosis')\n",
    "print(data['Cyanosis'].value_counts())"
   ]
  },
  {
   "cell_type": "code",
   "execution_count": 33,
   "metadata": {},
   "outputs": [
    {
     "name": "stdout",
     "output_type": "stream",
     "text": [
      "Without Sudden onset of symptoms    7571\n",
      "With Sudden onset of symptoms       3993\n",
      "Name: Sudden onset of symptoms, dtype: int64\n"
     ]
    }
   ],
   "source": [
    "data['Sudden onset of symptoms'] = np.where(data['Sudden onset of symptoms'] == 1, 'With Sudden onset of symptoms', 'Without Sudden onset of symptoms')\n",
    "print(data['Sudden onset of symptoms'].value_counts())"
   ]
  },
  {
   "cell_type": "code",
   "execution_count": 34,
   "metadata": {},
   "outputs": [
    {
     "name": "stdout",
     "output_type": "stream",
     "text": [
      "Without Anosmia    9636\n",
      "With Anosmia       1928\n",
      "Name: Anosmia, dtype: int64\n"
     ]
    }
   ],
   "source": [
    "data['Anosmia'] = np.where(data['Anosmia'] == 1, 'With Anosmia', 'Without Anosmia')\n",
    "print(data['Anosmia'].value_counts())"
   ]
  },
  {
   "cell_type": "code",
   "execution_count": 35,
   "metadata": {},
   "outputs": [
    {
     "name": "stdout",
     "output_type": "stream",
     "text": [
      "Without Dysgeusia    9842\n",
      "With Dysgeusia       1722\n",
      "Name: Dysgeusia, dtype: int64\n"
     ]
    }
   ],
   "source": [
    "data['Dysgeusia'] = np.where(data['Dysgeusia'] == 1, 'With Dysgeusia', 'Without Dysgeusia')\n",
    "print(data['Dysgeusia'].value_counts())"
   ]
  },
  {
   "cell_type": "code",
   "execution_count": 36,
   "metadata": {},
   "outputs": [
    {
     "name": "stdout",
     "output_type": "stream",
     "text": [
      "With Use of antipyretics       6061\n",
      "Without Use of antipyretics    5503\n",
      "Name: Use of antipyretics, dtype: int64\n"
     ]
    }
   ],
   "source": [
    "data['Use of antipyretics'] = np.where(data['Use of antipyretics'] == 1, 'With Use of antipyretics', 'Without Use of antipyretics')\n",
    "print(data['Use of antipyretics'].value_counts())"
   ]
  },
  {
   "cell_type": "code",
   "execution_count": 37,
   "metadata": {},
   "outputs": [
    {
     "name": "stdout",
     "output_type": "stream",
     "text": [
      "Surviving    9942\n",
      "Death        1622\n",
      "Name: Mortality, dtype: int64\n"
     ]
    }
   ],
   "source": [
    "data['Mortality'] = np.where(data['Mortality'] == 1, 'Death', 'Surviving')\n",
    "print(data['Mortality'].value_counts())"
   ]
  },
  {
   "cell_type": "markdown",
   "metadata": {},
   "source": [
    "# Chi2 Variables - Lethality"
   ]
  },
  {
   "cell_type": "code",
   "execution_count": 38,
   "metadata": {},
   "outputs": [
    {
     "name": "stdout",
     "output_type": "stream",
     "text": [
      "chi2    :  124.37049179109114\n",
      "p-value :  6.98952806797917e-29\n",
      "Degree for Freedom :  1\n"
     ]
    },
    {
     "data": {
      "text/html": [
       "<div>\n",
       "<style scoped>\n",
       "    .dataframe tbody tr th:only-of-type {\n",
       "        vertical-align: middle;\n",
       "    }\n",
       "\n",
       "    .dataframe tbody tr th {\n",
       "        vertical-align: top;\n",
       "    }\n",
       "\n",
       "    .dataframe thead th {\n",
       "        text-align: right;\n",
       "    }\n",
       "</style>\n",
       "<table border=\"1\" class=\"dataframe\">\n",
       "  <thead>\n",
       "    <tr style=\"text-align: right;\">\n",
       "      <th>Mortality</th>\n",
       "      <th>Death</th>\n",
       "      <th>Surviving</th>\n",
       "      <th>All</th>\n",
       "    </tr>\n",
       "    <tr>\n",
       "      <th>Sex</th>\n",
       "      <th></th>\n",
       "      <th></th>\n",
       "      <th></th>\n",
       "    </tr>\n",
       "  </thead>\n",
       "  <tbody>\n",
       "    <tr>\n",
       "      <th>Men</th>\n",
       "      <td>1084</td>\n",
       "      <td>5161</td>\n",
       "      <td>6245</td>\n",
       "    </tr>\n",
       "    <tr>\n",
       "      <th>Women</th>\n",
       "      <td>538</td>\n",
       "      <td>4781</td>\n",
       "      <td>5319</td>\n",
       "    </tr>\n",
       "    <tr>\n",
       "      <th>All</th>\n",
       "      <td>1622</td>\n",
       "      <td>9942</td>\n",
       "      <td>11564</td>\n",
       "    </tr>\n",
       "  </tbody>\n",
       "</table>\n",
       "</div>"
      ],
      "text/plain": [
       "Mortality  Death  Surviving    All\n",
       "Sex                               \n",
       "Men         1084       5161   6245\n",
       "Women        538       4781   5319\n",
       "All         1622       9942  11564"
      ]
     },
     "execution_count": 38,
     "metadata": {},
     "output_type": "execute_result"
    },
    {
     "data": {
      "image/png": "[encoded data removed]",
      "text/plain": [
       "<Figure size 1440x360 with 1 Axes>"
      ]
     },
     "metadata": {
      "needs_background": "light"
     },
     "output_type": "display_data"
    }
   ],
   "source": [
    "\"\"\"CHI2 Sex y Mortality\"\"\"\n",
    "data['Sex'].value_counts()\n",
    "#data[({'Sex': ['Men', 'Women',]})]\n",
    "sns.set(style=\"darkgrid\")\n",
    "sns.set_palette(\"hls\", 3)\n",
    "fig, ax = plt.subplots(figsize=(20,5))\n",
    "ax = sns.countplot(x=\"Sex\", hue=\"Mortality\", data=X, )\n",
    "ax.set(title=\"Distribution of deaths by sex\",)\n",
    "\n",
    "\"\"\"Contingency table\"\"\"\n",
    "SEXO_MORTALIDAD_ct=pd.crosstab(index=data['Sex'],columns=data['Mortality'])\n",
    "SEXO_MORTALIDAD_ct\n",
    "SEXO_MORTALIDAD_ct.iloc[0].values\n",
    "SEXO_MORTALIDAD_ct.iloc[1].values\n",
    "\n",
    "\"\"\"Sky pay\"\"\"\n",
    "from scipy import stats\n",
    "(chi2, p, dof,_) = stats.chi2_contingency([SEXO_MORTALIDAD_ct.iloc[0].values,SEXO_MORTALIDAD_ct.iloc[1].values])\n",
    "print (\"chi2    : \", chi2)\n",
    "print (\"p-value : \",p)\n",
    "print (\"Degree for Freedom : \" ,dof)\n",
    "pd.crosstab(index=data['Sex'],columns=data['Mortality'], margins=True)"
   ]
  },
  {
   "cell_type": "code",
   "execution_count": 39,
   "metadata": {},
   "outputs": [
    {
     "name": "stdout",
     "output_type": "stream",
     "text": [
      "chi2    :  339.76717974445444\n",
      "p-value :  7.170918072266722e-76\n",
      "Degree for Freedom :  1\n"
     ]
    },
    {
     "data": {
      "text/html": [
       "<div>\n",
       "<style scoped>\n",
       "    .dataframe tbody tr th:only-of-type {\n",
       "        vertical-align: middle;\n",
       "    }\n",
       "\n",
       "    .dataframe tbody tr th {\n",
       "        vertical-align: top;\n",
       "    }\n",
       "\n",
       "    .dataframe thead th {\n",
       "        text-align: right;\n",
       "    }\n",
       "</style>\n",
       "<table border=\"1\" class=\"dataframe\">\n",
       "  <thead>\n",
       "    <tr style=\"text-align: right;\">\n",
       "      <th>Mortality</th>\n",
       "      <th>Death</th>\n",
       "      <th>Surviving</th>\n",
       "      <th>All</th>\n",
       "    </tr>\n",
       "    <tr>\n",
       "      <th>Diabetes</th>\n",
       "      <th></th>\n",
       "      <th></th>\n",
       "      <th></th>\n",
       "    </tr>\n",
       "  </thead>\n",
       "  <tbody>\n",
       "    <tr>\n",
       "      <th>With Diabetes</th>\n",
       "      <td>591</td>\n",
       "      <td>1672</td>\n",
       "      <td>2263</td>\n",
       "    </tr>\n",
       "    <tr>\n",
       "      <th>Without Diabetes</th>\n",
       "      <td>1031</td>\n",
       "      <td>8270</td>\n",
       "      <td>9301</td>\n",
       "    </tr>\n",
       "    <tr>\n",
       "      <th>All</th>\n",
       "      <td>1622</td>\n",
       "      <td>9942</td>\n",
       "      <td>11564</td>\n",
       "    </tr>\n",
       "  </tbody>\n",
       "</table>\n",
       "</div>"
      ],
      "text/plain": [
       "Mortality         Death  Surviving    All\n",
       "Diabetes                                 \n",
       "With Diabetes       591       1672   2263\n",
       "Without Diabetes   1031       8270   9301\n",
       "All                1622       9942  11564"
      ]
     },
     "execution_count": 39,
     "metadata": {},
     "output_type": "execute_result"
    },
    {
     "data": {
      "image/png": "[encoded data removed]",
      "text/plain": [
       "<Figure size 1440x360 with 1 Axes>"
      ]
     },
     "metadata": {},
     "output_type": "display_data"
    }
   ],
   "source": [
    "\"\"\"CHI2 Diabetes\"\"\"\n",
    "data['Diabetes'].value_counts()\n",
    "sns.set(style=\"darkgrid\")\n",
    "sns.set_palette(\"hls\", 3)\n",
    "fig, ax = plt.subplots(figsize=(20,5))\n",
    "ax = sns.countplot(x=\"Diabetes\", hue=\"Mortality\", data=X)\n",
    "\"\"\"Contingency table\"\"\"\n",
    "DIABETES_MORTALIDAD_ct=pd.crosstab(index=data['Diabetes'],columns=data['Mortality'])\n",
    "DIABETES_MORTALIDAD_ct\n",
    "DIABETES_MORTALIDAD_ct.iloc[0].values\n",
    "DIABETES_MORTALIDAD_ct.iloc[1].values\n",
    "\n",
    "\"\"\"Sky pay\"\"\"\n",
    "from scipy import stats\n",
    "(chi2, p, dof,_) = stats.chi2_contingency([DIABETES_MORTALIDAD_ct.iloc[0].values,DIABETES_MORTALIDAD_ct.iloc[1].values])\n",
    "print (\"chi2    : \", chi2)\n",
    "print (\"p-value : \",p)\n",
    "print (\"Degree for Freedom : \" ,dof)\n",
    "pd.crosstab(index=data['Diabetes'],columns=data['Mortality'], margins=True)"
   ]
  },
  {
   "cell_type": "code",
   "execution_count": 40,
   "metadata": {},
   "outputs": [
    {
     "name": "stdout",
     "output_type": "stream",
     "text": [
      "chi2    :  53.79152229680487\n",
      "p-value :  2.2293259435218948e-13\n",
      "Degree for Freedom :  1\n"
     ]
    },
    {
     "data": {
      "text/html": [
       "<div>\n",
       "<style scoped>\n",
       "    .dataframe tbody tr th:only-of-type {\n",
       "        vertical-align: middle;\n",
       "    }\n",
       "\n",
       "    .dataframe tbody tr th {\n",
       "        vertical-align: top;\n",
       "    }\n",
       "\n",
       "    .dataframe thead th {\n",
       "        text-align: right;\n",
       "    }\n",
       "</style>\n",
       "<table border=\"1\" class=\"dataframe\">\n",
       "  <thead>\n",
       "    <tr style=\"text-align: right;\">\n",
       "      <th>Mortality</th>\n",
       "      <th>Death</th>\n",
       "      <th>Surviving</th>\n",
       "      <th>All</th>\n",
       "    </tr>\n",
       "    <tr>\n",
       "      <th>COPD</th>\n",
       "      <th></th>\n",
       "      <th></th>\n",
       "      <th></th>\n",
       "    </tr>\n",
       "  </thead>\n",
       "  <tbody>\n",
       "    <tr>\n",
       "      <th>With COPD</th>\n",
       "      <td>71</td>\n",
       "      <td>159</td>\n",
       "      <td>230</td>\n",
       "    </tr>\n",
       "    <tr>\n",
       "      <th>Without COPD</th>\n",
       "      <td>1551</td>\n",
       "      <td>9783</td>\n",
       "      <td>11334</td>\n",
       "    </tr>\n",
       "    <tr>\n",
       "      <th>All</th>\n",
       "      <td>1622</td>\n",
       "      <td>9942</td>\n",
       "      <td>11564</td>\n",
       "    </tr>\n",
       "  </tbody>\n",
       "</table>\n",
       "</div>"
      ],
      "text/plain": [
       "Mortality     Death  Surviving    All\n",
       "COPD                                 \n",
       "With COPD        71        159    230\n",
       "Without COPD   1551       9783  11334\n",
       "All            1622       9942  11564"
      ]
     },
     "execution_count": 40,
     "metadata": {},
     "output_type": "execute_result"
    },
    {
     "data": {
      "image/png": "[encoded data removed]",
      "text/plain": [
       "<Figure size 1440x360 with 1 Axes>"
      ]
     },
     "metadata": {},
     "output_type": "display_data"
    }
   ],
   "source": [
    "\"\"\"CHI2 COPD\"\"\"\n",
    "data['COPD'].value_counts()\n",
    "sns.set(style=\"darkgrid\")\n",
    "sns.set_palette(\"hls\", 3)\n",
    "fig, ax = plt.subplots(figsize=(20,5))\n",
    "ax = sns.countplot(x=\"COPD\", hue=\"Mortality\", data=X)\n",
    "\"\"\"Contingency table\"\"\"\n",
    "EPOC_MORTALIDAD_ct=pd.crosstab(index=data['COPD'],columns=data['Mortality'])\n",
    "EPOC_MORTALIDAD_ct\n",
    "EPOC_MORTALIDAD_ct.iloc[0].values\n",
    "EPOC_MORTALIDAD_ct.iloc[1].values\n",
    "\n",
    "\"\"\"Sky pay\"\"\"\n",
    "from scipy import stats\n",
    "(chi2, p, dof,_) = stats.chi2_contingency([EPOC_MORTALIDAD_ct.iloc[0].values,EPOC_MORTALIDAD_ct.iloc[1].values])\n",
    "print (\"chi2    : \", chi2)\n",
    "print (\"p-value : \",p)\n",
    "print (\"Degree for Freedom : \" ,dof)\n",
    "pd.crosstab(index=data['COPD'],columns=data['Mortality'], margins=True)"
   ]
  },
  {
   "cell_type": "code",
   "execution_count": 41,
   "metadata": {},
   "outputs": [
    {
     "name": "stdout",
     "output_type": "stream",
     "text": [
      "chi2    :  4.122386336128033\n",
      "p-value :  0.04231934394991626\n",
      "Degree for Freedom :  1\n"
     ]
    },
    {
     "data": {
      "text/html": [
       "<div>\n",
       "<style scoped>\n",
       "    .dataframe tbody tr th:only-of-type {\n",
       "        vertical-align: middle;\n",
       "    }\n",
       "\n",
       "    .dataframe tbody tr th {\n",
       "        vertical-align: top;\n",
       "    }\n",
       "\n",
       "    .dataframe thead th {\n",
       "        text-align: right;\n",
       "    }\n",
       "</style>\n",
       "<table border=\"1\" class=\"dataframe\">\n",
       "  <thead>\n",
       "    <tr style=\"text-align: right;\">\n",
       "      <th>Mortality</th>\n",
       "      <th>Death</th>\n",
       "      <th>Surviving</th>\n",
       "      <th>All</th>\n",
       "    </tr>\n",
       "    <tr>\n",
       "      <th>Asthma</th>\n",
       "      <th></th>\n",
       "      <th></th>\n",
       "      <th></th>\n",
       "    </tr>\n",
       "  </thead>\n",
       "  <tbody>\n",
       "    <tr>\n",
       "      <th>With Asthma</th>\n",
       "      <td>20</td>\n",
       "      <td>200</td>\n",
       "      <td>220</td>\n",
       "    </tr>\n",
       "    <tr>\n",
       "      <th>Without Asthma</th>\n",
       "      <td>1602</td>\n",
       "      <td>9742</td>\n",
       "      <td>11344</td>\n",
       "    </tr>\n",
       "    <tr>\n",
       "      <th>All</th>\n",
       "      <td>1622</td>\n",
       "      <td>9942</td>\n",
       "      <td>11564</td>\n",
       "    </tr>\n",
       "  </tbody>\n",
       "</table>\n",
       "</div>"
      ],
      "text/plain": [
       "Mortality       Death  Surviving    All\n",
       "Asthma                                 \n",
       "With Asthma        20        200    220\n",
       "Without Asthma   1602       9742  11344\n",
       "All              1622       9942  11564"
      ]
     },
     "execution_count": 41,
     "metadata": {},
     "output_type": "execute_result"
    },
    {
     "data": {
      "image/png": "[encoded data removed]",
      "text/plain": [
       "<Figure size 1440x360 with 1 Axes>"
      ]
     },
     "metadata": {},
     "output_type": "display_data"
    }
   ],
   "source": [
    "\"\"\"CHI2 Asthma\"\"\"\n",
    "data['Asthma'].value_counts()\n",
    "sns.set(style=\"darkgrid\")\n",
    "sns.set_palette(\"hls\", 3)\n",
    "fig, ax = plt.subplots(figsize=(20,5))\n",
    "ax = sns.countplot(x=\"Asthma\", hue=\"Mortality\", data=X)\n",
    "\"\"\"Contingency table\"\"\"\n",
    "ASMA_MORTALIDAD_ct=pd.crosstab(index=data['Asthma'],columns=data['Mortality'])\n",
    "ASMA_MORTALIDAD_ct\n",
    "ASMA_MORTALIDAD_ct.iloc[0].values\n",
    "ASMA_MORTALIDAD_ct.iloc[1].values\n",
    "\n",
    "\"\"\"Sky pay\"\"\"\n",
    "from scipy import stats\n",
    "(chi2, p, dof,_) = stats.chi2_contingency([ASMA_MORTALIDAD_ct.iloc[0].values,ASMA_MORTALIDAD_ct.iloc[1].values])\n",
    "print (\"chi2    : \", chi2)\n",
    "print (\"p-value : \",p)\n",
    "print (\"Degree for Freedom : \" ,dof)\n",
    "pd.crosstab(index=data['Asthma'],columns=data['Mortality'], margins=True)"
   ]
  },
  {
   "cell_type": "code",
   "execution_count": 42,
   "metadata": {},
   "outputs": [
    {
     "name": "stdout",
     "output_type": "stream",
     "text": [
      "chi2    :  5.7184002338629005\n",
      "p-value :  0.01678801983790428\n",
      "Degree for Freedom :  1\n"
     ]
    },
    {
     "data": {
      "text/html": [
       "<div>\n",
       "<style scoped>\n",
       "    .dataframe tbody tr th:only-of-type {\n",
       "        vertical-align: middle;\n",
       "    }\n",
       "\n",
       "    .dataframe tbody tr th {\n",
       "        vertical-align: top;\n",
       "    }\n",
       "\n",
       "    .dataframe thead th {\n",
       "        text-align: right;\n",
       "    }\n",
       "</style>\n",
       "<table border=\"1\" class=\"dataframe\">\n",
       "  <thead>\n",
       "    <tr style=\"text-align: right;\">\n",
       "      <th>Mortality</th>\n",
       "      <th>Death</th>\n",
       "      <th>Surviving</th>\n",
       "      <th>All</th>\n",
       "    </tr>\n",
       "    <tr>\n",
       "      <th>Immunosuppression</th>\n",
       "      <th></th>\n",
       "      <th></th>\n",
       "      <th></th>\n",
       "    </tr>\n",
       "  </thead>\n",
       "  <tbody>\n",
       "    <tr>\n",
       "      <th>With Immunosuppression</th>\n",
       "      <td>18</td>\n",
       "      <td>56</td>\n",
       "      <td>74</td>\n",
       "    </tr>\n",
       "    <tr>\n",
       "      <th>Without Immunosuppression</th>\n",
       "      <td>1604</td>\n",
       "      <td>9886</td>\n",
       "      <td>11490</td>\n",
       "    </tr>\n",
       "    <tr>\n",
       "      <th>All</th>\n",
       "      <td>1622</td>\n",
       "      <td>9942</td>\n",
       "      <td>11564</td>\n",
       "    </tr>\n",
       "  </tbody>\n",
       "</table>\n",
       "</div>"
      ],
      "text/plain": [
       "Mortality                  Death  Surviving    All\n",
       "Immunosuppression                                 \n",
       "With Immunosuppression        18         56     74\n",
       "Without Immunosuppression   1604       9886  11490\n",
       "All                         1622       9942  11564"
      ]
     },
     "execution_count": 42,
     "metadata": {},
     "output_type": "execute_result"
    },
    {
     "data": {
      "image/png": "[encoded data removed]",
      "text/plain": [
       "<Figure size 1440x360 with 1 Axes>"
      ]
     },
     "metadata": {},
     "output_type": "display_data"
    }
   ],
   "source": [
    "\"\"\"CHI2 Immunosuppression\"\"\"\n",
    "data['Immunosuppression'].value_counts()\n",
    "sns.set(style=\"darkgrid\")\n",
    "sns.set_palette(\"hls\", 3)\n",
    "fig, ax = plt.subplots(figsize=(20,5))\n",
    "ax = sns.countplot(x=\"Immunosuppression\", hue=\"Mortality\", data=X)\n",
    "\"\"\"Contingency table\"\"\"\n",
    "INMUSUPR_MORTALIDAD_ct=pd.crosstab(index=data['Immunosuppression'],columns=data['Mortality'])\n",
    "INMUSUPR_MORTALIDAD_ct\n",
    "INMUSUPR_MORTALIDAD_ct.iloc[0].values\n",
    "INMUSUPR_MORTALIDAD_ct.iloc[1].values\n",
    "\n",
    "\"\"\"Sky pay\"\"\"\n",
    "from scipy import stats\n",
    "(chi2, p, dof,_) = stats.chi2_contingency([INMUSUPR_MORTALIDAD_ct.iloc[0].values,INMUSUPR_MORTALIDAD_ct.iloc[1].values])\n",
    "print (\"chi2    : \", chi2)\n",
    "print (\"p-value : \",p)\n",
    "print (\"Degree for Freedom : \" ,dof)\n",
    "pd.crosstab(index=data['Immunosuppression'],columns=data['Mortality'], margins=True)"
   ]
  },
  {
   "cell_type": "code",
   "execution_count": 43,
   "metadata": {},
   "outputs": [
    {
     "name": "stdout",
     "output_type": "stream",
     "text": [
      "chi2    :  433.88709326892666\n",
      "p-value :  2.31670785784008e-96\n",
      "Degree for Freedom :  1\n"
     ]
    },
    {
     "data": {
      "text/html": [
       "<div>\n",
       "<style scoped>\n",
       "    .dataframe tbody tr th:only-of-type {\n",
       "        vertical-align: middle;\n",
       "    }\n",
       "\n",
       "    .dataframe tbody tr th {\n",
       "        vertical-align: top;\n",
       "    }\n",
       "\n",
       "    .dataframe thead th {\n",
       "        text-align: right;\n",
       "    }\n",
       "</style>\n",
       "<table border=\"1\" class=\"dataframe\">\n",
       "  <thead>\n",
       "    <tr style=\"text-align: right;\">\n",
       "      <th>Mortality</th>\n",
       "      <th>Death</th>\n",
       "      <th>Surviving</th>\n",
       "      <th>All</th>\n",
       "    </tr>\n",
       "    <tr>\n",
       "      <th>Hypertension</th>\n",
       "      <th></th>\n",
       "      <th></th>\n",
       "      <th></th>\n",
       "    </tr>\n",
       "  </thead>\n",
       "  <tbody>\n",
       "    <tr>\n",
       "      <th>With Hypertension</th>\n",
       "      <td>725</td>\n",
       "      <td>2067</td>\n",
       "      <td>2792</td>\n",
       "    </tr>\n",
       "    <tr>\n",
       "      <th>Without Hypertension</th>\n",
       "      <td>897</td>\n",
       "      <td>7875</td>\n",
       "      <td>8772</td>\n",
       "    </tr>\n",
       "    <tr>\n",
       "      <th>All</th>\n",
       "      <td>1622</td>\n",
       "      <td>9942</td>\n",
       "      <td>11564</td>\n",
       "    </tr>\n",
       "  </tbody>\n",
       "</table>\n",
       "</div>"
      ],
      "text/plain": [
       "Mortality             Death  Surviving    All\n",
       "Hypertension                                 \n",
       "With Hypertension       725       2067   2792\n",
       "Without Hypertension    897       7875   8772\n",
       "All                    1622       9942  11564"
      ]
     },
     "execution_count": 43,
     "metadata": {},
     "output_type": "execute_result"
    },
    {
     "data": {
      "image/png": "[encoded data removed]",
      "text/plain": [
       "<Figure size 1440x360 with 1 Axes>"
      ]
     },
     "metadata": {},
     "output_type": "display_data"
    }
   ],
   "source": [
    "\"\"\"CHI2 Hypertension\"\"\"\n",
    "data['Hypertension'].value_counts()\n",
    "sns.set(style=\"darkgrid\")\n",
    "sns.set_palette(\"hls\", 3)\n",
    "fig, ax = plt.subplots(figsize=(20,5))\n",
    "ax = sns.countplot(x=\"Hypertension\", hue=\"Mortality\", data=X)\n",
    "\"\"\"Contingency table\"\"\"\n",
    "HIPERTEN_MORTALIDAD_ct=pd.crosstab(index=data['Hypertension'],columns=data['Mortality'])\n",
    "HIPERTEN_MORTALIDAD_ct\n",
    "HIPERTEN_MORTALIDAD_ct.iloc[0].values\n",
    "HIPERTEN_MORTALIDAD_ct.iloc[1].values\n",
    "\n",
    "\"\"\"Sky pay\"\"\"\n",
    "from scipy import stats\n",
    "(chi2, p, dof,_) = stats.chi2_contingency([HIPERTEN_MORTALIDAD_ct.iloc[0].values,HIPERTEN_MORTALIDAD_ct.iloc[1].values])\n",
    "print (\"chi2    : \", chi2)\n",
    "print (\"p-value : \",p)\n",
    "print (\"Degree for Freedom : \" ,dof)\n",
    "pd.crosstab(index=data['Hypertension'],columns=data['Mortality'], margins=True)"
   ]
  },
  {
   "cell_type": "code",
   "execution_count": 44,
   "metadata": {},
   "outputs": [
    {
     "name": "stdout",
     "output_type": "stream",
     "text": [
      "chi2    :  57.30706064214848\n",
      "p-value :  3.728144427732312e-14\n",
      "Degree for Freedom :  1\n"
     ]
    },
    {
     "data": {
      "text/html": [
       "<div>\n",
       "<style scoped>\n",
       "    .dataframe tbody tr th:only-of-type {\n",
       "        vertical-align: middle;\n",
       "    }\n",
       "\n",
       "    .dataframe tbody tr th {\n",
       "        vertical-align: top;\n",
       "    }\n",
       "\n",
       "    .dataframe thead th {\n",
       "        text-align: right;\n",
       "    }\n",
       "</style>\n",
       "<table border=\"1\" class=\"dataframe\">\n",
       "  <thead>\n",
       "    <tr style=\"text-align: right;\">\n",
       "      <th>Mortality</th>\n",
       "      <th>Death</th>\n",
       "      <th>Surviving</th>\n",
       "      <th>All</th>\n",
       "    </tr>\n",
       "    <tr>\n",
       "      <th>Cardiovascular disease</th>\n",
       "      <th></th>\n",
       "      <th></th>\n",
       "      <th></th>\n",
       "    </tr>\n",
       "  </thead>\n",
       "  <tbody>\n",
       "    <tr>\n",
       "      <th>With Cardiovascular disease</th>\n",
       "      <td>78</td>\n",
       "      <td>178</td>\n",
       "      <td>256</td>\n",
       "    </tr>\n",
       "    <tr>\n",
       "      <th>Without Cardiovascular disease</th>\n",
       "      <td>1544</td>\n",
       "      <td>9764</td>\n",
       "      <td>11308</td>\n",
       "    </tr>\n",
       "    <tr>\n",
       "      <th>All</th>\n",
       "      <td>1622</td>\n",
       "      <td>9942</td>\n",
       "      <td>11564</td>\n",
       "    </tr>\n",
       "  </tbody>\n",
       "</table>\n",
       "</div>"
      ],
      "text/plain": [
       "Mortality                       Death  Surviving    All\n",
       "Cardiovascular disease                                 \n",
       "With Cardiovascular disease        78        178    256\n",
       "Without Cardiovascular disease   1544       9764  11308\n",
       "All                              1622       9942  11564"
      ]
     },
     "execution_count": 44,
     "metadata": {},
     "output_type": "execute_result"
    },
    {
     "data": {
      "image/png": "[encoded data removed]",
      "text/plain": [
       "<Figure size 1440x360 with 1 Axes>"
      ]
     },
     "metadata": {},
     "output_type": "display_data"
    }
   ],
   "source": [
    "\"\"\"CHI2 Cardiovascular disease\"\"\"\n",
    "data['Cardiovascular disease'].value_counts()\n",
    "sns.set(style=\"darkgrid\")\n",
    "sns.set_palette(\"hls\", 3)\n",
    "fig, ax = plt.subplots(figsize=(20,5))\n",
    "ax = sns.countplot(x=\"Cardiovascular disease\", hue=\"Mortality\", data=X)\n",
    "\"\"\"Contingency table\"\"\"\n",
    "ENFCARDI_MORTALIDAD_ct=pd.crosstab(index=data['Cardiovascular disease'],columns=data['Mortality'])\n",
    "ENFCARDI_MORTALIDAD_ct\n",
    "ENFCARDI_MORTALIDAD_ct.iloc[0].values\n",
    "ENFCARDI_MORTALIDAD_ct.iloc[1].values\n",
    "\n",
    "\"\"\"Sky pay\"\"\"\n",
    "from scipy import stats\n",
    "(chi2, p, dof,_) = stats.chi2_contingency([ENFCARDI_MORTALIDAD_ct.iloc[0].values,ENFCARDI_MORTALIDAD_ct.iloc[1].values])\n",
    "print (\"chi2    : \", chi2)\n",
    "print (\"p-value : \",p)\n",
    "print (\"Degree for Freedom : \" ,dof)\n",
    "pd.crosstab(index=data['Cardiovascular disease'],columns=data['Mortality'], margins=True)"
   ]
  },
  {
   "cell_type": "code",
   "execution_count": 45,
   "metadata": {},
   "outputs": [
    {
     "name": "stdout",
     "output_type": "stream",
     "text": [
      "chi2    :  0.4820008759311978\n",
      "p-value :  0.4875173972197461\n",
      "Degree for Freedom :  1\n"
     ]
    },
    {
     "data": {
      "text/html": [
       "<div>\n",
       "<style scoped>\n",
       "    .dataframe tbody tr th:only-of-type {\n",
       "        vertical-align: middle;\n",
       "    }\n",
       "\n",
       "    .dataframe tbody tr th {\n",
       "        vertical-align: top;\n",
       "    }\n",
       "\n",
       "    .dataframe thead th {\n",
       "        text-align: right;\n",
       "    }\n",
       "</style>\n",
       "<table border=\"1\" class=\"dataframe\">\n",
       "  <thead>\n",
       "    <tr style=\"text-align: right;\">\n",
       "      <th>Mortality</th>\n",
       "      <th>Death</th>\n",
       "      <th>Surviving</th>\n",
       "      <th>All</th>\n",
       "    </tr>\n",
       "    <tr>\n",
       "      <th>Obesity</th>\n",
       "      <th></th>\n",
       "      <th></th>\n",
       "      <th></th>\n",
       "    </tr>\n",
       "  </thead>\n",
       "  <tbody>\n",
       "    <tr>\n",
       "      <th>With Obesity</th>\n",
       "      <td>285</td>\n",
       "      <td>1674</td>\n",
       "      <td>1959</td>\n",
       "    </tr>\n",
       "    <tr>\n",
       "      <th>Without Obesity</th>\n",
       "      <td>1337</td>\n",
       "      <td>8268</td>\n",
       "      <td>9605</td>\n",
       "    </tr>\n",
       "    <tr>\n",
       "      <th>All</th>\n",
       "      <td>1622</td>\n",
       "      <td>9942</td>\n",
       "      <td>11564</td>\n",
       "    </tr>\n",
       "  </tbody>\n",
       "</table>\n",
       "</div>"
      ],
      "text/plain": [
       "Mortality        Death  Surviving    All\n",
       "Obesity                                 \n",
       "With Obesity       285       1674   1959\n",
       "Without Obesity   1337       8268   9605\n",
       "All               1622       9942  11564"
      ]
     },
     "execution_count": 45,
     "metadata": {},
     "output_type": "execute_result"
    },
    {
     "data": {
      "image/png": "[encoded data removed]",
      "text/plain": [
       "<Figure size 1440x360 with 1 Axes>"
      ]
     },
     "metadata": {},
     "output_type": "display_data"
    }
   ],
   "source": [
    "\"\"\"CHI2 Obesity\"\"\"\n",
    "data['Obesity'].value_counts()\n",
    "sns.set(style=\"darkgrid\")\n",
    "sns.set_palette(\"hls\", 3)\n",
    "fig, ax = plt.subplots(figsize=(20,5))\n",
    "ax = sns.countplot(x=\"Obesity\", hue=\"Mortality\", data=X)\n",
    "\"\"\"Contingency table\"\"\"\n",
    "OBESIDAD_MORTALIDAD_ct=pd.crosstab(index=data['Obesity'],columns=data['Mortality'])\n",
    "OBESIDAD_MORTALIDAD_ct\n",
    "OBESIDAD_MORTALIDAD_ct.iloc[0].values\n",
    "OBESIDAD_MORTALIDAD_ct.iloc[1].values\n",
    "\n",
    "\"\"\"Sky pay\"\"\"\n",
    "from scipy import stats\n",
    "(chi2, p, dof,_) = stats.chi2_contingency([OBESIDAD_MORTALIDAD_ct.iloc[0].values,OBESIDAD_MORTALIDAD_ct.iloc[1].values])\n",
    "print (\"chi2    : \", chi2)\n",
    "print (\"p-value : \",p)\n",
    "print (\"Degree for Freedom : \" ,dof)\n",
    "pd.crosstab(index=data['Obesity'],columns=data['Mortality'], margins=True)"
   ]
  },
  {
   "cell_type": "code",
   "execution_count": 46,
   "metadata": {},
   "outputs": [
    {
     "name": "stdout",
     "output_type": "stream",
     "text": [
      "chi2    :  253.28451854523607\n",
      "p-value :  4.993479988317161e-57\n",
      "Degree for Freedom :  1\n"
     ]
    },
    {
     "data": {
      "text/html": [
       "<div>\n",
       "<style scoped>\n",
       "    .dataframe tbody tr th:only-of-type {\n",
       "        vertical-align: middle;\n",
       "    }\n",
       "\n",
       "    .dataframe tbody tr th {\n",
       "        vertical-align: top;\n",
       "    }\n",
       "\n",
       "    .dataframe thead th {\n",
       "        text-align: right;\n",
       "    }\n",
       "</style>\n",
       "<table border=\"1\" class=\"dataframe\">\n",
       "  <thead>\n",
       "    <tr style=\"text-align: right;\">\n",
       "      <th>Mortality</th>\n",
       "      <th>Death</th>\n",
       "      <th>Surviving</th>\n",
       "      <th>All</th>\n",
       "    </tr>\n",
       "    <tr>\n",
       "      <th>CKD</th>\n",
       "      <th></th>\n",
       "      <th></th>\n",
       "      <th></th>\n",
       "    </tr>\n",
       "  </thead>\n",
       "  <tbody>\n",
       "    <tr>\n",
       "      <th>With CKD</th>\n",
       "      <td>150</td>\n",
       "      <td>195</td>\n",
       "      <td>345</td>\n",
       "    </tr>\n",
       "    <tr>\n",
       "      <th>Without CKD</th>\n",
       "      <td>1472</td>\n",
       "      <td>9747</td>\n",
       "      <td>11219</td>\n",
       "    </tr>\n",
       "    <tr>\n",
       "      <th>All</th>\n",
       "      <td>1622</td>\n",
       "      <td>9942</td>\n",
       "      <td>11564</td>\n",
       "    </tr>\n",
       "  </tbody>\n",
       "</table>\n",
       "</div>"
      ],
      "text/plain": [
       "Mortality    Death  Surviving    All\n",
       "CKD                                 \n",
       "With CKD       150        195    345\n",
       "Without CKD   1472       9747  11219\n",
       "All           1622       9942  11564"
      ]
     },
     "execution_count": 46,
     "metadata": {},
     "output_type": "execute_result"
    },
    {
     "data": {
      "image/png": "[encoded data removed]",
      "text/plain": [
       "<Figure size 1440x360 with 1 Axes>"
      ]
     },
     "metadata": {},
     "output_type": "display_data"
    }
   ],
   "source": [
    "\"\"\"CHI2 CKD\"\"\"\n",
    "data['CKD'].value_counts()\n",
    "sns.set(style=\"darkgrid\")\n",
    "sns.set_palette(\"hls\", 3)\n",
    "fig, ax = plt.subplots(figsize=(20,5))\n",
    "ax = sns.countplot(x=\"CKD\", hue=\"Mortality\", data=X)\n",
    "\"\"\"Contingency table\"\"\"\n",
    "INSRENCR_MORTALIDAD_ct=pd.crosstab(index=data['CKD'],columns=data['Mortality'])\n",
    "INSRENCR_MORTALIDAD_ct\n",
    "INSRENCR_MORTALIDAD_ct.iloc[0].values\n",
    "INSRENCR_MORTALIDAD_ct.iloc[1].values\n",
    "\n",
    "\"\"\"Sky pay\"\"\"\n",
    "from scipy import stats\n",
    "(chi2, p, dof,_) = stats.chi2_contingency([INSRENCR_MORTALIDAD_ct.iloc[0].values,INSRENCR_MORTALIDAD_ct.iloc[1].values])\n",
    "print (\"chi2    : \", chi2)\n",
    "print (\"p-value : \",p)\n",
    "print (\"Degree for Freedom : \" ,dof)\n",
    "pd.crosstab(index=data['CKD'],columns=data['Mortality'], margins=True)"
   ]
  },
  {
   "cell_type": "code",
   "execution_count": 47,
   "metadata": {},
   "outputs": [
    {
     "name": "stdout",
     "output_type": "stream",
     "text": [
      "chi2    :  8.203105585671482\n",
      "p-value :  0.004181874883353245\n",
      "Degree for Freedom :  1\n"
     ]
    },
    {
     "data": {
      "text/html": [
       "<div>\n",
       "<style scoped>\n",
       "    .dataframe tbody tr th:only-of-type {\n",
       "        vertical-align: middle;\n",
       "    }\n",
       "\n",
       "    .dataframe tbody tr th {\n",
       "        vertical-align: top;\n",
       "    }\n",
       "\n",
       "    .dataframe thead th {\n",
       "        text-align: right;\n",
       "    }\n",
       "</style>\n",
       "<table border=\"1\" class=\"dataframe\">\n",
       "  <thead>\n",
       "    <tr style=\"text-align: right;\">\n",
       "      <th>Mortality</th>\n",
       "      <th>Death</th>\n",
       "      <th>Surviving</th>\n",
       "      <th>All</th>\n",
       "    </tr>\n",
       "    <tr>\n",
       "      <th>Smoking</th>\n",
       "      <th></th>\n",
       "      <th></th>\n",
       "      <th></th>\n",
       "    </tr>\n",
       "  </thead>\n",
       "  <tbody>\n",
       "    <tr>\n",
       "      <th>With Smoking</th>\n",
       "      <td>130</td>\n",
       "      <td>607</td>\n",
       "      <td>737</td>\n",
       "    </tr>\n",
       "    <tr>\n",
       "      <th>Without Smoking</th>\n",
       "      <td>1492</td>\n",
       "      <td>9335</td>\n",
       "      <td>10827</td>\n",
       "    </tr>\n",
       "    <tr>\n",
       "      <th>All</th>\n",
       "      <td>1622</td>\n",
       "      <td>9942</td>\n",
       "      <td>11564</td>\n",
       "    </tr>\n",
       "  </tbody>\n",
       "</table>\n",
       "</div>"
      ],
      "text/plain": [
       "Mortality        Death  Surviving    All\n",
       "Smoking                                 \n",
       "With Smoking       130        607    737\n",
       "Without Smoking   1492       9335  10827\n",
       "All               1622       9942  11564"
      ]
     },
     "execution_count": 47,
     "metadata": {},
     "output_type": "execute_result"
    },
    {
     "data": {
      "image/png": "[encoded data removed]",
      "text/plain": [
       "<Figure size 1440x360 with 1 Axes>"
      ]
     },
     "metadata": {},
     "output_type": "display_data"
    }
   ],
   "source": [
    "\"\"\"CHI2 Smoking\"\"\"\n",
    "data['Smoking'].value_counts()\n",
    "sns.set(style=\"darkgrid\")\n",
    "sns.set_palette(\"hls\", 3)\n",
    "fig, ax = plt.subplots(figsize=(20,5))\n",
    "ax = sns.countplot(x=\"Smoking\", hue=\"Mortality\", data=X)\n",
    "\"\"\"Contingency table\"\"\"\n",
    "TABAQUIS_MORTALIDAD_ct=pd.crosstab(index=data['Smoking'],columns=data['Mortality'])\n",
    "TABAQUIS_MORTALIDAD_ct\n",
    "TABAQUIS_MORTALIDAD_ct.iloc[0].values\n",
    "TABAQUIS_MORTALIDAD_ct.iloc[1].values\n",
    "\n",
    "\"\"\"Sky pay\"\"\"\n",
    "from scipy import stats\n",
    "(chi2, p, dof,_) = stats.chi2_contingency([TABAQUIS_MORTALIDAD_ct.iloc[0].values,TABAQUIS_MORTALIDAD_ct.iloc[1].values])\n",
    "print (\"chi2    : \", chi2)\n",
    "print (\"p-value : \",p)\n",
    "print (\"Degree for Freedom : \" ,dof)\n",
    "pd.crosstab(index=data['Smoking'],columns=data['Mortality'], margins=True)"
   ]
  },
  {
   "cell_type": "code",
   "execution_count": 48,
   "metadata": {},
   "outputs": [
    {
     "name": "stdout",
     "output_type": "stream",
     "text": [
      "chi2    :  32.99817060779589\n",
      "p-value :  9.224562923257107e-09\n",
      "Degree for Freedom :  1\n"
     ]
    },
    {
     "data": {
      "text/html": [
       "<div>\n",
       "<style scoped>\n",
       "    .dataframe tbody tr th:only-of-type {\n",
       "        vertical-align: middle;\n",
       "    }\n",
       "\n",
       "    .dataframe tbody tr th {\n",
       "        vertical-align: top;\n",
       "    }\n",
       "\n",
       "    .dataframe thead th {\n",
       "        text-align: right;\n",
       "    }\n",
       "</style>\n",
       "<table border=\"1\" class=\"dataframe\">\n",
       "  <thead>\n",
       "    <tr style=\"text-align: right;\">\n",
       "      <th>Mortality</th>\n",
       "      <th>Death</th>\n",
       "      <th>Surviving</th>\n",
       "      <th>All</th>\n",
       "    </tr>\n",
       "    <tr>\n",
       "      <th>Fever</th>\n",
       "      <th></th>\n",
       "      <th></th>\n",
       "      <th></th>\n",
       "    </tr>\n",
       "  </thead>\n",
       "  <tbody>\n",
       "    <tr>\n",
       "      <th>With Fever</th>\n",
       "      <td>1450</td>\n",
       "      <td>8332</td>\n",
       "      <td>9782</td>\n",
       "    </tr>\n",
       "    <tr>\n",
       "      <th>Without Fever</th>\n",
       "      <td>172</td>\n",
       "      <td>1610</td>\n",
       "      <td>1782</td>\n",
       "    </tr>\n",
       "    <tr>\n",
       "      <th>All</th>\n",
       "      <td>1622</td>\n",
       "      <td>9942</td>\n",
       "      <td>11564</td>\n",
       "    </tr>\n",
       "  </tbody>\n",
       "</table>\n",
       "</div>"
      ],
      "text/plain": [
       "Mortality      Death  Surviving    All\n",
       "Fever                                 \n",
       "With Fever      1450       8332   9782\n",
       "Without Fever    172       1610   1782\n",
       "All             1622       9942  11564"
      ]
     },
     "execution_count": 48,
     "metadata": {},
     "output_type": "execute_result"
    },
    {
     "data": {
      "image/png": "[encoded data removed]",
      "text/plain": [
       "<Figure size 1440x360 with 1 Axes>"
      ]
     },
     "metadata": {},
     "output_type": "display_data"
    }
   ],
   "source": [
    "\"\"\"CHI2 Fever\"\"\"\n",
    "data['Fever'].value_counts()\n",
    "sns.set(style=\"darkgrid\")\n",
    "sns.set_palette(\"hls\", 3)\n",
    "fig, ax = plt.subplots(figsize=(20,5))\n",
    "ax = sns.countplot(x=\"Fever\", hue=\"Mortality\", data=X)\n",
    "\"\"\"Contingency table\"\"\"\n",
    "FIEBRE_MORTALIDAD_ct=pd.crosstab(index=data['Fever'],columns=data['Mortality'])\n",
    "FIEBRE_MORTALIDAD_ct\n",
    "FIEBRE_MORTALIDAD_ct.iloc[0].values\n",
    "FIEBRE_MORTALIDAD_ct.iloc[1].values\n",
    "\n",
    "\"\"\"Sky pay\"\"\"\n",
    "from scipy import stats\n",
    "(chi2, p, dof,_) = stats.chi2_contingency([FIEBRE_MORTALIDAD_ct.iloc[0].values,FIEBRE_MORTALIDAD_ct.iloc[1].values])\n",
    "print (\"chi2    : \", chi2)\n",
    "print (\"p-value : \",p)\n",
    "print (\"Degree for Freedom : \" ,dof)\n",
    "pd.crosstab(index=data['Fever'],columns=data['Mortality'], margins=True)"
   ]
  },
  {
   "cell_type": "code",
   "execution_count": 49,
   "metadata": {},
   "outputs": [
    {
     "name": "stdout",
     "output_type": "stream",
     "text": [
      "chi2    :  26.85464960730423\n",
      "p-value :  2.1934599385377373e-07\n",
      "Degree for Freedom :  1\n"
     ]
    },
    {
     "data": {
      "text/html": [
       "<div>\n",
       "<style scoped>\n",
       "    .dataframe tbody tr th:only-of-type {\n",
       "        vertical-align: middle;\n",
       "    }\n",
       "\n",
       "    .dataframe tbody tr th {\n",
       "        vertical-align: top;\n",
       "    }\n",
       "\n",
       "    .dataframe thead th {\n",
       "        text-align: right;\n",
       "    }\n",
       "</style>\n",
       "<table border=\"1\" class=\"dataframe\">\n",
       "  <thead>\n",
       "    <tr style=\"text-align: right;\">\n",
       "      <th>Mortality</th>\n",
       "      <th>Death</th>\n",
       "      <th>Surviving</th>\n",
       "      <th>All</th>\n",
       "    </tr>\n",
       "    <tr>\n",
       "      <th>Cough</th>\n",
       "      <th></th>\n",
       "      <th></th>\n",
       "      <th></th>\n",
       "    </tr>\n",
       "  </thead>\n",
       "  <tbody>\n",
       "    <tr>\n",
       "      <th>With Cough</th>\n",
       "      <td>1472</td>\n",
       "      <td>8550</td>\n",
       "      <td>10022</td>\n",
       "    </tr>\n",
       "    <tr>\n",
       "      <th>Without Cough</th>\n",
       "      <td>150</td>\n",
       "      <td>1392</td>\n",
       "      <td>1542</td>\n",
       "    </tr>\n",
       "    <tr>\n",
       "      <th>All</th>\n",
       "      <td>1622</td>\n",
       "      <td>9942</td>\n",
       "      <td>11564</td>\n",
       "    </tr>\n",
       "  </tbody>\n",
       "</table>\n",
       "</div>"
      ],
      "text/plain": [
       "Mortality      Death  Surviving    All\n",
       "Cough                                 \n",
       "With Cough      1472       8550  10022\n",
       "Without Cough    150       1392   1542\n",
       "All             1622       9942  11564"
      ]
     },
     "execution_count": 49,
     "metadata": {},
     "output_type": "execute_result"
    },
    {
     "data": {
      "image/png": "[encoded data removed]",
      "text/plain": [
       "<Figure size 1440x360 with 1 Axes>"
      ]
     },
     "metadata": {},
     "output_type": "display_data"
    }
   ],
   "source": [
    "\"\"\"CHI2 Cough\"\"\"\n",
    "data['Cough'].value_counts()\n",
    "sns.set(style=\"darkgrid\")\n",
    "sns.set_palette(\"hls\", 3)\n",
    "fig, ax = plt.subplots(figsize=(20,5))\n",
    "ax = sns.countplot(x=\"Cough\", hue=\"Mortality\", data=X)\n",
    "\"\"\"Contingency table\"\"\"\n",
    "TOS_MORTALIDAD_ct=pd.crosstab(index=data['Cough'],columns=data['Mortality'])\n",
    "TOS_MORTALIDAD_ct\n",
    "TOS_MORTALIDAD_ct.iloc[0].values\n",
    "TOS_MORTALIDAD_ct.iloc[1].values\n",
    "\n",
    "\"\"\"Sky pay\"\"\"\n",
    "from scipy import stats\n",
    "(chi2, p, dof,_) = stats.chi2_contingency([TOS_MORTALIDAD_ct.iloc[0].values,TOS_MORTALIDAD_ct.iloc[1].values])\n",
    "print (\"chi2    : \", chi2)\n",
    "print (\"p-value : \",p)\n",
    "print (\"Degree for Freedom : \" ,dof)\n",
    "pd.crosstab(index=data['Cough'],columns=data['Mortality'], margins=True)"
   ]
  },
  {
   "cell_type": "code",
   "execution_count": 50,
   "metadata": {},
   "outputs": [
    {
     "name": "stdout",
     "output_type": "stream",
     "text": [
      "chi2    :  5.4780706737702545\n",
      "p-value :  0.019256501528780175\n",
      "Degree for Freedom :  1\n"
     ]
    },
    {
     "data": {
      "text/html": [
       "<div>\n",
       "<style scoped>\n",
       "    .dataframe tbody tr th:only-of-type {\n",
       "        vertical-align: middle;\n",
       "    }\n",
       "\n",
       "    .dataframe tbody tr th {\n",
       "        vertical-align: top;\n",
       "    }\n",
       "\n",
       "    .dataframe thead th {\n",
       "        text-align: right;\n",
       "    }\n",
       "</style>\n",
       "<table border=\"1\" class=\"dataframe\">\n",
       "  <thead>\n",
       "    <tr style=\"text-align: right;\">\n",
       "      <th>Mortality</th>\n",
       "      <th>Death</th>\n",
       "      <th>Surviving</th>\n",
       "      <th>All</th>\n",
       "    </tr>\n",
       "    <tr>\n",
       "      <th>Odynophagia</th>\n",
       "      <th></th>\n",
       "      <th></th>\n",
       "      <th></th>\n",
       "    </tr>\n",
       "  </thead>\n",
       "  <tbody>\n",
       "    <tr>\n",
       "      <th>With Odynophagia</th>\n",
       "      <td>946</td>\n",
       "      <td>6106</td>\n",
       "      <td>7052</td>\n",
       "    </tr>\n",
       "    <tr>\n",
       "      <th>Without Odynophagia</th>\n",
       "      <td>676</td>\n",
       "      <td>3836</td>\n",
       "      <td>4512</td>\n",
       "    </tr>\n",
       "    <tr>\n",
       "      <th>All</th>\n",
       "      <td>1622</td>\n",
       "      <td>9942</td>\n",
       "      <td>11564</td>\n",
       "    </tr>\n",
       "  </tbody>\n",
       "</table>\n",
       "</div>"
      ],
      "text/plain": [
       "Mortality            Death  Surviving    All\n",
       "Odynophagia                                 \n",
       "With Odynophagia       946       6106   7052\n",
       "Without Odynophagia    676       3836   4512\n",
       "All                   1622       9942  11564"
      ]
     },
     "execution_count": 50,
     "metadata": {},
     "output_type": "execute_result"
    },
    {
     "data": {
      "image/png": "[encoded data removed]",
      "text/plain": [
       "<Figure size 1440x360 with 1 Axes>"
      ]
     },
     "metadata": {},
     "output_type": "display_data"
    }
   ],
   "source": [
    "\"\"\"CHI2 Odynophagia\"\"\"\n",
    "data['Odynophagia'].value_counts()\n",
    "sns.set(style=\"darkgrid\")\n",
    "sns.set_palette(\"hls\", 3)\n",
    "fig, ax = plt.subplots(figsize=(20,5))\n",
    "ax = sns.countplot(x=\"Odynophagia\", hue=\"Mortality\", data=X)\n",
    "\"\"\"Contingency table\"\"\"\n",
    "ODINOGIA_MORTALIDAD_ct=pd.crosstab(index=data['Odynophagia'],columns=data['Mortality'])\n",
    "ODINOGIA_MORTALIDAD_ct\n",
    "ODINOGIA_MORTALIDAD_ct.iloc[0].values\n",
    "ODINOGIA_MORTALIDAD_ct.iloc[1].values\n",
    "\n",
    "\"\"\"Sky pay\"\"\"\n",
    "from scipy import stats\n",
    "(chi2, p, dof,_) = stats.chi2_contingency([ODINOGIA_MORTALIDAD_ct.iloc[0].values,ODINOGIA_MORTALIDAD_ct.iloc[1].values])\n",
    "print (\"chi2    : \", chi2)\n",
    "print (\"p-value : \",p)\n",
    "print (\"Degree for Freedom : \" ,dof)\n",
    "pd.crosstab(index=data['Odynophagia'],columns=data['Mortality'], margins=True)"
   ]
  },
  {
   "cell_type": "code",
   "execution_count": 51,
   "metadata": {},
   "outputs": [
    {
     "name": "stdout",
     "output_type": "stream",
     "text": [
      "chi2    :  1222.7163610833227\n",
      "p-value :  7.054048789356939e-268\n",
      "Degree for Freedom :  1\n"
     ]
    },
    {
     "data": {
      "text/html": [
       "<div>\n",
       "<style scoped>\n",
       "    .dataframe tbody tr th:only-of-type {\n",
       "        vertical-align: middle;\n",
       "    }\n",
       "\n",
       "    .dataframe tbody tr th {\n",
       "        vertical-align: top;\n",
       "    }\n",
       "\n",
       "    .dataframe thead th {\n",
       "        text-align: right;\n",
       "    }\n",
       "</style>\n",
       "<table border=\"1\" class=\"dataframe\">\n",
       "  <thead>\n",
       "    <tr style=\"text-align: right;\">\n",
       "      <th>Mortality</th>\n",
       "      <th>Death</th>\n",
       "      <th>Surviving</th>\n",
       "      <th>All</th>\n",
       "    </tr>\n",
       "    <tr>\n",
       "      <th>Dyspnea</th>\n",
       "      <th></th>\n",
       "      <th></th>\n",
       "      <th></th>\n",
       "    </tr>\n",
       "  </thead>\n",
       "  <tbody>\n",
       "    <tr>\n",
       "      <th>With Dyspnea</th>\n",
       "      <td>1370</td>\n",
       "      <td>3768</td>\n",
       "      <td>5138</td>\n",
       "    </tr>\n",
       "    <tr>\n",
       "      <th>Without Dyspnea</th>\n",
       "      <td>252</td>\n",
       "      <td>6174</td>\n",
       "      <td>6426</td>\n",
       "    </tr>\n",
       "    <tr>\n",
       "      <th>All</th>\n",
       "      <td>1622</td>\n",
       "      <td>9942</td>\n",
       "      <td>11564</td>\n",
       "    </tr>\n",
       "  </tbody>\n",
       "</table>\n",
       "</div>"
      ],
      "text/plain": [
       "Mortality        Death  Surviving    All\n",
       "Dyspnea                                 \n",
       "With Dyspnea      1370       3768   5138\n",
       "Without Dyspnea    252       6174   6426\n",
       "All               1622       9942  11564"
      ]
     },
     "execution_count": 51,
     "metadata": {},
     "output_type": "execute_result"
    },
    {
     "data": {
      "image/png": "[encoded data removed]",
      "text/plain": [
       "<Figure size 1440x360 with 1 Axes>"
      ]
     },
     "metadata": {},
     "output_type": "display_data"
    }
   ],
   "source": [
    "\"\"\"CHI2 Dyspnea\"\"\"\n",
    "data['Dyspnea'].value_counts()\n",
    "sns.set(style=\"darkgrid\")\n",
    "sns.set_palette(\"hls\", 3)\n",
    "fig, ax = plt.subplots(figsize=(20,5))\n",
    "ax = sns.countplot(x=\"Dyspnea\", hue=\"Mortality\", data=X)\n",
    "\"\"\"Contingency table\"\"\"\n",
    "DISNEA_MORTALIDAD_ct=pd.crosstab(index=data['Dyspnea'],columns=data['Mortality'])\n",
    "DISNEA_MORTALIDAD_ct\n",
    "DISNEA_MORTALIDAD_ct.iloc[0].values\n",
    "DISNEA_MORTALIDAD_ct.iloc[1].values\n",
    "\n",
    "\"\"\"Sky pay\"\"\"\n",
    "from scipy import stats\n",
    "(chi2, p, dof,_) = stats.chi2_contingency([DISNEA_MORTALIDAD_ct.iloc[0].values,DISNEA_MORTALIDAD_ct.iloc[1].values])\n",
    "print (\"chi2    : \", chi2)\n",
    "print (\"p-value : \",p)\n",
    "print (\"Degree for Freedom : \" ,dof)\n",
    "pd.crosstab(index=data['Dyspnea'],columns=data['Mortality'], margins=True)"
   ]
  },
  {
   "cell_type": "code",
   "execution_count": 52,
   "metadata": {},
   "outputs": [
    {
     "name": "stdout",
     "output_type": "stream",
     "text": [
      "chi2    :  3.53540942846543\n",
      "p-value :  0.060071501438017615\n",
      "Degree for Freedom :  1\n"
     ]
    },
    {
     "data": {
      "text/html": [
       "<div>\n",
       "<style scoped>\n",
       "    .dataframe tbody tr th:only-of-type {\n",
       "        vertical-align: middle;\n",
       "    }\n",
       "\n",
       "    .dataframe tbody tr th {\n",
       "        vertical-align: top;\n",
       "    }\n",
       "\n",
       "    .dataframe thead th {\n",
       "        text-align: right;\n",
       "    }\n",
       "</style>\n",
       "<table border=\"1\" class=\"dataframe\">\n",
       "  <thead>\n",
       "    <tr style=\"text-align: right;\">\n",
       "      <th>Mortality</th>\n",
       "      <th>Death</th>\n",
       "      <th>Surviving</th>\n",
       "      <th>All</th>\n",
       "    </tr>\n",
       "    <tr>\n",
       "      <th>Irritability</th>\n",
       "      <th></th>\n",
       "      <th></th>\n",
       "      <th></th>\n",
       "    </tr>\n",
       "  </thead>\n",
       "  <tbody>\n",
       "    <tr>\n",
       "      <th>With Irritability</th>\n",
       "      <td>272</td>\n",
       "      <td>1484</td>\n",
       "      <td>1756</td>\n",
       "    </tr>\n",
       "    <tr>\n",
       "      <th>Without Irritability</th>\n",
       "      <td>1350</td>\n",
       "      <td>8458</td>\n",
       "      <td>9808</td>\n",
       "    </tr>\n",
       "    <tr>\n",
       "      <th>All</th>\n",
       "      <td>1622</td>\n",
       "      <td>9942</td>\n",
       "      <td>11564</td>\n",
       "    </tr>\n",
       "  </tbody>\n",
       "</table>\n",
       "</div>"
      ],
      "text/plain": [
       "Mortality             Death  Surviving    All\n",
       "Irritability                                 \n",
       "With Irritability       272       1484   1756\n",
       "Without Irritability   1350       8458   9808\n",
       "All                    1622       9942  11564"
      ]
     },
     "execution_count": 52,
     "metadata": {},
     "output_type": "execute_result"
    },
    {
     "data": {
      "image/png": "[encoded data removed]",
      "text/plain": [
       "<Figure size 1440x360 with 1 Axes>"
      ]
     },
     "metadata": {},
     "output_type": "display_data"
    }
   ],
   "source": [
    "\"\"\"CHI2 Irritability\"\"\"\n",
    "data['Irritability'].value_counts()\n",
    "sns.set(style=\"darkgrid\")\n",
    "sns.set_palette(\"hls\", 3)\n",
    "fig, ax = plt.subplots(figsize=(20,5))\n",
    "ax = sns.countplot(x=\"Irritability\", hue=\"Mortality\", data=X)\n",
    "\"\"\"Contingency table\"\"\"\n",
    "IRRITABI_MORTALIDAD_ct=pd.crosstab(index=data['Irritability'],columns=data['Mortality'])\n",
    "IRRITABI_MORTALIDAD_ct\n",
    "IRRITABI_MORTALIDAD_ct.iloc[0].values\n",
    "IRRITABI_MORTALIDAD_ct.iloc[1].values\n",
    "\n",
    "\"\"\"Sky pay\"\"\"\n",
    "from scipy import stats\n",
    "(chi2, p, dof,_) = stats.chi2_contingency([IRRITABI_MORTALIDAD_ct.iloc[0].values,IRRITABI_MORTALIDAD_ct.iloc[1].values])\n",
    "print (\"chi2    : \", chi2)\n",
    "print (\"p-value : \",p)\n",
    "print (\"Degree for Freedom : \" ,dof)\n",
    "pd.crosstab(index=data['Irritability'],columns=data['Mortality'], margins=True)"
   ]
  },
  {
   "cell_type": "code",
   "execution_count": 53,
   "metadata": {},
   "outputs": [
    {
     "name": "stdout",
     "output_type": "stream",
     "text": [
      "chi2    :  14.915606690008536\n",
      "p-value :  0.00011242902821989934\n",
      "Degree for Freedom :  1\n"
     ]
    },
    {
     "data": {
      "text/html": [
       "<div>\n",
       "<style scoped>\n",
       "    .dataframe tbody tr th:only-of-type {\n",
       "        vertical-align: middle;\n",
       "    }\n",
       "\n",
       "    .dataframe tbody tr th {\n",
       "        vertical-align: top;\n",
       "    }\n",
       "\n",
       "    .dataframe thead th {\n",
       "        text-align: right;\n",
       "    }\n",
       "</style>\n",
       "<table border=\"1\" class=\"dataframe\">\n",
       "  <thead>\n",
       "    <tr style=\"text-align: right;\">\n",
       "      <th>Mortality</th>\n",
       "      <th>Death</th>\n",
       "      <th>Surviving</th>\n",
       "      <th>All</th>\n",
       "    </tr>\n",
       "    <tr>\n",
       "      <th>Diarrhea</th>\n",
       "      <th></th>\n",
       "      <th></th>\n",
       "      <th></th>\n",
       "    </tr>\n",
       "  </thead>\n",
       "  <tbody>\n",
       "    <tr>\n",
       "      <th>With Diarrhea</th>\n",
       "      <td>285</td>\n",
       "      <td>2171</td>\n",
       "      <td>2456</td>\n",
       "    </tr>\n",
       "    <tr>\n",
       "      <th>Without Diarrhea</th>\n",
       "      <td>1337</td>\n",
       "      <td>7771</td>\n",
       "      <td>9108</td>\n",
       "    </tr>\n",
       "    <tr>\n",
       "      <th>All</th>\n",
       "      <td>1622</td>\n",
       "      <td>9942</td>\n",
       "      <td>11564</td>\n",
       "    </tr>\n",
       "  </tbody>\n",
       "</table>\n",
       "</div>"
      ],
      "text/plain": [
       "Mortality         Death  Surviving    All\n",
       "Diarrhea                                 \n",
       "With Diarrhea       285       2171   2456\n",
       "Without Diarrhea   1337       7771   9108\n",
       "All                1622       9942  11564"
      ]
     },
     "execution_count": 53,
     "metadata": {},
     "output_type": "execute_result"
    },
    {
     "data": {
      "image/png": "[encoded data removed]",
      "text/plain": [
       "<Figure size 1440x360 with 1 Axes>"
      ]
     },
     "metadata": {},
     "output_type": "display_data"
    }
   ],
   "source": [
    "\"\"\"CHI2 Diarrhea\"\"\"\n",
    "data['Diarrhea'].value_counts()\n",
    "sns.set(style=\"darkgrid\")\n",
    "sns.set_palette(\"hls\", 3)\n",
    "fig, ax = plt.subplots(figsize=(20,5))\n",
    "ax = sns.countplot(x=\"Diarrhea\", hue=\"Mortality\", data=X)\n",
    "\"\"\"Contingency tablea\"\"\"\n",
    "DIARREA_MORTALIDAD_ct=pd.crosstab(index=data['Diarrhea'],columns=data['Mortality'])\n",
    "DIARREA_MORTALIDAD_ct\n",
    "DIARREA_MORTALIDAD_ct.iloc[0].values\n",
    "DIARREA_MORTALIDAD_ct.iloc[1].values\n",
    "\n",
    "\"\"\"Sky pay\"\"\"\n",
    "from scipy import stats\n",
    "(chi2, p, dof,_) = stats.chi2_contingency([DIARREA_MORTALIDAD_ct.iloc[0].values,DIARREA_MORTALIDAD_ct.iloc[1].values])\n",
    "print (\"chi2    : \", chi2)\n",
    "print (\"p-value : \",p)\n",
    "print (\"Degree for Freedom : \" ,dof)\n",
    "pd.crosstab(index=data['Diarrhea'],columns=data['Mortality'], margins=True)"
   ]
  },
  {
   "cell_type": "code",
   "execution_count": 54,
   "metadata": {},
   "outputs": [
    {
     "name": "stdout",
     "output_type": "stream",
     "text": [
      "chi2    :  35.75388250403289\n",
      "p-value :  2.238853507526656e-09\n",
      "Degree for Freedom :  1\n"
     ]
    },
    {
     "data": {
      "text/html": [
       "<div>\n",
       "<style scoped>\n",
       "    .dataframe tbody tr th:only-of-type {\n",
       "        vertical-align: middle;\n",
       "    }\n",
       "\n",
       "    .dataframe tbody tr th {\n",
       "        vertical-align: top;\n",
       "    }\n",
       "\n",
       "    .dataframe thead th {\n",
       "        text-align: right;\n",
       "    }\n",
       "</style>\n",
       "<table border=\"1\" class=\"dataframe\">\n",
       "  <thead>\n",
       "    <tr style=\"text-align: right;\">\n",
       "      <th>Mortality</th>\n",
       "      <th>Death</th>\n",
       "      <th>Surviving</th>\n",
       "      <th>All</th>\n",
       "    </tr>\n",
       "    <tr>\n",
       "      <th>Chest pain</th>\n",
       "      <th></th>\n",
       "      <th></th>\n",
       "      <th></th>\n",
       "    </tr>\n",
       "  </thead>\n",
       "  <tbody>\n",
       "    <tr>\n",
       "      <th>With Chest pain</th>\n",
       "      <td>640</td>\n",
       "      <td>3171</td>\n",
       "      <td>3811</td>\n",
       "    </tr>\n",
       "    <tr>\n",
       "      <th>Without Chest pain</th>\n",
       "      <td>982</td>\n",
       "      <td>6771</td>\n",
       "      <td>7753</td>\n",
       "    </tr>\n",
       "    <tr>\n",
       "      <th>All</th>\n",
       "      <td>1622</td>\n",
       "      <td>9942</td>\n",
       "      <td>11564</td>\n",
       "    </tr>\n",
       "  </tbody>\n",
       "</table>\n",
       "</div>"
      ],
      "text/plain": [
       "Mortality           Death  Surviving    All\n",
       "Chest pain                                 \n",
       "With Chest pain       640       3171   3811\n",
       "Without Chest pain    982       6771   7753\n",
       "All                  1622       9942  11564"
      ]
     },
     "execution_count": 54,
     "metadata": {},
     "output_type": "execute_result"
    },
    {
     "data": {
      "image/png": "[encoded data removed]",
      "text/plain": [
       "<Figure size 1440x360 with 1 Axes>"
      ]
     },
     "metadata": {},
     "output_type": "display_data"
    }
   ],
   "source": [
    "data['Chest pain'].value_counts()\n",
    "sns.set(style=\"darkgrid\")\n",
    "sns.set_palette(\"hls\", 3)\n",
    "fig, ax = plt.subplots(figsize=(20,5))\n",
    "ax = sns.countplot(x=\"Chest pain\", hue=\"Mortality\", data=X)\n",
    "\"\"\"Contingency table\"\"\"\n",
    "DOTORACI_MORTALIDAD_ct=pd.crosstab(index=data['Chest pain'],columns=data['Mortality'])\n",
    "DOTORACI_MORTALIDAD_ct\n",
    "DOTORACI_MORTALIDAD_ct.iloc[0].values\n",
    "DOTORACI_MORTALIDAD_ct.iloc[1].values\n",
    "\n",
    "\"\"\"Sky pay\"\"\"\n",
    "from scipy import stats\n",
    "(chi2, p, dof,_) = stats.chi2_contingency([DOTORACI_MORTALIDAD_ct.iloc[0].values,DOTORACI_MORTALIDAD_ct.iloc[1].values])\n",
    "print (\"chi2    : \", chi2)\n",
    "print (\"p-value : \",p)\n",
    "print (\"Degree for Freedom : \" ,dof)\n",
    "pd.crosstab(index=data['Chest pain'],columns=data['Mortality'], margins=True)"
   ]
  },
  {
   "cell_type": "code",
   "execution_count": 55,
   "metadata": {},
   "outputs": [
    {
     "name": "stdout",
     "output_type": "stream",
     "text": [
      "chi2    :  1.0299662270122567\n",
      "p-value :  0.31016660010510466\n",
      "Degree for Freedom :  1\n"
     ]
    },
    {
     "data": {
      "text/html": [
       "<div>\n",
       "<style scoped>\n",
       "    .dataframe tbody tr th:only-of-type {\n",
       "        vertical-align: middle;\n",
       "    }\n",
       "\n",
       "    .dataframe tbody tr th {\n",
       "        vertical-align: top;\n",
       "    }\n",
       "\n",
       "    .dataframe thead th {\n",
       "        text-align: right;\n",
       "    }\n",
       "</style>\n",
       "<table border=\"1\" class=\"dataframe\">\n",
       "  <thead>\n",
       "    <tr style=\"text-align: right;\">\n",
       "      <th>Mortality</th>\n",
       "      <th>Death</th>\n",
       "      <th>Surviving</th>\n",
       "      <th>All</th>\n",
       "    </tr>\n",
       "    <tr>\n",
       "      <th>Chills</th>\n",
       "      <th></th>\n",
       "      <th></th>\n",
       "      <th></th>\n",
       "    </tr>\n",
       "  </thead>\n",
       "  <tbody>\n",
       "    <tr>\n",
       "      <th>With Chills</th>\n",
       "      <td>869</td>\n",
       "      <td>5188</td>\n",
       "      <td>6057</td>\n",
       "    </tr>\n",
       "    <tr>\n",
       "      <th>Without Chills</th>\n",
       "      <td>753</td>\n",
       "      <td>4754</td>\n",
       "      <td>5507</td>\n",
       "    </tr>\n",
       "    <tr>\n",
       "      <th>All</th>\n",
       "      <td>1622</td>\n",
       "      <td>9942</td>\n",
       "      <td>11564</td>\n",
       "    </tr>\n",
       "  </tbody>\n",
       "</table>\n",
       "</div>"
      ],
      "text/plain": [
       "Mortality       Death  Surviving    All\n",
       "Chills                                 \n",
       "With Chills       869       5188   6057\n",
       "Without Chills    753       4754   5507\n",
       "All              1622       9942  11564"
      ]
     },
     "execution_count": 55,
     "metadata": {},
     "output_type": "execute_result"
    },
    {
     "data": {
      "image/png": "[encoded data removed]",
      "text/plain": [
       "<Figure size 1440x360 with 1 Axes>"
      ]
     },
     "metadata": {},
     "output_type": "display_data"
    }
   ],
   "source": [
    "\"\"\"CHI2 Chills\"\"\"\n",
    "data['Chills'].value_counts()\n",
    "sns.set(style=\"darkgrid\")\n",
    "sns.set_palette(\"hls\", 3)\n",
    "fig, ax = plt.subplots(figsize=(20,5))\n",
    "ax = sns.countplot(x=\"Chills\", hue=\"Mortality\", data=X)\n",
    "\"\"\"Contingency table\"\"\"\n",
    "CALOFRIOS_MORTALIDAD_ct=pd.crosstab(index=data['Chills'],columns=data['Mortality'])\n",
    "CALOFRIOS_MORTALIDAD_ct\n",
    "CALOFRIOS_MORTALIDAD_ct.iloc[0].values\n",
    "CALOFRIOS_MORTALIDAD_ct.iloc[1].values\n",
    "\n",
    "\"\"\"Sky pay\"\"\"\n",
    "from scipy import stats\n",
    "(chi2, p, dof,_) = stats.chi2_contingency([CALOFRIOS_MORTALIDAD_ct.iloc[0].values,CALOFRIOS_MORTALIDAD_ct.iloc[1].values])\n",
    "print (\"chi2    : \", chi2)\n",
    "print (\"p-value : \",p)\n",
    "print (\"Degree for Freedom : \" ,dof)\n",
    "pd.crosstab(index=data['Chills'],columns=data['Mortality'], margins=True)"
   ]
  },
  {
   "cell_type": "code",
   "execution_count": 56,
   "metadata": {},
   "outputs": [
    {
     "name": "stdout",
     "output_type": "stream",
     "text": [
      "chi2    :  23.571315570961367\n",
      "p-value :  1.203685650391286e-06\n",
      "Degree for Freedom :  1\n"
     ]
    },
    {
     "data": {
      "text/html": [
       "<div>\n",
       "<style scoped>\n",
       "    .dataframe tbody tr th:only-of-type {\n",
       "        vertical-align: middle;\n",
       "    }\n",
       "\n",
       "    .dataframe tbody tr th {\n",
       "        vertical-align: top;\n",
       "    }\n",
       "\n",
       "    .dataframe thead th {\n",
       "        text-align: right;\n",
       "    }\n",
       "</style>\n",
       "<table border=\"1\" class=\"dataframe\">\n",
       "  <thead>\n",
       "    <tr style=\"text-align: right;\">\n",
       "      <th>Mortality</th>\n",
       "      <th>Death</th>\n",
       "      <th>Surviving</th>\n",
       "      <th>All</th>\n",
       "    </tr>\n",
       "    <tr>\n",
       "      <th>Headache</th>\n",
       "      <th></th>\n",
       "      <th></th>\n",
       "      <th></th>\n",
       "    </tr>\n",
       "  </thead>\n",
       "  <tbody>\n",
       "    <tr>\n",
       "      <th>With Headache</th>\n",
       "      <td>1312</td>\n",
       "      <td>8508</td>\n",
       "      <td>9820</td>\n",
       "    </tr>\n",
       "    <tr>\n",
       "      <th>Without Headache</th>\n",
       "      <td>310</td>\n",
       "      <td>1434</td>\n",
       "      <td>1744</td>\n",
       "    </tr>\n",
       "    <tr>\n",
       "      <th>All</th>\n",
       "      <td>1622</td>\n",
       "      <td>9942</td>\n",
       "      <td>11564</td>\n",
       "    </tr>\n",
       "  </tbody>\n",
       "</table>\n",
       "</div>"
      ],
      "text/plain": [
       "Mortality         Death  Surviving    All\n",
       "Headache                                 \n",
       "With Headache      1312       8508   9820\n",
       "Without Headache    310       1434   1744\n",
       "All                1622       9942  11564"
      ]
     },
     "execution_count": 56,
     "metadata": {},
     "output_type": "execute_result"
    },
    {
     "data": {
      "image/png": "[encoded data removed]",
      "text/plain": [
       "<Figure size 1440x360 with 1 Axes>"
      ]
     },
     "metadata": {},
     "output_type": "display_data"
    }
   ],
   "source": [
    "\"\"\"CHI2 Headache\"\"\"\n",
    "data['Headache'].value_counts()\n",
    "sns.set(style=\"darkgrid\")\n",
    "sns.set_palette(\"hls\", 3)\n",
    "fig, ax = plt.subplots(figsize=(20,5))\n",
    "ax = sns.countplot(x=\"Headache\", hue=\"Mortality\", data=X)\n",
    "\"\"\"Contingency table\"\"\"\n",
    "CEFALEA_MORTALIDAD_ct=pd.crosstab(index=data['Headache'],columns=data['Mortality'])\n",
    "CEFALEA_MORTALIDAD_ct\n",
    "CEFALEA_MORTALIDAD_ct.iloc[0].values\n",
    "CEFALEA_MORTALIDAD_ct.iloc[1].values\n",
    "\n",
    "\"\"\"Sky pay\"\"\"\n",
    "from scipy import stats\n",
    "(chi2, p, dof,_) = stats.chi2_contingency([CEFALEA_MORTALIDAD_ct.iloc[0].values,CEFALEA_MORTALIDAD_ct.iloc[1].values])\n",
    "print (\"chi2    : \", chi2)\n",
    "print (\"p-value : \",p)\n",
    "print (\"Degree for Freedom : \" ,dof)\n",
    "pd.crosstab(index=data['Headache'],columns=data['Mortality'], margins=True)"
   ]
  },
  {
   "cell_type": "code",
   "execution_count": 57,
   "metadata": {},
   "outputs": [
    {
     "name": "stdout",
     "output_type": "stream",
     "text": [
      "chi2    :  7.170617618074448\n",
      "p-value :  0.007410725686429638\n",
      "Degree for Freedom :  1\n"
     ]
    },
    {
     "data": {
      "text/html": [
       "<div>\n",
       "<style scoped>\n",
       "    .dataframe tbody tr th:only-of-type {\n",
       "        vertical-align: middle;\n",
       "    }\n",
       "\n",
       "    .dataframe tbody tr th {\n",
       "        vertical-align: top;\n",
       "    }\n",
       "\n",
       "    .dataframe thead th {\n",
       "        text-align: right;\n",
       "    }\n",
       "</style>\n",
       "<table border=\"1\" class=\"dataframe\">\n",
       "  <thead>\n",
       "    <tr style=\"text-align: right;\">\n",
       "      <th>Mortality</th>\n",
       "      <th>Death</th>\n",
       "      <th>Surviving</th>\n",
       "      <th>All</th>\n",
       "    </tr>\n",
       "    <tr>\n",
       "      <th>Myalgia</th>\n",
       "      <th></th>\n",
       "      <th></th>\n",
       "      <th></th>\n",
       "    </tr>\n",
       "  </thead>\n",
       "  <tbody>\n",
       "    <tr>\n",
       "      <th>With Myalgia</th>\n",
       "      <td>1258</td>\n",
       "      <td>7398</td>\n",
       "      <td>8656</td>\n",
       "    </tr>\n",
       "    <tr>\n",
       "      <th>Without Myalgia</th>\n",
       "      <td>364</td>\n",
       "      <td>2544</td>\n",
       "      <td>2908</td>\n",
       "    </tr>\n",
       "    <tr>\n",
       "      <th>All</th>\n",
       "      <td>1622</td>\n",
       "      <td>9942</td>\n",
       "      <td>11564</td>\n",
       "    </tr>\n",
       "  </tbody>\n",
       "</table>\n",
       "</div>"
      ],
      "text/plain": [
       "Mortality        Death  Surviving    All\n",
       "Myalgia                                 \n",
       "With Myalgia      1258       7398   8656\n",
       "Without Myalgia    364       2544   2908\n",
       "All               1622       9942  11564"
      ]
     },
     "execution_count": 57,
     "metadata": {},
     "output_type": "execute_result"
    },
    {
     "data": {
      "image/png": "[encoded data removed]",
      "text/plain": [
       "<Figure size 1440x360 with 1 Axes>"
      ]
     },
     "metadata": {},
     "output_type": "display_data"
    }
   ],
   "source": [
    "\"\"\"CHI2 Myalgia\"\"\"\n",
    "data['Myalgia'].value_counts()\n",
    "sns.set(style=\"darkgrid\")\n",
    "sns.set_palette(\"hls\", 3)\n",
    "fig, ax = plt.subplots(figsize=(20,5))\n",
    "ax = sns.countplot(x=\"Myalgia\", hue=\"Mortality\", data=X)\n",
    "\"\"\"Contingency table\"\"\"\n",
    "MIALGIAS_MORTALIDAD_ct=pd.crosstab(index=data['Myalgia'],columns=data['Mortality'])\n",
    "MIALGIAS_MORTALIDAD_ct\n",
    "MIALGIAS_MORTALIDAD_ct.iloc[0].values\n",
    "MIALGIAS_MORTALIDAD_ct.iloc[1].values\n",
    "\n",
    "\"\"\"Sky pay\"\"\"\n",
    "from scipy import stats\n",
    "(chi2, p, dof,_) = stats.chi2_contingency([MIALGIAS_MORTALIDAD_ct.iloc[0].values,MIALGIAS_MORTALIDAD_ct.iloc[1].values])\n",
    "print (\"chi2    : \", chi2)\n",
    "print (\"p-value : \",p)\n",
    "print (\"Degree for Freedom : \" ,dof)\n",
    "pd.crosstab(index=data['Myalgia'],columns=data['Mortality'], margins=True)"
   ]
  },
  {
   "cell_type": "code",
   "execution_count": 58,
   "metadata": {},
   "outputs": [
    {
     "name": "stdout",
     "output_type": "stream",
     "text": [
      "chi2    :  15.290842318833782\n",
      "p-value :  9.216222580979536e-05\n",
      "Degree for Freedom :  1\n"
     ]
    },
    {
     "data": {
      "text/html": [
       "<div>\n",
       "<style scoped>\n",
       "    .dataframe tbody tr th:only-of-type {\n",
       "        vertical-align: middle;\n",
       "    }\n",
       "\n",
       "    .dataframe tbody tr th {\n",
       "        vertical-align: top;\n",
       "    }\n",
       "\n",
       "    .dataframe thead th {\n",
       "        text-align: right;\n",
       "    }\n",
       "</style>\n",
       "<table border=\"1\" class=\"dataframe\">\n",
       "  <thead>\n",
       "    <tr style=\"text-align: right;\">\n",
       "      <th>Mortality</th>\n",
       "      <th>Death</th>\n",
       "      <th>Surviving</th>\n",
       "      <th>All</th>\n",
       "    </tr>\n",
       "    <tr>\n",
       "      <th>Arthralgia</th>\n",
       "      <th></th>\n",
       "      <th></th>\n",
       "      <th></th>\n",
       "    </tr>\n",
       "  </thead>\n",
       "  <tbody>\n",
       "    <tr>\n",
       "      <th>With Arthralgia</th>\n",
       "      <td>1212</td>\n",
       "      <td>6951</td>\n",
       "      <td>8163</td>\n",
       "    </tr>\n",
       "    <tr>\n",
       "      <th>Without Arthralgia</th>\n",
       "      <td>410</td>\n",
       "      <td>2991</td>\n",
       "      <td>3401</td>\n",
       "    </tr>\n",
       "    <tr>\n",
       "      <th>All</th>\n",
       "      <td>1622</td>\n",
       "      <td>9942</td>\n",
       "      <td>11564</td>\n",
       "    </tr>\n",
       "  </tbody>\n",
       "</table>\n",
       "</div>"
      ],
      "text/plain": [
       "Mortality           Death  Surviving    All\n",
       "Arthralgia                                 \n",
       "With Arthralgia      1212       6951   8163\n",
       "Without Arthralgia    410       2991   3401\n",
       "All                  1622       9942  11564"
      ]
     },
     "execution_count": 58,
     "metadata": {},
     "output_type": "execute_result"
    },
    {
     "data": {
      "image/png": "[encoded data removed]",
      "text/plain": [
       "<Figure size 1440x360 with 1 Axes>"
      ]
     },
     "metadata": {},
     "output_type": "display_data"
    }
   ],
   "source": [
    "\"\"\"CHI2 Arthralgia\"\"\"\n",
    "data['Arthralgia'].value_counts()\n",
    "sns.set(style=\"darkgrid\")\n",
    "sns.set_palette(\"hls\", 3)\n",
    "fig, ax = plt.subplots(figsize=(20,5))\n",
    "ax = sns.countplot(x=\"Arthralgia\", hue=\"Mortality\", data=X)\n",
    "\"\"\"Contingency table\"\"\"\n",
    "ARTRAL_MORTALIDAD_ct=pd.crosstab(index=data['Arthralgia'],columns=data['Mortality'])\n",
    "ARTRAL_MORTALIDAD_ct\n",
    "ARTRAL_MORTALIDAD_ct.iloc[0].values\n",
    "ARTRAL_MORTALIDAD_ct.iloc[1].values\n",
    "\n",
    "\"\"\"Sky pay\"\"\"\n",
    "from scipy import stats\n",
    "(chi2, p, dof,_) = stats.chi2_contingency([ARTRAL_MORTALIDAD_ct.iloc[0].values,ARTRAL_MORTALIDAD_ct.iloc[1].values])\n",
    "print (\"chi2    : \", chi2)\n",
    "print (\"p-value : \",p)\n",
    "print (\"Degree for Freedom : \" ,dof)\n",
    "pd.crosstab(index=data['Arthralgia'],columns=data['Mortality'], margins=True)"
   ]
  },
  {
   "cell_type": "code",
   "execution_count": 59,
   "metadata": {},
   "outputs": [
    {
     "name": "stdout",
     "output_type": "stream",
     "text": [
      "chi2    :  72.09920747048575\n",
      "p-value :  2.0464592632226202e-17\n",
      "Degree for Freedom :  1\n"
     ]
    },
    {
     "data": {
      "text/html": [
       "<div>\n",
       "<style scoped>\n",
       "    .dataframe tbody tr th:only-of-type {\n",
       "        vertical-align: middle;\n",
       "    }\n",
       "\n",
       "    .dataframe tbody tr th {\n",
       "        vertical-align: top;\n",
       "    }\n",
       "\n",
       "    .dataframe thead th {\n",
       "        text-align: right;\n",
       "    }\n",
       "</style>\n",
       "<table border=\"1\" class=\"dataframe\">\n",
       "  <thead>\n",
       "    <tr style=\"text-align: right;\">\n",
       "      <th>Mortality</th>\n",
       "      <th>Death</th>\n",
       "      <th>Surviving</th>\n",
       "      <th>All</th>\n",
       "    </tr>\n",
       "    <tr>\n",
       "      <th>General discomfort</th>\n",
       "      <th></th>\n",
       "      <th></th>\n",
       "      <th></th>\n",
       "    </tr>\n",
       "  </thead>\n",
       "  <tbody>\n",
       "    <tr>\n",
       "      <th>With General discomfort</th>\n",
       "      <td>1081</td>\n",
       "      <td>5503</td>\n",
       "      <td>6584</td>\n",
       "    </tr>\n",
       "    <tr>\n",
       "      <th>Without General discomfort</th>\n",
       "      <td>541</td>\n",
       "      <td>4439</td>\n",
       "      <td>4980</td>\n",
       "    </tr>\n",
       "    <tr>\n",
       "      <th>All</th>\n",
       "      <td>1622</td>\n",
       "      <td>9942</td>\n",
       "      <td>11564</td>\n",
       "    </tr>\n",
       "  </tbody>\n",
       "</table>\n",
       "</div>"
      ],
      "text/plain": [
       "Mortality                   Death  Surviving    All\n",
       "General discomfort                                 \n",
       "With General discomfort      1081       5503   6584\n",
       "Without General discomfort    541       4439   4980\n",
       "All                          1622       9942  11564"
      ]
     },
     "execution_count": 59,
     "metadata": {},
     "output_type": "execute_result"
    },
    {
     "data": {
      "image/png": "[encoded data removed]",
      "text/plain": [
       "<Figure size 1440x360 with 1 Axes>"
      ]
     },
     "metadata": {},
     "output_type": "display_data"
    }
   ],
   "source": [
    "\"\"\"CHI2 General discomfort\"\"\"\n",
    "data['General discomfort'].value_counts()\n",
    "sns.set(style=\"darkgrid\")\n",
    "sns.set_palette(\"hls\", 3)\n",
    "fig, ax = plt.subplots(figsize=(20,5))\n",
    "ax = sns.countplot(x=\"General discomfort\", hue=\"Mortality\", data=X)\n",
    "\"\"\"Contingency table\"\"\"\n",
    "ATAEDOGE_MORTALIDAD_ct=pd.crosstab(index=data['General discomfort'],columns=data['Mortality'])\n",
    "ATAEDOGE_MORTALIDAD_ct\n",
    "ATAEDOGE_MORTALIDAD_ct.iloc[0].values\n",
    "ATAEDOGE_MORTALIDAD_ct.iloc[1].values\n",
    "\n",
    "\"\"\"Sky pay\"\"\"\n",
    "from scipy import stats\n",
    "(chi2, p, dof,_) = stats.chi2_contingency([ATAEDOGE_MORTALIDAD_ct.iloc[0].values,ATAEDOGE_MORTALIDAD_ct.iloc[1].values])\n",
    "print (\"chi2    : \", chi2)\n",
    "print (\"p-value : \",p)\n",
    "print (\"Degree for Freedom : \" ,dof)\n",
    "pd.crosstab(index=data['General discomfort'],columns=data['Mortality'], margins=True)"
   ]
  },
  {
   "cell_type": "code",
   "execution_count": 60,
   "metadata": {},
   "outputs": [
    {
     "name": "stdout",
     "output_type": "stream",
     "text": [
      "chi2    :  96.49360604937105\n",
      "p-value :  8.953251022383723e-23\n",
      "Degree for Freedom :  1\n"
     ]
    },
    {
     "data": {
      "text/html": [
       "<div>\n",
       "<style scoped>\n",
       "    .dataframe tbody tr th:only-of-type {\n",
       "        vertical-align: middle;\n",
       "    }\n",
       "\n",
       "    .dataframe tbody tr th {\n",
       "        vertical-align: top;\n",
       "    }\n",
       "\n",
       "    .dataframe thead th {\n",
       "        text-align: right;\n",
       "    }\n",
       "</style>\n",
       "<table border=\"1\" class=\"dataframe\">\n",
       "  <thead>\n",
       "    <tr style=\"text-align: right;\">\n",
       "      <th>Mortality</th>\n",
       "      <th>Death</th>\n",
       "      <th>Surviving</th>\n",
       "      <th>All</th>\n",
       "    </tr>\n",
       "    <tr>\n",
       "      <th>Rhinorrhea</th>\n",
       "      <th></th>\n",
       "      <th></th>\n",
       "      <th></th>\n",
       "    </tr>\n",
       "  </thead>\n",
       "  <tbody>\n",
       "    <tr>\n",
       "      <th>With Rhinorrhea</th>\n",
       "      <td>329</td>\n",
       "      <td>3227</td>\n",
       "      <td>3556</td>\n",
       "    </tr>\n",
       "    <tr>\n",
       "      <th>Without Rhinorrhea</th>\n",
       "      <td>1293</td>\n",
       "      <td>6715</td>\n",
       "      <td>8008</td>\n",
       "    </tr>\n",
       "    <tr>\n",
       "      <th>All</th>\n",
       "      <td>1622</td>\n",
       "      <td>9942</td>\n",
       "      <td>11564</td>\n",
       "    </tr>\n",
       "  </tbody>\n",
       "</table>\n",
       "</div>"
      ],
      "text/plain": [
       "Mortality           Death  Surviving    All\n",
       "Rhinorrhea                                 \n",
       "With Rhinorrhea       329       3227   3556\n",
       "Without Rhinorrhea   1293       6715   8008\n",
       "All                  1622       9942  11564"
      ]
     },
     "execution_count": 60,
     "metadata": {},
     "output_type": "execute_result"
    },
    {
     "data": {
      "image/png": "[encoded data removed]",
      "text/plain": [
       "<Figure size 1440x360 with 1 Axes>"
      ]
     },
     "metadata": {},
     "output_type": "display_data"
    }
   ],
   "source": [
    "\"\"\"CHI2 Rhinorrhea\"\"\"\n",
    "data['Rhinorrhea'].value_counts()\n",
    "sns.set(style=\"darkgrid\")\n",
    "sns.set_palette(\"hls\", 3)\n",
    "fig, ax = plt.subplots(figsize=(20,5))\n",
    "ax = sns.countplot(x=\"Rhinorrhea\", hue=\"Mortality\", data=X)\n",
    "\"\"\"Contingency table\"\"\"\n",
    "RINORREA_MORTALIDAD_ct=pd.crosstab(index=data['Rhinorrhea'],columns=data['Mortality'])\n",
    "RINORREA_MORTALIDAD_ct\n",
    "RINORREA_MORTALIDAD_ct.iloc[0].values\n",
    "RINORREA_MORTALIDAD_ct.iloc[1].values\n",
    "\n",
    "\"\"\"Sky pay\"\"\"\n",
    "from scipy import stats\n",
    "(chi2, p, dof,_) = stats.chi2_contingency([RINORREA_MORTALIDAD_ct.iloc[0].values,RINORREA_MORTALIDAD_ct.iloc[1].values])\n",
    "print (\"chi2    : \", chi2)\n",
    "print (\"p-value : \",p)\n",
    "print (\"Degree for Freedom : \" ,dof)\n",
    "pd.crosstab(index=data['Rhinorrhea'],columns=data['Mortality'], margins=True)"
   ]
  },
  {
   "cell_type": "code",
   "execution_count": 61,
   "metadata": {},
   "outputs": [
    {
     "name": "stdout",
     "output_type": "stream",
     "text": [
      "chi2    :  332.3468669707212\n",
      "p-value :  2.9623884213211818e-74\n",
      "Degree for Freedom :  1\n"
     ]
    },
    {
     "data": {
      "text/html": [
       "<div>\n",
       "<style scoped>\n",
       "    .dataframe tbody tr th:only-of-type {\n",
       "        vertical-align: middle;\n",
       "    }\n",
       "\n",
       "    .dataframe tbody tr th {\n",
       "        vertical-align: top;\n",
       "    }\n",
       "\n",
       "    .dataframe thead th {\n",
       "        text-align: right;\n",
       "    }\n",
       "</style>\n",
       "<table border=\"1\" class=\"dataframe\">\n",
       "  <thead>\n",
       "    <tr style=\"text-align: right;\">\n",
       "      <th>Mortality</th>\n",
       "      <th>Death</th>\n",
       "      <th>Surviving</th>\n",
       "      <th>All</th>\n",
       "    </tr>\n",
       "    <tr>\n",
       "      <th>Polypnea</th>\n",
       "      <th></th>\n",
       "      <th></th>\n",
       "      <th></th>\n",
       "    </tr>\n",
       "  </thead>\n",
       "  <tbody>\n",
       "    <tr>\n",
       "      <th>With Polypnea</th>\n",
       "      <td>483</td>\n",
       "      <td>1232</td>\n",
       "      <td>1715</td>\n",
       "    </tr>\n",
       "    <tr>\n",
       "      <th>Without Polypnea</th>\n",
       "      <td>1139</td>\n",
       "      <td>8710</td>\n",
       "      <td>9849</td>\n",
       "    </tr>\n",
       "    <tr>\n",
       "      <th>All</th>\n",
       "      <td>1622</td>\n",
       "      <td>9942</td>\n",
       "      <td>11564</td>\n",
       "    </tr>\n",
       "  </tbody>\n",
       "</table>\n",
       "</div>"
      ],
      "text/plain": [
       "Mortality         Death  Surviving    All\n",
       "Polypnea                                 \n",
       "With Polypnea       483       1232   1715\n",
       "Without Polypnea   1139       8710   9849\n",
       "All                1622       9942  11564"
      ]
     },
     "execution_count": 61,
     "metadata": {},
     "output_type": "execute_result"
    },
    {
     "data": {
      "image/png": "[encoded data removed]",
      "text/plain": [
       "<Figure size 1440x360 with 1 Axes>"
      ]
     },
     "metadata": {},
     "output_type": "display_data"
    }
   ],
   "source": [
    "\"\"\"CHI2 Polypnea\"\"\"\n",
    "data['Polypnea'].value_counts()\n",
    "sns.set(style=\"darkgrid\")\n",
    "sns.set_palette(\"hls\", 3)\n",
    "fig, ax = plt.subplots(figsize=(20,5))\n",
    "ax = sns.countplot(x=\"Polypnea\", hue=\"Mortality\", data=X)\n",
    "\"\"\"Contingency table\"\"\"\n",
    "POLIPNEA_MORTALIDAD_ct=pd.crosstab(index=data['Polypnea'],columns=data['Mortality'])\n",
    "POLIPNEA_MORTALIDAD_ct\n",
    "POLIPNEA_MORTALIDAD_ct.iloc[0].values\n",
    "POLIPNEA_MORTALIDAD_ct.iloc[1].values\n",
    "\n",
    "\"\"\"Sky pay\"\"\"\n",
    "from scipy import stats\n",
    "(chi2, p, dof,_) = stats.chi2_contingency([POLIPNEA_MORTALIDAD_ct.iloc[0].values,POLIPNEA_MORTALIDAD_ct.iloc[1].values])\n",
    "print (\"chi2    : \", chi2)\n",
    "print (\"p-value : \",p)\n",
    "print (\"Degree for Freedom : \" ,dof)\n",
    "pd.crosstab(index=data['Polypnea'],columns=data['Mortality'], margins=True)"
   ]
  },
  {
   "cell_type": "code",
   "execution_count": 62,
   "metadata": {},
   "outputs": [
    {
     "name": "stdout",
     "output_type": "stream",
     "text": [
      "chi2    :  1.3794953898741367\n",
      "p-value :  0.24018711948377341\n",
      "Degree for Freedom :  1\n"
     ]
    },
    {
     "data": {
      "text/html": [
       "<div>\n",
       "<style scoped>\n",
       "    .dataframe tbody tr th:only-of-type {\n",
       "        vertical-align: middle;\n",
       "    }\n",
       "\n",
       "    .dataframe tbody tr th {\n",
       "        vertical-align: top;\n",
       "    }\n",
       "\n",
       "    .dataframe thead th {\n",
       "        text-align: right;\n",
       "    }\n",
       "</style>\n",
       "<table border=\"1\" class=\"dataframe\">\n",
       "  <thead>\n",
       "    <tr style=\"text-align: right;\">\n",
       "      <th>Mortality</th>\n",
       "      <th>Death</th>\n",
       "      <th>Surviving</th>\n",
       "      <th>All</th>\n",
       "    </tr>\n",
       "    <tr>\n",
       "      <th>Vomiting</th>\n",
       "      <th></th>\n",
       "      <th></th>\n",
       "      <th></th>\n",
       "    </tr>\n",
       "  </thead>\n",
       "  <tbody>\n",
       "    <tr>\n",
       "      <th>With Vomiting</th>\n",
       "      <td>136</td>\n",
       "      <td>747</td>\n",
       "      <td>883</td>\n",
       "    </tr>\n",
       "    <tr>\n",
       "      <th>Without Vomiting</th>\n",
       "      <td>1486</td>\n",
       "      <td>9195</td>\n",
       "      <td>10681</td>\n",
       "    </tr>\n",
       "    <tr>\n",
       "      <th>All</th>\n",
       "      <td>1622</td>\n",
       "      <td>9942</td>\n",
       "      <td>11564</td>\n",
       "    </tr>\n",
       "  </tbody>\n",
       "</table>\n",
       "</div>"
      ],
      "text/plain": [
       "Mortality         Death  Surviving    All\n",
       "Vomiting                                 \n",
       "With Vomiting       136        747    883\n",
       "Without Vomiting   1486       9195  10681\n",
       "All                1622       9942  11564"
      ]
     },
     "execution_count": 62,
     "metadata": {},
     "output_type": "execute_result"
    },
    {
     "data": {
      "image/png": "[encoded data removed]",
      "text/plain": [
       "<Figure size 1440x360 with 1 Axes>"
      ]
     },
     "metadata": {},
     "output_type": "display_data"
    }
   ],
   "source": [
    "\"\"\"CHI2 Vomiting\"\"\"\n",
    "data['Vomiting'].value_counts()\n",
    "sns.set(style=\"darkgrid\")\n",
    "sns.set_palette(\"hls\", 3)\n",
    "fig, ax = plt.subplots(figsize=(20,5))\n",
    "ax = sns.countplot(x=\"Vomiting\", hue=\"Mortality\", data=X)\n",
    "\"\"\"Contingency table\"\"\"\n",
    "VOMITO_MORTALIDAD_ct=pd.crosstab(index=data['Vomiting'],columns=data['Mortality'])\n",
    "VOMITO_MORTALIDAD_ct\n",
    "VOMITO_MORTALIDAD_ct.iloc[0].values\n",
    "VOMITO_MORTALIDAD_ct.iloc[1].values\n",
    "\n",
    "\"\"\"Sky pay\"\"\"\n",
    "from scipy import stats\n",
    "(chi2, p, dof,_) = stats.chi2_contingency([VOMITO_MORTALIDAD_ct.iloc[0].values,VOMITO_MORTALIDAD_ct.iloc[1].values])\n",
    "print (\"chi2    : \", chi2)\n",
    "print (\"p-value : \",p)\n",
    "print (\"Degree for Freedom : \" ,dof)\n",
    "pd.crosstab(index=data['Vomiting'],columns=data['Mortality'], margins=True)"
   ]
  },
  {
   "cell_type": "code",
   "execution_count": 63,
   "metadata": {},
   "outputs": [
    {
     "name": "stdout",
     "output_type": "stream",
     "text": [
      "chi2    :  0.35541056332466103\n",
      "p-value :  0.5510662057515107\n",
      "Degree for Freedom :  1\n"
     ]
    },
    {
     "data": {
      "text/html": [
       "<div>\n",
       "<style scoped>\n",
       "    .dataframe tbody tr th:only-of-type {\n",
       "        vertical-align: middle;\n",
       "    }\n",
       "\n",
       "    .dataframe tbody tr th {\n",
       "        vertical-align: top;\n",
       "    }\n",
       "\n",
       "    .dataframe thead th {\n",
       "        text-align: right;\n",
       "    }\n",
       "</style>\n",
       "<table border=\"1\" class=\"dataframe\">\n",
       "  <thead>\n",
       "    <tr style=\"text-align: right;\">\n",
       "      <th>Mortality</th>\n",
       "      <th>Death</th>\n",
       "      <th>Surviving</th>\n",
       "      <th>All</th>\n",
       "    </tr>\n",
       "    <tr>\n",
       "      <th>Abdominal pain</th>\n",
       "      <th></th>\n",
       "      <th></th>\n",
       "      <th></th>\n",
       "    </tr>\n",
       "  </thead>\n",
       "  <tbody>\n",
       "    <tr>\n",
       "      <th>With Abdominal pain</th>\n",
       "      <td>202</td>\n",
       "      <td>1295</td>\n",
       "      <td>1497</td>\n",
       "    </tr>\n",
       "    <tr>\n",
       "      <th>Without Abdominal pain</th>\n",
       "      <td>1420</td>\n",
       "      <td>8647</td>\n",
       "      <td>10067</td>\n",
       "    </tr>\n",
       "    <tr>\n",
       "      <th>All</th>\n",
       "      <td>1622</td>\n",
       "      <td>9942</td>\n",
       "      <td>11564</td>\n",
       "    </tr>\n",
       "  </tbody>\n",
       "</table>\n",
       "</div>"
      ],
      "text/plain": [
       "Mortality               Death  Surviving    All\n",
       "Abdominal pain                                 \n",
       "With Abdominal pain       202       1295   1497\n",
       "Without Abdominal pain   1420       8647  10067\n",
       "All                      1622       9942  11564"
      ]
     },
     "execution_count": 63,
     "metadata": {},
     "output_type": "execute_result"
    },
    {
     "data": {
      "image/png": "[encoded data removed]",
      "text/plain": [
       "<Figure size 1440x360 with 1 Axes>"
      ]
     },
     "metadata": {},
     "output_type": "display_data"
    }
   ],
   "source": [
    "\"\"\"CHI2 Abdominal pain\"\"\"\n",
    "data['Abdominal pain'].value_counts()\n",
    "sns.set(style=\"darkgrid\")\n",
    "sns.set_palette(\"hls\", 3)\n",
    "fig, ax = plt.subplots(figsize=(20,5))\n",
    "ax = sns.countplot(x=\"Abdominal pain\", hue=\"Mortality\", data=X)\n",
    "\"\"\"Contingency table\"\"\"\n",
    "DOLABDO_MORTALIDAD_ct=pd.crosstab(index=data['Abdominal pain'],columns=data['Mortality'])\n",
    "DOLABDO_MORTALIDAD_ct\n",
    "DOLABDO_MORTALIDAD_ct.iloc[0].values\n",
    "DOLABDO_MORTALIDAD_ct.iloc[1].values\n",
    "\n",
    "\"\"\"Sky pay\"\"\"\n",
    "from scipy import stats\n",
    "(chi2, p, dof,_) = stats.chi2_contingency([DOLABDO_MORTALIDAD_ct.iloc[0].values,DOLABDO_MORTALIDAD_ct.iloc[1].values])\n",
    "print (\"chi2    : \", chi2)\n",
    "print (\"p-value : \",p)\n",
    "print (\"Degree for Freedom : \" ,dof)\n",
    "pd.crosstab(index=data['Abdominal pain'],columns=data['Mortality'], margins=True)"
   ]
  },
  {
   "cell_type": "code",
   "execution_count": 64,
   "metadata": {},
   "outputs": [
    {
     "name": "stdout",
     "output_type": "stream",
     "text": [
      "chi2    :  51.59452833870743\n",
      "p-value :  6.823147880697261e-13\n",
      "Degree for Freedom :  1\n"
     ]
    },
    {
     "data": {
      "text/html": [
       "<div>\n",
       "<style scoped>\n",
       "    .dataframe tbody tr th:only-of-type {\n",
       "        vertical-align: middle;\n",
       "    }\n",
       "\n",
       "    .dataframe tbody tr th {\n",
       "        vertical-align: top;\n",
       "    }\n",
       "\n",
       "    .dataframe thead th {\n",
       "        text-align: right;\n",
       "    }\n",
       "</style>\n",
       "<table border=\"1\" class=\"dataframe\">\n",
       "  <thead>\n",
       "    <tr style=\"text-align: right;\">\n",
       "      <th>Mortality</th>\n",
       "      <th>Death</th>\n",
       "      <th>Surviving</th>\n",
       "      <th>All</th>\n",
       "    </tr>\n",
       "    <tr>\n",
       "      <th>Conjunctivitis</th>\n",
       "      <th></th>\n",
       "      <th></th>\n",
       "      <th></th>\n",
       "    </tr>\n",
       "  </thead>\n",
       "  <tbody>\n",
       "    <tr>\n",
       "      <th>With Conjunctivitis</th>\n",
       "      <td>88</td>\n",
       "      <td>1130</td>\n",
       "      <td>1218</td>\n",
       "    </tr>\n",
       "    <tr>\n",
       "      <th>Without Conjunctivitis</th>\n",
       "      <td>1534</td>\n",
       "      <td>8812</td>\n",
       "      <td>10346</td>\n",
       "    </tr>\n",
       "    <tr>\n",
       "      <th>All</th>\n",
       "      <td>1622</td>\n",
       "      <td>9942</td>\n",
       "      <td>11564</td>\n",
       "    </tr>\n",
       "  </tbody>\n",
       "</table>\n",
       "</div>"
      ],
      "text/plain": [
       "Mortality               Death  Surviving    All\n",
       "Conjunctivitis                                 \n",
       "With Conjunctivitis        88       1130   1218\n",
       "Without Conjunctivitis   1534       8812  10346\n",
       "All                      1622       9942  11564"
      ]
     },
     "execution_count": 64,
     "metadata": {},
     "output_type": "execute_result"
    },
    {
     "data": {
      "image/png": "[encoded data removed]",
      "text/plain": [
       "<Figure size 1440x360 with 1 Axes>"
      ]
     },
     "metadata": {},
     "output_type": "display_data"
    }
   ],
   "source": [
    "\"\"\"CHI2 Conjunctivitis\"\"\"\n",
    "data['Conjunctivitis'].value_counts()\n",
    "sns.set(style=\"darkgrid\")\n",
    "sns.set_palette(\"hls\", 3)\n",
    "fig, ax = plt.subplots(figsize=(20,5))\n",
    "ax = sns.countplot(x=\"Conjunctivitis\", hue=\"Mortality\", data=X)\n",
    "\"\"\"Contingency table\"\"\"\n",
    "CONJUN_MORTALIDAD_ct=pd.crosstab(index=data['Conjunctivitis'],columns=data['Mortality'])\n",
    "CONJUN_MORTALIDAD_ct\n",
    "CONJUN_MORTALIDAD_ct.iloc[0].values\n",
    "CONJUN_MORTALIDAD_ct.iloc[1].values\n",
    "\n",
    "\"\"\"Sky pay\"\"\"\n",
    "from scipy import stats\n",
    "(chi2, p, dof,_) = stats.chi2_contingency([CONJUN_MORTALIDAD_ct.iloc[0].values,CONJUN_MORTALIDAD_ct.iloc[1].values])\n",
    "print (\"chi2    : \", chi2)\n",
    "print (\"p-value : \",p)\n",
    "print (\"Degree for Freedom : \" ,dof)\n",
    "pd.crosstab(index=data['Conjunctivitis'],columns=data['Mortality'], margins=True)"
   ]
  },
  {
   "cell_type": "code",
   "execution_count": 65,
   "metadata": {},
   "outputs": [
    {
     "name": "stdout",
     "output_type": "stream",
     "text": [
      "chi2    :  65.8865130403676\n",
      "p-value :  4.776490247896641e-16\n",
      "Degree for Freedom :  1\n"
     ]
    },
    {
     "data": {
      "text/html": [
       "<div>\n",
       "<style scoped>\n",
       "    .dataframe tbody tr th:only-of-type {\n",
       "        vertical-align: middle;\n",
       "    }\n",
       "\n",
       "    .dataframe tbody tr th {\n",
       "        vertical-align: top;\n",
       "    }\n",
       "\n",
       "    .dataframe thead th {\n",
       "        text-align: right;\n",
       "    }\n",
       "</style>\n",
       "<table border=\"1\" class=\"dataframe\">\n",
       "  <thead>\n",
       "    <tr style=\"text-align: right;\">\n",
       "      <th>Mortality</th>\n",
       "      <th>Death</th>\n",
       "      <th>Surviving</th>\n",
       "      <th>All</th>\n",
       "    </tr>\n",
       "    <tr>\n",
       "      <th>Cyanosis</th>\n",
       "      <th></th>\n",
       "      <th></th>\n",
       "      <th></th>\n",
       "    </tr>\n",
       "  </thead>\n",
       "  <tbody>\n",
       "    <tr>\n",
       "      <th>With Cyanosis</th>\n",
       "      <td>107</td>\n",
       "      <td>269</td>\n",
       "      <td>376</td>\n",
       "    </tr>\n",
       "    <tr>\n",
       "      <th>Without Cyanosis</th>\n",
       "      <td>1515</td>\n",
       "      <td>9673</td>\n",
       "      <td>11188</td>\n",
       "    </tr>\n",
       "    <tr>\n",
       "      <th>All</th>\n",
       "      <td>1622</td>\n",
       "      <td>9942</td>\n",
       "      <td>11564</td>\n",
       "    </tr>\n",
       "  </tbody>\n",
       "</table>\n",
       "</div>"
      ],
      "text/plain": [
       "Mortality         Death  Surviving    All\n",
       "Cyanosis                                 \n",
       "With Cyanosis       107        269    376\n",
       "Without Cyanosis   1515       9673  11188\n",
       "All                1622       9942  11564"
      ]
     },
     "execution_count": 65,
     "metadata": {},
     "output_type": "execute_result"
    },
    {
     "data": {
      "image/png": "[encoded data removed]",
      "text/plain": [
       "<Figure size 1440x360 with 1 Axes>"
      ]
     },
     "metadata": {},
     "output_type": "display_data"
    }
   ],
   "source": [
    "\"\"\"CHI2 Cyanosis\"\"\"\n",
    "data['Cyanosis'].value_counts()\n",
    "sns.set(style=\"darkgrid\")\n",
    "sns.set_palette(\"hls\", 3)\n",
    "fig, ax = plt.subplots(figsize=(20,5))\n",
    "ax = sns.countplot(x=\"Cyanosis\", hue=\"Mortality\", data=X)\n",
    "\"\"\"Contingency table\"\"\"\n",
    "CIANOSIS_MORTALIDAD_ct=pd.crosstab(index=data['Cyanosis'],columns=data['Mortality'])\n",
    "CIANOSIS_MORTALIDAD_ct\n",
    "CIANOSIS_MORTALIDAD_ct.iloc[0].values\n",
    "CIANOSIS_MORTALIDAD_ct.iloc[1].values\n",
    "\n",
    "\"\"\"Sky pay\"\"\"\n",
    "from scipy import stats\n",
    "(chi2, p, dof,_) = stats.chi2_contingency([CIANOSIS_MORTALIDAD_ct.iloc[0].values,CIANOSIS_MORTALIDAD_ct.iloc[1].values])\n",
    "print (\"chi2    : \", chi2)\n",
    "print (\"p-value : \",p)\n",
    "print (\"Degree for Freedom : \" ,dof)\n",
    "pd.crosstab(index=data['Cyanosis'],columns=data['Mortality'], margins=True)"
   ]
  },
  {
   "cell_type": "code",
   "execution_count": 66,
   "metadata": {},
   "outputs": [
    {
     "name": "stdout",
     "output_type": "stream",
     "text": [
      "chi2    :  5.481518005867561\n",
      "p-value :  0.019218562263521012\n",
      "Degree for Freedom :  1\n"
     ]
    },
    {
     "data": {
      "text/html": [
       "<div>\n",
       "<style scoped>\n",
       "    .dataframe tbody tr th:only-of-type {\n",
       "        vertical-align: middle;\n",
       "    }\n",
       "\n",
       "    .dataframe tbody tr th {\n",
       "        vertical-align: top;\n",
       "    }\n",
       "\n",
       "    .dataframe thead th {\n",
       "        text-align: right;\n",
       "    }\n",
       "</style>\n",
       "<table border=\"1\" class=\"dataframe\">\n",
       "  <thead>\n",
       "    <tr style=\"text-align: right;\">\n",
       "      <th>Mortality</th>\n",
       "      <th>Death</th>\n",
       "      <th>Surviving</th>\n",
       "      <th>All</th>\n",
       "    </tr>\n",
       "    <tr>\n",
       "      <th>Sudden onset of symptoms</th>\n",
       "      <th></th>\n",
       "      <th></th>\n",
       "      <th></th>\n",
       "    </tr>\n",
       "  </thead>\n",
       "  <tbody>\n",
       "    <tr>\n",
       "      <th>With Sudden onset of symptoms</th>\n",
       "      <td>518</td>\n",
       "      <td>3475</td>\n",
       "      <td>3993</td>\n",
       "    </tr>\n",
       "    <tr>\n",
       "      <th>Without Sudden onset of symptoms</th>\n",
       "      <td>1104</td>\n",
       "      <td>6467</td>\n",
       "      <td>7571</td>\n",
       "    </tr>\n",
       "    <tr>\n",
       "      <th>All</th>\n",
       "      <td>1622</td>\n",
       "      <td>9942</td>\n",
       "      <td>11564</td>\n",
       "    </tr>\n",
       "  </tbody>\n",
       "</table>\n",
       "</div>"
      ],
      "text/plain": [
       "Mortality                         Death  Surviving    All\n",
       "Sudden onset of symptoms                                 \n",
       "With Sudden onset of symptoms       518       3475   3993\n",
       "Without Sudden onset of symptoms   1104       6467   7571\n",
       "All                                1622       9942  11564"
      ]
     },
     "execution_count": 66,
     "metadata": {},
     "output_type": "execute_result"
    },
    {
     "data": {
      "image/png": "[encoded data removed]",
      "text/plain": [
       "<Figure size 1440x360 with 1 Axes>"
      ]
     },
     "metadata": {},
     "output_type": "display_data"
    }
   ],
   "source": [
    "\"\"\"CHI2 Sudden onset of symptoms\"\"\"\n",
    "data['Sudden onset of symptoms'].value_counts()\n",
    "sns.set(style=\"darkgrid\")\n",
    "sns.set_palette(\"hls\", 3)\n",
    "fig, ax = plt.subplots(figsize=(20,5))\n",
    "ax = sns.countplot(x=\"Sudden onset of symptoms\", hue=\"Mortality\", data=X)\n",
    "\"\"\"Contingency table\"\"\"\n",
    "INISUBIS_MORTALIDAD_ct=pd.crosstab(index=data['Sudden onset of symptoms'],columns=data['Mortality'])\n",
    "INISUBIS_MORTALIDAD_ct\n",
    "INISUBIS_MORTALIDAD_ct.iloc[0].values\n",
    "INISUBIS_MORTALIDAD_ct.iloc[1].values\n",
    "\n",
    "\"\"\"Sky pay\"\"\"\n",
    "from scipy import stats\n",
    "(chi2, p, dof,_) = stats.chi2_contingency([INISUBIS_MORTALIDAD_ct.iloc[0].values,INISUBIS_MORTALIDAD_ct.iloc[1].values])\n",
    "print (\"chi2    : \", chi2)\n",
    "print (\"p-value : \",p)\n",
    "print (\"Degree for Freedom : \" ,dof)\n",
    "pd.crosstab(index=data['Sudden onset of symptoms'],columns=data['Mortality'], margins=True)"
   ]
  },
  {
   "cell_type": "code",
   "execution_count": 67,
   "metadata": {},
   "outputs": [
    {
     "name": "stdout",
     "output_type": "stream",
     "text": [
      "chi2    :  77.99904193965165\n",
      "p-value :  1.0309054352199374e-18\n",
      "Degree for Freedom :  1\n"
     ]
    },
    {
     "data": {
      "text/html": [
       "<div>\n",
       "<style scoped>\n",
       "    .dataframe tbody tr th:only-of-type {\n",
       "        vertical-align: middle;\n",
       "    }\n",
       "\n",
       "    .dataframe tbody tr th {\n",
       "        vertical-align: top;\n",
       "    }\n",
       "\n",
       "    .dataframe thead th {\n",
       "        text-align: right;\n",
       "    }\n",
       "</style>\n",
       "<table border=\"1\" class=\"dataframe\">\n",
       "  <thead>\n",
       "    <tr style=\"text-align: right;\">\n",
       "      <th>Mortality</th>\n",
       "      <th>Death</th>\n",
       "      <th>Surviving</th>\n",
       "      <th>All</th>\n",
       "    </tr>\n",
       "    <tr>\n",
       "      <th>Anosmia</th>\n",
       "      <th></th>\n",
       "      <th></th>\n",
       "      <th></th>\n",
       "    </tr>\n",
       "  </thead>\n",
       "  <tbody>\n",
       "    <tr>\n",
       "      <th>With Anosmia</th>\n",
       "      <td>147</td>\n",
       "      <td>1781</td>\n",
       "      <td>1928</td>\n",
       "    </tr>\n",
       "    <tr>\n",
       "      <th>Without Anosmia</th>\n",
       "      <td>1475</td>\n",
       "      <td>8161</td>\n",
       "      <td>9636</td>\n",
       "    </tr>\n",
       "    <tr>\n",
       "      <th>All</th>\n",
       "      <td>1622</td>\n",
       "      <td>9942</td>\n",
       "      <td>11564</td>\n",
       "    </tr>\n",
       "  </tbody>\n",
       "</table>\n",
       "</div>"
      ],
      "text/plain": [
       "Mortality        Death  Surviving    All\n",
       "Anosmia                                 \n",
       "With Anosmia       147       1781   1928\n",
       "Without Anosmia   1475       8161   9636\n",
       "All               1622       9942  11564"
      ]
     },
     "execution_count": 67,
     "metadata": {},
     "output_type": "execute_result"
    },
    {
     "data": {
      "image/png": "[encoded data removed]",
      "text/plain": [
       "<Figure size 1440x360 with 1 Axes>"
      ]
     },
     "metadata": {},
     "output_type": "display_data"
    }
   ],
   "source": [
    "\"\"\"CHI2 Anosmia\"\"\"\n",
    "data['Anosmia'].value_counts()\n",
    "sns.set(style=\"darkgrid\")\n",
    "sns.set_palette(\"hls\", 3)\n",
    "fig, ax = plt.subplots(figsize=(20,5))\n",
    "ax = sns.countplot(x=\"Anosmia\", hue=\"Mortality\", data=X)\n",
    "\"\"\"Contingency table\"\"\"\n",
    "ANOSMIA_MORTALIDAD_ct=pd.crosstab(index=data['Anosmia'],columns=data['Mortality'])\n",
    "ANOSMIA_MORTALIDAD_ct\n",
    "ANOSMIA_MORTALIDAD_ct.iloc[0].values\n",
    "ANOSMIA_MORTALIDAD_ct.iloc[1].values\n",
    "\n",
    "\"\"\"Sky pay\"\"\"\n",
    "from scipy import stats\n",
    "(chi2, p, dof,_) = stats.chi2_contingency([ANOSMIA_MORTALIDAD_ct.iloc[0].values,ANOSMIA_MORTALIDAD_ct.iloc[1].values])\n",
    "print (\"chi2    : \", chi2)\n",
    "print (\"p-value : \",p)\n",
    "print (\"Degree for Freedom : \" ,dof)\n",
    "pd.crosstab(index=data['Anosmia'],columns=data['Mortality'], margins=True)"
   ]
  },
  {
   "cell_type": "code",
   "execution_count": 68,
   "metadata": {},
   "outputs": [
    {
     "name": "stdout",
     "output_type": "stream",
     "text": [
      "chi2    :  57.75730823111402\n",
      "p-value :  2.965362648294602e-14\n",
      "Degree for Freedom :  1\n"
     ]
    },
    {
     "data": {
      "text/html": [
       "<div>\n",
       "<style scoped>\n",
       "    .dataframe tbody tr th:only-of-type {\n",
       "        vertical-align: middle;\n",
       "    }\n",
       "\n",
       "    .dataframe tbody tr th {\n",
       "        vertical-align: top;\n",
       "    }\n",
       "\n",
       "    .dataframe thead th {\n",
       "        text-align: right;\n",
       "    }\n",
       "</style>\n",
       "<table border=\"1\" class=\"dataframe\">\n",
       "  <thead>\n",
       "    <tr style=\"text-align: right;\">\n",
       "      <th>Mortality</th>\n",
       "      <th>Death</th>\n",
       "      <th>Surviving</th>\n",
       "      <th>All</th>\n",
       "    </tr>\n",
       "    <tr>\n",
       "      <th>Dysgeusia</th>\n",
       "      <th></th>\n",
       "      <th></th>\n",
       "      <th></th>\n",
       "    </tr>\n",
       "  </thead>\n",
       "  <tbody>\n",
       "    <tr>\n",
       "      <th>With Dysgeusia</th>\n",
       "      <td>140</td>\n",
       "      <td>1582</td>\n",
       "      <td>1722</td>\n",
       "    </tr>\n",
       "    <tr>\n",
       "      <th>Without Dysgeusia</th>\n",
       "      <td>1482</td>\n",
       "      <td>8360</td>\n",
       "      <td>9842</td>\n",
       "    </tr>\n",
       "    <tr>\n",
       "      <th>All</th>\n",
       "      <td>1622</td>\n",
       "      <td>9942</td>\n",
       "      <td>11564</td>\n",
       "    </tr>\n",
       "  </tbody>\n",
       "</table>\n",
       "</div>"
      ],
      "text/plain": [
       "Mortality          Death  Surviving    All\n",
       "Dysgeusia                                 \n",
       "With Dysgeusia       140       1582   1722\n",
       "Without Dysgeusia   1482       8360   9842\n",
       "All                 1622       9942  11564"
      ]
     },
     "execution_count": 68,
     "metadata": {},
     "output_type": "execute_result"
    },
    {
     "data": {
      "image/png": "[encoded data removed]",
      "text/plain": [
       "<Figure size 1440x360 with 1 Axes>"
      ]
     },
     "metadata": {},
     "output_type": "display_data"
    }
   ],
   "source": [
    "\"\"\"CHI2 Dysgeusia\"\"\"\n",
    "data['Dysgeusia'].value_counts()\n",
    "sns.set(style=\"darkgrid\")\n",
    "sns.set_palette(\"hls\", 3)\n",
    "fig, ax = plt.subplots(figsize=(20,5))\n",
    "ax = sns.countplot(x=\"Dysgeusia\", hue=\"Mortality\", data=X)\n",
    "\"\"\"Contingency table\"\"\"\n",
    "DISGEUSIA_MORTALIDAD_ct=pd.crosstab(index=data['Dysgeusia'],columns=data['Mortality'])\n",
    "DISGEUSIA_MORTALIDAD_ct\n",
    "DISGEUSIA_MORTALIDAD_ct.iloc[0].values\n",
    "DISGEUSIA_MORTALIDAD_ct.iloc[1].values\n",
    "\n",
    "\"\"\"Sky pay\"\"\"\n",
    "from scipy import stats\n",
    "(chi2, p, dof,_) = stats.chi2_contingency([DISGEUSIA_MORTALIDAD_ct.iloc[0].values,DISGEUSIA_MORTALIDAD_ct.iloc[1].values])\n",
    "print (\"chi2    : \", chi2)\n",
    "print (\"p-value : \",p)\n",
    "print (\"Degree for Freedom : \" ,dof)\n",
    "pd.crosstab(index=data['Dysgeusia'],columns=data['Mortality'], margins=True)"
   ]
  },
  {
   "cell_type": "code",
   "execution_count": 69,
   "metadata": {},
   "outputs": [
    {
     "name": "stdout",
     "output_type": "stream",
     "text": [
      "chi2    :  5.917378694481337\n",
      "p-value :  0.014992247420134558\n",
      "Degree for Freedom :  1\n"
     ]
    },
    {
     "data": {
      "text/html": [
       "<div>\n",
       "<style scoped>\n",
       "    .dataframe tbody tr th:only-of-type {\n",
       "        vertical-align: middle;\n",
       "    }\n",
       "\n",
       "    .dataframe tbody tr th {\n",
       "        vertical-align: top;\n",
       "    }\n",
       "\n",
       "    .dataframe thead th {\n",
       "        text-align: right;\n",
       "    }\n",
       "</style>\n",
       "<table border=\"1\" class=\"dataframe\">\n",
       "  <thead>\n",
       "    <tr style=\"text-align: right;\">\n",
       "      <th>Mortality</th>\n",
       "      <th>Death</th>\n",
       "      <th>Surviving</th>\n",
       "      <th>All</th>\n",
       "    </tr>\n",
       "    <tr>\n",
       "      <th>Use of antipyretics</th>\n",
       "      <th></th>\n",
       "      <th></th>\n",
       "      <th></th>\n",
       "    </tr>\n",
       "  </thead>\n",
       "  <tbody>\n",
       "    <tr>\n",
       "      <th>With Use of antipyretics</th>\n",
       "      <td>896</td>\n",
       "      <td>5165</td>\n",
       "      <td>6061</td>\n",
       "    </tr>\n",
       "    <tr>\n",
       "      <th>Without Use of antipyretics</th>\n",
       "      <td>726</td>\n",
       "      <td>4777</td>\n",
       "      <td>5503</td>\n",
       "    </tr>\n",
       "    <tr>\n",
       "      <th>All</th>\n",
       "      <td>1622</td>\n",
       "      <td>9942</td>\n",
       "      <td>11564</td>\n",
       "    </tr>\n",
       "  </tbody>\n",
       "</table>\n",
       "</div>"
      ],
      "text/plain": [
       "Mortality                    Death  Surviving    All\n",
       "Use of antipyretics                                 \n",
       "With Use of antipyretics       896       5165   6061\n",
       "Without Use of antipyretics    726       4777   5503\n",
       "All                           1622       9942  11564"
      ]
     },
     "execution_count": 69,
     "metadata": {},
     "output_type": "execute_result"
    },
    {
     "data": {
      "image/png": "[encoded data removed]",
      "text/plain": [
       "<Figure size 1440x360 with 1 Axes>"
      ]
     },
     "metadata": {},
     "output_type": "display_data"
    }
   ],
   "source": [
    "\"\"\"CHI2 Use of antipyretics\"\"\"\n",
    "data['Use of antipyretics'].value_counts()\n",
    "sns.set(style=\"darkgrid\")\n",
    "sns.set_palette(\"hls\", 3)\n",
    "fig, ax = plt.subplots(figsize=(20,5))\n",
    "ax = sns.countplot(x=\"Use of antipyretics\", hue=\"Mortality\", data=X)\n",
    "\"\"\"Contingency table\"\"\"\n",
    "ANTIPIRETICOS_MORTALIDAD_ct=pd.crosstab(index=data['Use of antipyretics'],columns=data['Mortality'])\n",
    "ANTIPIRETICOS_MORTALIDAD_ct\n",
    "ANTIPIRETICOS_MORTALIDAD_ct.iloc[0].values\n",
    "ANTIPIRETICOS_MORTALIDAD_ct.iloc[1].values\n",
    "\n",
    "\"\"\"Sky pay\"\"\"\n",
    "from scipy import stats\n",
    "(chi2, p, dof,_) = stats.chi2_contingency([ANTIPIRETICOS_MORTALIDAD_ct.iloc[0].values,ANTIPIRETICOS_MORTALIDAD_ct.iloc[1].values])\n",
    "print (\"chi2    : \", chi2)\n",
    "print (\"p-value : \",p)\n",
    "print (\"Degree for Freedom : \" ,dof)\n",
    "pd.crosstab(index=data['Use of antipyretics'],columns=data['Mortality'], margins=True)"
   ]
  }
 ],
 "metadata": {
  "kernelspec": {
   "display_name": "Python 3",
   "language": "python",
   "name": "python3"
  },
  "language_info": {
   "codemirror_mode": {
    "name": "ipython",
    "version": 3
   },
   "file_extension": ".py",
   "mimetype": "text/x-python",
   "name": "python",
   "nbconvert_exporter": "python",
   "pygments_lexer": "ipython3",
   "version": "3.8.5"
  }
 },
 "nbformat": 4,
 "nbformat_minor": 4
}
