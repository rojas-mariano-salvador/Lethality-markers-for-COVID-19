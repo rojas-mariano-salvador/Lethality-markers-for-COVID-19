{
 "cells": [
  {
   "cell_type": "markdown",
   "metadata": {},
   "source": [
    "# LR result"
   ]
  },
  {
   "cell_type": "code",
   "execution_count": 1,
   "metadata": {},
   "outputs": [],
   "source": [
    "import argparse\n",
    "import sys\n",
    "import numpy as np\n",
    "import pandas as pd\n",
    "from sklearn.model_selection import train_test_split\n",
    "from sklearn.utils import class_weight\n",
    "from sklearn.utils.class_weight import compute_sample_weight\n",
    "from sklearn.model_selection import GridSearchCV,RepeatedKFold, RepeatedStratifiedKFold, KFold, cross_val_score, StratifiedKFold, StratifiedShuffleSplit\n",
    "from sklearn.metrics import roc_curve, auc, roc_auc_score, classification_report, confusion_matrix, accuracy_score, f1_score\n",
    "from sklearn.preprocessing import StandardScaler, OneHotEncoder\n",
    "import os\n",
    "import pickle\n",
    "from sklearn import linear_model\n",
    "from sklearn.linear_model import LogisticRegression\n",
    "from sklearn.metrics import confusion_matrix\n",
    "from sklearn.metrics import precision_score, auc, roc_auc_score, recall_score, confusion_matrix, accuracy_score, f1_score, average_precision_score\n",
    "import warnings\n",
    "warnings.filterwarnings('ignore')"
   ]
  },
  {
   "cell_type": "code",
   "execution_count": 2,
   "metadata": {},
   "outputs": [
    {
     "name": "stdout",
     "output_type": "stream",
     "text": [
      "Total records 11564\n"
     ]
    }
   ],
   "source": [
    "raw_data = 'C:/Users/Salvador/Modelo_COVID19/Libretas manuscrito/BCM Infectius diseases/data_final_mor.csv'\n",
    "data = pd.read_csv(raw_data)\n",
    "print (\"Total records\", data.shape[0])"
   ]
  },
  {
   "cell_type": "code",
   "execution_count": 3,
   "metadata": {},
   "outputs": [
    {
     "name": "stdout",
     "output_type": "stream",
     "text": [
      "X: (11564, 37)\n",
      "Y: (11564, 1)\n"
     ]
    }
   ],
   "source": [
    "X = data.drop(['Unnamed: 0','Mortality'],axis=1).astype(int)\n",
    "y = data['Mortality'].astype(int)\n",
    "y = y.values.reshape(y.shape[0],1)\n",
    "feature_list = X.columns\n",
    "print(\"X:\", X.shape)\n",
    "print(\"Y:\", y.shape)"
   ]
  },
  {
   "cell_type": "code",
   "execution_count": 4,
   "metadata": {},
   "outputs": [],
   "source": [
    "import joblib\n",
    "LR_loaded = joblib.load('C:/Users/Salvador/Modelo_COVID19/Libretas manuscrito/BCM Infectius diseases/PKL/modelLR1.pkl')"
   ]
  },
  {
   "cell_type": "code",
   "execution_count": 5,
   "metadata": {},
   "outputs": [
    {
     "data": {
      "text/plain": [
       "{'C': 0.1,\n",
       " 'class_weight': 'balanced',\n",
       " 'l1_ratio': 0.5,\n",
       " 'penalty': 'l2',\n",
       " 'random_state': 422,\n",
       " 'solver': 'saga'}"
      ]
     },
     "execution_count": 5,
     "metadata": {},
     "output_type": "execute_result"
    }
   ],
   "source": [
    "LR_loaded.best_params_"
   ]
  },
  {
   "cell_type": "code",
   "execution_count": 6,
   "metadata": {},
   "outputs": [
    {
     "name": "stdout",
     "output_type": "stream",
     "text": [
      "(11564, 37)\n",
      "(11564, 1)\n"
     ]
    }
   ],
   "source": [
    "print(X.shape)\n",
    "print(y.shape)"
   ]
  },
  {
   "cell_type": "code",
   "execution_count": 7,
   "metadata": {},
   "outputs": [],
   "source": [
    "X = X.to_numpy()"
   ]
  },
  {
   "cell_type": "code",
   "execution_count": 8,
   "metadata": {},
   "outputs": [],
   "source": [
    "rskf = RepeatedStratifiedKFold(n_splits=10, n_repeats=10, random_state=242)\n",
    "\n",
    "test_auc = []\n",
    "test_acc = []\n",
    "test_ap = [] \n",
    "test_f1 = []\n",
    "test_recall = []\n",
    "test_precision = []\n",
    "\n",
    "for train_index, test_index in rskf.split(X,y):\n",
    "  X_train, X_test = X[train_index], X[test_index]\n",
    "  y_train, y_test = y[train_index], y[test_index]\n",
    "\n",
    "  clf = LogisticRegression(**LR_loaded.best_params_)\n",
    "  clf.fit(X_train, y_train)\n",
    "  \n",
    "  ps = clf.predict_proba(X_test)\n",
    "  yp = clf.predict(X_test) \n",
    "  \n",
    "  test_auc.append(roc_auc_score(y_test, ps[:,1]))\n",
    "  test_acc.append(accuracy_score(y_test, yp))\n",
    "  test_ap.append(average_precision_score(y_test, yp))\n",
    "  test_f1.append(f1_score(y_test, yp))\n",
    "  test_recall.append(recall_score(y_test, yp))\n",
    "  test_precision.append(precision_score(y_test, yp))"
   ]
  },
  {
   "cell_type": "code",
   "execution_count": 9,
   "metadata": {},
   "outputs": [
    {
     "data": {
      "text/html": [
       "<div>\n",
       "<style scoped>\n",
       "    .dataframe tbody tr th:only-of-type {\n",
       "        vertical-align: middle;\n",
       "    }\n",
       "\n",
       "    .dataframe tbody tr th {\n",
       "        vertical-align: top;\n",
       "    }\n",
       "\n",
       "    .dataframe thead th {\n",
       "        text-align: right;\n",
       "    }\n",
       "</style>\n",
       "<table border=\"1\" class=\"dataframe\">\n",
       "  <thead>\n",
       "    <tr style=\"text-align: right;\">\n",
       "      <th></th>\n",
       "      <th>auc</th>\n",
       "      <th>acc</th>\n",
       "      <th>ap</th>\n",
       "      <th>f1</th>\n",
       "      <th>recall</th>\n",
       "      <th>precision</th>\n",
       "    </tr>\n",
       "  </thead>\n",
       "  <tbody>\n",
       "    <tr>\n",
       "      <th>0</th>\n",
       "      <td>0.837540</td>\n",
       "      <td>0.740709</td>\n",
       "      <td>0.300942</td>\n",
       "      <td>0.475524</td>\n",
       "      <td>0.839506</td>\n",
       "      <td>0.331707</td>\n",
       "    </tr>\n",
       "    <tr>\n",
       "      <th>1</th>\n",
       "      <td>0.844941</td>\n",
       "      <td>0.737252</td>\n",
       "      <td>0.289002</td>\n",
       "      <td>0.462898</td>\n",
       "      <td>0.808642</td>\n",
       "      <td>0.324257</td>\n",
       "    </tr>\n",
       "    <tr>\n",
       "      <th>2</th>\n",
       "      <td>0.846558</td>\n",
       "      <td>0.743302</td>\n",
       "      <td>0.300957</td>\n",
       "      <td>0.476190</td>\n",
       "      <td>0.828221</td>\n",
       "      <td>0.334158</td>\n",
       "    </tr>\n",
       "    <tr>\n",
       "      <th>3</th>\n",
       "      <td>0.833078</td>\n",
       "      <td>0.737252</td>\n",
       "      <td>0.296244</td>\n",
       "      <td>0.470383</td>\n",
       "      <td>0.828221</td>\n",
       "      <td>0.328467</td>\n",
       "    </tr>\n",
       "    <tr>\n",
       "      <th>4</th>\n",
       "      <td>0.853423</td>\n",
       "      <td>0.749135</td>\n",
       "      <td>0.296550</td>\n",
       "      <td>0.472727</td>\n",
       "      <td>0.802469</td>\n",
       "      <td>0.335052</td>\n",
       "    </tr>\n",
       "  </tbody>\n",
       "</table>\n",
       "</div>"
      ],
      "text/plain": [
       "        auc       acc        ap        f1    recall  precision\n",
       "0  0.837540  0.740709  0.300942  0.475524  0.839506   0.331707\n",
       "1  0.844941  0.737252  0.289002  0.462898  0.808642   0.324257\n",
       "2  0.846558  0.743302  0.300957  0.476190  0.828221   0.334158\n",
       "3  0.833078  0.737252  0.296244  0.470383  0.828221   0.328467\n",
       "4  0.853423  0.749135  0.296550  0.472727  0.802469   0.335052"
      ]
     },
     "execution_count": 9,
     "metadata": {},
     "output_type": "execute_result"
    }
   ],
   "source": [
    "LR_results = pd.DataFrame({'auc':test_auc, 'acc':test_acc, 'ap':test_ap, 'f1':test_f1, 'recall':test_recall,'precision':test_precision})\n",
    "LR_results.head()"
   ]
  },
  {
   "cell_type": "code",
   "execution_count": 10,
   "metadata": {},
   "outputs": [],
   "source": [
    "file = 'C:/Users/Salvador/Modelo_COVID19/Libretas manuscrito/BCM Infectius diseases/result/LR_result.csv'\n",
    "LR_results.to_csv(file,index=False)"
   ]
  }
 ],
 "metadata": {
  "kernelspec": {
   "display_name": "Python 3",
   "language": "python",
   "name": "python3"
  },
  "language_info": {
   "codemirror_mode": {
    "name": "ipython",
    "version": 3
   },
   "file_extension": ".py",
   "mimetype": "text/x-python",
   "name": "python",
   "nbconvert_exporter": "python",
   "pygments_lexer": "ipython3",
   "version": "3.8.5"
  }
 },
 "nbformat": 4,
 "nbformat_minor": 4
}
