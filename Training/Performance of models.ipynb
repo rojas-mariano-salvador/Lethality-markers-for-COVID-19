{
 "cells": [
  {
   "cell_type": "markdown",
   "metadata": {},
   "source": [
    "# Performance of models\n"
   ]
  },
  {
   "cell_type": "code",
   "execution_count": 1,
   "metadata": {},
   "outputs": [],
   "source": [
    "import pandas as pd\n",
    "import matplotlib.pyplot as plt\n",
    "from matplotlib.backends.backend_pdf import PdfPages\n",
    "import warnings\n",
    "warnings.filterwarnings('ignore')\n",
    "import seaborn as sn"
   ]
  },
  {
   "cell_type": "code",
   "execution_count": 2,
   "metadata": {},
   "outputs": [],
   "source": [
    "def read_data(raw_clinical_note):\n",
    "    data = pd.read_csv(raw_clinical_note, header=0,na_filter=True)\n",
    "    return data"
   ]
  },
  {
   "cell_type": "code",
   "execution_count": 3,
   "metadata": {},
   "outputs": [
    {
     "name": "stdout",
     "output_type": "stream",
     "text": [
      "Total records 11564\n"
     ]
    }
   ],
   "source": [
    "raw_data = 'C:/Users/Salvador/Modelo_COVID19/Libretas manuscrito/BCM Infectius diseases/data_final_mor.csv'\n",
    "data = pd.read_csv(raw_data)\n",
    "print (\"Total records\", data.shape[0])"
   ]
  },
  {
   "cell_type": "code",
   "execution_count": 4,
   "metadata": {},
   "outputs": [
    {
     "name": "stdout",
     "output_type": "stream",
     "text": [
      "X: (11564, 37)\n",
      "Y: (11564, 1)\n"
     ]
    }
   ],
   "source": [
    "X = data.drop(['Unnamed: 0','Mortality'],axis=1).astype(int)\n",
    "y = data['Mortality'].astype(int) \n",
    "y = y.values.reshape(y.shape[0],1)\n",
    "feature_list = X.columns\n",
    "print(\"X:\", X.shape)\n",
    "print(\"Y:\", y.shape)"
   ]
  },
  {
   "cell_type": "code",
   "execution_count": 5,
   "metadata": {},
   "outputs": [
    {
     "data": {
      "text/plain": [
       "Index(['Sex', 'Age', 'Pregnancy', 'Fever', 'Cough', 'Odynophagia', 'Dyspnea',\n",
       "       'Irritability', 'Diarrhea', 'Chest pain', 'Chills', 'Headache',\n",
       "       'Myalgia', 'Arthralgia', 'General discomfort', 'Rhinorrhea', 'Polypnea',\n",
       "       'Vomiting', 'Abdominal pain', 'Conjunctivitis', 'Cyanosis',\n",
       "       'Sudden onset of symptoms', 'Anosmia', 'Dysgeusia', 'Diabetes', 'COPD',\n",
       "       'Asthma', 'Immunosuppression', 'Hypertension', 'HIV AIDS',\n",
       "       'Cardiovascular disease', 'Obesity', 'CKD', 'Smoking', 'Puerperium',\n",
       "       'Use of antipyretics', 'Days elapsed'],\n",
       "      dtype='object')"
      ]
     },
     "execution_count": 5,
     "metadata": {},
     "output_type": "execute_result"
    }
   ],
   "source": [
    "X.columns"
   ]
  },
  {
   "cell_type": "code",
   "execution_count": 6,
   "metadata": {},
   "outputs": [
    {
     "data": {
      "image/png": "[encoded data removed]",
      "text/plain": [
       "<Figure size 432x288 with 1 Axes>"
      ]
     },
     "metadata": {
      "needs_background": "light"
     },
     "output_type": "display_data"
    }
   ],
   "source": [
    "file = 'C:/Users/Salvador/Modelo_COVID19/Libretas manuscrito/BCM Infectius diseases/result/'\n",
    "df1 = pd.read_csv(file + 'XGB_result.csv')\n",
    "df1 = df1.rename(columns= {'auc':'AUC score'})\n",
    "df1['Model'] = 'XGBoost'\n",
    "\n",
    "df2 = pd.read_csv(file + 'LR_result.csv')\n",
    "df2 = df2.rename(columns= {'auc':'AUC score'})\n",
    "df2['Model'] = 'LR'\n",
    "\n",
    "df3 = pd.read_csv(file + 'SVM_result.csv')\n",
    "df3 = df3.rename(columns= {'auc':'AUC score'})\n",
    "df3['Model'] = 'SVM'\n",
    "\n",
    "df4 = pd.read_csv(file + 'RF_result.csv')\n",
    "df4 = df4.rename(columns= {'auc':'AUC score'})\n",
    "df4['Model'] = 'RF'\n",
    "\n",
    "df_final = pd.DataFrame()\n",
    "df_comp = pd.concat([df2, df3, df4,df1])\n",
    "\n",
    "sn.boxplot(y = df_comp['AUC score'], x = df_comp['Model'])\n",
    "plt.savefig('Training model’s performance' , format='pdf', bbox_inches='tight')"
   ]
  }
 ],
 "metadata": {
  "kernelspec": {
   "display_name": "Python 3",
   "language": "python",
   "name": "python3"
  },
  "language_info": {
   "codemirror_mode": {
    "name": "ipython",
    "version": 3
   },
   "file_extension": ".py",
   "mimetype": "text/x-python",
   "name": "python",
   "nbconvert_exporter": "python",
   "pygments_lexer": "ipython3",
   "version": "3.8.5"
  }
 },
 "nbformat": 4,
 "nbformat_minor": 4
}
