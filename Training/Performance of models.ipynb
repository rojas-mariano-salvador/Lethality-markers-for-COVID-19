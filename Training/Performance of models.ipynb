{
 "cells": [
  {
   "cell_type": "markdown",
   "metadata": {},
   "source": [
    "# Performance of models"
   ]
  },
  {
   "cell_type": "code",
   "execution_count": 1,
   "metadata": {},
   "outputs": [],
   "source": [
    "import pandas as pd\n",
    "import numpy as np\n",
    "import matplotlib.pyplot as plt\n",
    "import seaborn as sn"
   ]
  },
  {
   "cell_type": "code",
   "execution_count": 2,
   "metadata": {},
   "outputs": [],
   "source": [
    "path = \"C:/Users/Salvador/Modelo_COVID19/Libretas manuscrito/BCM Infectius diseases/result/\""
   ]
  },
  {
   "cell_type": "code",
   "execution_count": 3,
   "metadata": {},
   "outputs": [],
   "source": [
    "df1 = pd.read_csv(path + 'XGB_result.csv')\n",
    "df1['Model'] = 'XGBoost'\n",
    "\n",
    "df2 = pd.read_csv(path + 'LR_result.csv')\n",
    "df2['Model'] = 'LR'\n",
    "\n",
    "df3 = pd.read_csv(path + 'SVM_result.csv')\n",
    "df3['Model'] = 'SVM'\n",
    "\n",
    "df4 = pd.read_csv(path + 'RF_result.csv')\n",
    "df4['Model'] = 'RF'\n",
    "\n",
    "data = pd.DataFrame()\n",
    "data = pd.concat([df2, df3, df4,df1])"
   ]
  },
  {
   "cell_type": "code",
   "execution_count": 4,
   "metadata": {},
   "outputs": [
    {
     "data": {
      "text/html": [
       "<div>\n",
       "<style scoped>\n",
       "    .dataframe tbody tr th:only-of-type {\n",
       "        vertical-align: middle;\n",
       "    }\n",
       "\n",
       "    .dataframe tbody tr th {\n",
       "        vertical-align: top;\n",
       "    }\n",
       "\n",
       "    .dataframe thead th {\n",
       "        text-align: right;\n",
       "    }\n",
       "</style>\n",
       "<table border=\"1\" class=\"dataframe\">\n",
       "  <thead>\n",
       "    <tr style=\"text-align: right;\">\n",
       "      <th></th>\n",
       "      <th>auc</th>\n",
       "      <th>acc</th>\n",
       "      <th>ap</th>\n",
       "      <th>f1</th>\n",
       "      <th>recall</th>\n",
       "      <th>precision</th>\n",
       "      <th>Model</th>\n",
       "    </tr>\n",
       "  </thead>\n",
       "  <tbody>\n",
       "    <tr>\n",
       "      <th>0</th>\n",
       "      <td>0.837540</td>\n",
       "      <td>0.740709</td>\n",
       "      <td>0.300942</td>\n",
       "      <td>0.475524</td>\n",
       "      <td>0.839506</td>\n",
       "      <td>0.331707</td>\n",
       "      <td>LR</td>\n",
       "    </tr>\n",
       "    <tr>\n",
       "      <th>1</th>\n",
       "      <td>0.844941</td>\n",
       "      <td>0.737252</td>\n",
       "      <td>0.289002</td>\n",
       "      <td>0.462898</td>\n",
       "      <td>0.808642</td>\n",
       "      <td>0.324257</td>\n",
       "      <td>LR</td>\n",
       "    </tr>\n",
       "    <tr>\n",
       "      <th>2</th>\n",
       "      <td>0.846558</td>\n",
       "      <td>0.743302</td>\n",
       "      <td>0.300957</td>\n",
       "      <td>0.476190</td>\n",
       "      <td>0.828221</td>\n",
       "      <td>0.334158</td>\n",
       "      <td>LR</td>\n",
       "    </tr>\n",
       "    <tr>\n",
       "      <th>3</th>\n",
       "      <td>0.833078</td>\n",
       "      <td>0.737252</td>\n",
       "      <td>0.296244</td>\n",
       "      <td>0.470383</td>\n",
       "      <td>0.828221</td>\n",
       "      <td>0.328467</td>\n",
       "      <td>LR</td>\n",
       "    </tr>\n",
       "    <tr>\n",
       "      <th>4</th>\n",
       "      <td>0.853423</td>\n",
       "      <td>0.749135</td>\n",
       "      <td>0.296550</td>\n",
       "      <td>0.472727</td>\n",
       "      <td>0.802469</td>\n",
       "      <td>0.335052</td>\n",
       "      <td>LR</td>\n",
       "    </tr>\n",
       "    <tr>\n",
       "      <th>...</th>\n",
       "      <td>...</td>\n",
       "      <td>...</td>\n",
       "      <td>...</td>\n",
       "      <td>...</td>\n",
       "      <td>...</td>\n",
       "      <td>...</td>\n",
       "      <td>...</td>\n",
       "    </tr>\n",
       "    <tr>\n",
       "      <th>95</th>\n",
       "      <td>0.870464</td>\n",
       "      <td>0.869377</td>\n",
       "      <td>0.209786</td>\n",
       "      <td>0.217617</td>\n",
       "      <td>0.129630</td>\n",
       "      <td>0.677419</td>\n",
       "      <td>XGBoost</td>\n",
       "    </tr>\n",
       "    <tr>\n",
       "      <th>96</th>\n",
       "      <td>0.849672</td>\n",
       "      <td>0.867647</td>\n",
       "      <td>0.220998</td>\n",
       "      <td>0.274882</td>\n",
       "      <td>0.179012</td>\n",
       "      <td>0.591837</td>\n",
       "      <td>XGBoost</td>\n",
       "    </tr>\n",
       "    <tr>\n",
       "      <th>97</th>\n",
       "      <td>0.853876</td>\n",
       "      <td>0.862457</td>\n",
       "      <td>0.191773</td>\n",
       "      <td>0.208955</td>\n",
       "      <td>0.129630</td>\n",
       "      <td>0.538462</td>\n",
       "      <td>XGBoost</td>\n",
       "    </tr>\n",
       "    <tr>\n",
       "      <th>98</th>\n",
       "      <td>0.874155</td>\n",
       "      <td>0.865917</td>\n",
       "      <td>0.199750</td>\n",
       "      <td>0.213198</td>\n",
       "      <td>0.129630</td>\n",
       "      <td>0.600000</td>\n",
       "      <td>XGBoost</td>\n",
       "    </tr>\n",
       "    <tr>\n",
       "      <th>99</th>\n",
       "      <td>0.865735</td>\n",
       "      <td>0.866782</td>\n",
       "      <td>0.208266</td>\n",
       "      <td>0.237624</td>\n",
       "      <td>0.148148</td>\n",
       "      <td>0.600000</td>\n",
       "      <td>XGBoost</td>\n",
       "    </tr>\n",
       "  </tbody>\n",
       "</table>\n",
       "<p>310 rows × 7 columns</p>\n",
       "</div>"
      ],
      "text/plain": [
       "         auc       acc        ap        f1    recall  precision    Model\n",
       "0   0.837540  0.740709  0.300942  0.475524  0.839506   0.331707       LR\n",
       "1   0.844941  0.737252  0.289002  0.462898  0.808642   0.324257       LR\n",
       "2   0.846558  0.743302  0.300957  0.476190  0.828221   0.334158       LR\n",
       "3   0.833078  0.737252  0.296244  0.470383  0.828221   0.328467       LR\n",
       "4   0.853423  0.749135  0.296550  0.472727  0.802469   0.335052       LR\n",
       "..       ...       ...       ...       ...       ...        ...      ...\n",
       "95  0.870464  0.869377  0.209786  0.217617  0.129630   0.677419  XGBoost\n",
       "96  0.849672  0.867647  0.220998  0.274882  0.179012   0.591837  XGBoost\n",
       "97  0.853876  0.862457  0.191773  0.208955  0.129630   0.538462  XGBoost\n",
       "98  0.874155  0.865917  0.199750  0.213198  0.129630   0.600000  XGBoost\n",
       "99  0.865735  0.866782  0.208266  0.237624  0.148148   0.600000  XGBoost\n",
       "\n",
       "[310 rows x 7 columns]"
      ]
     },
     "execution_count": 4,
     "metadata": {},
     "output_type": "execute_result"
    }
   ],
   "source": [
    "data"
   ]
  },
  {
   "cell_type": "code",
   "execution_count": 5,
   "metadata": {},
   "outputs": [
    {
     "data": {
      "image/png": "[encoded data removed]",
      "text/plain": [
       "<Figure size 432x288 with 1 Axes>"
      ]
     },
     "metadata": {
      "needs_background": "light"
     },
     "output_type": "display_data"
    }
   ],
   "source": [
    "fig, ax = plt.subplots() # define the axis object here\n",
    "sn.boxplot(y = data['auc'], x = data['Model'], showfliers=True, ax=ax) # pass the ax object here\n",
    "ax.xaxis.grid(True,linestyle='-', which='major', color='lightgrey',alpha=0.5) # Show the vertical gridlines\n",
    "ax.yaxis.grid(True,linestyle='-', which='major', color='lightgrey',alpha=0.5) # Hide the horizontal gridlines\n",
    "rango =list(np.arange(0, 1.25, 0.25)) # Set range\n",
    "ax.set_yticks(rango)\n",
    "\n",
    "ax.set(\n",
    "    axisbelow=True,  # Show the grid behind plot objects\n",
    "    xlabel='Model',\n",
    "    ylabel='AUC score')\n",
    "\n",
    "plt.savefig(path+'boxplot_AUCscore.pdf')\n",
    "plt.savefig(path+'boxplot_AUCscore.jpg')\n",
    "plt.savefig('Training model’s performance' , format='pdf', bbox_inches='tight')"
   ]
  }
 ],
 "metadata": {
  "kernelspec": {
   "display_name": "Python 3",
   "language": "python",
   "name": "python3"
  },
  "language_info": {
   "codemirror_mode": {
    "name": "ipython",
    "version": 3
   },
   "file_extension": ".py",
   "mimetype": "text/x-python",
   "name": "python",
   "nbconvert_exporter": "python",
   "pygments_lexer": "ipython3",
   "version": "3.8.5"
  }
 },
 "nbformat": 4,
 "nbformat_minor": 4
}
