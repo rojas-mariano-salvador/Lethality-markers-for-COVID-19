{
 "cells": [
  {
   "cell_type": "markdown",
   "metadata": {},
   "source": [
    "# Splitting data\n",
    "\n",
    "## Code for splitting data in train and test sets"
   ]
  },
  {
   "cell_type": "code",
   "execution_count": 1,
   "metadata": {},
   "outputs": [],
   "source": [
    "import pandas as pd\n",
    "import pickle\n",
    "from sklearn.preprocessing import StandardScaler\n",
    "from sklearn.model_selection import train_test_split"
   ]
  },
  {
   "cell_type": "code",
   "execution_count": 2,
   "metadata": {},
   "outputs": [],
   "source": [
    "\"\"\"Functions def\"\"\"\n",
    "def read_data(raw_clinical_note):\n",
    "    \"\"\"Function for loading data\"\"\"\n",
    "    data = pd.read_csv(raw_clinical_note, header=0,na_filter=True)\n",
    "    return data\n",
    "\n",
    "def scaler(x_train, x_test,logs_file):\n",
    "    \"\"\"Function to standardize features \"\"\"\n",
    "    scaler = StandardScaler().fit(x_train)\n",
    "    x_train_scaled = scaler.transform(x_train)\n",
    "    x_test_scaled = scaler.transform(x_test)\n",
    "\n",
    "    pickle.dump(scaler, open(logs_file+'scaler', 'wb'))\n",
    "    return x_train_scaled, x_test_scaled"
   ]
  },
  {
   "cell_type": "code",
   "execution_count": 3,
   "metadata": {},
   "outputs": [
    {
     "name": "stdout",
     "output_type": "stream",
     "text": [
      "Total records 11564\n"
     ]
    }
   ],
   "source": [
    "\"\"\"Path\"\"\"\n",
    "path = \"C:/Users/Salvador/Modelo_COVID19/Libretas manuscrito/BCM Infectius diseases/\"\n",
    "raw_data = path + \"data_final_mor.csv\"\n",
    "data = pd.read_csv(raw_data)\n",
    "print (\"Total records\", data.shape[0])"
   ]
  },
  {
   "cell_type": "code",
   "execution_count": 4,
   "metadata": {},
   "outputs": [
    {
     "name": "stdout",
     "output_type": "stream",
     "text": [
      "X: (11564, 34)\n",
      "Y: (11564, 1)\n"
     ]
    }
   ],
   "source": [
    "X = data.drop(['Unnamed: 0','Mortality'],axis=1)\n",
    "y = data['Mortality']\n",
    "y = y.values.reshape(y.shape[0],1)\n",
    "feature_list = X.columns\n",
    "print(\"X:\", X.shape)\n",
    "print(\"Y:\", y.shape)"
   ]
  },
  {
   "cell_type": "code",
   "execution_count": 5,
   "metadata": {},
   "outputs": [
    {
     "name": "stdout",
     "output_type": "stream",
     "text": [
      "X_train: (9251, 34) y_train: (9251, 1)\n",
      "X_test: (2313, 34) y_test: (2313, 1)\n"
     ]
    }
   ],
   "source": [
    "\"\"\"Splitting data: train set and test set\"\"\"\n",
    "X_train, X_test, y_train, y_test = train_test_split(X, y, test_size=0.20,random_state=242,stratify=y)\n",
    "print(\"X_train:\", X_train.shape, \"y_train:\",y_train.shape)\n",
    "print(\"X_test:\", X_test.shape, \"y_test:\",y_test.shape)"
   ]
  },
  {
   "cell_type": "code",
   "execution_count": 6,
   "metadata": {},
   "outputs": [
    {
     "name": "stdout",
     "output_type": "stream",
     "text": [
      "X_train: (9251, 34) X_test: (2313, 34)\n"
     ]
    }
   ],
   "source": [
    "\"\"\"Scaling data\"\"\"\n",
    "X_train, X_test = scaler(X_train, X_test,path)\n",
    "print(\"X_train:\", X_train.shape,\"X_test:\", X_test.shape)"
   ]
  },
  {
   "cell_type": "code",
   "execution_count": 7,
   "metadata": {},
   "outputs": [],
   "source": [
    "\"\"\"From numpy to dataframe\"\"\"\n",
    "X_train = pd.DataFrame(X_train,columns = feature_list)\n",
    "X_test = pd.DataFrame(X_test,columns = feature_list)\n",
    "y_train = pd.DataFrame(y_train, columns=[\"lethality\"])\n",
    "y_test = pd.DataFrame(y_test, columns=[\"lethality\"])\n",
    "\n",
    "\"\"\"Saving datasets\"\"\"\n",
    "X_train.to_csv(path+\"X_train.csv\")\n",
    "X_test.to_csv(path+\"X_test.csv\")\n",
    "y_train.to_csv(path+\"y_train.csv\")\n",
    "y_test.to_csv(path+\"y_test.csv\")"
   ]
  }
 ],
 "metadata": {
  "kernelspec": {
   "display_name": "Python 3",
   "language": "python",
   "name": "python3"
  },
  "language_info": {
   "codemirror_mode": {
    "name": "ipython",
    "version": 3
   },
   "file_extension": ".py",
   "mimetype": "text/x-python",
   "name": "python",
   "nbconvert_exporter": "python",
   "pygments_lexer": "ipython3",
   "version": "3.8.5"
  }
 },
 "nbformat": 4,
 "nbformat_minor": 4
}
