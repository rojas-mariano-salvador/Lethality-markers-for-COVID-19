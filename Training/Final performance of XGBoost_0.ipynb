{
 "cells": [
  {
   "cell_type": "markdown",
   "metadata": {},
   "source": [
    "# Final performance of XGBoost\n",
    "## Code for computing the final performance of XGBoost model using test set"
   ]
  },
  {
   "cell_type": "code",
   "execution_count": 1,
   "metadata": {},
   "outputs": [],
   "source": [
    "import os\n",
    "import pickle\n",
    "import joblib\n",
    "import numpy as np\n",
    "import pandas as pd\n",
    "import matplotlib.pyplot as plt\n",
    "import xgboost as xgb\n",
    "from xgboost import XGBClassifier\n",
    "import warnings\n",
    "warnings.filterwarnings('ignore')\n",
    "from sklearn.metrics import roc_curve, auc, roc_auc_score, classification_report,\\\n",
    "                            confusion_matrix, accuracy_score, f1_score, precision_recall_curve"
   ]
  },
  {
   "cell_type": "code",
   "execution_count": 2,
   "metadata": {},
   "outputs": [],
   "source": [
    "\"\"\"Functions def\"\"\"\n",
    "def read_data(raw_clinical_note):\n",
    "    \"\"\"Function for loading data\"\"\"\n",
    "    data = pd.read_csv(raw_clinical_note, header=0,na_filter=True)\n",
    "    return data\n",
    "\n",
    "def opening_model(path_model):\n",
    "    \"\"\"Function for Opening model \"\"\"\n",
    "    loaded_model = joblib.load(path_model)\n",
    "    return loaded_model\n",
    "\n",
    "def plot_pr_curve(test_y, model_probs):\n",
    "    from sklearn.metrics import PrecisionRecallDisplay\n",
    "    display = PrecisionRecallDisplay.from_predictions(test_y, model_probs, name=\"XGBoost\")\n",
    "    _ = display.ax_.set_title(\"Precision-Recall curve\")\n",
    "    plt.show()\n",
    "\n",
    "def generating_metrics(model, x, y):\n",
    "    \"\"\"Function for computing metrics\"\"\"\n",
    "    y_pred_proba = model.predict_proba(x)[:, 1]\n",
    "    y_pred = model.predict(x)\n",
    "    acc = accuracy_score(y,y_pred)\n",
    "    tn, fp, fn, tp = confusion_matrix(y,y_pred).ravel()\n",
    "    false_positive_rate, true_positive_rate, thresholds = roc_curve(y, y_pred)\n",
    "    sensitivity = tp / (tp+fn)\n",
    "    specificity = tn / (tn+fp)\n",
    "    auc_score = auc(false_positive_rate, true_positive_rate)\n",
    "    f1 = f1_score(y, y_pred)\n",
    "\n",
    "    # Precision or positive predictive value\n",
    "    ppv = tp/(tp+fp)\n",
    "    # Negative predictive value\n",
    "    npv = tn/(tn+fn)\n",
    "\n",
    "    #plot_pr_curve(y, y_pred_proba)\n",
    "    return auc_score, sensitivity, specificity, f1, acc, false_positive_rate, true_positive_rate, ppv,npv, y_pred_proba\n",
    "\n",
    "def plot_roc(model,X_test, y_test,name):\n",
    "    auc_test, sens_test, spec_test, f1_test, acc_test,fpr_test, tpr_test,ppv_test,npv_test, y_pred_proba = generating_metrics(model, X_test, y_test)\n",
    "    \n",
    "    fig = plt.figure(figsize=(10,5)) #x,y\n",
    "    plt.subplots_adjust(wspace=0.4,hspace=0.6)\n",
    "\n",
    "    #ROC curve\n",
    "    ax1 = plt.subplot(1, 2, 1)\n",
    "    ax1.plot([0, 1], [0, 1], 'k--')\n",
    "    ax1.plot(fpr_test, tpr_test, label='AUC=%0.2f' % auc_test, color='darkorange')\n",
    "    ax1.set_xlabel('1 - Specificity \\n (False positive rate)')\n",
    "    ax1.set_ylabel('Sensitivity \\n (True positive rate)')\n",
    "    ax1.legend(loc='best')\n",
    "    ax1.set_title('ROC curve')\n",
    "\n",
    "    #PR curve\n",
    "    ax2 = plt.subplot(1, 2, 2)\n",
    "    no_skill = len(y_test[y_test==1]) / len(y_test) # calculate the no skill line as the proportion of the positive class\n",
    "    ax2.plot([0, 1], [no_skill, no_skill], 'k--') # plot the no skill precision-recall curve\n",
    "    precision, recall, _ = precision_recall_curve(y_test, y_pred_proba) # plot model precision-recall curve\n",
    "    auc_score = auc(recall, precision)\n",
    "    ax2.plot(recall, precision, marker='.', label='PR AUC=%.3f'% auc_score, color='darkorange')\n",
    "    ax2.set_xlabel('Recall \\n (True positive rate)')\n",
    "    ax2.set_ylabel('Precision \\n (Positive Predictive Value )')\n",
    "    ax2.set_title('Precision-Recall curve')\n",
    "    ax2.legend(loc='best')\n",
    "    \n",
    "\n",
    "    print(\"**** Metrics on test set ****\")\n",
    "    print('PR AUC: %.3f' % auc_score)\n",
    "    print(\"AUC:\", np.round(auc_test,3))\n",
    "    print(\"Sensitivity:\", np.round(sens_test,3))\n",
    "    print(\"Specificity:\", np.round(spec_test,3))\n",
    "    print(\"F1_score:\", np.round(f1_test,3))\n",
    "    print(\"Accuracy:\", np.round(acc_test,3))\n",
    "    print(\"PPV:\", np.round(ppv_test,3))\n",
    "    print(\"NPV:\", np.round(npv_test,3))\n"
   ]
  },
  {
   "cell_type": "code",
   "execution_count": 3,
   "metadata": {},
   "outputs": [
    {
     "name": "stdout",
     "output_type": "stream",
     "text": [
      "x_test: (2313, 35) y_test: (2313, 2)\n"
     ]
    }
   ],
   "source": [
    "\"\"\"Loading test sets\"\"\"\n",
    "path = \"C:/Users/Salvador/Modelo_COVID19/Libretas manuscrito/BCM Infectius diseases/BCM/\"\n",
    "x_test = pd.read_csv(path + \"x_test.csv\")\n",
    "y_test = pd.read_csv(path + \"y_test.csv\")\n",
    "print (\"x_test:\", x_test.shape, \"y_test:\",y_test.shape)"
   ]
  },
  {
   "cell_type": "code",
   "execution_count": 4,
   "metadata": {},
   "outputs": [
    {
     "name": "stdout",
     "output_type": "stream",
     "text": [
      "x_test: (2313, 34) y_test: (2313, 1)\n"
     ]
    }
   ],
   "source": [
    "\"\"\"Drop columns\"\"\"\n",
    "x_test = x_test.drop(['Unnamed: 0'],axis=1)\n",
    "y_test = y_test.drop(['Unnamed: 0'],axis=1)\n",
    "print (\"x_test:\", x_test.shape, \"y_test:\",y_test.shape)"
   ]
  },
  {
   "cell_type": "code",
   "execution_count": 5,
   "metadata": {},
   "outputs": [
    {
     "name": "stdout",
     "output_type": "stream",
     "text": [
      "lethality\n",
      "0            1989\n",
      "1             324\n",
      "dtype: int64\n"
     ]
    }
   ],
   "source": [
    "\"\"\"Check the classes\"\"\"\n",
    "print(y_test.value_counts())"
   ]
  },
  {
   "cell_type": "code",
   "execution_count": 6,
   "metadata": {
    "scrolled": true
   },
   "outputs": [
    {
     "data": {
      "text/html": [
       "<style>#sk-container-id-1 {color: black;background-color: white;}#sk-container-id-1 pre{padding: 0;}#sk-container-id-1 div.sk-toggleable {background-color: white;}#sk-container-id-1 label.sk-toggleable__label {cursor: pointer;display: block;width: 100%;margin-bottom: 0;padding: 0.3em;box-sizing: border-box;text-align: center;}#sk-container-id-1 label.sk-toggleable__label-arrow:before {content: \"▸\";float: left;margin-right: 0.25em;color: #696969;}#sk-container-id-1 label.sk-toggleable__label-arrow:hover:before {color: black;}#sk-container-id-1 div.sk-estimator:hover label.sk-toggleable__label-arrow:before {color: black;}#sk-container-id-1 div.sk-toggleable__content {max-height: 0;max-width: 0;overflow: hidden;text-align: left;background-color: #f0f8ff;}#sk-container-id-1 div.sk-toggleable__content pre {margin: 0.2em;color: black;border-radius: 0.25em;background-color: #f0f8ff;}#sk-container-id-1 input.sk-toggleable__control:checked~div.sk-toggleable__content {max-height: 200px;max-width: 100%;overflow: auto;}#sk-container-id-1 input.sk-toggleable__control:checked~label.sk-toggleable__label-arrow:before {content: \"▾\";}#sk-container-id-1 div.sk-estimator input.sk-toggleable__control:checked~label.sk-toggleable__label {background-color: #d4ebff;}#sk-container-id-1 div.sk-label input.sk-toggleable__control:checked~label.sk-toggleable__label {background-color: #d4ebff;}#sk-container-id-1 input.sk-hidden--visually {border: 0;clip: rect(1px 1px 1px 1px);clip: rect(1px, 1px, 1px, 1px);height: 1px;margin: -1px;overflow: hidden;padding: 0;position: absolute;width: 1px;}#sk-container-id-1 div.sk-estimator {font-family: monospace;background-color: #f0f8ff;border: 1px dotted black;border-radius: 0.25em;box-sizing: border-box;margin-bottom: 0.5em;}#sk-container-id-1 div.sk-estimator:hover {background-color: #d4ebff;}#sk-container-id-1 div.sk-parallel-item::after {content: \"\";width: 100%;border-bottom: 1px solid gray;flex-grow: 1;}#sk-container-id-1 div.sk-label:hover label.sk-toggleable__label {background-color: #d4ebff;}#sk-container-id-1 div.sk-serial::before {content: \"\";position: absolute;border-left: 1px solid gray;box-sizing: border-box;top: 0;bottom: 0;left: 50%;z-index: 0;}#sk-container-id-1 div.sk-serial {display: flex;flex-direction: column;align-items: center;background-color: white;padding-right: 0.2em;padding-left: 0.2em;position: relative;}#sk-container-id-1 div.sk-item {position: relative;z-index: 1;}#sk-container-id-1 div.sk-parallel {display: flex;align-items: stretch;justify-content: center;background-color: white;position: relative;}#sk-container-id-1 div.sk-item::before, #sk-container-id-1 div.sk-parallel-item::before {content: \"\";position: absolute;border-left: 1px solid gray;box-sizing: border-box;top: 0;bottom: 0;left: 50%;z-index: -1;}#sk-container-id-1 div.sk-parallel-item {display: flex;flex-direction: column;z-index: 1;position: relative;background-color: white;}#sk-container-id-1 div.sk-parallel-item:first-child::after {align-self: flex-end;width: 50%;}#sk-container-id-1 div.sk-parallel-item:last-child::after {align-self: flex-start;width: 50%;}#sk-container-id-1 div.sk-parallel-item:only-child::after {width: 0;}#sk-container-id-1 div.sk-dashed-wrapped {border: 1px dashed gray;margin: 0 0.4em 0.5em 0.4em;box-sizing: border-box;padding-bottom: 0.4em;background-color: white;}#sk-container-id-1 div.sk-label label {font-family: monospace;font-weight: bold;display: inline-block;line-height: 1.2em;}#sk-container-id-1 div.sk-label-container {text-align: center;}#sk-container-id-1 div.sk-container {/* jupyter's `normalize.less` sets `[hidden] { display: none; }` but bootstrap.min.css set `[hidden] { display: none !important; }` so we also need the `!important` here to be able to override the default hidden behavior on the sphinx rendered scikit-learn.org. See: https://github.com/scikit-learn/scikit-learn/issues/21755 */display: inline-block !important;position: relative;}#sk-container-id-1 div.sk-text-repr-fallback {display: none;}</style><div id=\"sk-container-id-1\" class=\"sk-top-container\"><div class=\"sk-text-repr-fallback\"><pre>XGBClassifier(base_score=0.5, booster=&#x27;gbtree&#x27;, colsample_bylevel=1,\n",
       "              colsample_bynode=1, colsample_bytree=1, eval_metric=&#x27;aucpr&#x27;,\n",
       "              gamma=2, gpu_id=-1, importance_type=&#x27;gain&#x27;,\n",
       "              interaction_constraints=&#x27;&#x27;, learning_rate=0.03, max_delta_step=0,\n",
       "              max_depth=5, min_child_weight=1, missing=nan,\n",
       "              monotone_constraints=&#x27;()&#x27;, n_estimators=200, n_jobs=8,\n",
       "              num_parallel_tree=1, random_state=422, rate_drop=0.3,\n",
       "              reg_alpha=0.03, reg_lambda=1, scale_pos_weight=6.127118644067797,\n",
       "              seed=422, subsample=0.3, tree_method=&#x27;exact&#x27;,\n",
       "              validate_parameters=1, verbosity=None)</pre><b>In a Jupyter environment, please rerun this cell to show the HTML representation or trust the notebook. <br />On GitHub, the HTML representation is unable to render, please try loading this page with nbviewer.org.</b></div><div class=\"sk-container\" hidden><div class=\"sk-item\"><div class=\"sk-estimator sk-toggleable\"><input class=\"sk-toggleable__control sk-hidden--visually\" id=\"sk-estimator-id-1\" type=\"checkbox\" checked><label for=\"sk-estimator-id-1\" class=\"sk-toggleable__label sk-toggleable__label-arrow\">XGBClassifier</label><div class=\"sk-toggleable__content\"><pre>XGBClassifier(base_score=0.5, booster=&#x27;gbtree&#x27;, colsample_bylevel=1,\n",
       "              colsample_bynode=1, colsample_bytree=1, eval_metric=&#x27;aucpr&#x27;,\n",
       "              gamma=2, gpu_id=-1, importance_type=&#x27;gain&#x27;,\n",
       "              interaction_constraints=&#x27;&#x27;, learning_rate=0.03, max_delta_step=0,\n",
       "              max_depth=5, min_child_weight=1, missing=nan,\n",
       "              monotone_constraints=&#x27;()&#x27;, n_estimators=200, n_jobs=8,\n",
       "              num_parallel_tree=1, random_state=422, rate_drop=0.3,\n",
       "              reg_alpha=0.03, reg_lambda=1, scale_pos_weight=6.127118644067797,\n",
       "              seed=422, subsample=0.3, tree_method=&#x27;exact&#x27;,\n",
       "              validate_parameters=1, verbosity=None)</pre></div></div></div></div></div>"
      ],
      "text/plain": [
       "XGBClassifier(base_score=0.5, booster='gbtree', colsample_bylevel=1,\n",
       "              colsample_bynode=1, colsample_bytree=1, eval_metric='aucpr',\n",
       "              gamma=2, gpu_id=-1, importance_type='gain',\n",
       "              interaction_constraints='', learning_rate=0.03, max_delta_step=0,\n",
       "              max_depth=5, min_child_weight=1, missing=nan,\n",
       "              monotone_constraints='()', n_estimators=200, n_jobs=8,\n",
       "              num_parallel_tree=1, random_state=422, rate_drop=0.3,\n",
       "              reg_alpha=0.03, reg_lambda=1, scale_pos_weight=6.127118644067797,\n",
       "              seed=422, subsample=0.3, tree_method='exact',\n",
       "              validate_parameters=1, verbosity=None)"
      ]
     },
     "execution_count": 6,
     "metadata": {},
     "output_type": "execute_result"
    }
   ],
   "source": [
    "\"\"\"Loading model\"\"\"\n",
    "model = opening_model(path+\"XGBoost_model_0.pkl\")\n",
    "model"
   ]
  },
  {
   "cell_type": "code",
   "execution_count": 7,
   "metadata": {},
   "outputs": [
    {
     "name": "stdout",
     "output_type": "stream",
     "text": [
      "**** Metrics on test set ****\n",
      "PR AUC: 0.503\n",
      "AUC: 0.788\n",
      "Sensitivity: 0.836\n",
      "Specificity: 0.74\n",
      "F1_score: 0.487\n",
      "Accuracy: 0.754\n",
      "PPV: 0.344\n",
      "NPV: 0.965\n"
     ]
    },
    {
     "data": {
      "image/png": "[encoded data removed]",
      "text/plain": [
       "<Figure size 720x360 with 2 Axes>"
      ]
     },
     "metadata": {
      "needs_background": "light"
     },
     "output_type": "display_data"
    }
   ],
   "source": [
    "\"\"\"Computing metrics\"\"\"\n",
    "y_test = np.array(y_test)\n",
    "plot_roc(model,x_test, y_test,\"XGBoost\")\n",
    "plt.savefig(path+'plot_roc_XBG_0.pdf')"
   ]
  }
 ],
 "metadata": {
  "kernelspec": {
   "display_name": "Python 3",
   "language": "python",
   "name": "python3"
  },
  "language_info": {
   "codemirror_mode": {
    "name": "ipython",
    "version": 3
   },
   "file_extension": ".py",
   "mimetype": "text/x-python",
   "name": "python",
   "nbconvert_exporter": "python",
   "pygments_lexer": "ipython3",
   "version": "3.8.5"
  }
 },
 "nbformat": 4,
 "nbformat_minor": 4
}
