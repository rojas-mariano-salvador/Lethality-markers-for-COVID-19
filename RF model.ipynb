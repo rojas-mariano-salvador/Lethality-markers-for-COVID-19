{
 "cells": [
  {
   "cell_type": "markdown",
   "metadata": {},
   "source": [
    "# Model Random Forest"
   ]
  },
  {
   "cell_type": "code",
   "execution_count": 1,
   "metadata": {},
   "outputs": [],
   "source": [
    "from sklearn.model_selection import GridSearchCV,RepeatedStratifiedKFold\n",
    "%matplotlib inline\n",
    "import pandas as pd\n",
    "import matplotlib.pyplot as plt\n",
    "from matplotlib.backends.backend_pdf import PdfPages\n",
    "from sklearn.model_selection import train_test_split\n",
    "from sklearn.utils import class_weight\n",
    "from sklearn.utils.class_weight import compute_sample_weight\n",
    "from sklearn.model_selection import GridSearchCV,RepeatedKFold, RepeatedStratifiedKFold, KFold, cross_val_score, StratifiedKFold, StratifiedShuffleSplit\n",
    "from sklearn.metrics import roc_curve, auc, roc_auc_score, classification_report, confusion_matrix, accuracy_score, f1_score\n",
    "from sklearn.preprocessing import StandardScaler, OneHotEncoder\n",
    "import os\n",
    "import pickle\n",
    "import warnings\n",
    "warnings.filterwarnings('ignore')"
   ]
  },
  {
   "cell_type": "code",
   "execution_count": 2,
   "metadata": {},
   "outputs": [],
   "source": [
    "def read_data(raw_clinical_note):\n",
    "    data = pd.read_csv(raw_clinical_note, header=0,na_filter=True)\n",
    "    return data\n",
    "\n",
    "def delete_columns(data,columns): \n",
    "    df = data.drop(columns,axis=1)\n",
    "    return df\n",
    "\n",
    "def generating_metrics(model,x, y):\n",
    "    y_pred_proba = model.predict_proba(x)[:, 1]\n",
    "    y_pred = model.predict(x)\n",
    "    acc = accuracy_score(y,y_pred)\n",
    "    tn, fp, fn, tp = confusion_matrix(y,y_pred).ravel()\n",
    "    false_positive_rate, true_positive_rate, thresholds = roc_curve(y, y_pred)\n",
    "    sensitivity = tp / (tp+fn)\n",
    "    specificity = tn / (tn+fp)\n",
    "    auc_score = auc(false_positive_rate, true_positive_rate)\n",
    "    f1 = f1_score(y, y_pred)\n",
    "    return auc_score, sensitivity, specificity, f1, acc, false_positive_rate, true_positive_rate\n",
    "\n",
    "def plot_roc(model,X_test, y_test,name,logs_file):\n",
    "    print(\"mean_cross_val_score: \", model.best_score_)\n",
    "    print(\"best_params:\",model.best_params_)\n",
    "    print(\"=============================================================================\")\n",
    "    auc_test, sens_test, spec_test, f1_test, acc_test,fpr_test, tpr_test = generating_metrics(model, X_test, y_test)\n",
    "    print(\"auc_test: {}, sens_test {}, spec_test: {}, f1_test {}, acc_test {}\".format(auc_test, sens_test, spec_test, f1_test, acc_test))\n",
    "    plt.plot([0, 1], [0, 1], 'k--')\n",
    "    plt.plot(fpr_test, tpr_test, label='Testing (AUC=%0.2f)' % auc_test, color='darkorange')\n",
    "    plt.xlabel('1 - Specificity')\n",
    "    plt.ylabel('Sensitivity')\n",
    "    plt.legend(loc='best')\n",
    "    plt.title('ROC of the RF model')\n",
    "    fig_name = name + '.pdf'\n",
    "    url_save = os.path.join(logs_file,str(fig_name))\n",
    "    plt.savefig(url_save)\n",
    "    plt.show()\n",
    "\n",
    "def saving_model(model,model_name,logs_file):\n",
    "    import joblib\n",
    "    model_name = model_name + '.pkl'\n",
    "    url_save = os.path.join(logs_file,str(model_name))\n",
    "    print(url_save)\n",
    "    joblib.dump(model, url_save)\n",
    "\n",
    "def saving_metrics(model_name, logs_file, num_features, auc_train\n",
    "                   ,auc_val, sens_val, spec_val, f1_val, acc_val\n",
    "                   ,auc_test, sens_test, spec_test, f1_test, acc_test,fpr, tpr):\n",
    "    \"\"\" Saving final metrics in csv file.\n",
    "    Metrics generated during training, validation, testing steps are saved\"\"\"\n",
    "    name = pd.DataFrame({'model_name':model_name}, index=[0])\n",
    "    num_features = pd.DataFrame({'num_features':num_features}, index=[0])\n",
    "    auc_train = pd.DataFrame({'auc_train':auc_train},index = [0])\n",
    "    auc_val = pd.DataFrame({'auc_val':auc_val},index = [0])\n",
    "    sens_val = pd.DataFrame({'sens_val':sens_val},index = [0])\n",
    "    spec_val = pd.DataFrame({'spec_val':spec_val},index = [0])\n",
    "    f1_val = pd.DataFrame({'f1_val':f1_val},index = [0])\n",
    "    acc_val = pd.DataFrame({'acc_val':acc_val},index = [0])\n",
    "    auc_test = pd.DataFrame({'auc_test':auc_test},index = [0])\n",
    "    sens_test = pd.DataFrame({'sens_test':sens_test},index = [0])\n",
    "    spec_test = pd.DataFrame({'spec_test':spec_test},index = [0])\n",
    "    f1_test = pd.DataFrame({'f1_test':f1_test},index = [0])\n",
    "    acc_test = pd.DataFrame({'acc_test':acc_test},index = [0])\n",
    "\n",
    "    fpr = str(fpr)\n",
    "    tpr = str(tpr)\n",
    "    fpr = pd.DataFrame({'false_positive_rate':fpr},index = [0])\n",
    "    tpr = pd.DataFrame({'true_positive_rate':tpr},index = [0])\n",
    "\n",
    "    frames = [name, num_features, auc_train, auc_val,sens_val,spec_val,f1_val,acc_val,\n",
    "              auc_test,sens_test,spec_test,f1_test,acc_test, fpr, tpr]\n",
    "    resultado = pd.concat(frames, axis = 1)\n",
    "    url_log = model_name +'_metrics.csv'\n",
    "    url_log = os.path.join(logs_file,str(url_log))\n",
    "    resultado.to_csv(url_log)"
   ]
  },
  {
   "cell_type": "code",
   "execution_count": 3,
   "metadata": {},
   "outputs": [
    {
     "name": "stdout",
     "output_type": "stream",
     "text": [
      "Total de registros 12103\n"
     ]
    }
   ],
   "source": [
    "raw_data = 'C:/Users/Salvador/Modelo_COVID19/Libretas manuscrito/data_morelos_rename.csv'\n",
    "data = pd.read_csv(raw_data)\n",
    "print (\"Total de registros\", data.shape[0])"
   ]
  },
  {
   "cell_type": "code",
   "execution_count": 4,
   "metadata": {},
   "outputs": [
    {
     "data": {
      "text/plain": [
       "Index(['Unnamed: 0', 'Unnamed: 0.1', 'Unnamed: 0.1.1', 'Sex', 'LOCRESI',\n",
       "       'Evolution', 'Intubated ', 'Age', 'Pregnancy', 'FECINGRE', 'FECINISI',\n",
       "       'Fever', 'Cough', 'Odynophagia', 'Dyspnea', 'Irritability', 'Diarrhea',\n",
       "       'Chest pain', 'Chills', 'Headache', 'Myalgia', 'Arthralgia',\n",
       "       'General discomfort', 'Rhinorrhea', 'Polypnea', 'Vomiting',\n",
       "       'Abdominal pain', 'Conjunctivitis', 'Cyanosis',\n",
       "       'Sudden onset of symptoms', 'Anosmia', 'Dysgeusia', 'Diabetes', 'COPD',\n",
       "       'Asthma', 'Immunosuppression', 'Hypertension', 'VIH-SIDA',\n",
       "       'Cardiovascular disease', 'Obesity', 'CKD', 'Smoking', 'RECTRATA',\n",
       "       'TXCROBIA', 'TXANTIVI', 'RESDEFIN', 'Puerperium', 'Use of antipyretics',\n",
       "       'ICU', 'CLASCOVID19', 'Days elapsed', 'HIV AIDS', 'Mortality'],\n",
       "      dtype='object')"
      ]
     },
     "execution_count": 4,
     "metadata": {},
     "output_type": "execute_result"
    }
   ],
   "source": [
    "data.columns"
   ]
  },
  {
   "cell_type": "code",
   "execution_count": 5,
   "metadata": {},
   "outputs": [
    {
     "name": "stdout",
     "output_type": "stream",
     "text": [
      "X:: (12103, 39)\n",
      "Y:: (12103, 1)\n"
     ]
    }
   ],
   "source": [
    "X = data.drop(['Unnamed: 0','Unnamed: 0.1','Unnamed: 0.1.1','LOCRESI','RECTRATA', 'TXCROBIA', 'TXANTIVI', 'RESDEFIN', 'CLASCOVID19','Evolution','FECINGRE', 'FECINISI','VIH-SIDA', 'Mortality'],axis=1).astype(int)\n",
    "y = data['Mortality'].astype(int) \n",
    "y = y.values.reshape(y.shape[0],1)\n",
    "feature_list = X.columns\n",
    "print(\"X::\", X.shape)\n",
    "print(\"Y::\", y.shape)\n",
    "\n",
    "X_train, X_test, y_train, y_test = train_test_split(X, y, test_size=0.20,random_state=242,stratify=y)"
   ]
  },
  {
   "cell_type": "code",
   "execution_count": 6,
   "metadata": {},
   "outputs": [],
   "source": [
    "from sklearn.ensemble import RandomForestClassifier\n",
    "model = RandomForestClassifier()"
   ]
  },
  {
   "cell_type": "code",
   "execution_count": 7,
   "metadata": {},
   "outputs": [],
   "source": [
    "cv = RepeatedStratifiedKFold(n_splits=3, n_repeats=10, random_state=442)\n",
    "sample_weights = class_weight.compute_sample_weight('balanced', y_train)\n",
    "parameters={\"n_estimators\":[100, 150, 200], \n",
    "            \"max_features\": ['log2'],\n",
    "           \"max_depth\" : [2, 4, 6, 8],\n",
    "            \"min_impurity_decrease\":[1e-4],\n",
    "            \"criterion\":['gini'],\n",
    "           \"class_weight\":['balanced'],\n",
    "            \"random_state\": [422]}\n",
    "grid = GridSearchCV(estimator=RandomForestClassifier(), param_grid=parameters, cv = cv, scoring='roc_auc',refit = True)\n",
    "model = grid.fit(X_train,y_train,sample_weight = sample_weights)"
   ]
  },
  {
   "cell_type": "code",
   "execution_count": 8,
   "metadata": {},
   "outputs": [
    {
     "name": "stdout",
     "output_type": "stream",
     "text": [
      "mean_cross_val_score:  0.853821217554385\n",
      "best_params: {'class_weight': 'balanced', 'criterion': 'gini', 'max_depth': 8, 'max_features': 'log2', 'min_impurity_decrease': 0.0001, 'n_estimators': 100, 'random_state': 422}\n",
      "=============================================================================\n",
      "auc_test: 0.7267058885526296, sens_test 0.9923664122137404, spec_test: 0.46104536489151876, f1_test 0.4157782515991471, acc_test 0.5472945064023131\n"
     ]
    },
    {
     "data": {
      "image/png": "[encoded data removed]",
      "text/plain": [
       "<Figure size 432x288 with 1 Axes>"
      ]
     },
     "metadata": {
      "needs_background": "light"
     },
     "output_type": "display_data"
    }
   ],
   "source": [
    "generating_metrics(model,X_test, y_test)\n",
    "plot_roc(model,X_test, y_test,\"auc_rf1\",\"C:/Users/Salvador/Modelo_COVID19/Libretas manuscrito/roc\")"
   ]
  },
  {
   "cell_type": "code",
   "execution_count": 9,
   "metadata": {},
   "outputs": [
    {
     "name": "stdout",
     "output_type": "stream",
     "text": [
      "C:/Users/Salvador/Modelo_COVID19/Libretas manuscrito/pkl\\modelRF1.pkl\n"
     ]
    }
   ],
   "source": [
    "saving_model(model,\"modelRF1\",\"C:/Users/Salvador/Modelo_COVID19/Libretas manuscrito/pkl\")"
   ]
  }
 ],
 "metadata": {
  "kernelspec": {
   "display_name": "Python 3",
   "language": "python",
   "name": "python3"
  },
  "language_info": {
   "codemirror_mode": {
    "name": "ipython",
    "version": 3
   },
   "file_extension": ".py",
   "mimetype": "text/x-python",
   "name": "python",
   "nbconvert_exporter": "python",
   "pygments_lexer": "ipython3",
   "version": "3.8.5"
  }
 },
 "nbformat": 4,
 "nbformat_minor": 4
}
