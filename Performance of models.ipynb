{
 "cells": [
  {
   "cell_type": "markdown",
   "metadata": {},
   "source": [
    "# Performance of models\n"
   ]
  },
  {
   "cell_type": "code",
   "execution_count": 1,
   "metadata": {},
   "outputs": [],
   "source": [
    "import pandas as pd\n",
    "import matplotlib.pyplot as plt\n",
    "from matplotlib.backends.backend_pdf import PdfPages\n",
    "import warnings\n",
    "warnings.filterwarnings('ignore')\n",
    "import seaborn as sn"
   ]
  },
  {
   "cell_type": "code",
   "execution_count": 2,
   "metadata": {},
   "outputs": [],
   "source": [
    "def read_data(raw_clinical_note):\n",
    "    data = pd.read_csv(raw_clinical_note, header=0,na_filter=True)\n",
    "    return data"
   ]
  },
  {
   "cell_type": "code",
   "execution_count": 3,
   "metadata": {},
   "outputs": [
    {
     "name": "stdout",
     "output_type": "stream",
     "text": [
      "Total de registros 12103\n"
     ]
    }
   ],
   "source": [
    "raw_data = 'C:/Users/Salvador/Modelo_COVID19/Libretas manuscrito/data_morelos_rename.csv'\n",
    "data = pd.read_csv(raw_data)\n",
    "print (\"Total de registros\", data.shape[0])"
   ]
  },
  {
   "cell_type": "code",
   "execution_count": 4,
   "metadata": {},
   "outputs": [
    {
     "name": "stdout",
     "output_type": "stream",
     "text": [
      "X:: (12103, 39)\n",
      "Y:: (12103, 1)\n"
     ]
    }
   ],
   "source": [
    "X = data.drop(['Unnamed: 0','Unnamed: 0.1','Unnamed: 0.1.1','LOCRESI','RECTRATA', 'TXCROBIA', 'TXANTIVI', 'RESDEFIN', 'CLASCOVID19','Evolution','FECINGRE', 'FECINISI','VIH-SIDA', 'Mortality'],axis=1).astype(int)\n",
    "y = data['Mortality'].astype(int) #Etiqueta\n",
    "y = y.values.reshape(y.shape[0],1) #reshape\n",
    "feature_list = X.columns\n",
    "print(\"X::\", X.shape)\n",
    "print(\"Y::\", y.shape)"
   ]
  },
  {
   "cell_type": "code",
   "execution_count": 5,
   "metadata": {},
   "outputs": [
    {
     "data": {
      "text/plain": [
       "Index(['Sex', 'Intubated ', 'Age', 'Pregnancy', 'Fever', 'Cough',\n",
       "       'Odynophagia', 'Dyspnea', 'Irritability', 'Diarrhea', 'Chest pain',\n",
       "       'Chills', 'Headache', 'Myalgia', 'Arthralgia', 'General discomfort',\n",
       "       'Rhinorrhea', 'Polypnea', 'Vomiting', 'Abdominal pain',\n",
       "       'Conjunctivitis', 'Cyanosis', 'Sudden onset of symptoms', 'Anosmia',\n",
       "       'Dysgeusia', 'Diabetes', 'COPD', 'Asthma', 'Immunosuppression',\n",
       "       'Hypertension', 'Cardiovascular disease', 'Obesity', 'CKD', 'Smoking',\n",
       "       'Puerperium', 'Use of antipyretics', 'ICU', 'Days elapsed', 'HIV AIDS'],\n",
       "      dtype='object')"
      ]
     },
     "execution_count": 5,
     "metadata": {},
     "output_type": "execute_result"
    }
   ],
   "source": [
    "X.columns"
   ]
  },
  {
   "cell_type": "code",
   "execution_count": 6,
   "metadata": {},
   "outputs": [
    {
     "data": {
      "text/plain": [
       "39"
      ]
     },
     "execution_count": 6,
     "metadata": {},
     "output_type": "execute_result"
    }
   ],
   "source": [
    "X.columns.shape[0]"
   ]
  },
  {
   "cell_type": "code",
   "execution_count": 7,
   "metadata": {},
   "outputs": [
    {
     "data": {
      "image/png": "[encoded data removed]",
      "text/plain": [
       "<Figure size 432x288 with 1 Axes>"
      ]
     },
     "metadata": {
      "needs_background": "light"
     },
     "output_type": "display_data"
    }
   ],
   "source": [
    "file = 'C:/Users/Salvador/Modelo_COVID19/Libretas manuscrito/metrics/'\n",
    "df1 = pd.read_csv(file + 'model_XGB1_metricas.csv')\n",
    "df1 = df1.rename(columns= {'auc':'AUC score'})\n",
    "df1['Model'] = 'XGBoost'\n",
    "\n",
    "df2 = pd.read_csv(file + 'model_RF1_metricas.csv')\n",
    "df2 = df2.rename(columns= {'auc':'AUC score'})\n",
    "df2['Model'] = 'LR'\n",
    "\n",
    "df3 = pd.read_csv(file + 'model_SVM1_metricas.csv')\n",
    "df3 = df3.rename(columns= {'auc':'AUC score'})\n",
    "df3['Model'] = 'SVM'\n",
    "\n",
    "df4 = pd.read_csv(file + 'model_RF1_metricas.csv')\n",
    "df4 = df4.rename(columns= {'auc':'AUC score'})\n",
    "df4['Model'] = 'RF'\n",
    "\n",
    "df_final = pd.DataFrame()\n",
    "df_comp = pd.concat([df2, df3, df4,df1])\n",
    "\n",
    "sn.boxplot(y = df_comp['AUC score'], x = df_comp['Model']) \n",
    "plt.savefig('Training model’s performance' , format='pdf', bbox_inches='tight')"
   ]
  }
 ],
 "metadata": {
  "kernelspec": {
   "display_name": "Python 3",
   "language": "python",
   "name": "python3"
  },
  "language_info": {
   "codemirror_mode": {
    "name": "ipython",
    "version": 3
   },
   "file_extension": ".py",
   "mimetype": "text/x-python",
   "name": "python",
   "nbconvert_exporter": "python",
   "pygments_lexer": "ipython3",
   "version": "3.8.5"
  }
 },
 "nbformat": 4,
 "nbformat_minor": 4
}
